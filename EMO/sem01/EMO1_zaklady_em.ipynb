{
 "cells": [
  {
   "cell_type": "code",
   "execution_count": null,
   "metadata": {},
   "outputs": [],
   "source": []
  },
  {
   "cell_type": "code",
   "execution_count": null,
   "metadata": {},
   "outputs": [],
   "source": [
    "from random import choice, random\n",
    "import string\n",
    " \n",
    "target  = list(\"print('hello world')\")\n",
    "alphabet = string.ascii_lowercase + \" \" + \"'\" + \"(\" + \")\"\n",
    " \n",
    "pmut = 0.05\n",
    "nchildren = 100\n",
    " \n",
    "def fitness(trial):\n",
    "    return sum(t != h for t,h in zip(trial, target))\n",
    " \n",
    "def mutate(parent):\n",
    "    return [(choice(alphabet) if random() < pmut else ch) for ch in parent]\n",
    " \n",
    "parent = [choice(alphabet) for _ in range(len(target))]\n",
    "igen = 0\n",
    "while parent != target:\n",
    "    children = (mutate(parent) for _ in range(nchildren))\n",
    "    parent = min(children, key=fitness)\n",
    "    print(f\"{igen} gen: {''.join(parent)}\")\n",
    "    igen += 1"
   ]
  }
 ],
 "metadata": {
  "language_info": {
   "name": "python"
  },
  "orig_nbformat": 4
 },
 "nbformat": 4,
 "nbformat_minor": 2
}
