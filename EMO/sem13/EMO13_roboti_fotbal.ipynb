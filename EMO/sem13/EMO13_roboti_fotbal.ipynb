{
 "cells": [
  {
   "cell_type": "markdown",
   "metadata": {},
   "source": [
    "https://towardsdatascience.com/unit-8-co-evolution-reinforcement-learning-for-game-ai-design-97453ed946ec\n",
    "\n",
    "https://github.com/OUStudent/EvolutionaryComputationCourse\n"
   ]
  },
  {
   "cell_type": "code",
   "execution_count": null,
   "metadata": {},
   "outputs": [],
   "source": []
  }
 ],
 "metadata": {
  "language_info": {
   "name": "python"
  },
  "orig_nbformat": 4
 },
 "nbformat": 4,
 "nbformat_minor": 2
}
