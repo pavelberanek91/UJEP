{
 "cells": [
  {
   "cell_type": "markdown",
   "metadata": {},
   "source": [
    "knihovna pro ga\n",
    "https://deap.readthedocs.io/en/master/tutorials/basic/part2.html"
   ]
  },
  {
   "cell_type": "markdown",
   "metadata": {},
   "source": [
    "**Instalace modulu**"
   ]
  },
  {
   "cell_type": "code",
   "execution_count": null,
   "metadata": {},
   "outputs": [],
   "source": [
    "!python3 -m pip install numpy\n",
    "!python3 -m pip install matplotlib"
   ]
  },
  {
   "cell_type": "markdown",
   "metadata": {},
   "source": [
    "**Import modulu**"
   ]
  },
  {
   "cell_type": "code",
   "execution_count": null,
   "metadata": {},
   "outputs": [],
   "source": [
    "import numpy as np\n",
    "import matplotlib.pyplot as plt"
   ]
  },
  {
   "cell_type": "markdown",
   "metadata": {},
   "source": [
    "**Nastaveni sesitu**"
   ]
  },
  {
   "cell_type": "code",
   "execution_count": 38,
   "metadata": {},
   "outputs": [],
   "source": [
    "#uloz vygenerovane grafy do sesitu (bude videt na githubu)\n",
    "%matplotlib inline                         \n",
    "\n",
    "#uloz vygenerovane grafy do SVG formatu, vhodneho pro webove stranky\n",
    "%config InlineBackend.figure_format = 'svg'\n",
    "\n",
    "#pouzij seaborn graficky styl grafu (jsou hezci nez matplotlib)\n",
    "plt.style.use(\"seaborn\")\n",
    "\n",
    "#nastavime pevne nahodne seminko pro opakovatelnost pri testovani kodu\n",
    "np.random.seed(42)"
   ]
  },
  {
   "cell_type": "markdown",
   "metadata": {},
   "source": [
    "**Vytvoreni modelu**"
   ]
  },
  {
   "cell_type": "code",
   "execution_count": 39,
   "metadata": {},
   "outputs": [],
   "source": [
    "#nazvy mest\n",
    "mesta = ['Chabarovice', 'Usti nad Labem', 'Praha', 'Brno', 'Karlovy Vary']\n",
    "\n",
    "#vzdalenosti mezi mesty\n",
    "matice_sousednosti = np.asarray(\n",
    "    [\n",
    "        [0, 10, 92, 296, 111],\n",
    "        [10, 0, 91, 295, 119],\n",
    "        [92, 91, 0, 205, 129],\n",
    "        [296, 295, 205, 0, 336],\n",
    "        [111, 119, 129, 336, 0],\n",
    "    ]\n",
    ")"
   ]
  },
  {
   "cell_type": "markdown",
   "metadata": {},
   "source": [
    "**Vytvoreni tridy pro generaci**"
   ]
  },
  {
   "cell_type": "code",
   "execution_count": 45,
   "metadata": {},
   "outputs": [],
   "source": [
    "class Generace():\n",
    "\n",
    "    def __init__(self, jedinci, matice_sousednosti):\n",
    "        self.jedinci = jedinci\n",
    "        self.rodice = []\n",
    "        self.nejlepsi_fitness = 0\n",
    "        self.nejlepsi_jedinec = None\n",
    "        self.matice_sousednosti = matice_sousednosti"
   ]
  },
  {
   "cell_type": "markdown",
   "metadata": {},
   "source": [
    "**Funkce pro vytvoreni pocatecni populace**"
   ]
  },
  {
   "cell_type": "code",
   "execution_count": 46,
   "metadata": {},
   "outputs": [],
   "source": [
    "def inicializace_populace(mesta, matice_sousednosti, velikost_populace):\n",
    "    return Generace(\n",
    "        #jedinci jsou reseny jako permutace poradi navstevy mest\n",
    "        jedinci=np.asarray([np.random.permutation(mesta) for _ in range(velikost_populace)]), \n",
    "        matice_sousednosti=matice_sousednosti\n",
    "    )\n",
    "\n",
    "#vytvor pocatecni populaci\n",
    "populace = inicializace_populace(mesta, matice_sousednosti, velikost_populace=10)\n",
    "\n",
    "#vypis populaci na obrazovku\n",
    "populace.jedinci"
   ]
  },
  {
   "cell_type": "markdown",
   "metadata": {},
   "source": [
    "**Vypocet fitness jedince**"
   ]
  },
  {
   "cell_type": "code",
   "execution_count": 11,
   "metadata": {},
   "outputs": [],
   "source": [
    "def fitness(self, chromosom):\n",
    "    #fitness jedince je resena jako soucet vzdalenosti mezi mesty ve vygenerovanem poradi\n",
    "    return sum([self.matice_sousednosti[chromosom[i],chromosom[i+1]] for i in range(len(chromosom) - 1)])\n",
    "\n",
    "#pripoj funkci ke tride\n",
    "Generace.fitness = fitness"
   ]
  },
  {
   "cell_type": "markdown",
   "metadata": {},
   "source": [
    "**Ohodnoceni jedincu v populaci**"
   ]
  },
  {
   "cell_type": "code",
   "execution_count": 12,
   "metadata": {},
   "outputs": [],
   "source": [
    "def ohodnoceni_populace(self):\n",
    "\n",
    "    #spocitani fitness (celkova vzdalenost pri cestovani) pro vsechny jedince\n",
    "    vzdalenosti = np.asarray([self.fitness(chromosome) for chromosome in self.jedinci])\n",
    "    \n",
    "    #nejlepsi fitness je jedinec s nejmensi celkovou vzdalenosti\n",
    "    self.nejlepsi_fitness = np.min(vzdalenosti)\n",
    "\n",
    "    #uloz si nejlepsiho jedince\n",
    "    self.nejlepsi_jedinec = self.jedinci[vzdalenosti.tolist().index(self.nejlepsi_fitness)]\n",
    "\n",
    "    #rodice budou nejlepsi jedinci z aktualni generace\n",
    "    self.parents.append(self.best)\n",
    "\n",
    "    #\n",
    "    if False in (vzdalenosti[0] == vzdalenosti):\n",
    "        vzdalenosti = np.max(vzdalenosti) - vzdalenosti\n",
    "\n",
    "    #vrat normovanou fitness funkci jedince (vysec na kole rulety)\n",
    "    return vzdalenosti / np.sum(vzdalenosti)\n",
    "\n",
    "#pripoj funkci ke tride\n",
    "Generace.ohodnoceni_populace = ohodnoceni_populace\n",
    "\n",
    "#ohodnot populaci a vypis nejlepsiho jedince a jeho fitness\n",
    "populace.ohodnoceni_populace()\n",
    "print(populace.nejlepsi_jedinec)\n",
    "print(populace.nejlepsi_fitness)"
   ]
  },
  {
   "cell_type": "markdown",
   "metadata": {},
   "source": [
    "**Selekce**"
   ]
  },
  {
   "cell_type": "code",
   "execution_count": 16,
   "metadata": {},
   "outputs": [],
   "source": [
    "def selekce(self, pocet_rodicu=4):\n",
    "\n",
    "    #ziskej normovanou fitness jedincu v populaci\n",
    "    fitnes = self.ohodnoceni_populace()\n",
    "\n",
    "    #opakuj vybirani rodice rulout do te doby, dokud neni potrebny pocet rodicu\n",
    "    while len(self.parents) < pocet_rodicu:\n",
    "\n",
    "        #vyber nahodneho jedince z populace\n",
    "        idx = np.random.randint(0, len(fitness))\n",
    "\n",
    "        #cim vetsi fitness, tim vetsi sance na vyber jedince do rodicu\n",
    "        if np.random.rand() < fitnes[idx]:\n",
    "            self.parents.append(self.mesta[idx])\n",
    "\n",
    "    #preved seznam rodicu na numpy array\n",
    "    self.parents = np.asarray(self.parents)\n",
    "\n",
    "#pripoj funkci ke tridy\n",
    "Generace.select = selekce\n",
    "\n",
    "#spust selekci a vypis nalezene rodice\n",
    "populace.select()\n",
    "print(populace.parents)"
   ]
  },
  {
   "cell_type": "code",
   "execution_count": 18,
   "metadata": {},
   "outputs": [],
   "source": [
    "def swap(chromosome):\n",
    "    a, b = np.random.choice(len(chromosome), 2)\n",
    "    chromosome[a], chromosome[b] = (\n",
    "        chromosome[b],\n",
    "        chromosome[a],\n",
    "    )\n",
    "    return chromosome"
   ]
  },
  {
   "cell_type": "code",
   "execution_count": 19,
   "metadata": {},
   "outputs": [],
   "source": [
    "def crossover(self, p_cross=0.1):\n",
    "    children = []\n",
    "    count, size = self.parents.shape\n",
    "    for _ in range(len(self.mesta)):\n",
    "        if np.random.rand() > p_cross:\n",
    "            children.append(\n",
    "                list(self.parents[np.random.randint(count, size=1)[0]])\n",
    "            )\n",
    "        else:\n",
    "            parent1, parent2 = self.parents[\n",
    "                np.random.randint(count, size=2), :\n",
    "            ]\n",
    "            idx = np.random.choice(range(size), size=2, replace=False)\n",
    "            start, end = min(idx), max(idx)\n",
    "            child = [None] * size\n",
    "            for i in range(start, end + 1, 1):\n",
    "                child[i] = parent1[i]\n",
    "            pointer = 0\n",
    "            for i in range(size):\n",
    "                if child[i] is None:\n",
    "                    while parent2[pointer] in child:\n",
    "                        pointer += 1\n",
    "                    child[i] = parent2[pointer]\n",
    "            children.append(child)\n",
    "    return children\n",
    "\n",
    "Generace.crossover = crossover"
   ]
  },
  {
   "cell_type": "code",
   "execution_count": 20,
   "metadata": {},
   "outputs": [],
   "source": [
    "def krizeni(self, p_krizeni=0.1, p_mutace=0.1):\n",
    "    nova_generace = []\n",
    "    potomci = self.krizeni(p_krizeni)\n",
    "    for potomek in potomci:\n",
    "        if np.random.rand() < p_mutace:\n",
    "            nova_generace.append(swap(potomek))\n",
    "        else:\n",
    "            nova_generace.append(potomek)\n",
    "    return nova_generace\n",
    "    \n",
    "Populace.krizeni = krizeni"
   ]
  },
  {
   "cell_type": "code",
   "execution_count": 21,
   "metadata": {},
   "outputs": [
    {
     "data": {
      "text/plain": [
       "[[2, 0, 4, 1, 3],\n",
       " [2, 0, 4, 1, 3],\n",
       " [2, 0, 4, 1, 3],\n",
       " [1, 0, 4, 2, 3],\n",
       " [2, 0, 4, 1, 3]]"
      ]
     },
     "execution_count": 21,
     "metadata": {},
     "output_type": "execute_result"
    }
   ],
   "source": [
    "populace.krizeni()"
   ]
  },
  {
   "cell_type": "markdown",
   "metadata": {},
   "source": [
    "**Geneticky algoritmus**"
   ]
  },
  {
   "cell_type": "code",
   "execution_count": 22,
   "metadata": {},
   "outputs": [],
   "source": [
    "def geneticky_algoritmus(\n",
    "    mesta,                      #nazvy mest, mezi kterymi hledame optimalni trasu\n",
    "    matice_sousednosti,         #metrika mest (napr. vzdalenost, cena), kterou optimalizujeme\n",
    "    velikost_populace=5,        #pocet jedincu v kazde generaci\n",
    "    pocet_iteraci=20,           #pocet iteraci vyvoje genetickeho algoritmus (nejvyssi generace)\n",
    "    selektivita=0.15,           #mira selektivity pro selektivni operator\n",
    "    p_krizeni=0.5,              #pravdepodobnost krizeni pro krizici operator\n",
    "    p_mutace=0.1,               #pravdepodobnost mutace pro mutacni operator\n",
    "    interval_tisknuti=100,      #po kolika generacich tisknout na obrazovku fitness skore\n",
    "    vrat_historii=False,        #pokud je priznak pravdivy, pak funkce vrati vyvoj fitness v case\n",
    "    verbosita=False             #pokud je priznak pravdivy, pak funkce vypisuje historii na obrazovku\n",
    "    ):\n",
    "    \n",
    "    #vytvor pocatecni populaci z nazvu mest a jejich vzdalenosti\n",
    "    populace = inicializace_populace(mesta, matice_sousednosti, velikost_populace)\n",
    "\n",
    "    #pocatecni nejlepsi jedinec\n",
    "    nejlepsi_jedinec = populace.nejlepsi_jedinec\n",
    "\n",
    "    #pocateci nejlepsi fitness\n",
    "    nejlepsi_fitness = float(\"inf\")\n",
    "    \n",
    "    #historie skore pro vykresleni grafu\n",
    "    historie = []\n",
    "\n",
    "    #cyklus genetickeho algoritmu\n",
    "    for i in range(pocet_iteraci):\n",
    "\n",
    "        #selekce jedincu na rodice pristi generace\n",
    "        populace.selekce(velikost_populace * selektivita)\n",
    "\n",
    "        #pridej nejlepsi fitness do historie vyvoje fitness\n",
    "        historie.append(populace.nejlepsi_fitness)\n",
    "\n",
    "        #pokud je zapnuta verbosita (tiskne se fitness kazde generace)\n",
    "        if verbosita:\n",
    "            #tak vypisuj na obrazovku fitness kazde generace\n",
    "            print(f\"Generace {i}: {populace.nejlepsi_fitness}\")\n",
    "        #pokud neni zapnuta verbosita, tak tiskni po zadanem poctu iteraci\n",
    "        elif i % interval_tisknuti == 0:\n",
    "            print(f\"Generace {i}: {populace.nejlepsi_fitness}\")\n",
    "        \n",
    "        #pokud je nejlepsi fitness populace lepsi jak doposud nejlepsi nalezena fitness\n",
    "        if populace.nejlepsi_fitness < nejlepsi_fitness:\n",
    "            #uprav nejlepsi nalezenou fitness na fitness z aktualni populace\n",
    "            nejlepsi_fitness = populace.nejlepsi_fitness\n",
    "            #uloz si nejlepsi jedince\n",
    "            nejlepsi_jedinec = populace.nejlepsi_jedinec\n",
    "\n",
    "        #vytvor potomky krizenim a mutaci\n",
    "        potomci = populace.krizeni(p_krizeni, p_mutace)\n",
    "\n",
    "        #nahrad aktualni populaci novou generaci\n",
    "        populace = Generace(potomci, populace.matice_sousednosti)\n",
    "\n",
    "    #pokud je zapnut priznak pro navrat historie\n",
    "    if vrat_historii:\n",
    "        #tak vrat nejlepsiho nalezeneho jedince a historii\n",
    "        return nejlepsi_jedinec, historie\n",
    "    else:\n",
    "        #jinak vrat jen nejlepsiho nalezeneho jedince\n",
    "        return nejlepsi_jedinec"
   ]
  },
  {
   "cell_type": "markdown",
   "metadata": {},
   "source": [
    "**Spust geneticky algoritmus**"
   ]
  },
  {
   "cell_type": "code",
   "execution_count": 23,
   "metadata": {},
   "outputs": [
    {
     "name": "stdout",
     "output_type": "stream",
     "text": [
      "Generation 0: 121.8\n",
      "Generation 1: 121.8\n",
      "Generation 2: 121.8\n",
      "Generation 3: 121.8\n",
      "Generation 4: 121.8\n",
      "Generation 5: 114.28\n",
      "Generation 6: 114.28\n",
      "Generation 7: 114.28\n",
      "Generation 8: 114.28\n",
      "Generation 9: 114.28\n",
      "Generation 10: 106.77\n",
      "Generation 11: 106.77\n",
      "Generation 12: 106.77\n",
      "Generation 13: 106.77\n",
      "Generation 14: 106.77\n",
      "Generation 15: 106.77\n",
      "Generation 16: 106.77\n",
      "Generation 17: 106.77\n",
      "Generation 18: 106.77\n",
      "Generation 19: 106.77\n"
     ]
    },
    {
     "data": {
      "text/plain": [
       "[4, 0, 2, 3, 1]"
      ]
     },
     "execution_count": 23,
     "metadata": {},
     "output_type": "execute_result"
    }
   ],
   "source": [
    "geneticky_algoritmus(mesta, matice_sousednosti, verbosita=True)"
   ]
  },
  {
   "cell_type": "code",
   "execution_count": 24,
   "metadata": {},
   "outputs": [
    {
     "name": "stdout",
     "output_type": "stream",
     "text": [
      "Generation 0: 114.28\n",
      "Generation 20: 106.77\n",
      "Generation 40: 106.77\n",
      "Generation 60: 104.13\n",
      "Generation 80: 95.68\n"
     ]
    },
    {
     "data": {
      "image/svg+xml": "<?xml version=\"1.0\" encoding=\"utf-8\" standalone=\"no\"?>\n<!DOCTYPE svg PUBLIC \"-//W3C//DTD SVG 1.1//EN\"\n  \"http://www.w3.org/Graphics/SVG/1.1/DTD/svg11.dtd\">\n<svg xmlns:xlink=\"http://www.w3.org/1999/xlink\" width=\"484.482812pt\" height=\"329.525312pt\" viewBox=\"0 0 484.482812 329.525312\" xmlns=\"http://www.w3.org/2000/svg\" version=\"1.1\">\n <metadata>\n  <rdf:RDF xmlns:dc=\"http://purl.org/dc/elements/1.1/\" xmlns:cc=\"http://creativecommons.org/ns#\" xmlns:rdf=\"http://www.w3.org/1999/02/22-rdf-syntax-ns#\">\n   <cc:Work>\n    <dc:type rdf:resource=\"http://purl.org/dc/dcmitype/StillImage\"/>\n    <dc:date>2022-03-30T07:53:04.271234</dc:date>\n    <dc:format>image/svg+xml</dc:format>\n    <dc:creator>\n     <cc:Agent>\n      <dc:title>Matplotlib v3.5.1, https://matplotlib.org/</dc:title>\n     </cc:Agent>\n    </dc:creator>\n   </cc:Work>\n  </rdf:RDF>\n </metadata>\n <defs>\n  <style type=\"text/css\">*{stroke-linejoin: round; stroke-linecap: butt}</style>\n </defs>\n <g id=\"figure_1\">\n  <g id=\"patch_1\">\n   <path d=\"M 0 329.525312 \nL 484.482812 329.525312 \nL 484.482812 0 \nL 0 0 \nz\n\" style=\"fill: #ffffff\"/>\n  </g>\n  <g id=\"axes_1\">\n   <g id=\"patch_2\">\n    <path d=\"M 30.882812 306.18 \nL 477.282812 306.18 \nL 477.282812 7.2 \nL 30.882812 7.2 \nz\n\" style=\"fill: #eaeaf2\"/>\n   </g>\n   <g id=\"matplotlib.axis_1\">\n    <g id=\"xtick_1\">\n     <g id=\"line2d_1\">\n      <path d=\"M 51.173722 306.18 \nL 51.173722 7.2 \n\" clip-path=\"url(#p087e7f7448)\" style=\"fill: none; stroke: #ffffff; stroke-linecap: round\"/>\n     </g>\n     <g id=\"line2d_2\"/>\n     <g id=\"text_1\">\n      <!-- 0 -->\n      <g style=\"fill: #262626\" transform=\"translate(48.393253 320.337812)scale(0.1 -0.1)\">\n       <defs>\n        <path id=\"ArialMT-30\" d=\"M 266 2259 \nQ 266 3072 433 3567 \nQ 600 4063 929 4331 \nQ 1259 4600 1759 4600 \nQ 2128 4600 2406 4451 \nQ 2684 4303 2865 4023 \nQ 3047 3744 3150 3342 \nQ 3253 2941 3253 2259 \nQ 3253 1453 3087 958 \nQ 2922 463 2592 192 \nQ 2263 -78 1759 -78 \nQ 1097 -78 719 397 \nQ 266 969 266 2259 \nz\nM 844 2259 \nQ 844 1131 1108 757 \nQ 1372 384 1759 384 \nQ 2147 384 2411 759 \nQ 2675 1134 2675 2259 \nQ 2675 3391 2411 3762 \nQ 2147 4134 1753 4134 \nQ 1366 4134 1134 3806 \nQ 844 3388 844 2259 \nz\n\" transform=\"scale(0.015625)\"/>\n       </defs>\n       <use xlink:href=\"#ArialMT-30\"/>\n      </g>\n     </g>\n    </g>\n    <g id=\"xtick_2\">\n     <g id=\"line2d_3\">\n      <path d=\"M 133.157193 306.18 \nL 133.157193 7.2 \n\" clip-path=\"url(#p087e7f7448)\" style=\"fill: none; stroke: #ffffff; stroke-linecap: round\"/>\n     </g>\n     <g id=\"line2d_4\"/>\n     <g id=\"text_2\">\n      <!-- 20 -->\n      <g style=\"fill: #262626\" transform=\"translate(127.596255 320.337812)scale(0.1 -0.1)\">\n       <defs>\n        <path id=\"ArialMT-32\" d=\"M 3222 541 \nL 3222 0 \nL 194 0 \nQ 188 203 259 391 \nQ 375 700 629 1000 \nQ 884 1300 1366 1694 \nQ 2113 2306 2375 2664 \nQ 2638 3022 2638 3341 \nQ 2638 3675 2398 3904 \nQ 2159 4134 1775 4134 \nQ 1369 4134 1125 3890 \nQ 881 3647 878 3216 \nL 300 3275 \nQ 359 3922 746 4261 \nQ 1134 4600 1788 4600 \nQ 2447 4600 2831 4234 \nQ 3216 3869 3216 3328 \nQ 3216 3053 3103 2787 \nQ 2991 2522 2730 2228 \nQ 2469 1934 1863 1422 \nQ 1356 997 1212 845 \nQ 1069 694 975 541 \nL 3222 541 \nz\n\" transform=\"scale(0.015625)\"/>\n       </defs>\n       <use xlink:href=\"#ArialMT-32\"/>\n       <use xlink:href=\"#ArialMT-30\" x=\"55.615234\"/>\n      </g>\n     </g>\n    </g>\n    <g id=\"xtick_3\">\n     <g id=\"line2d_5\">\n      <path d=\"M 215.140664 306.18 \nL 215.140664 7.2 \n\" clip-path=\"url(#p087e7f7448)\" style=\"fill: none; stroke: #ffffff; stroke-linecap: round\"/>\n     </g>\n     <g id=\"line2d_6\"/>\n     <g id=\"text_3\">\n      <!-- 40 -->\n      <g style=\"fill: #262626\" transform=\"translate(209.579726 320.337812)scale(0.1 -0.1)\">\n       <defs>\n        <path id=\"ArialMT-34\" d=\"M 2069 0 \nL 2069 1097 \nL 81 1097 \nL 81 1613 \nL 2172 4581 \nL 2631 4581 \nL 2631 1613 \nL 3250 1613 \nL 3250 1097 \nL 2631 1097 \nL 2631 0 \nL 2069 0 \nz\nM 2069 1613 \nL 2069 3678 \nL 634 1613 \nL 2069 1613 \nz\n\" transform=\"scale(0.015625)\"/>\n       </defs>\n       <use xlink:href=\"#ArialMT-34\"/>\n       <use xlink:href=\"#ArialMT-30\" x=\"55.615234\"/>\n      </g>\n     </g>\n    </g>\n    <g id=\"xtick_4\">\n     <g id=\"line2d_7\">\n      <path d=\"M 297.124135 306.18 \nL 297.124135 7.2 \n\" clip-path=\"url(#p087e7f7448)\" style=\"fill: none; stroke: #ffffff; stroke-linecap: round\"/>\n     </g>\n     <g id=\"line2d_8\"/>\n     <g id=\"text_4\">\n      <!-- 60 -->\n      <g style=\"fill: #262626\" transform=\"translate(291.563197 320.337812)scale(0.1 -0.1)\">\n       <defs>\n        <path id=\"ArialMT-36\" d=\"M 3184 3459 \nL 2625 3416 \nQ 2550 3747 2413 3897 \nQ 2184 4138 1850 4138 \nQ 1581 4138 1378 3988 \nQ 1113 3794 959 3422 \nQ 806 3050 800 2363 \nQ 1003 2672 1297 2822 \nQ 1591 2972 1913 2972 \nQ 2475 2972 2870 2558 \nQ 3266 2144 3266 1488 \nQ 3266 1056 3080 686 \nQ 2894 316 2569 119 \nQ 2244 -78 1831 -78 \nQ 1128 -78 684 439 \nQ 241 956 241 2144 \nQ 241 3472 731 4075 \nQ 1159 4600 1884 4600 \nQ 2425 4600 2770 4297 \nQ 3116 3994 3184 3459 \nz\nM 888 1484 \nQ 888 1194 1011 928 \nQ 1134 663 1356 523 \nQ 1578 384 1822 384 \nQ 2178 384 2434 671 \nQ 2691 959 2691 1453 \nQ 2691 1928 2437 2201 \nQ 2184 2475 1800 2475 \nQ 1419 2475 1153 2201 \nQ 888 1928 888 1484 \nz\n\" transform=\"scale(0.015625)\"/>\n       </defs>\n       <use xlink:href=\"#ArialMT-36\"/>\n       <use xlink:href=\"#ArialMT-30\" x=\"55.615234\"/>\n      </g>\n     </g>\n    </g>\n    <g id=\"xtick_5\">\n     <g id=\"line2d_9\">\n      <path d=\"M 379.107606 306.18 \nL 379.107606 7.2 \n\" clip-path=\"url(#p087e7f7448)\" style=\"fill: none; stroke: #ffffff; stroke-linecap: round\"/>\n     </g>\n     <g id=\"line2d_10\"/>\n     <g id=\"text_5\">\n      <!-- 80 -->\n      <g style=\"fill: #262626\" transform=\"translate(373.546668 320.337812)scale(0.1 -0.1)\">\n       <defs>\n        <path id=\"ArialMT-38\" d=\"M 1131 2484 \nQ 781 2613 612 2850 \nQ 444 3088 444 3419 \nQ 444 3919 803 4259 \nQ 1163 4600 1759 4600 \nQ 2359 4600 2725 4251 \nQ 3091 3903 3091 3403 \nQ 3091 3084 2923 2848 \nQ 2756 2613 2416 2484 \nQ 2838 2347 3058 2040 \nQ 3278 1734 3278 1309 \nQ 3278 722 2862 322 \nQ 2447 -78 1769 -78 \nQ 1091 -78 675 323 \nQ 259 725 259 1325 \nQ 259 1772 486 2073 \nQ 713 2375 1131 2484 \nz\nM 1019 3438 \nQ 1019 3113 1228 2906 \nQ 1438 2700 1772 2700 \nQ 2097 2700 2305 2904 \nQ 2513 3109 2513 3406 \nQ 2513 3716 2298 3927 \nQ 2084 4138 1766 4138 \nQ 1444 4138 1231 3931 \nQ 1019 3725 1019 3438 \nz\nM 838 1322 \nQ 838 1081 952 856 \nQ 1066 631 1291 507 \nQ 1516 384 1775 384 \nQ 2178 384 2440 643 \nQ 2703 903 2703 1303 \nQ 2703 1709 2433 1975 \nQ 2163 2241 1756 2241 \nQ 1359 2241 1098 1978 \nQ 838 1716 838 1322 \nz\n\" transform=\"scale(0.015625)\"/>\n       </defs>\n       <use xlink:href=\"#ArialMT-38\"/>\n       <use xlink:href=\"#ArialMT-30\" x=\"55.615234\"/>\n      </g>\n     </g>\n    </g>\n    <g id=\"xtick_6\">\n     <g id=\"line2d_11\">\n      <path d=\"M 461.091077 306.18 \nL 461.091077 7.2 \n\" clip-path=\"url(#p087e7f7448)\" style=\"fill: none; stroke: #ffffff; stroke-linecap: round\"/>\n     </g>\n     <g id=\"line2d_12\"/>\n     <g id=\"text_6\">\n      <!-- 100 -->\n      <g style=\"fill: #262626\" transform=\"translate(452.749671 320.337812)scale(0.1 -0.1)\">\n       <defs>\n        <path id=\"ArialMT-31\" d=\"M 2384 0 \nL 1822 0 \nL 1822 3584 \nQ 1619 3391 1289 3197 \nQ 959 3003 697 2906 \nL 697 3450 \nQ 1169 3672 1522 3987 \nQ 1875 4303 2022 4600 \nL 2384 4600 \nL 2384 0 \nz\n\" transform=\"scale(0.015625)\"/>\n       </defs>\n       <use xlink:href=\"#ArialMT-31\"/>\n       <use xlink:href=\"#ArialMT-30\" x=\"55.615234\"/>\n       <use xlink:href=\"#ArialMT-30\" x=\"111.230469\"/>\n      </g>\n     </g>\n    </g>\n   </g>\n   <g id=\"matplotlib.axis_2\">\n    <g id=\"ytick_1\">\n     <g id=\"line2d_13\">\n      <path d=\"M 30.882812 304.710942 \nL 477.282812 304.710942 \n\" clip-path=\"url(#p087e7f7448)\" style=\"fill: none; stroke: #ffffff; stroke-linecap: round\"/>\n     </g>\n     <g id=\"line2d_14\"/>\n     <g id=\"text_7\">\n      <!-- 85 -->\n      <g style=\"fill: #262626\" transform=\"translate(12.760937 308.289848)scale(0.1 -0.1)\">\n       <defs>\n        <path id=\"ArialMT-35\" d=\"M 266 1200 \nL 856 1250 \nQ 922 819 1161 601 \nQ 1400 384 1738 384 \nQ 2144 384 2425 690 \nQ 2706 997 2706 1503 \nQ 2706 1984 2436 2262 \nQ 2166 2541 1728 2541 \nQ 1456 2541 1237 2417 \nQ 1019 2294 894 2097 \nL 366 2166 \nL 809 4519 \nL 3088 4519 \nL 3088 3981 \nL 1259 3981 \nL 1013 2750 \nQ 1425 3038 1878 3038 \nQ 2478 3038 2890 2622 \nQ 3303 2206 3303 1553 \nQ 3303 931 2941 478 \nQ 2500 -78 1738 -78 \nQ 1113 -78 717 272 \nQ 322 622 266 1200 \nz\n\" transform=\"scale(0.015625)\"/>\n       </defs>\n       <use xlink:href=\"#ArialMT-38\"/>\n       <use xlink:href=\"#ArialMT-35\" x=\"55.615234\"/>\n      </g>\n     </g>\n    </g>\n    <g id=\"ytick_2\">\n     <g id=\"line2d_15\">\n      <path d=\"M 30.882812 256.227174 \nL 477.282812 256.227174 \n\" clip-path=\"url(#p087e7f7448)\" style=\"fill: none; stroke: #ffffff; stroke-linecap: round\"/>\n     </g>\n     <g id=\"line2d_16\"/>\n     <g id=\"text_8\">\n      <!-- 90 -->\n      <g style=\"fill: #262626\" transform=\"translate(12.760937 259.806081)scale(0.1 -0.1)\">\n       <defs>\n        <path id=\"ArialMT-39\" d=\"M 350 1059 \nL 891 1109 \nQ 959 728 1153 556 \nQ 1347 384 1650 384 \nQ 1909 384 2104 503 \nQ 2300 622 2425 820 \nQ 2550 1019 2634 1356 \nQ 2719 1694 2719 2044 \nQ 2719 2081 2716 2156 \nQ 2547 1888 2255 1720 \nQ 1963 1553 1622 1553 \nQ 1053 1553 659 1965 \nQ 266 2378 266 3053 \nQ 266 3750 677 4175 \nQ 1088 4600 1706 4600 \nQ 2153 4600 2523 4359 \nQ 2894 4119 3086 3673 \nQ 3278 3228 3278 2384 \nQ 3278 1506 3087 986 \nQ 2897 466 2520 194 \nQ 2144 -78 1638 -78 \nQ 1100 -78 759 220 \nQ 419 519 350 1059 \nz\nM 2653 3081 \nQ 2653 3566 2395 3850 \nQ 2138 4134 1775 4134 \nQ 1400 4134 1122 3828 \nQ 844 3522 844 3034 \nQ 844 2597 1108 2323 \nQ 1372 2050 1759 2050 \nQ 2150 2050 2401 2323 \nQ 2653 2597 2653 3081 \nz\n\" transform=\"scale(0.015625)\"/>\n       </defs>\n       <use xlink:href=\"#ArialMT-39\"/>\n       <use xlink:href=\"#ArialMT-30\" x=\"55.615234\"/>\n      </g>\n     </g>\n    </g>\n    <g id=\"ytick_3\">\n     <g id=\"line2d_17\">\n      <path d=\"M 30.882812 207.743407 \nL 477.282812 207.743407 \n\" clip-path=\"url(#p087e7f7448)\" style=\"fill: none; stroke: #ffffff; stroke-linecap: round\"/>\n     </g>\n     <g id=\"line2d_18\"/>\n     <g id=\"text_9\">\n      <!-- 95 -->\n      <g style=\"fill: #262626\" transform=\"translate(12.760937 211.322313)scale(0.1 -0.1)\">\n       <use xlink:href=\"#ArialMT-39\"/>\n       <use xlink:href=\"#ArialMT-35\" x=\"55.615234\"/>\n      </g>\n     </g>\n    </g>\n    <g id=\"ytick_4\">\n     <g id=\"line2d_19\">\n      <path d=\"M 30.882812 159.25964 \nL 477.282812 159.25964 \n\" clip-path=\"url(#p087e7f7448)\" style=\"fill: none; stroke: #ffffff; stroke-linecap: round\"/>\n     </g>\n     <g id=\"line2d_20\"/>\n     <g id=\"text_10\">\n      <!-- 100 -->\n      <g style=\"fill: #262626\" transform=\"translate(7.2 162.838546)scale(0.1 -0.1)\">\n       <use xlink:href=\"#ArialMT-31\"/>\n       <use xlink:href=\"#ArialMT-30\" x=\"55.615234\"/>\n       <use xlink:href=\"#ArialMT-30\" x=\"111.230469\"/>\n      </g>\n     </g>\n    </g>\n    <g id=\"ytick_5\">\n     <g id=\"line2d_21\">\n      <path d=\"M 30.882812 110.775872 \nL 477.282812 110.775872 \n\" clip-path=\"url(#p087e7f7448)\" style=\"fill: none; stroke: #ffffff; stroke-linecap: round\"/>\n     </g>\n     <g id=\"line2d_22\"/>\n     <g id=\"text_11\">\n      <!-- 105 -->\n      <g style=\"fill: #262626\" transform=\"translate(7.2 114.354779)scale(0.1 -0.1)\">\n       <use xlink:href=\"#ArialMT-31\"/>\n       <use xlink:href=\"#ArialMT-30\" x=\"55.615234\"/>\n       <use xlink:href=\"#ArialMT-35\" x=\"111.230469\"/>\n      </g>\n     </g>\n    </g>\n    <g id=\"ytick_6\">\n     <g id=\"line2d_23\">\n      <path d=\"M 30.882812 62.292105 \nL 477.282812 62.292105 \n\" clip-path=\"url(#p087e7f7448)\" style=\"fill: none; stroke: #ffffff; stroke-linecap: round\"/>\n     </g>\n     <g id=\"line2d_24\"/>\n     <g id=\"text_12\">\n      <!-- 110 -->\n      <g style=\"fill: #262626\" transform=\"translate(7.9375 65.871011)scale(0.1 -0.1)\">\n       <use xlink:href=\"#ArialMT-31\"/>\n       <use xlink:href=\"#ArialMT-31\" x=\"48.240234\"/>\n       <use xlink:href=\"#ArialMT-30\" x=\"103.855469\"/>\n      </g>\n     </g>\n    </g>\n    <g id=\"ytick_7\">\n     <g id=\"line2d_25\">\n      <path d=\"M 30.882812 13.808337 \nL 477.282812 13.808337 \n\" clip-path=\"url(#p087e7f7448)\" style=\"fill: none; stroke: #ffffff; stroke-linecap: round\"/>\n     </g>\n     <g id=\"line2d_26\"/>\n     <g id=\"text_13\">\n      <!-- 115 -->\n      <g style=\"fill: #262626\" transform=\"translate(7.9375 17.387244)scale(0.1 -0.1)\">\n       <use xlink:href=\"#ArialMT-31\"/>\n       <use xlink:href=\"#ArialMT-31\" x=\"48.240234\"/>\n       <use xlink:href=\"#ArialMT-35\" x=\"103.855469\"/>\n      </g>\n     </g>\n    </g>\n   </g>\n   <g id=\"line2d_27\">\n    <path d=\"M 51.173722 20.79 \nL 55.272895 20.79 \nL 59.372069 20.79 \nL 63.471242 20.79 \nL 67.570416 20.79 \nL 71.669589 20.79 \nL 75.768763 20.79 \nL 79.867936 20.79 \nL 83.96711 93.612619 \nL 88.066284 93.612619 \nL 92.165457 93.612619 \nL 96.264631 93.612619 \nL 100.363804 93.612619 \nL 104.462978 93.612619 \nL 108.562151 93.612619 \nL 112.661325 93.612619 \nL 116.760498 93.612619 \nL 120.859672 93.612619 \nL 124.958846 93.612619 \nL 129.058019 93.612619 \nL 133.157193 93.612619 \nL 137.256366 93.612619 \nL 141.35554 93.612619 \nL 145.454713 93.612619 \nL 149.553887 93.612619 \nL 153.65306 93.612619 \nL 157.752234 93.612619 \nL 161.851408 93.612619 \nL 165.950581 93.612619 \nL 170.049755 93.612619 \nL 174.148928 93.612619 \nL 178.248102 93.612619 \nL 182.347275 93.612619 \nL 186.446449 93.612619 \nL 190.545622 93.612619 \nL 194.644796 93.612619 \nL 198.74397 93.612619 \nL 202.843143 93.612619 \nL 206.942317 93.612619 \nL 211.04149 93.612619 \nL 215.140664 93.612619 \nL 219.239837 93.612619 \nL 223.339011 93.612619 \nL 227.438184 93.612619 \nL 231.537358 93.612619 \nL 235.636532 93.612619 \nL 239.735705 110.388002 \nL 243.834879 110.388002 \nL 247.934052 110.388002 \nL 252.033226 110.388002 \nL 256.132399 110.388002 \nL 260.231573 119.212048 \nL 264.330746 119.212048 \nL 268.42992 119.212048 \nL 272.529093 119.212048 \nL 276.628267 119.212048 \nL 280.727441 119.212048 \nL 284.826614 119.212048 \nL 288.925788 119.212048 \nL 293.024961 119.212048 \nL 297.124135 119.212048 \nL 301.223308 119.212048 \nL 305.322482 119.212048 \nL 309.421655 119.212048 \nL 313.520829 119.212048 \nL 317.620003 119.212048 \nL 321.719176 119.212048 \nL 325.81835 119.212048 \nL 329.917523 201.149615 \nL 334.016697 201.149615 \nL 338.11587 201.149615 \nL 342.215044 201.149615 \nL 346.314217 201.149615 \nL 350.413391 201.149615 \nL 354.512565 201.149615 \nL 358.611738 201.149615 \nL 362.710912 201.149615 \nL 366.810085 201.149615 \nL 370.909259 201.149615 \nL 375.008432 201.149615 \nL 379.107606 201.149615 \nL 383.206779 201.149615 \nL 387.305953 201.149615 \nL 391.405127 201.149615 \nL 395.5043 201.149615 \nL 399.603474 201.149615 \nL 403.702647 201.149615 \nL 407.801821 201.149615 \nL 411.900994 201.149615 \nL 416.000168 201.149615 \nL 420.099341 201.149615 \nL 424.198515 201.149615 \nL 428.297689 201.149615 \nL 432.396862 201.149615 \nL 436.496036 292.59 \nL 440.595209 292.59 \nL 444.694383 292.59 \nL 448.793556 292.59 \nL 452.89273 292.59 \nL 456.991903 292.59 \n\" clip-path=\"url(#p087e7f7448)\" style=\"fill: none; stroke: #87ceeb; stroke-width: 1.75; stroke-linecap: round\"/>\n   </g>\n   <g id=\"patch_3\">\n    <path d=\"M 30.882812 306.18 \nL 30.882812 7.2 \n\" style=\"fill: none\"/>\n   </g>\n   <g id=\"patch_4\">\n    <path d=\"M 477.282812 306.18 \nL 477.282812 7.2 \n\" style=\"fill: none\"/>\n   </g>\n   <g id=\"patch_5\">\n    <path d=\"M 30.882812 306.18 \nL 477.282812 306.18 \n\" style=\"fill: none\"/>\n   </g>\n   <g id=\"patch_6\">\n    <path d=\"M 30.882812 7.2 \nL 477.282812 7.2 \n\" style=\"fill: none\"/>\n   </g>\n  </g>\n </g>\n <defs>\n  <clipPath id=\"p087e7f7448\">\n   <rect x=\"30.882812\" y=\"7.2\" width=\"446.4\" height=\"298.98\"/>\n  </clipPath>\n </defs>\n</svg>\n",
      "text/plain": [
       "<Figure size 576x396 with 1 Axes>"
      ]
     },
     "metadata": {},
     "output_type": "display_data"
    },
    {
     "name": "stdout",
     "output_type": "stream",
     "text": [
      "[4, 1, 3, 2, 0]\n"
     ]
    }
   ],
   "source": [
    "best, history = genetic_algorithm(\n",
    "    mesta,\n",
    "    matice_sousednosti,\n",
    "    n_iter=100,\n",
    "    verbose=False,\n",
    "    print_interval=20,\n",
    "    return_history=True,\n",
    ")\n",
    "\n",
    "plt.plot(range(len(history)), history, color=\"skyblue\")\n",
    "plt.show()\n",
    "print(best)"
   ]
  },
  {
   "cell_type": "code",
   "execution_count": 25,
   "metadata": {},
   "outputs": [],
   "source": [
    "def vytvor_mesta(n_mest, factor=10):\n",
    "    return np.random.rand(n_mest, 2) * n_mest * factor"
   ]
  },
  {
   "cell_type": "code",
   "execution_count": 26,
   "metadata": {},
   "outputs": [],
   "source": [
    "def make_mat(coordinates):\n",
    "    res = [\n",
    "        [get_distance(city1, city2) for city2 in coordinates]\n",
    "        for city1 in coordinates\n",
    "    ]\n",
    "    return np.asarray(res)\n",
    "\n",
    "def get_distance(city1, city2):\n",
    "    return np.sqrt((city1[0] - city2[0])**2 + (city1[1] - city2[1])**2)"
   ]
  },
  {
   "cell_type": "code",
   "execution_count": 27,
   "metadata": {},
   "outputs": [
    {
     "data": {
      "text/plain": [
       "array([[0.        , 1.        , 1.41421356, 1.        ],\n",
       "       [1.        , 0.        , 1.        , 1.41421356],\n",
       "       [1.41421356, 1.        , 0.        , 1.        ],\n",
       "       [1.        , 1.41421356, 1.        , 0.        ]])"
      ]
     },
     "execution_count": 27,
     "metadata": {},
     "output_type": "execute_result"
    }
   ],
   "source": [
    "test_coords = [[0, 0], [0, 1], [1, 1], [1, 0]]\n",
    "\n",
    "make_mat(test_coords)"
   ]
  },
  {
   "cell_type": "code",
   "execution_count": 28,
   "metadata": {},
   "outputs": [
    {
     "data": {
      "text/plain": [
       "array([[30.76490125,  4.17320425],\n",
       "       [44.12081842, 40.18017677],\n",
       "       [25.26033868, 48.35633076],\n",
       "       [20.88804896, 49.20551595],\n",
       "       [33.39599994, 31.73356366]])"
      ]
     },
     "execution_count": 28,
     "metadata": {},
     "output_type": "execute_result"
    }
   ],
   "source": [
    "vytvor_mesta(5)"
   ]
  },
  {
   "cell_type": "code",
   "execution_count": 29,
   "metadata": {},
   "outputs": [
    {
     "name": "stdout",
     "output_type": "stream",
     "text": [
      "Generation 0: 50011.65935498702\n",
      "Generation 100: 30970.433045633214\n",
      "Generation 200: 27486.721956799065\n",
      "Generation 300: 25321.523175723258\n",
      "Generation 400: 24245.68050461644\n",
      "Generation 500: 22186.22085812617\n",
      "Generation 600: 20514.62574300889\n",
      "Generation 700: 20155.685751528705\n",
      "Generation 800: 19359.224005414842\n",
      "Generation 900: 18835.127308809744\n"
     ]
    },
    {
     "data": {
      "image/svg+xml": "<?xml version=\"1.0\" encoding=\"utf-8\" standalone=\"no\"?>\n<!DOCTYPE svg PUBLIC \"-//W3C//DTD SVG 1.1//EN\"\n  \"http://www.w3.org/Graphics/SVG/1.1/DTD/svg11.dtd\">\n<svg xmlns:xlink=\"http://www.w3.org/1999/xlink\" width=\"495.604687pt\" height=\"329.525312pt\" viewBox=\"0 0 495.604687 329.525312\" xmlns=\"http://www.w3.org/2000/svg\" version=\"1.1\">\n <metadata>\n  <rdf:RDF xmlns:dc=\"http://purl.org/dc/elements/1.1/\" xmlns:cc=\"http://creativecommons.org/ns#\" xmlns:rdf=\"http://www.w3.org/1999/02/22-rdf-syntax-ns#\">\n   <cc:Work>\n    <dc:type rdf:resource=\"http://purl.org/dc/dcmitype/StillImage\"/>\n    <dc:date>2022-03-30T07:54:22.672497</dc:date>\n    <dc:format>image/svg+xml</dc:format>\n    <dc:creator>\n     <cc:Agent>\n      <dc:title>Matplotlib v3.5.1, https://matplotlib.org/</dc:title>\n     </cc:Agent>\n    </dc:creator>\n   </cc:Work>\n  </rdf:RDF>\n </metadata>\n <defs>\n  <style type=\"text/css\">*{stroke-linejoin: round; stroke-linecap: butt}</style>\n </defs>\n <g id=\"figure_1\">\n  <g id=\"patch_1\">\n   <path d=\"M 0 329.525312 \nL 495.604687 329.525312 \nL 495.604687 0 \nL 0 0 \nz\n\" style=\"fill: #ffffff\"/>\n  </g>\n  <g id=\"axes_1\">\n   <g id=\"patch_2\">\n    <path d=\"M 42.004688 306.18 \nL 488.404687 306.18 \nL 488.404687 7.2 \nL 42.004688 7.2 \nz\n\" style=\"fill: #eaeaf2\"/>\n   </g>\n   <g id=\"matplotlib.axis_1\">\n    <g id=\"xtick_1\">\n     <g id=\"line2d_1\">\n      <path d=\"M 62.295597 306.18 \nL 62.295597 7.2 \n\" clip-path=\"url(#p1e18bdd233)\" style=\"fill: none; stroke: #ffffff; stroke-linecap: round\"/>\n     </g>\n     <g id=\"line2d_2\"/>\n     <g id=\"text_1\">\n      <!-- 0 -->\n      <g style=\"fill: #262626\" transform=\"translate(59.515128 320.337812)scale(0.1 -0.1)\">\n       <defs>\n        <path id=\"ArialMT-30\" d=\"M 266 2259 \nQ 266 3072 433 3567 \nQ 600 4063 929 4331 \nQ 1259 4600 1759 4600 \nQ 2128 4600 2406 4451 \nQ 2684 4303 2865 4023 \nQ 3047 3744 3150 3342 \nQ 3253 2941 3253 2259 \nQ 3253 1453 3087 958 \nQ 2922 463 2592 192 \nQ 2263 -78 1759 -78 \nQ 1097 -78 719 397 \nQ 266 969 266 2259 \nz\nM 844 2259 \nQ 844 1131 1108 757 \nQ 1372 384 1759 384 \nQ 2147 384 2411 759 \nQ 2675 1134 2675 2259 \nQ 2675 3391 2411 3762 \nQ 2147 4134 1753 4134 \nQ 1366 4134 1134 3806 \nQ 844 3388 844 2259 \nz\n\" transform=\"scale(0.015625)\"/>\n       </defs>\n       <use xlink:href=\"#ArialMT-30\"/>\n      </g>\n     </g>\n    </g>\n    <g id=\"xtick_2\">\n     <g id=\"line2d_3\">\n      <path d=\"M 143.540478 306.18 \nL 143.540478 7.2 \n\" clip-path=\"url(#p1e18bdd233)\" style=\"fill: none; stroke: #ffffff; stroke-linecap: round\"/>\n     </g>\n     <g id=\"line2d_4\"/>\n     <g id=\"text_2\">\n      <!-- 200 -->\n      <g style=\"fill: #262626\" transform=\"translate(135.199072 320.337812)scale(0.1 -0.1)\">\n       <defs>\n        <path id=\"ArialMT-32\" d=\"M 3222 541 \nL 3222 0 \nL 194 0 \nQ 188 203 259 391 \nQ 375 700 629 1000 \nQ 884 1300 1366 1694 \nQ 2113 2306 2375 2664 \nQ 2638 3022 2638 3341 \nQ 2638 3675 2398 3904 \nQ 2159 4134 1775 4134 \nQ 1369 4134 1125 3890 \nQ 881 3647 878 3216 \nL 300 3275 \nQ 359 3922 746 4261 \nQ 1134 4600 1788 4600 \nQ 2447 4600 2831 4234 \nQ 3216 3869 3216 3328 \nQ 3216 3053 3103 2787 \nQ 2991 2522 2730 2228 \nQ 2469 1934 1863 1422 \nQ 1356 997 1212 845 \nQ 1069 694 975 541 \nL 3222 541 \nz\n\" transform=\"scale(0.015625)\"/>\n       </defs>\n       <use xlink:href=\"#ArialMT-32\"/>\n       <use xlink:href=\"#ArialMT-30\" x=\"55.615234\"/>\n       <use xlink:href=\"#ArialMT-30\" x=\"111.230469\"/>\n      </g>\n     </g>\n    </g>\n    <g id=\"xtick_3\">\n     <g id=\"line2d_5\">\n      <path d=\"M 224.785359 306.18 \nL 224.785359 7.2 \n\" clip-path=\"url(#p1e18bdd233)\" style=\"fill: none; stroke: #ffffff; stroke-linecap: round\"/>\n     </g>\n     <g id=\"line2d_6\"/>\n     <g id=\"text_3\">\n      <!-- 400 -->\n      <g style=\"fill: #262626\" transform=\"translate(216.443953 320.337812)scale(0.1 -0.1)\">\n       <defs>\n        <path id=\"ArialMT-34\" d=\"M 2069 0 \nL 2069 1097 \nL 81 1097 \nL 81 1613 \nL 2172 4581 \nL 2631 4581 \nL 2631 1613 \nL 3250 1613 \nL 3250 1097 \nL 2631 1097 \nL 2631 0 \nL 2069 0 \nz\nM 2069 1613 \nL 2069 3678 \nL 634 1613 \nL 2069 1613 \nz\n\" transform=\"scale(0.015625)\"/>\n       </defs>\n       <use xlink:href=\"#ArialMT-34\"/>\n       <use xlink:href=\"#ArialMT-30\" x=\"55.615234\"/>\n       <use xlink:href=\"#ArialMT-30\" x=\"111.230469\"/>\n      </g>\n     </g>\n    </g>\n    <g id=\"xtick_4\">\n     <g id=\"line2d_7\">\n      <path d=\"M 306.03024 306.18 \nL 306.03024 7.2 \n\" clip-path=\"url(#p1e18bdd233)\" style=\"fill: none; stroke: #ffffff; stroke-linecap: round\"/>\n     </g>\n     <g id=\"line2d_8\"/>\n     <g id=\"text_4\">\n      <!-- 600 -->\n      <g style=\"fill: #262626\" transform=\"translate(297.688834 320.337812)scale(0.1 -0.1)\">\n       <defs>\n        <path id=\"ArialMT-36\" d=\"M 3184 3459 \nL 2625 3416 \nQ 2550 3747 2413 3897 \nQ 2184 4138 1850 4138 \nQ 1581 4138 1378 3988 \nQ 1113 3794 959 3422 \nQ 806 3050 800 2363 \nQ 1003 2672 1297 2822 \nQ 1591 2972 1913 2972 \nQ 2475 2972 2870 2558 \nQ 3266 2144 3266 1488 \nQ 3266 1056 3080 686 \nQ 2894 316 2569 119 \nQ 2244 -78 1831 -78 \nQ 1128 -78 684 439 \nQ 241 956 241 2144 \nQ 241 3472 731 4075 \nQ 1159 4600 1884 4600 \nQ 2425 4600 2770 4297 \nQ 3116 3994 3184 3459 \nz\nM 888 1484 \nQ 888 1194 1011 928 \nQ 1134 663 1356 523 \nQ 1578 384 1822 384 \nQ 2178 384 2434 671 \nQ 2691 959 2691 1453 \nQ 2691 1928 2437 2201 \nQ 2184 2475 1800 2475 \nQ 1419 2475 1153 2201 \nQ 888 1928 888 1484 \nz\n\" transform=\"scale(0.015625)\"/>\n       </defs>\n       <use xlink:href=\"#ArialMT-36\"/>\n       <use xlink:href=\"#ArialMT-30\" x=\"55.615234\"/>\n       <use xlink:href=\"#ArialMT-30\" x=\"111.230469\"/>\n      </g>\n     </g>\n    </g>\n    <g id=\"xtick_5\">\n     <g id=\"line2d_9\">\n      <path d=\"M 387.275122 306.18 \nL 387.275122 7.2 \n\" clip-path=\"url(#p1e18bdd233)\" style=\"fill: none; stroke: #ffffff; stroke-linecap: round\"/>\n     </g>\n     <g id=\"line2d_10\"/>\n     <g id=\"text_5\">\n      <!-- 800 -->\n      <g style=\"fill: #262626\" transform=\"translate(378.933715 320.337812)scale(0.1 -0.1)\">\n       <defs>\n        <path id=\"ArialMT-38\" d=\"M 1131 2484 \nQ 781 2613 612 2850 \nQ 444 3088 444 3419 \nQ 444 3919 803 4259 \nQ 1163 4600 1759 4600 \nQ 2359 4600 2725 4251 \nQ 3091 3903 3091 3403 \nQ 3091 3084 2923 2848 \nQ 2756 2613 2416 2484 \nQ 2838 2347 3058 2040 \nQ 3278 1734 3278 1309 \nQ 3278 722 2862 322 \nQ 2447 -78 1769 -78 \nQ 1091 -78 675 323 \nQ 259 725 259 1325 \nQ 259 1772 486 2073 \nQ 713 2375 1131 2484 \nz\nM 1019 3438 \nQ 1019 3113 1228 2906 \nQ 1438 2700 1772 2700 \nQ 2097 2700 2305 2904 \nQ 2513 3109 2513 3406 \nQ 2513 3716 2298 3927 \nQ 2084 4138 1766 4138 \nQ 1444 4138 1231 3931 \nQ 1019 3725 1019 3438 \nz\nM 838 1322 \nQ 838 1081 952 856 \nQ 1066 631 1291 507 \nQ 1516 384 1775 384 \nQ 2178 384 2440 643 \nQ 2703 903 2703 1303 \nQ 2703 1709 2433 1975 \nQ 2163 2241 1756 2241 \nQ 1359 2241 1098 1978 \nQ 838 1716 838 1322 \nz\n\" transform=\"scale(0.015625)\"/>\n       </defs>\n       <use xlink:href=\"#ArialMT-38\"/>\n       <use xlink:href=\"#ArialMT-30\" x=\"55.615234\"/>\n       <use xlink:href=\"#ArialMT-30\" x=\"111.230469\"/>\n      </g>\n     </g>\n    </g>\n    <g id=\"xtick_6\">\n     <g id=\"line2d_11\">\n      <path d=\"M 468.520003 306.18 \nL 468.520003 7.2 \n\" clip-path=\"url(#p1e18bdd233)\" style=\"fill: none; stroke: #ffffff; stroke-linecap: round\"/>\n     </g>\n     <g id=\"line2d_12\"/>\n     <g id=\"text_6\">\n      <!-- 1000 -->\n      <g style=\"fill: #262626\" transform=\"translate(457.398128 320.337812)scale(0.1 -0.1)\">\n       <defs>\n        <path id=\"ArialMT-31\" d=\"M 2384 0 \nL 1822 0 \nL 1822 3584 \nQ 1619 3391 1289 3197 \nQ 959 3003 697 2906 \nL 697 3450 \nQ 1169 3672 1522 3987 \nQ 1875 4303 2022 4600 \nL 2384 4600 \nL 2384 0 \nz\n\" transform=\"scale(0.015625)\"/>\n       </defs>\n       <use xlink:href=\"#ArialMT-31\"/>\n       <use xlink:href=\"#ArialMT-30\" x=\"55.615234\"/>\n       <use xlink:href=\"#ArialMT-30\" x=\"111.230469\"/>\n       <use xlink:href=\"#ArialMT-30\" x=\"166.845703\"/>\n      </g>\n     </g>\n    </g>\n   </g>\n   <g id=\"matplotlib.axis_2\">\n    <g id=\"ytick_1\">\n     <g id=\"line2d_13\">\n      <path d=\"M 42.004688 280.029071 \nL 488.404687 280.029071 \n\" clip-path=\"url(#p1e18bdd233)\" style=\"fill: none; stroke: #ffffff; stroke-linecap: round\"/>\n     </g>\n     <g id=\"line2d_14\"/>\n     <g id=\"text_7\">\n      <!-- 20000 -->\n      <g style=\"fill: #262626\" transform=\"translate(7.2 283.607977)scale(0.1 -0.1)\">\n       <use xlink:href=\"#ArialMT-32\"/>\n       <use xlink:href=\"#ArialMT-30\" x=\"55.615234\"/>\n       <use xlink:href=\"#ArialMT-30\" x=\"111.230469\"/>\n       <use xlink:href=\"#ArialMT-30\" x=\"166.845703\"/>\n       <use xlink:href=\"#ArialMT-30\" x=\"222.460938\"/>\n      </g>\n     </g>\n    </g>\n    <g id=\"ytick_2\">\n     <g id=\"line2d_15\">\n      <path d=\"M 42.004688 236.839345 \nL 488.404687 236.839345 \n\" clip-path=\"url(#p1e18bdd233)\" style=\"fill: none; stroke: #ffffff; stroke-linecap: round\"/>\n     </g>\n     <g id=\"line2d_16\"/>\n     <g id=\"text_8\">\n      <!-- 25000 -->\n      <g style=\"fill: #262626\" transform=\"translate(7.2 240.418251)scale(0.1 -0.1)\">\n       <defs>\n        <path id=\"ArialMT-35\" d=\"M 266 1200 \nL 856 1250 \nQ 922 819 1161 601 \nQ 1400 384 1738 384 \nQ 2144 384 2425 690 \nQ 2706 997 2706 1503 \nQ 2706 1984 2436 2262 \nQ 2166 2541 1728 2541 \nQ 1456 2541 1237 2417 \nQ 1019 2294 894 2097 \nL 366 2166 \nL 809 4519 \nL 3088 4519 \nL 3088 3981 \nL 1259 3981 \nL 1013 2750 \nQ 1425 3038 1878 3038 \nQ 2478 3038 2890 2622 \nQ 3303 2206 3303 1553 \nQ 3303 931 2941 478 \nQ 2500 -78 1738 -78 \nQ 1113 -78 717 272 \nQ 322 622 266 1200 \nz\n\" transform=\"scale(0.015625)\"/>\n       </defs>\n       <use xlink:href=\"#ArialMT-32\"/>\n       <use xlink:href=\"#ArialMT-35\" x=\"55.615234\"/>\n       <use xlink:href=\"#ArialMT-30\" x=\"111.230469\"/>\n       <use xlink:href=\"#ArialMT-30\" x=\"166.845703\"/>\n       <use xlink:href=\"#ArialMT-30\" x=\"222.460938\"/>\n      </g>\n     </g>\n    </g>\n    <g id=\"ytick_3\">\n     <g id=\"line2d_17\">\n      <path d=\"M 42.004688 193.649618 \nL 488.404687 193.649618 \n\" clip-path=\"url(#p1e18bdd233)\" style=\"fill: none; stroke: #ffffff; stroke-linecap: round\"/>\n     </g>\n     <g id=\"line2d_18\"/>\n     <g id=\"text_9\">\n      <!-- 30000 -->\n      <g style=\"fill: #262626\" transform=\"translate(7.2 197.228525)scale(0.1 -0.1)\">\n       <defs>\n        <path id=\"ArialMT-33\" d=\"M 269 1209 \nL 831 1284 \nQ 928 806 1161 595 \nQ 1394 384 1728 384 \nQ 2125 384 2398 659 \nQ 2672 934 2672 1341 \nQ 2672 1728 2419 1979 \nQ 2166 2231 1775 2231 \nQ 1616 2231 1378 2169 \nL 1441 2663 \nQ 1497 2656 1531 2656 \nQ 1891 2656 2178 2843 \nQ 2466 3031 2466 3422 \nQ 2466 3731 2256 3934 \nQ 2047 4138 1716 4138 \nQ 1388 4138 1169 3931 \nQ 950 3725 888 3313 \nL 325 3413 \nQ 428 3978 793 4289 \nQ 1159 4600 1703 4600 \nQ 2078 4600 2393 4439 \nQ 2709 4278 2876 4000 \nQ 3044 3722 3044 3409 \nQ 3044 3113 2884 2869 \nQ 2725 2625 2413 2481 \nQ 2819 2388 3044 2092 \nQ 3269 1797 3269 1353 \nQ 3269 753 2831 336 \nQ 2394 -81 1725 -81 \nQ 1122 -81 723 278 \nQ 325 638 269 1209 \nz\n\" transform=\"scale(0.015625)\"/>\n       </defs>\n       <use xlink:href=\"#ArialMT-33\"/>\n       <use xlink:href=\"#ArialMT-30\" x=\"55.615234\"/>\n       <use xlink:href=\"#ArialMT-30\" x=\"111.230469\"/>\n       <use xlink:href=\"#ArialMT-30\" x=\"166.845703\"/>\n       <use xlink:href=\"#ArialMT-30\" x=\"222.460938\"/>\n      </g>\n     </g>\n    </g>\n    <g id=\"ytick_4\">\n     <g id=\"line2d_19\">\n      <path d=\"M 42.004688 150.459892 \nL 488.404687 150.459892 \n\" clip-path=\"url(#p1e18bdd233)\" style=\"fill: none; stroke: #ffffff; stroke-linecap: round\"/>\n     </g>\n     <g id=\"line2d_20\"/>\n     <g id=\"text_10\">\n      <!-- 35000 -->\n      <g style=\"fill: #262626\" transform=\"translate(7.2 154.038798)scale(0.1 -0.1)\">\n       <use xlink:href=\"#ArialMT-33\"/>\n       <use xlink:href=\"#ArialMT-35\" x=\"55.615234\"/>\n       <use xlink:href=\"#ArialMT-30\" x=\"111.230469\"/>\n       <use xlink:href=\"#ArialMT-30\" x=\"166.845703\"/>\n       <use xlink:href=\"#ArialMT-30\" x=\"222.460938\"/>\n      </g>\n     </g>\n    </g>\n    <g id=\"ytick_5\">\n     <g id=\"line2d_21\">\n      <path d=\"M 42.004688 107.270166 \nL 488.404687 107.270166 \n\" clip-path=\"url(#p1e18bdd233)\" style=\"fill: none; stroke: #ffffff; stroke-linecap: round\"/>\n     </g>\n     <g id=\"line2d_22\"/>\n     <g id=\"text_11\">\n      <!-- 40000 -->\n      <g style=\"fill: #262626\" transform=\"translate(7.2 110.849072)scale(0.1 -0.1)\">\n       <use xlink:href=\"#ArialMT-34\"/>\n       <use xlink:href=\"#ArialMT-30\" x=\"55.615234\"/>\n       <use xlink:href=\"#ArialMT-30\" x=\"111.230469\"/>\n       <use xlink:href=\"#ArialMT-30\" x=\"166.845703\"/>\n       <use xlink:href=\"#ArialMT-30\" x=\"222.460938\"/>\n      </g>\n     </g>\n    </g>\n    <g id=\"ytick_6\">\n     <g id=\"line2d_23\">\n      <path d=\"M 42.004688 64.080439 \nL 488.404687 64.080439 \n\" clip-path=\"url(#p1e18bdd233)\" style=\"fill: none; stroke: #ffffff; stroke-linecap: round\"/>\n     </g>\n     <g id=\"line2d_24\"/>\n     <g id=\"text_12\">\n      <!-- 45000 -->\n      <g style=\"fill: #262626\" transform=\"translate(7.2 67.659345)scale(0.1 -0.1)\">\n       <use xlink:href=\"#ArialMT-34\"/>\n       <use xlink:href=\"#ArialMT-35\" x=\"55.615234\"/>\n       <use xlink:href=\"#ArialMT-30\" x=\"111.230469\"/>\n       <use xlink:href=\"#ArialMT-30\" x=\"166.845703\"/>\n       <use xlink:href=\"#ArialMT-30\" x=\"222.460938\"/>\n      </g>\n     </g>\n    </g>\n    <g id=\"ytick_7\">\n     <g id=\"line2d_25\">\n      <path d=\"M 42.004688 20.890713 \nL 488.404687 20.890713 \n\" clip-path=\"url(#p1e18bdd233)\" style=\"fill: none; stroke: #ffffff; stroke-linecap: round\"/>\n     </g>\n     <g id=\"line2d_26\"/>\n     <g id=\"text_13\">\n      <!-- 50000 -->\n      <g style=\"fill: #262626\" transform=\"translate(7.2 24.469619)scale(0.1 -0.1)\">\n       <use xlink:href=\"#ArialMT-35\"/>\n       <use xlink:href=\"#ArialMT-30\" x=\"55.615234\"/>\n       <use xlink:href=\"#ArialMT-30\" x=\"111.230469\"/>\n       <use xlink:href=\"#ArialMT-30\" x=\"166.845703\"/>\n       <use xlink:href=\"#ArialMT-30\" x=\"222.460938\"/>\n      </g>\n     </g>\n    </g>\n   </g>\n   <g id=\"line2d_27\">\n    <path d=\"M 62.295597 20.79 \nL 62.701821 22.05993 \nL 63.108045 25.898199 \nL 63.51427 27.168129 \nL 63.920494 27.392666 \nL 64.732943 27.392666 \nL 65.545392 40.49073 \nL 65.951616 53.823856 \nL 66.357841 53.823856 \nL 66.764065 63.519645 \nL 67.170289 63.519645 \nL 67.576514 64.816275 \nL 68.388963 64.816275 \nL 68.795187 69.119872 \nL 69.607636 82.142295 \nL 70.01386 88.537475 \nL 70.420085 91.680335 \nL 70.826309 92.744736 \nL 71.232534 97.119931 \nL 72.451207 97.119931 \nL 72.857431 97.327873 \nL 73.263656 106.146209 \nL 73.66988 110.018644 \nL 74.076104 110.018644 \nL 74.482329 110.294806 \nL 74.888553 110.294806 \nL 75.294778 112.116738 \nL 76.107226 112.116738 \nL 76.513451 116.498417 \nL 77.732124 116.498417 \nL 78.138348 117.721853 \nL 78.950797 117.721853 \nL 79.357022 123.577261 \nL 79.763246 125.061599 \nL 80.16947 125.665212 \nL 80.575695 128.298815 \nL 80.981919 134.969225 \nL 82.606817 134.969225 \nL 83.013041 136.756176 \nL 83.419266 136.756176 \nL 83.82549 138.265044 \nL 84.637939 138.265044 \nL 85.450388 139.46144 \nL 86.669061 139.46144 \nL 87.075285 148.709938 \nL 87.48151 148.709938 \nL 87.887734 150.45928 \nL 89.512632 150.45928 \nL 89.918856 155.122773 \nL 90.731305 155.122773 \nL 91.137529 156.058573 \nL 91.543754 160.436563 \nL 91.949978 161.53873 \nL 92.356203 163.136128 \nL 93.574876 163.194271 \nL 93.9811 169.499638 \nL 94.387325 171.865489 \nL 96.418447 171.865489 \nL 96.824671 180.867993 \nL 99.262018 180.867993 \nL 99.668242 181.743244 \nL 100.480691 181.743244 \nL 100.886915 182.802117 \nL 101.699364 182.802117 \nL 102.105588 183.074775 \nL 102.511813 183.074775 \nL 102.918037 185.267071 \nL 103.324262 185.608711 \nL 104.13671 190.447225 \nL 107.386506 190.447225 \nL 107.79273 192.187477 \nL 109.417628 192.187477 \nL 110.230077 194.490198 \nL 110.636301 194.490198 \nL 111.042525 195.145406 \nL 114.292321 195.145406 \nL 114.698545 196.210939 \nL 116.729667 196.318558 \nL 117.135891 199.469352 \nL 117.94834 199.539128 \nL 120.385687 199.588224 \nL 120.791911 199.815906 \nL 121.198135 200.641245 \nL 125.26038 200.641245 \nL 125.666604 202.301543 \nL 128.510175 202.301543 \nL 128.916399 205.500067 \nL 131.75997 205.500067 \nL 132.166194 207.254919 \nL 132.572419 215.229397 \nL 132.978643 215.359176 \nL 148.415171 215.427327 \nL 148.821395 220.143085 \nL 154.508537 220.220292 \nL 154.914761 220.813453 \nL 161.008127 220.813453 \nL 161.414352 222.382186 \nL 164.257923 222.382186 \nL 164.664147 223.372375 \nL 165.88282 223.372375 \nL 166.289045 223.620948 \nL 166.695269 225.742263 \nL 167.507718 233.603112 \nL 183.756694 233.603112 \nL 184.162918 234.062045 \nL 186.600265 234.084341 \nL 187.006489 234.848447 \nL 192.287407 234.848447 \nL 192.693631 239.441952 \nL 193.50608 239.441952 \nL 193.912304 239.905341 \nL 202.036792 239.937789 \nL 202.443017 240.675313 \nL 215.035973 240.773294 \nL 215.442198 241.687151 \nL 216.254647 241.743858 \nL 223.566686 241.743858 \nL 223.97291 243.355115 \nL 228.847603 243.355115 \nL 229.660052 247.023866 \nL 231.28495 247.023866 \nL 231.691174 247.699416 \nL 236.565867 247.699416 \nL 236.972091 249.113506 \nL 239.815662 249.113506 \nL 240.221887 249.86721 \nL 240.628111 249.86721 \nL 241.034335 250.101775 \nL 244.690355 250.101775 \nL 245.096579 251.791072 \nL 245.502804 251.791072 \nL 245.909028 252.852172 \nL 249.158823 252.852172 \nL 249.565048 254.211376 \nL 251.59617 254.211376 \nL 252.002394 257.014455 \nL 252.408619 257.014455 \nL 252.814843 258.290883 \nL 253.221068 258.290883 \nL 253.627292 260.516335 \nL 254.845965 260.516335 \nL 255.25219 260.998917 \nL 260.939331 260.998917 \nL 261.345556 261.144615 \nL 269.876268 261.144615 \nL 270.282493 263.403721 \nL 272.719839 263.403721 \nL 273.126063 263.596875 \nL 277.594532 263.596875 \nL 278.000756 265.798265 \nL 278.813205 265.798265 \nL 279.21943 266.37127 \nL 280.031878 266.45471 \nL 280.438103 267.027715 \nL 281.656776 267.083784 \nL 282.063 267.656789 \nL 284.500347 267.721428 \nL 284.906571 268.286178 \nL 286.125244 268.38899 \nL 286.531469 271.655359 \nL 287.750142 271.655359 \nL 288.156366 272.611232 \nL 294.249733 272.611232 \nL 294.655957 273.116461 \nL 299.936874 273.116461 \nL 300.343099 274.7566 \nL 303.592894 274.7566 \nL 303.999118 275.583762 \nL 307.655138 275.583762 \nL 308.061362 275.928649 \nL 309.68626 275.928649 \nL 310.092484 276.281052 \nL 316.592075 276.281052 \nL 316.998299 277.259515 \nL 319.435646 277.259515 \nL 319.84187 278.684266 \nL 351.527374 278.684266 \nL 351.933598 282.055529 \nL 361.682984 282.055529 \nL 362.089208 282.490056 \nL 368.182574 282.490056 \nL 368.588799 283.124949 \nL 375.494614 283.124949 \nL 375.900838 283.522804 \nL 377.119511 283.522804 \nL 377.525736 285.564059 \nL 394.587161 285.640459 \nL 394.993385 285.755473 \nL 395.39961 287.725865 \nL 410.023688 287.725865 \nL 410.429913 289.233295 \nL 418.554401 289.233295 \nL 418.960625 289.623159 \nL 420.179298 289.623159 \nL 420.585523 289.790102 \nL 426.678889 289.790102 \nL 427.085113 290.091178 \nL 440.084294 290.091178 \nL 440.490519 290.354359 \nL 440.896743 290.354359 \nL 441.302968 292.447978 \nL 456.333271 292.447978 \nL 456.739495 292.59 \nL 468.113778 292.59 \nL 468.113778 292.59 \n\" clip-path=\"url(#p1e18bdd233)\" style=\"fill: none; stroke: #87ceeb; stroke-width: 1.75; stroke-linecap: round\"/>\n   </g>\n   <g id=\"patch_3\">\n    <path d=\"M 42.004688 306.18 \nL 42.004688 7.2 \n\" style=\"fill: none\"/>\n   </g>\n   <g id=\"patch_4\">\n    <path d=\"M 488.404687 306.18 \nL 488.404687 7.2 \n\" style=\"fill: none\"/>\n   </g>\n   <g id=\"patch_5\">\n    <path d=\"M 42.004688 306.18 \nL 488.404687 306.18 \n\" style=\"fill: none\"/>\n   </g>\n   <g id=\"patch_6\">\n    <path d=\"M 42.004688 7.2 \nL 488.404687 7.2 \n\" style=\"fill: none\"/>\n   </g>\n  </g>\n </g>\n <defs>\n  <clipPath id=\"p1e18bdd233\">\n   <rect x=\"42.004688\" y=\"7.2\" width=\"446.4\" height=\"298.98\"/>\n  </clipPath>\n </defs>\n</svg>\n",
      "text/plain": [
       "<Figure size 576x396 with 1 Axes>"
      ]
     },
     "metadata": {},
     "output_type": "display_data"
    },
    {
     "name": "stdout",
     "output_type": "stream",
     "text": [
      "[75, 7, 73, 67, 93, 63, 74, 54, 96, 36, 3, 11, 5, 17, 87, 66, 98, 28, 56, 86, 30, 25, 20, 81, 2, 37, 76, 85, 78, 61, 48, 26, 49, 40, 39, 24, 69, 53, 99, 19, 60, 31, 50, 70, 23, 4, 42, 90, 33, 47, 71, 77, 91, 10, 34, 95, 51, 46, 38, 52, 79, 80, 15, 8, 21, 12, 0, 45, 88, 44, 29, 43, 58, 6, 41, 32, 92, 13, 83, 59, 1, 14, 82, 72, 68, 57, 22, 94, 65, 64, 9, 18, 35, 62, 97, 16, 89, 27, 55, 84]\n"
     ]
    }
   ],
   "source": [
    "mesta = range(100)\n",
    "city_coordinates = vytvor_mesta(len(mesta))\n",
    "matice_sousednosti = make_mat(city_coordinates)\n",
    "best, history = genetic_algorithm(\n",
    "    mesta, matice_sousednosti, n_population=20, n_iter=1000, verbose=False, return_history=True\n",
    ")\n",
    "plt.plot(range(len(history)), history, color=\"skyblue\")\n",
    "plt.show()\n",
    "print(best)"
   ]
  },
  {
   "cell_type": "code",
   "execution_count": 30,
   "metadata": {},
   "outputs": [],
   "source": [
    "def print_path(best, city_coordinates):\n",
    "    points = city_coordinates[best]\n",
    "    x, y = zip(*points)\n",
    "    plt.plot(x, y, color=\"skyblue\", marker=\"o\")"
   ]
  },
  {
   "cell_type": "code",
   "execution_count": 31,
   "metadata": {},
   "outputs": [
    {
     "data": {
      "image/svg+xml": "<?xml version=\"1.0\" encoding=\"utf-8\" standalone=\"no\"?>\n<!DOCTYPE svg PUBLIC \"-//W3C//DTD SVG 1.1//EN\"\n  \"http://www.w3.org/Graphics/SVG/1.1/DTD/svg11.dtd\">\n<svg xmlns:xlink=\"http://www.w3.org/1999/xlink\" width=\"490.04375pt\" height=\"329.525312pt\" viewBox=\"0 0 490.04375 329.525312\" xmlns=\"http://www.w3.org/2000/svg\" version=\"1.1\">\n <metadata>\n  <rdf:RDF xmlns:dc=\"http://purl.org/dc/elements/1.1/\" xmlns:cc=\"http://creativecommons.org/ns#\" xmlns:rdf=\"http://www.w3.org/1999/02/22-rdf-syntax-ns#\">\n   <cc:Work>\n    <dc:type rdf:resource=\"http://purl.org/dc/dcmitype/StillImage\"/>\n    <dc:date>2022-03-30T07:54:47.974041</dc:date>\n    <dc:format>image/svg+xml</dc:format>\n    <dc:creator>\n     <cc:Agent>\n      <dc:title>Matplotlib v3.5.1, https://matplotlib.org/</dc:title>\n     </cc:Agent>\n    </dc:creator>\n   </cc:Work>\n  </rdf:RDF>\n </metadata>\n <defs>\n  <style type=\"text/css\">*{stroke-linejoin: round; stroke-linecap: butt}</style>\n </defs>\n <g id=\"figure_1\">\n  <g id=\"patch_1\">\n   <path d=\"M 0 329.525312 \nL 490.04375 329.525312 \nL 490.04375 0 \nL 0 0 \nz\n\" style=\"fill: #ffffff\"/>\n  </g>\n  <g id=\"axes_1\">\n   <g id=\"patch_2\">\n    <path d=\"M 36.44375 306.18 \nL 482.84375 306.18 \nL 482.84375 7.2 \nL 36.44375 7.2 \nz\n\" style=\"fill: #eaeaf2\"/>\n   </g>\n   <g id=\"matplotlib.axis_1\">\n    <g id=\"xtick_1\">\n     <g id=\"line2d_1\">\n      <path d=\"M 53.585958 306.18 \nL 53.585958 7.2 \n\" clip-path=\"url(#pfb968a3dac)\" style=\"fill: none; stroke: #ffffff; stroke-linecap: round\"/>\n     </g>\n     <g id=\"line2d_2\"/>\n     <g id=\"text_1\">\n      <!-- 0 -->\n      <g style=\"fill: #262626\" transform=\"translate(50.805489 320.337812)scale(0.1 -0.1)\">\n       <defs>\n        <path id=\"ArialMT-30\" d=\"M 266 2259 \nQ 266 3072 433 3567 \nQ 600 4063 929 4331 \nQ 1259 4600 1759 4600 \nQ 2128 4600 2406 4451 \nQ 2684 4303 2865 4023 \nQ 3047 3744 3150 3342 \nQ 3253 2941 3253 2259 \nQ 3253 1453 3087 958 \nQ 2922 463 2592 192 \nQ 2263 -78 1759 -78 \nQ 1097 -78 719 397 \nQ 266 969 266 2259 \nz\nM 844 2259 \nQ 844 1131 1108 757 \nQ 1372 384 1759 384 \nQ 2147 384 2411 759 \nQ 2675 1134 2675 2259 \nQ 2675 3391 2411 3762 \nQ 2147 4134 1753 4134 \nQ 1366 4134 1134 3806 \nQ 844 3388 844 2259 \nz\n\" transform=\"scale(0.015625)\"/>\n       </defs>\n       <use xlink:href=\"#ArialMT-30\"/>\n      </g>\n     </g>\n    </g>\n    <g id=\"xtick_2\">\n     <g id=\"line2d_3\">\n      <path d=\"M 135.754226 306.18 \nL 135.754226 7.2 \n\" clip-path=\"url(#pfb968a3dac)\" style=\"fill: none; stroke: #ffffff; stroke-linecap: round\"/>\n     </g>\n     <g id=\"line2d_4\"/>\n     <g id=\"text_2\">\n      <!-- 200 -->\n      <g style=\"fill: #262626\" transform=\"translate(127.412819 320.337812)scale(0.1 -0.1)\">\n       <defs>\n        <path id=\"ArialMT-32\" d=\"M 3222 541 \nL 3222 0 \nL 194 0 \nQ 188 203 259 391 \nQ 375 700 629 1000 \nQ 884 1300 1366 1694 \nQ 2113 2306 2375 2664 \nQ 2638 3022 2638 3341 \nQ 2638 3675 2398 3904 \nQ 2159 4134 1775 4134 \nQ 1369 4134 1125 3890 \nQ 881 3647 878 3216 \nL 300 3275 \nQ 359 3922 746 4261 \nQ 1134 4600 1788 4600 \nQ 2447 4600 2831 4234 \nQ 3216 3869 3216 3328 \nQ 3216 3053 3103 2787 \nQ 2991 2522 2730 2228 \nQ 2469 1934 1863 1422 \nQ 1356 997 1212 845 \nQ 1069 694 975 541 \nL 3222 541 \nz\n\" transform=\"scale(0.015625)\"/>\n       </defs>\n       <use xlink:href=\"#ArialMT-32\"/>\n       <use xlink:href=\"#ArialMT-30\" x=\"55.615234\"/>\n       <use xlink:href=\"#ArialMT-30\" x=\"111.230469\"/>\n      </g>\n     </g>\n    </g>\n    <g id=\"xtick_3\">\n     <g id=\"line2d_5\">\n      <path d=\"M 217.922494 306.18 \nL 217.922494 7.2 \n\" clip-path=\"url(#pfb968a3dac)\" style=\"fill: none; stroke: #ffffff; stroke-linecap: round\"/>\n     </g>\n     <g id=\"line2d_6\"/>\n     <g id=\"text_3\">\n      <!-- 400 -->\n      <g style=\"fill: #262626\" transform=\"translate(209.581087 320.337812)scale(0.1 -0.1)\">\n       <defs>\n        <path id=\"ArialMT-34\" d=\"M 2069 0 \nL 2069 1097 \nL 81 1097 \nL 81 1613 \nL 2172 4581 \nL 2631 4581 \nL 2631 1613 \nL 3250 1613 \nL 3250 1097 \nL 2631 1097 \nL 2631 0 \nL 2069 0 \nz\nM 2069 1613 \nL 2069 3678 \nL 634 1613 \nL 2069 1613 \nz\n\" transform=\"scale(0.015625)\"/>\n       </defs>\n       <use xlink:href=\"#ArialMT-34\"/>\n       <use xlink:href=\"#ArialMT-30\" x=\"55.615234\"/>\n       <use xlink:href=\"#ArialMT-30\" x=\"111.230469\"/>\n      </g>\n     </g>\n    </g>\n    <g id=\"xtick_4\">\n     <g id=\"line2d_7\">\n      <path d=\"M 300.090762 306.18 \nL 300.090762 7.2 \n\" clip-path=\"url(#pfb968a3dac)\" style=\"fill: none; stroke: #ffffff; stroke-linecap: round\"/>\n     </g>\n     <g id=\"line2d_8\"/>\n     <g id=\"text_4\">\n      <!-- 600 -->\n      <g style=\"fill: #262626\" transform=\"translate(291.749356 320.337812)scale(0.1 -0.1)\">\n       <defs>\n        <path id=\"ArialMT-36\" d=\"M 3184 3459 \nL 2625 3416 \nQ 2550 3747 2413 3897 \nQ 2184 4138 1850 4138 \nQ 1581 4138 1378 3988 \nQ 1113 3794 959 3422 \nQ 806 3050 800 2363 \nQ 1003 2672 1297 2822 \nQ 1591 2972 1913 2972 \nQ 2475 2972 2870 2558 \nQ 3266 2144 3266 1488 \nQ 3266 1056 3080 686 \nQ 2894 316 2569 119 \nQ 2244 -78 1831 -78 \nQ 1128 -78 684 439 \nQ 241 956 241 2144 \nQ 241 3472 731 4075 \nQ 1159 4600 1884 4600 \nQ 2425 4600 2770 4297 \nQ 3116 3994 3184 3459 \nz\nM 888 1484 \nQ 888 1194 1011 928 \nQ 1134 663 1356 523 \nQ 1578 384 1822 384 \nQ 2178 384 2434 671 \nQ 2691 959 2691 1453 \nQ 2691 1928 2437 2201 \nQ 2184 2475 1800 2475 \nQ 1419 2475 1153 2201 \nQ 888 1928 888 1484 \nz\n\" transform=\"scale(0.015625)\"/>\n       </defs>\n       <use xlink:href=\"#ArialMT-36\"/>\n       <use xlink:href=\"#ArialMT-30\" x=\"55.615234\"/>\n       <use xlink:href=\"#ArialMT-30\" x=\"111.230469\"/>\n      </g>\n     </g>\n    </g>\n    <g id=\"xtick_5\">\n     <g id=\"line2d_9\">\n      <path d=\"M 382.25903 306.18 \nL 382.25903 7.2 \n\" clip-path=\"url(#pfb968a3dac)\" style=\"fill: none; stroke: #ffffff; stroke-linecap: round\"/>\n     </g>\n     <g id=\"line2d_10\"/>\n     <g id=\"text_5\">\n      <!-- 800 -->\n      <g style=\"fill: #262626\" transform=\"translate(373.917624 320.337812)scale(0.1 -0.1)\">\n       <defs>\n        <path id=\"ArialMT-38\" d=\"M 1131 2484 \nQ 781 2613 612 2850 \nQ 444 3088 444 3419 \nQ 444 3919 803 4259 \nQ 1163 4600 1759 4600 \nQ 2359 4600 2725 4251 \nQ 3091 3903 3091 3403 \nQ 3091 3084 2923 2848 \nQ 2756 2613 2416 2484 \nQ 2838 2347 3058 2040 \nQ 3278 1734 3278 1309 \nQ 3278 722 2862 322 \nQ 2447 -78 1769 -78 \nQ 1091 -78 675 323 \nQ 259 725 259 1325 \nQ 259 1772 486 2073 \nQ 713 2375 1131 2484 \nz\nM 1019 3438 \nQ 1019 3113 1228 2906 \nQ 1438 2700 1772 2700 \nQ 2097 2700 2305 2904 \nQ 2513 3109 2513 3406 \nQ 2513 3716 2298 3927 \nQ 2084 4138 1766 4138 \nQ 1444 4138 1231 3931 \nQ 1019 3725 1019 3438 \nz\nM 838 1322 \nQ 838 1081 952 856 \nQ 1066 631 1291 507 \nQ 1516 384 1775 384 \nQ 2178 384 2440 643 \nQ 2703 903 2703 1303 \nQ 2703 1709 2433 1975 \nQ 2163 2241 1756 2241 \nQ 1359 2241 1098 1978 \nQ 838 1716 838 1322 \nz\n\" transform=\"scale(0.015625)\"/>\n       </defs>\n       <use xlink:href=\"#ArialMT-38\"/>\n       <use xlink:href=\"#ArialMT-30\" x=\"55.615234\"/>\n       <use xlink:href=\"#ArialMT-30\" x=\"111.230469\"/>\n      </g>\n     </g>\n    </g>\n    <g id=\"xtick_6\">\n     <g id=\"line2d_11\">\n      <path d=\"M 464.427298 306.18 \nL 464.427298 7.2 \n\" clip-path=\"url(#pfb968a3dac)\" style=\"fill: none; stroke: #ffffff; stroke-linecap: round\"/>\n     </g>\n     <g id=\"line2d_12\"/>\n     <g id=\"text_6\">\n      <!-- 1000 -->\n      <g style=\"fill: #262626\" transform=\"translate(453.305423 320.337812)scale(0.1 -0.1)\">\n       <defs>\n        <path id=\"ArialMT-31\" d=\"M 2384 0 \nL 1822 0 \nL 1822 3584 \nQ 1619 3391 1289 3197 \nQ 959 3003 697 2906 \nL 697 3450 \nQ 1169 3672 1522 3987 \nQ 1875 4303 2022 4600 \nL 2384 4600 \nL 2384 0 \nz\n\" transform=\"scale(0.015625)\"/>\n       </defs>\n       <use xlink:href=\"#ArialMT-31\"/>\n       <use xlink:href=\"#ArialMT-30\" x=\"55.615234\"/>\n       <use xlink:href=\"#ArialMT-30\" x=\"111.230469\"/>\n       <use xlink:href=\"#ArialMT-30\" x=\"166.845703\"/>\n      </g>\n     </g>\n    </g>\n   </g>\n   <g id=\"matplotlib.axis_2\">\n    <g id=\"ytick_1\">\n     <g id=\"line2d_13\">\n      <path d=\"M 36.44375 294.105709 \nL 482.84375 294.105709 \n\" clip-path=\"url(#pfb968a3dac)\" style=\"fill: none; stroke: #ffffff; stroke-linecap: round\"/>\n     </g>\n     <g id=\"line2d_14\"/>\n     <g id=\"text_7\">\n      <!-- 0 -->\n      <g style=\"fill: #262626\" transform=\"translate(23.882813 297.684615)scale(0.1 -0.1)\">\n       <use xlink:href=\"#ArialMT-30\"/>\n      </g>\n     </g>\n    </g>\n    <g id=\"ytick_2\">\n     <g id=\"line2d_15\">\n      <path d=\"M 36.44375 239.047072 \nL 482.84375 239.047072 \n\" clip-path=\"url(#pfb968a3dac)\" style=\"fill: none; stroke: #ffffff; stroke-linecap: round\"/>\n     </g>\n     <g id=\"line2d_16\"/>\n     <g id=\"text_8\">\n      <!-- 200 -->\n      <g style=\"fill: #262626\" transform=\"translate(12.760938 242.625978)scale(0.1 -0.1)\">\n       <use xlink:href=\"#ArialMT-32\"/>\n       <use xlink:href=\"#ArialMT-30\" x=\"55.615234\"/>\n       <use xlink:href=\"#ArialMT-30\" x=\"111.230469\"/>\n      </g>\n     </g>\n    </g>\n    <g id=\"ytick_3\">\n     <g id=\"line2d_17\">\n      <path d=\"M 36.44375 183.988435 \nL 482.84375 183.988435 \n\" clip-path=\"url(#pfb968a3dac)\" style=\"fill: none; stroke: #ffffff; stroke-linecap: round\"/>\n     </g>\n     <g id=\"line2d_18\"/>\n     <g id=\"text_9\">\n      <!-- 400 -->\n      <g style=\"fill: #262626\" transform=\"translate(12.760938 187.567342)scale(0.1 -0.1)\">\n       <use xlink:href=\"#ArialMT-34\"/>\n       <use xlink:href=\"#ArialMT-30\" x=\"55.615234\"/>\n       <use xlink:href=\"#ArialMT-30\" x=\"111.230469\"/>\n      </g>\n     </g>\n    </g>\n    <g id=\"ytick_4\">\n     <g id=\"line2d_19\">\n      <path d=\"M 36.44375 128.929798 \nL 482.84375 128.929798 \n\" clip-path=\"url(#pfb968a3dac)\" style=\"fill: none; stroke: #ffffff; stroke-linecap: round\"/>\n     </g>\n     <g id=\"line2d_20\"/>\n     <g id=\"text_10\">\n      <!-- 600 -->\n      <g style=\"fill: #262626\" transform=\"translate(12.760938 132.508705)scale(0.1 -0.1)\">\n       <use xlink:href=\"#ArialMT-36\"/>\n       <use xlink:href=\"#ArialMT-30\" x=\"55.615234\"/>\n       <use xlink:href=\"#ArialMT-30\" x=\"111.230469\"/>\n      </g>\n     </g>\n    </g>\n    <g id=\"ytick_5\">\n     <g id=\"line2d_21\">\n      <path d=\"M 36.44375 73.871162 \nL 482.84375 73.871162 \n\" clip-path=\"url(#pfb968a3dac)\" style=\"fill: none; stroke: #ffffff; stroke-linecap: round\"/>\n     </g>\n     <g id=\"line2d_22\"/>\n     <g id=\"text_11\">\n      <!-- 800 -->\n      <g style=\"fill: #262626\" transform=\"translate(12.760938 77.450068)scale(0.1 -0.1)\">\n       <use xlink:href=\"#ArialMT-38\"/>\n       <use xlink:href=\"#ArialMT-30\" x=\"55.615234\"/>\n       <use xlink:href=\"#ArialMT-30\" x=\"111.230469\"/>\n      </g>\n     </g>\n    </g>\n    <g id=\"ytick_6\">\n     <g id=\"line2d_23\">\n      <path d=\"M 36.44375 18.812525 \nL 482.84375 18.812525 \n\" clip-path=\"url(#pfb968a3dac)\" style=\"fill: none; stroke: #ffffff; stroke-linecap: round\"/>\n     </g>\n     <g id=\"line2d_24\"/>\n     <g id=\"text_12\">\n      <!-- 1000 -->\n      <g style=\"fill: #262626\" transform=\"translate(7.2 22.391431)scale(0.1 -0.1)\">\n       <use xlink:href=\"#ArialMT-31\"/>\n       <use xlink:href=\"#ArialMT-30\" x=\"55.615234\"/>\n       <use xlink:href=\"#ArialMT-30\" x=\"111.230469\"/>\n       <use xlink:href=\"#ArialMT-30\" x=\"166.845703\"/>\n      </g>\n     </g>\n    </g>\n   </g>\n   <g id=\"line2d_25\">\n    <path d=\"M 261.580984 119.541191 \nL 275.766389 98.580707 \nL 321.546647 32.430989 \nL 300.880987 48.40013 \nL 342.10289 20.79 \nL 394.291258 52.128809 \nL 300.358247 89.399372 \nL 297.305903 48.460913 \nL 222.450407 44.246586 \nL 209.870229 25.199236 \nL 270.263525 96.07256 \nL 393.864991 201.825218 \nL 354.114956 242.512478 \nL 308.689082 197.099288 \nL 288.607189 152.971778 \nL 232.135945 81.061914 \nL 180.68906 67.321831 \nL 178.459704 114.294445 \nL 151.986637 75.363725 \nL 192.803921 73.159342 \nL 368.317037 77.051529 \nL 317.708423 103.010787 \nL 105.460733 107.958635 \nL 134.151005 125.962118 \nL 58.765648 140.008784 \nL 99.074555 177.781007 \nL 82.727844 224.073441 \nL 68.672611 264.366955 \nL 72.340349 255.558029 \nL 100.805184 268.267438 \nL 152.965942 290.690962 \nL 264.205724 210.055761 \nL 246.175217 211.169436 \nL 406.228203 213.660022 \nL 430.769759 217.013341 \nL 397.477055 217.222905 \nL 312.953199 131.215513 \nL 403.73119 110.263631 \nL 445.964298 68.035419 \nL 455.842743 119.5307 \nL 395.148567 129.211008 \nL 326.789247 222.450511 \nL 299.415948 212.278166 \nL 342.256959 228.741893 \nL 405.1582 231.564725 \nL 419.340769 272.245617 \nL 384.274937 289.148627 \nL 307.102392 262.766775 \nL 283.838138 263.551065 \nL 275.727244 267.530427 \nL 264.086179 265.413331 \nL 202.250167 164.031509 \nL 195.417896 154.418661 \nL 200.584277 158.052391 \nL 237.254856 167.372215 \nL 215.694121 177.979287 \nL 176.805127 89.509687 \nL 99.838636 100.385756 \nL 70.851432 90.415148 \nL 73.365025 45.544871 \nL 167.312719 26.649381 \nL 189.717006 161.403091 \nL 196.534674 170.127154 \nL 182.733979 164.396398 \nL 187.152127 105.16451 \nL 124.974403 98.093102 \nL 121.767089 51.317008 \nL 169.246504 53.842525 \nL 174.163299 37.600261 \nL 178.790306 65.779011 \nL 439.080367 54.269053 \nL 449.148255 94.058138 \nL 462.552841 58.538407 \nL 406.160568 68.623106 \nL 427.767991 86.545136 \nL 426.29918 109.457675 \nL 412.752711 158.235699 \nL 392.931954 266.400897 \nL 265.815349 292.59 \nL 267.817403 276.5858 \nL 229.216394 249.443958 \nL 152.13616 255.021788 \nL 168.902226 237.122063 \nL 211.559107 159.854289 \nL 235.744797 126.978086 \nL 67.829936 133.66296 \nL 82.19742 245.962041 \nL 107.607124 218.473993 \nL 230.423332 206.852474 \nL 288.493677 151.656255 \nL 391.148362 167.67313 \nL 399.287398 164.363564 \nL 408.78443 143.61718 \nL 427.298259 109.879438 \nL 346.940086 126.753547 \nL 361.234774 114.849217 \nL 216.696149 270.129664 \nL 140.949058 284.968906 \nL 129.727257 272.366037 \nL 56.734659 233.797559 \n\" clip-path=\"url(#pfb968a3dac)\" style=\"fill: none; stroke: #87ceeb; stroke-width: 1.75; stroke-linecap: round\"/>\n    <defs>\n     <path id=\"me5b3014a23\" d=\"M 0 3.5 \nC 0.928211 3.5 1.81853 3.131218 2.474874 2.474874 \nC 3.131218 1.81853 3.5 0.928211 3.5 0 \nC 3.5 -0.928211 3.131218 -1.81853 2.474874 -2.474874 \nC 1.81853 -3.131218 0.928211 -3.5 0 -3.5 \nC -0.928211 -3.5 -1.81853 -3.131218 -2.474874 -2.474874 \nC -3.131218 -1.81853 -3.5 -0.928211 -3.5 0 \nC -3.5 0.928211 -3.131218 1.81853 -2.474874 2.474874 \nC -1.81853 3.131218 -0.928211 3.5 0 3.5 \nz\n\"/>\n    </defs>\n    <g clip-path=\"url(#pfb968a3dac)\">\n     <use xlink:href=\"#me5b3014a23\" x=\"261.580984\" y=\"119.541191\" style=\"fill: #87ceeb\"/>\n     <use xlink:href=\"#me5b3014a23\" x=\"275.766389\" y=\"98.580707\" style=\"fill: #87ceeb\"/>\n     <use xlink:href=\"#me5b3014a23\" x=\"321.546647\" y=\"32.430989\" style=\"fill: #87ceeb\"/>\n     <use xlink:href=\"#me5b3014a23\" x=\"300.880987\" y=\"48.40013\" style=\"fill: #87ceeb\"/>\n     <use xlink:href=\"#me5b3014a23\" x=\"342.10289\" y=\"20.79\" style=\"fill: #87ceeb\"/>\n     <use xlink:href=\"#me5b3014a23\" x=\"394.291258\" y=\"52.128809\" style=\"fill: #87ceeb\"/>\n     <use xlink:href=\"#me5b3014a23\" x=\"300.358247\" y=\"89.399372\" style=\"fill: #87ceeb\"/>\n     <use xlink:href=\"#me5b3014a23\" x=\"297.305903\" y=\"48.460913\" style=\"fill: #87ceeb\"/>\n     <use xlink:href=\"#me5b3014a23\" x=\"222.450407\" y=\"44.246586\" style=\"fill: #87ceeb\"/>\n     <use xlink:href=\"#me5b3014a23\" x=\"209.870229\" y=\"25.199236\" style=\"fill: #87ceeb\"/>\n     <use xlink:href=\"#me5b3014a23\" x=\"270.263525\" y=\"96.07256\" style=\"fill: #87ceeb\"/>\n     <use xlink:href=\"#me5b3014a23\" x=\"393.864991\" y=\"201.825218\" style=\"fill: #87ceeb\"/>\n     <use xlink:href=\"#me5b3014a23\" x=\"354.114956\" y=\"242.512478\" style=\"fill: #87ceeb\"/>\n     <use xlink:href=\"#me5b3014a23\" x=\"308.689082\" y=\"197.099288\" style=\"fill: #87ceeb\"/>\n     <use xlink:href=\"#me5b3014a23\" x=\"288.607189\" y=\"152.971778\" style=\"fill: #87ceeb\"/>\n     <use xlink:href=\"#me5b3014a23\" x=\"232.135945\" y=\"81.061914\" style=\"fill: #87ceeb\"/>\n     <use xlink:href=\"#me5b3014a23\" x=\"180.68906\" y=\"67.321831\" style=\"fill: #87ceeb\"/>\n     <use xlink:href=\"#me5b3014a23\" x=\"178.459704\" y=\"114.294445\" style=\"fill: #87ceeb\"/>\n     <use xlink:href=\"#me5b3014a23\" x=\"151.986637\" y=\"75.363725\" style=\"fill: #87ceeb\"/>\n     <use xlink:href=\"#me5b3014a23\" x=\"192.803921\" y=\"73.159342\" style=\"fill: #87ceeb\"/>\n     <use xlink:href=\"#me5b3014a23\" x=\"368.317037\" y=\"77.051529\" style=\"fill: #87ceeb\"/>\n     <use xlink:href=\"#me5b3014a23\" x=\"317.708423\" y=\"103.010787\" style=\"fill: #87ceeb\"/>\n     <use xlink:href=\"#me5b3014a23\" x=\"105.460733\" y=\"107.958635\" style=\"fill: #87ceeb\"/>\n     <use xlink:href=\"#me5b3014a23\" x=\"134.151005\" y=\"125.962118\" style=\"fill: #87ceeb\"/>\n     <use xlink:href=\"#me5b3014a23\" x=\"58.765648\" y=\"140.008784\" style=\"fill: #87ceeb\"/>\n     <use xlink:href=\"#me5b3014a23\" x=\"99.074555\" y=\"177.781007\" style=\"fill: #87ceeb\"/>\n     <use xlink:href=\"#me5b3014a23\" x=\"82.727844\" y=\"224.073441\" style=\"fill: #87ceeb\"/>\n     <use xlink:href=\"#me5b3014a23\" x=\"68.672611\" y=\"264.366955\" style=\"fill: #87ceeb\"/>\n     <use xlink:href=\"#me5b3014a23\" x=\"72.340349\" y=\"255.558029\" style=\"fill: #87ceeb\"/>\n     <use xlink:href=\"#me5b3014a23\" x=\"100.805184\" y=\"268.267438\" style=\"fill: #87ceeb\"/>\n     <use xlink:href=\"#me5b3014a23\" x=\"152.965942\" y=\"290.690962\" style=\"fill: #87ceeb\"/>\n     <use xlink:href=\"#me5b3014a23\" x=\"264.205724\" y=\"210.055761\" style=\"fill: #87ceeb\"/>\n     <use xlink:href=\"#me5b3014a23\" x=\"246.175217\" y=\"211.169436\" style=\"fill: #87ceeb\"/>\n     <use xlink:href=\"#me5b3014a23\" x=\"406.228203\" y=\"213.660022\" style=\"fill: #87ceeb\"/>\n     <use xlink:href=\"#me5b3014a23\" x=\"430.769759\" y=\"217.013341\" style=\"fill: #87ceeb\"/>\n     <use xlink:href=\"#me5b3014a23\" x=\"397.477055\" y=\"217.222905\" style=\"fill: #87ceeb\"/>\n     <use xlink:href=\"#me5b3014a23\" x=\"312.953199\" y=\"131.215513\" style=\"fill: #87ceeb\"/>\n     <use xlink:href=\"#me5b3014a23\" x=\"403.73119\" y=\"110.263631\" style=\"fill: #87ceeb\"/>\n     <use xlink:href=\"#me5b3014a23\" x=\"445.964298\" y=\"68.035419\" style=\"fill: #87ceeb\"/>\n     <use xlink:href=\"#me5b3014a23\" x=\"455.842743\" y=\"119.5307\" style=\"fill: #87ceeb\"/>\n     <use xlink:href=\"#me5b3014a23\" x=\"395.148567\" y=\"129.211008\" style=\"fill: #87ceeb\"/>\n     <use xlink:href=\"#me5b3014a23\" x=\"326.789247\" y=\"222.450511\" style=\"fill: #87ceeb\"/>\n     <use xlink:href=\"#me5b3014a23\" x=\"299.415948\" y=\"212.278166\" style=\"fill: #87ceeb\"/>\n     <use xlink:href=\"#me5b3014a23\" x=\"342.256959\" y=\"228.741893\" style=\"fill: #87ceeb\"/>\n     <use xlink:href=\"#me5b3014a23\" x=\"405.1582\" y=\"231.564725\" style=\"fill: #87ceeb\"/>\n     <use xlink:href=\"#me5b3014a23\" x=\"419.340769\" y=\"272.245617\" style=\"fill: #87ceeb\"/>\n     <use xlink:href=\"#me5b3014a23\" x=\"384.274937\" y=\"289.148627\" style=\"fill: #87ceeb\"/>\n     <use xlink:href=\"#me5b3014a23\" x=\"307.102392\" y=\"262.766775\" style=\"fill: #87ceeb\"/>\n     <use xlink:href=\"#me5b3014a23\" x=\"283.838138\" y=\"263.551065\" style=\"fill: #87ceeb\"/>\n     <use xlink:href=\"#me5b3014a23\" x=\"275.727244\" y=\"267.530427\" style=\"fill: #87ceeb\"/>\n     <use xlink:href=\"#me5b3014a23\" x=\"264.086179\" y=\"265.413331\" style=\"fill: #87ceeb\"/>\n     <use xlink:href=\"#me5b3014a23\" x=\"202.250167\" y=\"164.031509\" style=\"fill: #87ceeb\"/>\n     <use xlink:href=\"#me5b3014a23\" x=\"195.417896\" y=\"154.418661\" style=\"fill: #87ceeb\"/>\n     <use xlink:href=\"#me5b3014a23\" x=\"200.584277\" y=\"158.052391\" style=\"fill: #87ceeb\"/>\n     <use xlink:href=\"#me5b3014a23\" x=\"237.254856\" y=\"167.372215\" style=\"fill: #87ceeb\"/>\n     <use xlink:href=\"#me5b3014a23\" x=\"215.694121\" y=\"177.979287\" style=\"fill: #87ceeb\"/>\n     <use xlink:href=\"#me5b3014a23\" x=\"176.805127\" y=\"89.509687\" style=\"fill: #87ceeb\"/>\n     <use xlink:href=\"#me5b3014a23\" x=\"99.838636\" y=\"100.385756\" style=\"fill: #87ceeb\"/>\n     <use xlink:href=\"#me5b3014a23\" x=\"70.851432\" y=\"90.415148\" style=\"fill: #87ceeb\"/>\n     <use xlink:href=\"#me5b3014a23\" x=\"73.365025\" y=\"45.544871\" style=\"fill: #87ceeb\"/>\n     <use xlink:href=\"#me5b3014a23\" x=\"167.312719\" y=\"26.649381\" style=\"fill: #87ceeb\"/>\n     <use xlink:href=\"#me5b3014a23\" x=\"189.717006\" y=\"161.403091\" style=\"fill: #87ceeb\"/>\n     <use xlink:href=\"#me5b3014a23\" x=\"196.534674\" y=\"170.127154\" style=\"fill: #87ceeb\"/>\n     <use xlink:href=\"#me5b3014a23\" x=\"182.733979\" y=\"164.396398\" style=\"fill: #87ceeb\"/>\n     <use xlink:href=\"#me5b3014a23\" x=\"187.152127\" y=\"105.16451\" style=\"fill: #87ceeb\"/>\n     <use xlink:href=\"#me5b3014a23\" x=\"124.974403\" y=\"98.093102\" style=\"fill: #87ceeb\"/>\n     <use xlink:href=\"#me5b3014a23\" x=\"121.767089\" y=\"51.317008\" style=\"fill: #87ceeb\"/>\n     <use xlink:href=\"#me5b3014a23\" x=\"169.246504\" y=\"53.842525\" style=\"fill: #87ceeb\"/>\n     <use xlink:href=\"#me5b3014a23\" x=\"174.163299\" y=\"37.600261\" style=\"fill: #87ceeb\"/>\n     <use xlink:href=\"#me5b3014a23\" x=\"178.790306\" y=\"65.779011\" style=\"fill: #87ceeb\"/>\n     <use xlink:href=\"#me5b3014a23\" x=\"439.080367\" y=\"54.269053\" style=\"fill: #87ceeb\"/>\n     <use xlink:href=\"#me5b3014a23\" x=\"449.148255\" y=\"94.058138\" style=\"fill: #87ceeb\"/>\n     <use xlink:href=\"#me5b3014a23\" x=\"462.552841\" y=\"58.538407\" style=\"fill: #87ceeb\"/>\n     <use xlink:href=\"#me5b3014a23\" x=\"406.160568\" y=\"68.623106\" style=\"fill: #87ceeb\"/>\n     <use xlink:href=\"#me5b3014a23\" x=\"427.767991\" y=\"86.545136\" style=\"fill: #87ceeb\"/>\n     <use xlink:href=\"#me5b3014a23\" x=\"426.29918\" y=\"109.457675\" style=\"fill: #87ceeb\"/>\n     <use xlink:href=\"#me5b3014a23\" x=\"412.752711\" y=\"158.235699\" style=\"fill: #87ceeb\"/>\n     <use xlink:href=\"#me5b3014a23\" x=\"392.931954\" y=\"266.400897\" style=\"fill: #87ceeb\"/>\n     <use xlink:href=\"#me5b3014a23\" x=\"265.815349\" y=\"292.59\" style=\"fill: #87ceeb\"/>\n     <use xlink:href=\"#me5b3014a23\" x=\"267.817403\" y=\"276.5858\" style=\"fill: #87ceeb\"/>\n     <use xlink:href=\"#me5b3014a23\" x=\"229.216394\" y=\"249.443958\" style=\"fill: #87ceeb\"/>\n     <use xlink:href=\"#me5b3014a23\" x=\"152.13616\" y=\"255.021788\" style=\"fill: #87ceeb\"/>\n     <use xlink:href=\"#me5b3014a23\" x=\"168.902226\" y=\"237.122063\" style=\"fill: #87ceeb\"/>\n     <use xlink:href=\"#me5b3014a23\" x=\"211.559107\" y=\"159.854289\" style=\"fill: #87ceeb\"/>\n     <use xlink:href=\"#me5b3014a23\" x=\"235.744797\" y=\"126.978086\" style=\"fill: #87ceeb\"/>\n     <use xlink:href=\"#me5b3014a23\" x=\"67.829936\" y=\"133.66296\" style=\"fill: #87ceeb\"/>\n     <use xlink:href=\"#me5b3014a23\" x=\"82.19742\" y=\"245.962041\" style=\"fill: #87ceeb\"/>\n     <use xlink:href=\"#me5b3014a23\" x=\"107.607124\" y=\"218.473993\" style=\"fill: #87ceeb\"/>\n     <use xlink:href=\"#me5b3014a23\" x=\"230.423332\" y=\"206.852474\" style=\"fill: #87ceeb\"/>\n     <use xlink:href=\"#me5b3014a23\" x=\"288.493677\" y=\"151.656255\" style=\"fill: #87ceeb\"/>\n     <use xlink:href=\"#me5b3014a23\" x=\"391.148362\" y=\"167.67313\" style=\"fill: #87ceeb\"/>\n     <use xlink:href=\"#me5b3014a23\" x=\"399.287398\" y=\"164.363564\" style=\"fill: #87ceeb\"/>\n     <use xlink:href=\"#me5b3014a23\" x=\"408.78443\" y=\"143.61718\" style=\"fill: #87ceeb\"/>\n     <use xlink:href=\"#me5b3014a23\" x=\"427.298259\" y=\"109.879438\" style=\"fill: #87ceeb\"/>\n     <use xlink:href=\"#me5b3014a23\" x=\"346.940086\" y=\"126.753547\" style=\"fill: #87ceeb\"/>\n     <use xlink:href=\"#me5b3014a23\" x=\"361.234774\" y=\"114.849217\" style=\"fill: #87ceeb\"/>\n     <use xlink:href=\"#me5b3014a23\" x=\"216.696149\" y=\"270.129664\" style=\"fill: #87ceeb\"/>\n     <use xlink:href=\"#me5b3014a23\" x=\"140.949058\" y=\"284.968906\" style=\"fill: #87ceeb\"/>\n     <use xlink:href=\"#me5b3014a23\" x=\"129.727257\" y=\"272.366037\" style=\"fill: #87ceeb\"/>\n     <use xlink:href=\"#me5b3014a23\" x=\"56.734659\" y=\"233.797559\" style=\"fill: #87ceeb\"/>\n    </g>\n   </g>\n   <g id=\"patch_3\">\n    <path d=\"M 36.44375 306.18 \nL 36.44375 7.2 \n\" style=\"fill: none\"/>\n   </g>\n   <g id=\"patch_4\">\n    <path d=\"M 482.84375 306.18 \nL 482.84375 7.2 \n\" style=\"fill: none\"/>\n   </g>\n   <g id=\"patch_5\">\n    <path d=\"M 36.44375 306.18 \nL 482.84375 306.18 \n\" style=\"fill: none\"/>\n   </g>\n   <g id=\"patch_6\">\n    <path d=\"M 36.44375 7.2 \nL 482.84375 7.2 \n\" style=\"fill: none\"/>\n   </g>\n  </g>\n </g>\n <defs>\n  <clipPath id=\"pfb968a3dac\">\n   <rect x=\"36.44375\" y=\"7.2\" width=\"446.4\" height=\"298.98\"/>\n  </clipPath>\n </defs>\n</svg>\n",
      "text/plain": [
       "<Figure size 576x396 with 1 Axes>"
      ]
     },
     "metadata": {},
     "output_type": "display_data"
    }
   ],
   "source": [
    "print_path(best, city_coordinates)"
   ]
  },
  {
   "cell_type": "code",
   "execution_count": 32,
   "metadata": {},
   "outputs": [],
   "source": [
    "def mesta_za_sebou(n_mest, factor=0.2):\n",
    "    x = np.asarray(range(int(-n_mest / 2), int(n_mest / 2) + 1, 1))\n",
    "    y = np.sqrt(n_mest ** 2 / 4 - x ** 2)\n",
    "    return np.asarray(list(zip(x, y)))"
   ]
  },
  {
   "cell_type": "code",
   "execution_count": 33,
   "metadata": {},
   "outputs": [
    {
     "name": "stdout",
     "output_type": "stream",
     "text": [
      "Generation 0: 2964.489767366144\n",
      "Generation 500: 945.4172736946911\n",
      "Generation 1000: 578.9946789148103\n",
      "Generation 1500: 454.78082911700386\n",
      "Generation 2000: 345.30974966985843\n",
      "Generation 2500: 332.30083957826196\n",
      "Generation 3000: 315.26048781375886\n",
      "Generation 3500: 312.53650083474145\n",
      "Generation 4000: 311.14608772798493\n",
      "Generation 4500: 311.13946772717316\n",
      "Generation 5000: 310.1251699016666\n",
      "Generation 5500: 310.1251699016666\n"
     ]
    },
    {
     "data": {
      "image/svg+xml": "<?xml version=\"1.0\" encoding=\"utf-8\" standalone=\"no\"?>\n<!DOCTYPE svg PUBLIC \"-//W3C//DTD SVG 1.1//EN\"\n  \"http://www.w3.org/Graphics/SVG/1.1/DTD/svg11.dtd\">\n<svg xmlns:xlink=\"http://www.w3.org/1999/xlink\" width=\"490.04375pt\" height=\"329.525312pt\" viewBox=\"0 0 490.04375 329.525312\" xmlns=\"http://www.w3.org/2000/svg\" version=\"1.1\">\n <metadata>\n  <rdf:RDF xmlns:dc=\"http://purl.org/dc/elements/1.1/\" xmlns:cc=\"http://creativecommons.org/ns#\" xmlns:rdf=\"http://www.w3.org/1999/02/22-rdf-syntax-ns#\">\n   <cc:Work>\n    <dc:type rdf:resource=\"http://purl.org/dc/dcmitype/StillImage\"/>\n    <dc:date>2022-03-30T08:26:00.869045</dc:date>\n    <dc:format>image/svg+xml</dc:format>\n    <dc:creator>\n     <cc:Agent>\n      <dc:title>Matplotlib v3.5.1, https://matplotlib.org/</dc:title>\n     </cc:Agent>\n    </dc:creator>\n   </cc:Work>\n  </rdf:RDF>\n </metadata>\n <defs>\n  <style type=\"text/css\">*{stroke-linejoin: round; stroke-linecap: butt}</style>\n </defs>\n <g id=\"figure_1\">\n  <g id=\"patch_1\">\n   <path d=\"M 0 329.525312 \nL 490.04375 329.525312 \nL 490.04375 0 \nL 0 0 \nz\n\" style=\"fill: #ffffff\"/>\n  </g>\n  <g id=\"axes_1\">\n   <g id=\"patch_2\">\n    <path d=\"M 36.44375 306.18 \nL 482.84375 306.18 \nL 482.84375 7.2 \nL 36.44375 7.2 \nz\n\" style=\"fill: #eaeaf2\"/>\n   </g>\n   <g id=\"matplotlib.axis_1\">\n    <g id=\"xtick_1\">\n     <g id=\"line2d_1\">\n      <path d=\"M 56.734659 306.18 \nL 56.734659 7.2 \n\" clip-path=\"url(#pe852d0e4e3)\" style=\"fill: none; stroke: #ffffff; stroke-linecap: round\"/>\n     </g>\n     <g id=\"line2d_2\"/>\n     <g id=\"text_1\">\n      <!-- 0 -->\n      <g style=\"fill: #262626\" transform=\"translate(53.95419 320.337812)scale(0.1 -0.1)\">\n       <defs>\n        <path id=\"ArialMT-30\" d=\"M 266 2259 \nQ 266 3072 433 3567 \nQ 600 4063 929 4331 \nQ 1259 4600 1759 4600 \nQ 2128 4600 2406 4451 \nQ 2684 4303 2865 4023 \nQ 3047 3744 3150 3342 \nQ 3253 2941 3253 2259 \nQ 3253 1453 3087 958 \nQ 2922 463 2592 192 \nQ 2263 -78 1759 -78 \nQ 1097 -78 719 397 \nQ 266 969 266 2259 \nz\nM 844 2259 \nQ 844 1131 1108 757 \nQ 1372 384 1759 384 \nQ 2147 384 2411 759 \nQ 2675 1134 2675 2259 \nQ 2675 3391 2411 3762 \nQ 2147 4134 1753 4134 \nQ 1366 4134 1134 3806 \nQ 844 3388 844 2259 \nz\n\" transform=\"scale(0.015625)\"/>\n       </defs>\n       <use xlink:href=\"#ArialMT-30\"/>\n      </g>\n     </g>\n    </g>\n    <g id=\"xtick_2\">\n     <g id=\"line2d_3\">\n      <path d=\"M 124.382297 306.18 \nL 124.382297 7.2 \n\" clip-path=\"url(#pe852d0e4e3)\" style=\"fill: none; stroke: #ffffff; stroke-linecap: round\"/>\n     </g>\n     <g id=\"line2d_4\"/>\n     <g id=\"text_2\">\n      <!-- 1000 -->\n      <g style=\"fill: #262626\" transform=\"translate(113.260422 320.337812)scale(0.1 -0.1)\">\n       <defs>\n        <path id=\"ArialMT-31\" d=\"M 2384 0 \nL 1822 0 \nL 1822 3584 \nQ 1619 3391 1289 3197 \nQ 959 3003 697 2906 \nL 697 3450 \nQ 1169 3672 1522 3987 \nQ 1875 4303 2022 4600 \nL 2384 4600 \nL 2384 0 \nz\n\" transform=\"scale(0.015625)\"/>\n       </defs>\n       <use xlink:href=\"#ArialMT-31\"/>\n       <use xlink:href=\"#ArialMT-30\" x=\"55.615234\"/>\n       <use xlink:href=\"#ArialMT-30\" x=\"111.230469\"/>\n       <use xlink:href=\"#ArialMT-30\" x=\"166.845703\"/>\n      </g>\n     </g>\n    </g>\n    <g id=\"xtick_3\">\n     <g id=\"line2d_5\">\n      <path d=\"M 192.029936 306.18 \nL 192.029936 7.2 \n\" clip-path=\"url(#pe852d0e4e3)\" style=\"fill: none; stroke: #ffffff; stroke-linecap: round\"/>\n     </g>\n     <g id=\"line2d_6\"/>\n     <g id=\"text_3\">\n      <!-- 2000 -->\n      <g style=\"fill: #262626\" transform=\"translate(180.908061 320.337812)scale(0.1 -0.1)\">\n       <defs>\n        <path id=\"ArialMT-32\" d=\"M 3222 541 \nL 3222 0 \nL 194 0 \nQ 188 203 259 391 \nQ 375 700 629 1000 \nQ 884 1300 1366 1694 \nQ 2113 2306 2375 2664 \nQ 2638 3022 2638 3341 \nQ 2638 3675 2398 3904 \nQ 2159 4134 1775 4134 \nQ 1369 4134 1125 3890 \nQ 881 3647 878 3216 \nL 300 3275 \nQ 359 3922 746 4261 \nQ 1134 4600 1788 4600 \nQ 2447 4600 2831 4234 \nQ 3216 3869 3216 3328 \nQ 3216 3053 3103 2787 \nQ 2991 2522 2730 2228 \nQ 2469 1934 1863 1422 \nQ 1356 997 1212 845 \nQ 1069 694 975 541 \nL 3222 541 \nz\n\" transform=\"scale(0.015625)\"/>\n       </defs>\n       <use xlink:href=\"#ArialMT-32\"/>\n       <use xlink:href=\"#ArialMT-30\" x=\"55.615234\"/>\n       <use xlink:href=\"#ArialMT-30\" x=\"111.230469\"/>\n       <use xlink:href=\"#ArialMT-30\" x=\"166.845703\"/>\n      </g>\n     </g>\n    </g>\n    <g id=\"xtick_4\">\n     <g id=\"line2d_7\">\n      <path d=\"M 259.677574 306.18 \nL 259.677574 7.2 \n\" clip-path=\"url(#pe852d0e4e3)\" style=\"fill: none; stroke: #ffffff; stroke-linecap: round\"/>\n     </g>\n     <g id=\"line2d_8\"/>\n     <g id=\"text_4\">\n      <!-- 3000 -->\n      <g style=\"fill: #262626\" transform=\"translate(248.555699 320.337812)scale(0.1 -0.1)\">\n       <defs>\n        <path id=\"ArialMT-33\" d=\"M 269 1209 \nL 831 1284 \nQ 928 806 1161 595 \nQ 1394 384 1728 384 \nQ 2125 384 2398 659 \nQ 2672 934 2672 1341 \nQ 2672 1728 2419 1979 \nQ 2166 2231 1775 2231 \nQ 1616 2231 1378 2169 \nL 1441 2663 \nQ 1497 2656 1531 2656 \nQ 1891 2656 2178 2843 \nQ 2466 3031 2466 3422 \nQ 2466 3731 2256 3934 \nQ 2047 4138 1716 4138 \nQ 1388 4138 1169 3931 \nQ 950 3725 888 3313 \nL 325 3413 \nQ 428 3978 793 4289 \nQ 1159 4600 1703 4600 \nQ 2078 4600 2393 4439 \nQ 2709 4278 2876 4000 \nQ 3044 3722 3044 3409 \nQ 3044 3113 2884 2869 \nQ 2725 2625 2413 2481 \nQ 2819 2388 3044 2092 \nQ 3269 1797 3269 1353 \nQ 3269 753 2831 336 \nQ 2394 -81 1725 -81 \nQ 1122 -81 723 278 \nQ 325 638 269 1209 \nz\n\" transform=\"scale(0.015625)\"/>\n       </defs>\n       <use xlink:href=\"#ArialMT-33\"/>\n       <use xlink:href=\"#ArialMT-30\" x=\"55.615234\"/>\n       <use xlink:href=\"#ArialMT-30\" x=\"111.230469\"/>\n       <use xlink:href=\"#ArialMT-30\" x=\"166.845703\"/>\n      </g>\n     </g>\n    </g>\n    <g id=\"xtick_5\">\n     <g id=\"line2d_9\">\n      <path d=\"M 327.325212 306.18 \nL 327.325212 7.2 \n\" clip-path=\"url(#pe852d0e4e3)\" style=\"fill: none; stroke: #ffffff; stroke-linecap: round\"/>\n     </g>\n     <g id=\"line2d_10\"/>\n     <g id=\"text_5\">\n      <!-- 4000 -->\n      <g style=\"fill: #262626\" transform=\"translate(316.203337 320.337812)scale(0.1 -0.1)\">\n       <defs>\n        <path id=\"ArialMT-34\" d=\"M 2069 0 \nL 2069 1097 \nL 81 1097 \nL 81 1613 \nL 2172 4581 \nL 2631 4581 \nL 2631 1613 \nL 3250 1613 \nL 3250 1097 \nL 2631 1097 \nL 2631 0 \nL 2069 0 \nz\nM 2069 1613 \nL 2069 3678 \nL 634 1613 \nL 2069 1613 \nz\n\" transform=\"scale(0.015625)\"/>\n       </defs>\n       <use xlink:href=\"#ArialMT-34\"/>\n       <use xlink:href=\"#ArialMT-30\" x=\"55.615234\"/>\n       <use xlink:href=\"#ArialMT-30\" x=\"111.230469\"/>\n       <use xlink:href=\"#ArialMT-30\" x=\"166.845703\"/>\n      </g>\n     </g>\n    </g>\n    <g id=\"xtick_6\">\n     <g id=\"line2d_11\">\n      <path d=\"M 394.97285 306.18 \nL 394.97285 7.2 \n\" clip-path=\"url(#pe852d0e4e3)\" style=\"fill: none; stroke: #ffffff; stroke-linecap: round\"/>\n     </g>\n     <g id=\"line2d_12\"/>\n     <g id=\"text_6\">\n      <!-- 5000 -->\n      <g style=\"fill: #262626\" transform=\"translate(383.850975 320.337812)scale(0.1 -0.1)\">\n       <defs>\n        <path id=\"ArialMT-35\" d=\"M 266 1200 \nL 856 1250 \nQ 922 819 1161 601 \nQ 1400 384 1738 384 \nQ 2144 384 2425 690 \nQ 2706 997 2706 1503 \nQ 2706 1984 2436 2262 \nQ 2166 2541 1728 2541 \nQ 1456 2541 1237 2417 \nQ 1019 2294 894 2097 \nL 366 2166 \nL 809 4519 \nL 3088 4519 \nL 3088 3981 \nL 1259 3981 \nL 1013 2750 \nQ 1425 3038 1878 3038 \nQ 2478 3038 2890 2622 \nQ 3303 2206 3303 1553 \nQ 3303 931 2941 478 \nQ 2500 -78 1738 -78 \nQ 1113 -78 717 272 \nQ 322 622 266 1200 \nz\n\" transform=\"scale(0.015625)\"/>\n       </defs>\n       <use xlink:href=\"#ArialMT-35\"/>\n       <use xlink:href=\"#ArialMT-30\" x=\"55.615234\"/>\n       <use xlink:href=\"#ArialMT-30\" x=\"111.230469\"/>\n       <use xlink:href=\"#ArialMT-30\" x=\"166.845703\"/>\n      </g>\n     </g>\n    </g>\n    <g id=\"xtick_7\">\n     <g id=\"line2d_13\">\n      <path d=\"M 462.620489 306.18 \nL 462.620489 7.2 \n\" clip-path=\"url(#pe852d0e4e3)\" style=\"fill: none; stroke: #ffffff; stroke-linecap: round\"/>\n     </g>\n     <g id=\"line2d_14\"/>\n     <g id=\"text_7\">\n      <!-- 6000 -->\n      <g style=\"fill: #262626\" transform=\"translate(451.498614 320.337812)scale(0.1 -0.1)\">\n       <defs>\n        <path id=\"ArialMT-36\" d=\"M 3184 3459 \nL 2625 3416 \nQ 2550 3747 2413 3897 \nQ 2184 4138 1850 4138 \nQ 1581 4138 1378 3988 \nQ 1113 3794 959 3422 \nQ 806 3050 800 2363 \nQ 1003 2672 1297 2822 \nQ 1591 2972 1913 2972 \nQ 2475 2972 2870 2558 \nQ 3266 2144 3266 1488 \nQ 3266 1056 3080 686 \nQ 2894 316 2569 119 \nQ 2244 -78 1831 -78 \nQ 1128 -78 684 439 \nQ 241 956 241 2144 \nQ 241 3472 731 4075 \nQ 1159 4600 1884 4600 \nQ 2425 4600 2770 4297 \nQ 3116 3994 3184 3459 \nz\nM 888 1484 \nQ 888 1194 1011 928 \nQ 1134 663 1356 523 \nQ 1578 384 1822 384 \nQ 2178 384 2434 671 \nQ 2691 959 2691 1453 \nQ 2691 1928 2437 2201 \nQ 2184 2475 1800 2475 \nQ 1419 2475 1153 2201 \nQ 888 1928 888 1484 \nz\n\" transform=\"scale(0.015625)\"/>\n       </defs>\n       <use xlink:href=\"#ArialMT-36\"/>\n       <use xlink:href=\"#ArialMT-30\" x=\"55.615234\"/>\n       <use xlink:href=\"#ArialMT-30\" x=\"111.230469\"/>\n       <use xlink:href=\"#ArialMT-30\" x=\"166.845703\"/>\n      </g>\n     </g>\n    </g>\n   </g>\n   <g id=\"matplotlib.axis_2\">\n    <g id=\"ytick_1\">\n     <g id=\"line2d_15\">\n      <path d=\"M 36.44375 271.837954 \nL 482.84375 271.837954 \n\" clip-path=\"url(#pe852d0e4e3)\" style=\"fill: none; stroke: #ffffff; stroke-linecap: round\"/>\n     </g>\n     <g id=\"line2d_16\"/>\n     <g id=\"text_8\">\n      <!-- 500 -->\n      <g style=\"fill: #262626\" transform=\"translate(12.760938 275.41686)scale(0.1 -0.1)\">\n       <use xlink:href=\"#ArialMT-35\"/>\n       <use xlink:href=\"#ArialMT-30\" x=\"55.615234\"/>\n       <use xlink:href=\"#ArialMT-30\" x=\"111.230469\"/>\n      </g>\n     </g>\n    </g>\n    <g id=\"ytick_2\">\n     <g id=\"line2d_17\">\n      <path d=\"M 36.44375 220.904905 \nL 482.84375 220.904905 \n\" clip-path=\"url(#pe852d0e4e3)\" style=\"fill: none; stroke: #ffffff; stroke-linecap: round\"/>\n     </g>\n     <g id=\"line2d_18\"/>\n     <g id=\"text_9\">\n      <!-- 1000 -->\n      <g style=\"fill: #262626\" transform=\"translate(7.2 224.483811)scale(0.1 -0.1)\">\n       <use xlink:href=\"#ArialMT-31\"/>\n       <use xlink:href=\"#ArialMT-30\" x=\"55.615234\"/>\n       <use xlink:href=\"#ArialMT-30\" x=\"111.230469\"/>\n       <use xlink:href=\"#ArialMT-30\" x=\"166.845703\"/>\n      </g>\n     </g>\n    </g>\n    <g id=\"ytick_3\">\n     <g id=\"line2d_19\">\n      <path d=\"M 36.44375 169.971857 \nL 482.84375 169.971857 \n\" clip-path=\"url(#pe852d0e4e3)\" style=\"fill: none; stroke: #ffffff; stroke-linecap: round\"/>\n     </g>\n     <g id=\"line2d_20\"/>\n     <g id=\"text_10\">\n      <!-- 1500 -->\n      <g style=\"fill: #262626\" transform=\"translate(7.2 173.550763)scale(0.1 -0.1)\">\n       <use xlink:href=\"#ArialMT-31\"/>\n       <use xlink:href=\"#ArialMT-35\" x=\"55.615234\"/>\n       <use xlink:href=\"#ArialMT-30\" x=\"111.230469\"/>\n       <use xlink:href=\"#ArialMT-30\" x=\"166.845703\"/>\n      </g>\n     </g>\n    </g>\n    <g id=\"ytick_4\">\n     <g id=\"line2d_21\">\n      <path d=\"M 36.44375 119.038808 \nL 482.84375 119.038808 \n\" clip-path=\"url(#pe852d0e4e3)\" style=\"fill: none; stroke: #ffffff; stroke-linecap: round\"/>\n     </g>\n     <g id=\"line2d_22\"/>\n     <g id=\"text_11\">\n      <!-- 2000 -->\n      <g style=\"fill: #262626\" transform=\"translate(7.2 122.617714)scale(0.1 -0.1)\">\n       <use xlink:href=\"#ArialMT-32\"/>\n       <use xlink:href=\"#ArialMT-30\" x=\"55.615234\"/>\n       <use xlink:href=\"#ArialMT-30\" x=\"111.230469\"/>\n       <use xlink:href=\"#ArialMT-30\" x=\"166.845703\"/>\n      </g>\n     </g>\n    </g>\n    <g id=\"ytick_5\">\n     <g id=\"line2d_23\">\n      <path d=\"M 36.44375 68.10576 \nL 482.84375 68.10576 \n\" clip-path=\"url(#pe852d0e4e3)\" style=\"fill: none; stroke: #ffffff; stroke-linecap: round\"/>\n     </g>\n     <g id=\"line2d_24\"/>\n     <g id=\"text_12\">\n      <!-- 2500 -->\n      <g style=\"fill: #262626\" transform=\"translate(7.2 71.684666)scale(0.1 -0.1)\">\n       <use xlink:href=\"#ArialMT-32\"/>\n       <use xlink:href=\"#ArialMT-35\" x=\"55.615234\"/>\n       <use xlink:href=\"#ArialMT-30\" x=\"111.230469\"/>\n       <use xlink:href=\"#ArialMT-30\" x=\"166.845703\"/>\n      </g>\n     </g>\n    </g>\n    <g id=\"ytick_6\">\n     <g id=\"line2d_25\">\n      <path d=\"M 36.44375 17.172711 \nL 482.84375 17.172711 \n\" clip-path=\"url(#pe852d0e4e3)\" style=\"fill: none; stroke: #ffffff; stroke-linecap: round\"/>\n     </g>\n     <g id=\"line2d_26\"/>\n     <g id=\"text_13\">\n      <!-- 3000 -->\n      <g style=\"fill: #262626\" transform=\"translate(7.2 20.751617)scale(0.1 -0.1)\">\n       <use xlink:href=\"#ArialMT-33\"/>\n       <use xlink:href=\"#ArialMT-30\" x=\"55.615234\"/>\n       <use xlink:href=\"#ArialMT-30\" x=\"111.230469\"/>\n       <use xlink:href=\"#ArialMT-30\" x=\"166.845703\"/>\n      </g>\n     </g>\n    </g>\n   </g>\n   <g id=\"line2d_27\">\n    <path d=\"M 56.734659 20.79 \nL 56.937602 36.00535 \nL 57.072897 40.993643 \nL 57.411135 78.084897 \nL 57.749374 88.621121 \nL 57.884669 93.676357 \nL 58.019964 105.519596 \nL 58.087612 105.519596 \nL 58.155259 107.734889 \nL 58.290555 114.851456 \nL 58.561145 123.131593 \nL 58.696441 126.093124 \nL 58.764088 126.093124 \nL 58.899384 131.55125 \nL 59.034679 131.785112 \nL 59.237622 137.420686 \nL 59.57586 137.445259 \nL 59.711155 139.370442 \nL 59.914098 139.370442 \nL 60.117041 145.712768 \nL 60.184689 145.712768 \nL 60.319984 146.506884 \nL 60.455279 146.739156 \nL 60.72587 146.766616 \nL 61.064108 149.270733 \nL 61.131756 149.270733 \nL 61.267051 149.404211 \nL 61.537641 154.796395 \nL 61.605289 154.796395 \nL 61.740584 156.6566 \nL 61.943527 156.6566 \nL 62.078823 158.104289 \nL 62.14647 158.104289 \nL 62.484708 160.506624 \nL 62.755299 163.82226 \nL 63.025889 163.867174 \nL 63.499423 170.496542 \nL 63.634718 172.967823 \nL 63.770013 173.106326 \nL 63.972956 175.381237 \nL 64.44649 175.935969 \nL 64.514137 175.938741 \nL 64.71708 177.005871 \nL 64.852376 177.005871 \nL 64.920023 177.326445 \nL 65.055319 179.468315 \nL 65.325909 179.489358 \nL 65.528852 180.353425 \nL 65.664147 181.605695 \nL 65.731795 181.605695 \nL 65.934738 182.864263 \nL 66.137681 183.452434 \nL 66.678862 183.519757 \nL 66.814157 185.577547 \nL 67.152395 185.593514 \nL 67.287691 186.13379 \nL 67.355338 186.13379 \nL 67.422986 186.504051 \nL 67.625929 193.064352 \nL 67.761224 193.309742 \nL 67.964167 193.666949 \nL 68.031815 193.702712 \nL 68.16711 194.184366 \nL 68.370053 194.268628 \nL 68.572996 195.018159 \nL 68.708291 195.080018 \nL 68.911234 195.682804 \nL 68.978882 195.682804 \nL 69.114177 196.091606 \nL 69.181825 196.749621 \nL 69.31712 199.675351 \nL 69.520063 199.67587 \nL 69.723006 199.889279 \nL 70.061244 199.890965 \nL 70.331834 200.576064 \nL 70.805368 200.576583 \nL 70.940663 202.190729 \nL 71.143606 202.267791 \nL 71.346549 202.500311 \nL 72.090673 202.568878 \nL 72.225968 203.098318 \nL 72.361264 203.131214 \nL 72.564206 203.558665 \nL 72.631854 203.562034 \nL 72.767149 204.612828 \nL 73.30833 205.585212 \nL 73.375978 205.585212 \nL 73.511273 207.200264 \nL 73.984807 207.302483 \nL 74.18775 207.487158 \nL 74.323045 207.855065 \nL 74.864226 207.874375 \nL 74.999521 208.60808 \nL 75.134817 212.868042 \nL 75.675998 212.916906 \nL 75.811293 212.985358 \nL 75.946588 214.051145 \nL 76.284827 214.051145 \nL 76.420122 214.260534 \nL 78.17896 214.36685 \nL 78.449551 214.941053 \nL 78.584846 216.46796 \nL 78.787789 216.46796 \nL 78.923084 217.075283 \nL 79.32897 217.146698 \nL 79.464266 217.371629 \nL 80.276037 217.42469 \nL 80.411332 217.844436 \nL 80.47898 217.844436 \nL 80.614275 218.042662 \nL 81.831933 218.058326 \nL 81.967228 218.471794 \nL 82.914295 218.471794 \nL 83.04959 218.644062 \nL 83.184886 218.6973 \nL 83.387829 219.106842 \nL 84.131953 219.107575 \nL 84.267248 219.453476 \nL 84.605486 219.557496 \nL 85.146667 219.810901 \nL 85.34961 219.813287 \nL 85.552553 220.388823 \nL 87.379039 220.440641 \nL 87.446687 220.501591 \nL 87.64963 225.091091 \nL 88.393754 225.160284 \nL 88.731992 225.757511 \nL 89.882002 225.770645 \nL 90.017297 225.889521 \nL 90.084945 225.890825 \nL 90.22024 226.420611 \nL 90.761421 226.478196 \nL 90.896716 230.714893 \nL 91.979079 230.736592 \nL 92.114374 231.044993 \nL 92.452612 231.044993 \nL 92.587907 231.560576 \nL 92.723203 231.560576 \nL 92.858498 231.765433 \nL 93.061441 231.765433 \nL 93.196736 231.915431 \nL 93.805565 231.915431 \nL 93.94086 232.90103 \nL 94.211451 233.633094 \nL 94.279098 233.633094 \nL 94.414394 233.838528 \nL 95.496756 233.889138 \nL 95.632051 234.133364 \nL 96.443823 234.133364 \nL 96.579118 234.371842 \nL 97.66148 234.40245 \nL 97.864423 234.605826 \nL 98.473252 234.606078 \nL 98.608547 234.837672 \nL 98.946785 234.918639 \nL 99.149728 235.57138 \nL 100.096795 235.612633 \nL 100.23209 236.055541 \nL 100.637976 236.075434 \nL 101.3821 236.075434 \nL 101.517396 236.227889 \nL 101.990929 236.227889 \nL 102.126224 240.606948 \nL 102.193872 240.606948 \nL 102.464463 241.013302 \nL 103.885063 241.015852 \nL 104.020358 241.510323 \nL 104.358596 241.510323 \nL 104.493892 241.914754 \nL 106.455673 241.927992 \nL 106.590968 242.071703 \nL 107.335092 242.1662 \nL 107.470388 242.363858 \nL 108.55275 242.363858 \nL 108.688045 242.669325 \nL 108.958636 242.669325 \nL 109.093931 242.812532 \nL 109.364522 242.826625 \nL 109.499817 242.928874 \nL 109.838055 248.012768 \nL 110.243941 248.013258 \nL 110.379236 248.359269 \nL 110.446884 248.359269 \nL 110.582179 248.598636 \nL 111.326303 248.599126 \nL 111.461598 248.813191 \nL 112.27337 248.813191 \nL 112.408665 249.26826 \nL 112.679256 249.301906 \nL 112.746904 249.505126 \nL 112.882199 252.302633 \nL 113.42338 252.302723 \nL 113.761618 255.546717 \nL 113.964561 255.546717 \nL 114.099856 255.676755 \nL 114.235152 255.714702 \nL 114.438095 255.911971 \nL 114.708685 255.911971 \nL 114.84398 256.12631 \nL 115.114571 256.12631 \nL 115.249866 256.786407 \nL 116.196933 256.787956 \nL 116.332228 256.944842 \nL 116.670467 256.944842 \nL 116.805762 257.18872 \nL 117.549886 257.18872 \nL 117.617534 257.482117 \nL 117.752829 260.978644 \nL 118.226362 260.978672 \nL 118.361658 261.140784 \nL 119.038134 261.140784 \nL 119.579315 262.597601 \nL 120.188144 262.610083 \nL 120.323439 262.858676 \nL 121.202858 262.858676 \nL 121.338154 263.535569 \nL 123.43523 263.572385 \nL 123.570526 263.791074 \nL 127.020555 263.794872 \nL 127.155851 264.695126 \nL 127.291146 264.991557 \nL 128.373508 264.991557 \nL 128.508803 265.271756 \nL 128.779394 265.280259 \nL 128.914689 266.00103 \nL 129.252927 266.00103 \nL 129.388223 266.13531 \nL 130.267642 266.13531 \nL 130.402937 266.625073 \nL 131.552947 266.625185 \nL 131.688242 266.788578 \nL 132.297071 266.806191 \nL 132.432366 266.948644 \nL 139.332425 266.99217 \nL 139.467721 267.174096 \nL 139.670664 267.175312 \nL 139.805959 267.557743 \nL 142.91775 267.557743 \nL 143.053045 268.133827 \nL 147.111904 268.146322 \nL 147.247199 268.261086 \nL 150.494286 268.282524 \nL 150.629581 268.466051 \nL 151.035467 268.466052 \nL 151.170762 268.619219 \nL 151.576648 268.712699 \nL 151.779591 268.759567 \nL 152.726658 268.759567 \nL 152.794305 268.945692 \nL 152.929601 275.865901 \nL 153.064896 275.865901 \nL 153.200191 276.421529 \nL 160.709079 276.455967 \nL 160.844374 277.497661 \nL 161.520851 277.497661 \nL 161.656146 277.897516 \nL 163.144394 277.917027 \nL 163.279689 278.107674 \nL 164.632642 278.108755 \nL 164.835585 278.55586 \nL 165.917947 278.55586 \nL 166.12089 279.041405 \nL 166.188538 279.041405 \nL 166.323833 279.271142 \nL 166.662071 279.271142 \nL 166.797367 279.612881 \nL 167.067957 280.328163 \nL 170.112101 280.328163 \nL 170.247396 280.653941 \nL 171.870939 280.653941 \nL 172.006235 281.118385 \nL 176.268036 281.137961 \nL 176.335684 281.426079 \nL 176.470979 283.017972 \nL 177.959227 283.099729 \nL 178.094522 283.38325 \nL 184.926934 283.416621 \nL 185.129876 283.525061 \nL 187.294601 283.525383 \nL 187.362249 283.799846 \nL 187.700487 287.304687 \nL 188.782849 287.304687 \nL 188.918144 287.585517 \nL 193.991717 287.602838 \nL 194.127012 288.015304 \nL 202.988853 288.045167 \nL 203.124148 288.17122 \nL 204.815339 288.17122 \nL 204.950634 288.379578 \nL 209.07714 288.39951 \nL 209.212436 288.528009 \nL 212.053636 288.528009 \nL 212.188932 288.659165 \nL 212.256579 288.659165 \nL 212.391875 288.793197 \nL 219.359581 288.810269 \nL 219.494877 288.913238 \nL 249.801019 288.959686 \nL 249.936314 290.177126 \nL 250.003962 290.179478 \nL 250.139257 290.384413 \nL 250.3422 290.384413 \nL 250.477495 290.589868 \nL 270.907082 290.664938 \nL 271.042377 290.934129 \nL 313.728037 291.038085 \nL 314.133923 291.060378 \nL 394.499317 291.091056 \nL 394.70226 291.179761 \nL 452.676286 291.269551 \nL 452.811581 291.375043 \nL 452.946876 292.39394 \nL 453.014524 292.39394 \nL 453.149819 292.59 \nL 462.552841 292.59 \nL 462.552841 292.59 \n\" clip-path=\"url(#pe852d0e4e3)\" style=\"fill: none; stroke: #87ceeb; stroke-width: 1.75; stroke-linecap: round\"/>\n   </g>\n   <g id=\"patch_3\">\n    <path d=\"M 36.44375 306.18 \nL 36.44375 7.2 \n\" style=\"fill: none\"/>\n   </g>\n   <g id=\"patch_4\">\n    <path d=\"M 482.84375 306.18 \nL 482.84375 7.2 \n\" style=\"fill: none\"/>\n   </g>\n   <g id=\"patch_5\">\n    <path d=\"M 36.44375 306.18 \nL 482.84375 306.18 \n\" style=\"fill: none\"/>\n   </g>\n   <g id=\"patch_6\">\n    <path d=\"M 36.44375 7.2 \nL 482.84375 7.2 \n\" style=\"fill: none\"/>\n   </g>\n  </g>\n </g>\n <defs>\n  <clipPath id=\"pe852d0e4e3\">\n   <rect x=\"36.44375\" y=\"7.2\" width=\"446.4\" height=\"298.98\"/>\n  </clipPath>\n </defs>\n</svg>\n",
      "text/plain": [
       "<Figure size 576x396 with 1 Axes>"
      ]
     },
     "metadata": {},
     "output_type": "display_data"
    },
    {
     "name": "stdout",
     "output_type": "stream",
     "text": [
      "[83, 82, 81, 80, 79, 78, 75, 74, 73, 72, 71, 70, 69, 68, 67, 66, 65, 60, 59, 58, 57, 31, 30, 29, 28, 27, 26, 25, 24, 23, 22, 21, 20, 19, 18, 17, 16, 15, 14, 13, 12, 11, 10, 9, 8, 7, 6, 5, 4, 3, 2, 1, 0, 32, 33, 34, 35, 36, 37, 38, 39, 40, 41, 42, 43, 44, 45, 46, 47, 48, 49, 50, 51, 52, 53, 54, 55, 56, 61, 62, 63, 64, 99, 98, 97, 96, 95, 94, 93, 92, 91, 90, 89, 88, 87, 86, 85, 84, 77, 76]\n"
     ]
    }
   ],
   "source": [
    "mesta = range(100)\n",
    "city_coordinates = mesta_za_sebou(len(mesta))\n",
    "matice_sousednosti = make_mat(city_coordinates)\n",
    "best, history = genetic_algorithm(\n",
    "    mesta, matice_sousednosti, n_population=500, selectivity=0.05,\n",
    "    p_mut=0.05, p_cross=0.7, n_iter=6000, print_interval=500, verbose=False, return_history=True\n",
    ")\n",
    "plt.plot(range(len(history)), history, color=\"skyblue\")\n",
    "plt.show()\n",
    "print(best)"
   ]
  },
  {
   "cell_type": "code",
   "execution_count": 34,
   "metadata": {},
   "outputs": [
    {
     "data": {
      "image/svg+xml": "<?xml version=\"1.0\" encoding=\"utf-8\" standalone=\"no\"?>\n<!DOCTYPE svg PUBLIC \"-//W3C//DTD SVG 1.1//EN\"\n  \"http://www.w3.org/Graphics/SVG/1.1/DTD/svg11.dtd\">\n<svg xmlns:xlink=\"http://www.w3.org/1999/xlink\" width=\"478.921875pt\" height=\"329.525312pt\" viewBox=\"0 0 478.921875 329.525312\" xmlns=\"http://www.w3.org/2000/svg\" version=\"1.1\">\n <metadata>\n  <rdf:RDF xmlns:dc=\"http://purl.org/dc/elements/1.1/\" xmlns:cc=\"http://creativecommons.org/ns#\" xmlns:rdf=\"http://www.w3.org/1999/02/22-rdf-syntax-ns#\">\n   <cc:Work>\n    <dc:type rdf:resource=\"http://purl.org/dc/dcmitype/StillImage\"/>\n    <dc:date>2022-03-30T10:19:43.196855</dc:date>\n    <dc:format>image/svg+xml</dc:format>\n    <dc:creator>\n     <cc:Agent>\n      <dc:title>Matplotlib v3.5.1, https://matplotlib.org/</dc:title>\n     </cc:Agent>\n    </dc:creator>\n   </cc:Work>\n  </rdf:RDF>\n </metadata>\n <defs>\n  <style type=\"text/css\">*{stroke-linejoin: round; stroke-linecap: butt}</style>\n </defs>\n <g id=\"figure_1\">\n  <g id=\"patch_1\">\n   <path d=\"M 0 329.525312 \nL 478.921875 329.525312 \nL 478.921875 0 \nL 0 0 \nz\n\" style=\"fill: #ffffff\"/>\n  </g>\n  <g id=\"axes_1\">\n   <g id=\"patch_2\">\n    <path d=\"M 25.321875 306.18 \nL 471.721875 306.18 \nL 471.721875 7.2 \nL 25.321875 7.2 \nz\n\" style=\"fill: #eaeaf2\"/>\n   </g>\n   <g id=\"matplotlib.axis_1\">\n    <g id=\"xtick_1\">\n     <g id=\"line2d_1\">\n      <path d=\"M 86.60452 306.18 \nL 86.60452 7.2 \n\" clip-path=\"url(#p4df4c7fb70)\" style=\"fill: none; stroke: #ffffff; stroke-linecap: round\"/>\n     </g>\n     <g id=\"line2d_2\"/>\n     <g id=\"text_1\">\n      <!-- −40 -->\n      <g style=\"fill: #262626\" transform=\"translate(78.12327 320.337812)scale(0.1 -0.1)\">\n       <defs>\n        <path id=\"ArialMT-2212\" d=\"M 3381 1997 \nL 356 1997 \nL 356 2522 \nL 3381 2522 \nL 3381 1997 \nz\n\" transform=\"scale(0.015625)\"/>\n        <path id=\"ArialMT-34\" d=\"M 2069 0 \nL 2069 1097 \nL 81 1097 \nL 81 1613 \nL 2172 4581 \nL 2631 4581 \nL 2631 1613 \nL 3250 1613 \nL 3250 1097 \nL 2631 1097 \nL 2631 0 \nL 2069 0 \nz\nM 2069 1613 \nL 2069 3678 \nL 634 1613 \nL 2069 1613 \nz\n\" transform=\"scale(0.015625)\"/>\n        <path id=\"ArialMT-30\" d=\"M 266 2259 \nQ 266 3072 433 3567 \nQ 600 4063 929 4331 \nQ 1259 4600 1759 4600 \nQ 2128 4600 2406 4451 \nQ 2684 4303 2865 4023 \nQ 3047 3744 3150 3342 \nQ 3253 2941 3253 2259 \nQ 3253 1453 3087 958 \nQ 2922 463 2592 192 \nQ 2263 -78 1759 -78 \nQ 1097 -78 719 397 \nQ 266 969 266 2259 \nz\nM 844 2259 \nQ 844 1131 1108 757 \nQ 1372 384 1759 384 \nQ 2147 384 2411 759 \nQ 2675 1134 2675 2259 \nQ 2675 3391 2411 3762 \nQ 2147 4134 1753 4134 \nQ 1366 4134 1134 3806 \nQ 844 3388 844 2259 \nz\n\" transform=\"scale(0.015625)\"/>\n       </defs>\n       <use xlink:href=\"#ArialMT-2212\"/>\n       <use xlink:href=\"#ArialMT-34\" x=\"58.398438\"/>\n       <use xlink:href=\"#ArialMT-30\" x=\"114.013672\"/>\n      </g>\n     </g>\n    </g>\n    <g id=\"xtick_2\">\n     <g id=\"line2d_3\">\n      <path d=\"M 168.587991 306.18 \nL 168.587991 7.2 \n\" clip-path=\"url(#p4df4c7fb70)\" style=\"fill: none; stroke: #ffffff; stroke-linecap: round\"/>\n     </g>\n     <g id=\"line2d_4\"/>\n     <g id=\"text_2\">\n      <!-- −20 -->\n      <g style=\"fill: #262626\" transform=\"translate(160.106741 320.337812)scale(0.1 -0.1)\">\n       <defs>\n        <path id=\"ArialMT-32\" d=\"M 3222 541 \nL 3222 0 \nL 194 0 \nQ 188 203 259 391 \nQ 375 700 629 1000 \nQ 884 1300 1366 1694 \nQ 2113 2306 2375 2664 \nQ 2638 3022 2638 3341 \nQ 2638 3675 2398 3904 \nQ 2159 4134 1775 4134 \nQ 1369 4134 1125 3890 \nQ 881 3647 878 3216 \nL 300 3275 \nQ 359 3922 746 4261 \nQ 1134 4600 1788 4600 \nQ 2447 4600 2831 4234 \nQ 3216 3869 3216 3328 \nQ 3216 3053 3103 2787 \nQ 2991 2522 2730 2228 \nQ 2469 1934 1863 1422 \nQ 1356 997 1212 845 \nQ 1069 694 975 541 \nL 3222 541 \nz\n\" transform=\"scale(0.015625)\"/>\n       </defs>\n       <use xlink:href=\"#ArialMT-2212\"/>\n       <use xlink:href=\"#ArialMT-32\" x=\"58.398438\"/>\n       <use xlink:href=\"#ArialMT-30\" x=\"114.013672\"/>\n      </g>\n     </g>\n    </g>\n    <g id=\"xtick_3\">\n     <g id=\"line2d_5\">\n      <path d=\"M 250.571462 306.18 \nL 250.571462 7.2 \n\" clip-path=\"url(#p4df4c7fb70)\" style=\"fill: none; stroke: #ffffff; stroke-linecap: round\"/>\n     </g>\n     <g id=\"line2d_6\"/>\n     <g id=\"text_3\">\n      <!-- 0 -->\n      <g style=\"fill: #262626\" transform=\"translate(247.790993 320.337812)scale(0.1 -0.1)\">\n       <use xlink:href=\"#ArialMT-30\"/>\n      </g>\n     </g>\n    </g>\n    <g id=\"xtick_4\">\n     <g id=\"line2d_7\">\n      <path d=\"M 332.554933 306.18 \nL 332.554933 7.2 \n\" clip-path=\"url(#p4df4c7fb70)\" style=\"fill: none; stroke: #ffffff; stroke-linecap: round\"/>\n     </g>\n     <g id=\"line2d_8\"/>\n     <g id=\"text_4\">\n      <!-- 20 -->\n      <g style=\"fill: #262626\" transform=\"translate(326.993995 320.337812)scale(0.1 -0.1)\">\n       <use xlink:href=\"#ArialMT-32\"/>\n       <use xlink:href=\"#ArialMT-30\" x=\"55.615234\"/>\n      </g>\n     </g>\n    </g>\n    <g id=\"xtick_5\">\n     <g id=\"line2d_9\">\n      <path d=\"M 414.538404 306.18 \nL 414.538404 7.2 \n\" clip-path=\"url(#p4df4c7fb70)\" style=\"fill: none; stroke: #ffffff; stroke-linecap: round\"/>\n     </g>\n     <g id=\"line2d_10\"/>\n     <g id=\"text_5\">\n      <!-- 40 -->\n      <g style=\"fill: #262626\" transform=\"translate(408.977466 320.337812)scale(0.1 -0.1)\">\n       <use xlink:href=\"#ArialMT-34\"/>\n       <use xlink:href=\"#ArialMT-30\" x=\"55.615234\"/>\n      </g>\n     </g>\n    </g>\n   </g>\n   <g id=\"matplotlib.axis_2\">\n    <g id=\"ytick_1\">\n     <g id=\"line2d_11\">\n      <path d=\"M 25.321875 292.59 \nL 471.721875 292.59 \n\" clip-path=\"url(#p4df4c7fb70)\" style=\"fill: none; stroke: #ffffff; stroke-linecap: round\"/>\n     </g>\n     <g id=\"line2d_12\"/>\n     <g id=\"text_6\">\n      <!-- 0 -->\n      <g style=\"fill: #262626\" transform=\"translate(12.760938 296.168906)scale(0.1 -0.1)\">\n       <use xlink:href=\"#ArialMT-30\"/>\n      </g>\n     </g>\n    </g>\n    <g id=\"ytick_2\">\n     <g id=\"line2d_13\">\n      <path d=\"M 25.321875 238.23 \nL 471.721875 238.23 \n\" clip-path=\"url(#p4df4c7fb70)\" style=\"fill: none; stroke: #ffffff; stroke-linecap: round\"/>\n     </g>\n     <g id=\"line2d_14\"/>\n     <g id=\"text_7\">\n      <!-- 10 -->\n      <g style=\"fill: #262626\" transform=\"translate(7.2 241.808906)scale(0.1 -0.1)\">\n       <defs>\n        <path id=\"ArialMT-31\" d=\"M 2384 0 \nL 1822 0 \nL 1822 3584 \nQ 1619 3391 1289 3197 \nQ 959 3003 697 2906 \nL 697 3450 \nQ 1169 3672 1522 3987 \nQ 1875 4303 2022 4600 \nL 2384 4600 \nL 2384 0 \nz\n\" transform=\"scale(0.015625)\"/>\n       </defs>\n       <use xlink:href=\"#ArialMT-31\"/>\n       <use xlink:href=\"#ArialMT-30\" x=\"55.615234\"/>\n      </g>\n     </g>\n    </g>\n    <g id=\"ytick_3\">\n     <g id=\"line2d_15\">\n      <path d=\"M 25.321875 183.87 \nL 471.721875 183.87 \n\" clip-path=\"url(#p4df4c7fb70)\" style=\"fill: none; stroke: #ffffff; stroke-linecap: round\"/>\n     </g>\n     <g id=\"line2d_16\"/>\n     <g id=\"text_8\">\n      <!-- 20 -->\n      <g style=\"fill: #262626\" transform=\"translate(7.2 187.448906)scale(0.1 -0.1)\">\n       <use xlink:href=\"#ArialMT-32\"/>\n       <use xlink:href=\"#ArialMT-30\" x=\"55.615234\"/>\n      </g>\n     </g>\n    </g>\n    <g id=\"ytick_4\">\n     <g id=\"line2d_17\">\n      <path d=\"M 25.321875 129.51 \nL 471.721875 129.51 \n\" clip-path=\"url(#p4df4c7fb70)\" style=\"fill: none; stroke: #ffffff; stroke-linecap: round\"/>\n     </g>\n     <g id=\"line2d_18\"/>\n     <g id=\"text_9\">\n      <!-- 30 -->\n      <g style=\"fill: #262626\" transform=\"translate(7.2 133.088906)scale(0.1 -0.1)\">\n       <defs>\n        <path id=\"ArialMT-33\" d=\"M 269 1209 \nL 831 1284 \nQ 928 806 1161 595 \nQ 1394 384 1728 384 \nQ 2125 384 2398 659 \nQ 2672 934 2672 1341 \nQ 2672 1728 2419 1979 \nQ 2166 2231 1775 2231 \nQ 1616 2231 1378 2169 \nL 1441 2663 \nQ 1497 2656 1531 2656 \nQ 1891 2656 2178 2843 \nQ 2466 3031 2466 3422 \nQ 2466 3731 2256 3934 \nQ 2047 4138 1716 4138 \nQ 1388 4138 1169 3931 \nQ 950 3725 888 3313 \nL 325 3413 \nQ 428 3978 793 4289 \nQ 1159 4600 1703 4600 \nQ 2078 4600 2393 4439 \nQ 2709 4278 2876 4000 \nQ 3044 3722 3044 3409 \nQ 3044 3113 2884 2869 \nQ 2725 2625 2413 2481 \nQ 2819 2388 3044 2092 \nQ 3269 1797 3269 1353 \nQ 3269 753 2831 336 \nQ 2394 -81 1725 -81 \nQ 1122 -81 723 278 \nQ 325 638 269 1209 \nz\n\" transform=\"scale(0.015625)\"/>\n       </defs>\n       <use xlink:href=\"#ArialMT-33\"/>\n       <use xlink:href=\"#ArialMT-30\" x=\"55.615234\"/>\n      </g>\n     </g>\n    </g>\n    <g id=\"ytick_5\">\n     <g id=\"line2d_19\">\n      <path d=\"M 25.321875 75.15 \nL 471.721875 75.15 \n\" clip-path=\"url(#p4df4c7fb70)\" style=\"fill: none; stroke: #ffffff; stroke-linecap: round\"/>\n     </g>\n     <g id=\"line2d_20\"/>\n     <g id=\"text_10\">\n      <!-- 40 -->\n      <g style=\"fill: #262626\" transform=\"translate(7.2 78.728906)scale(0.1 -0.1)\">\n       <use xlink:href=\"#ArialMT-34\"/>\n       <use xlink:href=\"#ArialMT-30\" x=\"55.615234\"/>\n      </g>\n     </g>\n    </g>\n    <g id=\"ytick_6\">\n     <g id=\"line2d_21\">\n      <path d=\"M 25.321875 20.79 \nL 471.721875 20.79 \n\" clip-path=\"url(#p4df4c7fb70)\" style=\"fill: none; stroke: #ffffff; stroke-linecap: round\"/>\n     </g>\n     <g id=\"line2d_22\"/>\n     <g id=\"text_11\">\n      <!-- 50 -->\n      <g style=\"fill: #262626\" transform=\"translate(7.2 24.368906)scale(0.1 -0.1)\">\n       <defs>\n        <path id=\"ArialMT-35\" d=\"M 266 1200 \nL 856 1250 \nQ 922 819 1161 601 \nQ 1400 384 1738 384 \nQ 2144 384 2425 690 \nQ 2706 997 2706 1503 \nQ 2706 1984 2436 2262 \nQ 2166 2541 1728 2541 \nQ 1456 2541 1237 2417 \nQ 1019 2294 894 2097 \nL 366 2166 \nL 809 4519 \nL 3088 4519 \nL 3088 3981 \nL 1259 3981 \nL 1013 2750 \nQ 1425 3038 1878 3038 \nQ 2478 3038 2890 2622 \nQ 3303 2206 3303 1553 \nQ 3303 931 2941 478 \nQ 2500 -78 1738 -78 \nQ 1113 -78 717 272 \nQ 322 622 266 1200 \nz\n\" transform=\"scale(0.015625)\"/>\n       </defs>\n       <use xlink:href=\"#ArialMT-35\"/>\n       <use xlink:href=\"#ArialMT-30\" x=\"55.615234\"/>\n      </g>\n     </g>\n    </g>\n   </g>\n   <g id=\"line2d_23\">\n    <path d=\"M 385.844189 88.39601 \nL 381.745015 83.7457 \nL 377.645842 79.335228 \nL 373.546668 75.15 \nL 369.447495 71.177242 \nL 365.348321 67.405709 \nL 353.050801 57.204295 \nL 348.951627 54.148425 \nL 344.852454 51.253639 \nL 340.75328 48.514205 \nL 336.654106 45.924948 \nL 332.554933 43.481185 \nL 328.455759 41.178673 \nL 324.356586 39.013564 \nL 320.257412 36.982367 \nL 316.158239 35.081912 \nL 312.059065 33.309325 \nL 291.563197 26.281475 \nL 287.464024 25.229415 \nL 283.36485 24.291596 \nL 279.265677 23.466821 \nL 172.687164 41.178673 \nL 168.587991 43.481185 \nL 164.488817 45.924948 \nL 160.389644 48.514205 \nL 156.29047 51.253639 \nL 152.191296 54.148425 \nL 148.092123 57.204295 \nL 143.992949 60.42761 \nL 139.893776 63.825449 \nL 135.794602 67.405709 \nL 131.695429 71.177242 \nL 127.596255 75.15 \nL 123.497082 79.335228 \nL 119.397908 83.7457 \nL 115.298735 88.39601 \nL 111.199561 93.302948 \nL 107.100387 98.485975 \nL 103.001214 103.96785 \nL 98.90204 109.775453 \nL 94.802867 115.940909 \nL 90.703693 122.503128 \nL 86.60452 129.51 \nL 82.505346 137.021595 \nL 78.406173 145.115017 \nL 74.306999 153.892082 \nL 70.207825 163.492153 \nL 66.108652 174.115127 \nL 62.009478 186.06659 \nL 57.910305 199.858787 \nL 53.811131 216.486 \nL 49.711958 238.502483 \nL 45.612784 292.59 \nL 176.786338 39.013564 \nL 180.885511 36.982367 \nL 184.984685 35.081912 \nL 189.083858 33.309325 \nL 193.183032 31.662 \nL 197.282206 30.137578 \nL 201.381379 28.733929 \nL 205.480553 27.449135 \nL 209.579726 26.281475 \nL 213.6789 25.229415 \nL 217.778073 24.291596 \nL 221.877247 23.466821 \nL 225.97642 22.754056 \nL 230.075594 22.152415 \nL 234.174768 21.661156 \nL 238.273941 21.279681 \nL 242.373115 21.007527 \nL 246.472288 20.844365 \nL 250.571462 20.79 \nL 254.670635 20.844365 \nL 258.769809 21.007527 \nL 262.868982 21.279681 \nL 266.968156 21.661156 \nL 271.06733 22.152415 \nL 275.166503 22.754056 \nL 295.662371 27.449135 \nL 299.761544 28.733929 \nL 303.860718 30.137578 \nL 307.959892 31.662 \nL 451.430966 238.502483 \nL 447.331792 216.486 \nL 443.232619 199.858787 \nL 439.133445 186.06659 \nL 435.034272 174.115127 \nL 430.935098 163.492153 \nL 426.835925 153.892082 \nL 422.736751 145.115017 \nL 418.637577 137.021595 \nL 414.538404 129.51 \nL 410.43923 122.503128 \nL 406.340057 115.940909 \nL 402.240883 109.775453 \nL 398.14171 103.96785 \nL 394.042536 98.485975 \nL 389.943363 93.302948 \nL 361.249148 63.825449 \nL 357.149974 60.42761 \n\" clip-path=\"url(#p4df4c7fb70)\" style=\"fill: none; stroke: #87ceeb; stroke-width: 1.75; stroke-linecap: round\"/>\n    <defs>\n     <path id=\"m071dae16ff\" d=\"M 0 3.5 \nC 0.928211 3.5 1.81853 3.131218 2.474874 2.474874 \nC 3.131218 1.81853 3.5 0.928211 3.5 0 \nC 3.5 -0.928211 3.131218 -1.81853 2.474874 -2.474874 \nC 1.81853 -3.131218 0.928211 -3.5 0 -3.5 \nC -0.928211 -3.5 -1.81853 -3.131218 -2.474874 -2.474874 \nC -3.131218 -1.81853 -3.5 -0.928211 -3.5 0 \nC -3.5 0.928211 -3.131218 1.81853 -2.474874 2.474874 \nC -1.81853 3.131218 -0.928211 3.5 0 3.5 \nz\n\"/>\n    </defs>\n    <g clip-path=\"url(#p4df4c7fb70)\">\n     <use xlink:href=\"#m071dae16ff\" x=\"385.844189\" y=\"88.39601\" style=\"fill: #87ceeb\"/>\n     <use xlink:href=\"#m071dae16ff\" x=\"381.745015\" y=\"83.7457\" style=\"fill: #87ceeb\"/>\n     <use xlink:href=\"#m071dae16ff\" x=\"377.645842\" y=\"79.335228\" style=\"fill: #87ceeb\"/>\n     <use xlink:href=\"#m071dae16ff\" x=\"373.546668\" y=\"75.15\" style=\"fill: #87ceeb\"/>\n     <use xlink:href=\"#m071dae16ff\" x=\"369.447495\" y=\"71.177242\" style=\"fill: #87ceeb\"/>\n     <use xlink:href=\"#m071dae16ff\" x=\"365.348321\" y=\"67.405709\" style=\"fill: #87ceeb\"/>\n     <use xlink:href=\"#m071dae16ff\" x=\"353.050801\" y=\"57.204295\" style=\"fill: #87ceeb\"/>\n     <use xlink:href=\"#m071dae16ff\" x=\"348.951627\" y=\"54.148425\" style=\"fill: #87ceeb\"/>\n     <use xlink:href=\"#m071dae16ff\" x=\"344.852454\" y=\"51.253639\" style=\"fill: #87ceeb\"/>\n     <use xlink:href=\"#m071dae16ff\" x=\"340.75328\" y=\"48.514205\" style=\"fill: #87ceeb\"/>\n     <use xlink:href=\"#m071dae16ff\" x=\"336.654106\" y=\"45.924948\" style=\"fill: #87ceeb\"/>\n     <use xlink:href=\"#m071dae16ff\" x=\"332.554933\" y=\"43.481185\" style=\"fill: #87ceeb\"/>\n     <use xlink:href=\"#m071dae16ff\" x=\"328.455759\" y=\"41.178673\" style=\"fill: #87ceeb\"/>\n     <use xlink:href=\"#m071dae16ff\" x=\"324.356586\" y=\"39.013564\" style=\"fill: #87ceeb\"/>\n     <use xlink:href=\"#m071dae16ff\" x=\"320.257412\" y=\"36.982367\" style=\"fill: #87ceeb\"/>\n     <use xlink:href=\"#m071dae16ff\" x=\"316.158239\" y=\"35.081912\" style=\"fill: #87ceeb\"/>\n     <use xlink:href=\"#m071dae16ff\" x=\"312.059065\" y=\"33.309325\" style=\"fill: #87ceeb\"/>\n     <use xlink:href=\"#m071dae16ff\" x=\"291.563197\" y=\"26.281475\" style=\"fill: #87ceeb\"/>\n     <use xlink:href=\"#m071dae16ff\" x=\"287.464024\" y=\"25.229415\" style=\"fill: #87ceeb\"/>\n     <use xlink:href=\"#m071dae16ff\" x=\"283.36485\" y=\"24.291596\" style=\"fill: #87ceeb\"/>\n     <use xlink:href=\"#m071dae16ff\" x=\"279.265677\" y=\"23.466821\" style=\"fill: #87ceeb\"/>\n     <use xlink:href=\"#m071dae16ff\" x=\"172.687164\" y=\"41.178673\" style=\"fill: #87ceeb\"/>\n     <use xlink:href=\"#m071dae16ff\" x=\"168.587991\" y=\"43.481185\" style=\"fill: #87ceeb\"/>\n     <use xlink:href=\"#m071dae16ff\" x=\"164.488817\" y=\"45.924948\" style=\"fill: #87ceeb\"/>\n     <use xlink:href=\"#m071dae16ff\" x=\"160.389644\" y=\"48.514205\" style=\"fill: #87ceeb\"/>\n     <use xlink:href=\"#m071dae16ff\" x=\"156.29047\" y=\"51.253639\" style=\"fill: #87ceeb\"/>\n     <use xlink:href=\"#m071dae16ff\" x=\"152.191296\" y=\"54.148425\" style=\"fill: #87ceeb\"/>\n     <use xlink:href=\"#m071dae16ff\" x=\"148.092123\" y=\"57.204295\" style=\"fill: #87ceeb\"/>\n     <use xlink:href=\"#m071dae16ff\" x=\"143.992949\" y=\"60.42761\" style=\"fill: #87ceeb\"/>\n     <use xlink:href=\"#m071dae16ff\" x=\"139.893776\" y=\"63.825449\" style=\"fill: #87ceeb\"/>\n     <use xlink:href=\"#m071dae16ff\" x=\"135.794602\" y=\"67.405709\" style=\"fill: #87ceeb\"/>\n     <use xlink:href=\"#m071dae16ff\" x=\"131.695429\" y=\"71.177242\" style=\"fill: #87ceeb\"/>\n     <use xlink:href=\"#m071dae16ff\" x=\"127.596255\" y=\"75.15\" style=\"fill: #87ceeb\"/>\n     <use xlink:href=\"#m071dae16ff\" x=\"123.497082\" y=\"79.335228\" style=\"fill: #87ceeb\"/>\n     <use xlink:href=\"#m071dae16ff\" x=\"119.397908\" y=\"83.7457\" style=\"fill: #87ceeb\"/>\n     <use xlink:href=\"#m071dae16ff\" x=\"115.298735\" y=\"88.39601\" style=\"fill: #87ceeb\"/>\n     <use xlink:href=\"#m071dae16ff\" x=\"111.199561\" y=\"93.302948\" style=\"fill: #87ceeb\"/>\n     <use xlink:href=\"#m071dae16ff\" x=\"107.100387\" y=\"98.485975\" style=\"fill: #87ceeb\"/>\n     <use xlink:href=\"#m071dae16ff\" x=\"103.001214\" y=\"103.96785\" style=\"fill: #87ceeb\"/>\n     <use xlink:href=\"#m071dae16ff\" x=\"98.90204\" y=\"109.775453\" style=\"fill: #87ceeb\"/>\n     <use xlink:href=\"#m071dae16ff\" x=\"94.802867\" y=\"115.940909\" style=\"fill: #87ceeb\"/>\n     <use xlink:href=\"#m071dae16ff\" x=\"90.703693\" y=\"122.503128\" style=\"fill: #87ceeb\"/>\n     <use xlink:href=\"#m071dae16ff\" x=\"86.60452\" y=\"129.51\" style=\"fill: #87ceeb\"/>\n     <use xlink:href=\"#m071dae16ff\" x=\"82.505346\" y=\"137.021595\" style=\"fill: #87ceeb\"/>\n     <use xlink:href=\"#m071dae16ff\" x=\"78.406173\" y=\"145.115017\" style=\"fill: #87ceeb\"/>\n     <use xlink:href=\"#m071dae16ff\" x=\"74.306999\" y=\"153.892082\" style=\"fill: #87ceeb\"/>\n     <use xlink:href=\"#m071dae16ff\" x=\"70.207825\" y=\"163.492153\" style=\"fill: #87ceeb\"/>\n     <use xlink:href=\"#m071dae16ff\" x=\"66.108652\" y=\"174.115127\" style=\"fill: #87ceeb\"/>\n     <use xlink:href=\"#m071dae16ff\" x=\"62.009478\" y=\"186.06659\" style=\"fill: #87ceeb\"/>\n     <use xlink:href=\"#m071dae16ff\" x=\"57.910305\" y=\"199.858787\" style=\"fill: #87ceeb\"/>\n     <use xlink:href=\"#m071dae16ff\" x=\"53.811131\" y=\"216.486\" style=\"fill: #87ceeb\"/>\n     <use xlink:href=\"#m071dae16ff\" x=\"49.711958\" y=\"238.502483\" style=\"fill: #87ceeb\"/>\n     <use xlink:href=\"#m071dae16ff\" x=\"45.612784\" y=\"292.59\" style=\"fill: #87ceeb\"/>\n     <use xlink:href=\"#m071dae16ff\" x=\"176.786338\" y=\"39.013564\" style=\"fill: #87ceeb\"/>\n     <use xlink:href=\"#m071dae16ff\" x=\"180.885511\" y=\"36.982367\" style=\"fill: #87ceeb\"/>\n     <use xlink:href=\"#m071dae16ff\" x=\"184.984685\" y=\"35.081912\" style=\"fill: #87ceeb\"/>\n     <use xlink:href=\"#m071dae16ff\" x=\"189.083858\" y=\"33.309325\" style=\"fill: #87ceeb\"/>\n     <use xlink:href=\"#m071dae16ff\" x=\"193.183032\" y=\"31.662\" style=\"fill: #87ceeb\"/>\n     <use xlink:href=\"#m071dae16ff\" x=\"197.282206\" y=\"30.137578\" style=\"fill: #87ceeb\"/>\n     <use xlink:href=\"#m071dae16ff\" x=\"201.381379\" y=\"28.733929\" style=\"fill: #87ceeb\"/>\n     <use xlink:href=\"#m071dae16ff\" x=\"205.480553\" y=\"27.449135\" style=\"fill: #87ceeb\"/>\n     <use xlink:href=\"#m071dae16ff\" x=\"209.579726\" y=\"26.281475\" style=\"fill: #87ceeb\"/>\n     <use xlink:href=\"#m071dae16ff\" x=\"213.6789\" y=\"25.229415\" style=\"fill: #87ceeb\"/>\n     <use xlink:href=\"#m071dae16ff\" x=\"217.778073\" y=\"24.291596\" style=\"fill: #87ceeb\"/>\n     <use xlink:href=\"#m071dae16ff\" x=\"221.877247\" y=\"23.466821\" style=\"fill: #87ceeb\"/>\n     <use xlink:href=\"#m071dae16ff\" x=\"225.97642\" y=\"22.754056\" style=\"fill: #87ceeb\"/>\n     <use xlink:href=\"#m071dae16ff\" x=\"230.075594\" y=\"22.152415\" style=\"fill: #87ceeb\"/>\n     <use xlink:href=\"#m071dae16ff\" x=\"234.174768\" y=\"21.661156\" style=\"fill: #87ceeb\"/>\n     <use xlink:href=\"#m071dae16ff\" x=\"238.273941\" y=\"21.279681\" style=\"fill: #87ceeb\"/>\n     <use xlink:href=\"#m071dae16ff\" x=\"242.373115\" y=\"21.007527\" style=\"fill: #87ceeb\"/>\n     <use xlink:href=\"#m071dae16ff\" x=\"246.472288\" y=\"20.844365\" style=\"fill: #87ceeb\"/>\n     <use xlink:href=\"#m071dae16ff\" x=\"250.571462\" y=\"20.79\" style=\"fill: #87ceeb\"/>\n     <use xlink:href=\"#m071dae16ff\" x=\"254.670635\" y=\"20.844365\" style=\"fill: #87ceeb\"/>\n     <use xlink:href=\"#m071dae16ff\" x=\"258.769809\" y=\"21.007527\" style=\"fill: #87ceeb\"/>\n     <use xlink:href=\"#m071dae16ff\" x=\"262.868982\" y=\"21.279681\" style=\"fill: #87ceeb\"/>\n     <use xlink:href=\"#m071dae16ff\" x=\"266.968156\" y=\"21.661156\" style=\"fill: #87ceeb\"/>\n     <use xlink:href=\"#m071dae16ff\" x=\"271.06733\" y=\"22.152415\" style=\"fill: #87ceeb\"/>\n     <use xlink:href=\"#m071dae16ff\" x=\"275.166503\" y=\"22.754056\" style=\"fill: #87ceeb\"/>\n     <use xlink:href=\"#m071dae16ff\" x=\"295.662371\" y=\"27.449135\" style=\"fill: #87ceeb\"/>\n     <use xlink:href=\"#m071dae16ff\" x=\"299.761544\" y=\"28.733929\" style=\"fill: #87ceeb\"/>\n     <use xlink:href=\"#m071dae16ff\" x=\"303.860718\" y=\"30.137578\" style=\"fill: #87ceeb\"/>\n     <use xlink:href=\"#m071dae16ff\" x=\"307.959892\" y=\"31.662\" style=\"fill: #87ceeb\"/>\n     <use xlink:href=\"#m071dae16ff\" x=\"451.430966\" y=\"238.502483\" style=\"fill: #87ceeb\"/>\n     <use xlink:href=\"#m071dae16ff\" x=\"447.331792\" y=\"216.486\" style=\"fill: #87ceeb\"/>\n     <use xlink:href=\"#m071dae16ff\" x=\"443.232619\" y=\"199.858787\" style=\"fill: #87ceeb\"/>\n     <use xlink:href=\"#m071dae16ff\" x=\"439.133445\" y=\"186.06659\" style=\"fill: #87ceeb\"/>\n     <use xlink:href=\"#m071dae16ff\" x=\"435.034272\" y=\"174.115127\" style=\"fill: #87ceeb\"/>\n     <use xlink:href=\"#m071dae16ff\" x=\"430.935098\" y=\"163.492153\" style=\"fill: #87ceeb\"/>\n     <use xlink:href=\"#m071dae16ff\" x=\"426.835925\" y=\"153.892082\" style=\"fill: #87ceeb\"/>\n     <use xlink:href=\"#m071dae16ff\" x=\"422.736751\" y=\"145.115017\" style=\"fill: #87ceeb\"/>\n     <use xlink:href=\"#m071dae16ff\" x=\"418.637577\" y=\"137.021595\" style=\"fill: #87ceeb\"/>\n     <use xlink:href=\"#m071dae16ff\" x=\"414.538404\" y=\"129.51\" style=\"fill: #87ceeb\"/>\n     <use xlink:href=\"#m071dae16ff\" x=\"410.43923\" y=\"122.503128\" style=\"fill: #87ceeb\"/>\n     <use xlink:href=\"#m071dae16ff\" x=\"406.340057\" y=\"115.940909\" style=\"fill: #87ceeb\"/>\n     <use xlink:href=\"#m071dae16ff\" x=\"402.240883\" y=\"109.775453\" style=\"fill: #87ceeb\"/>\n     <use xlink:href=\"#m071dae16ff\" x=\"398.14171\" y=\"103.96785\" style=\"fill: #87ceeb\"/>\n     <use xlink:href=\"#m071dae16ff\" x=\"394.042536\" y=\"98.485975\" style=\"fill: #87ceeb\"/>\n     <use xlink:href=\"#m071dae16ff\" x=\"389.943363\" y=\"93.302948\" style=\"fill: #87ceeb\"/>\n     <use xlink:href=\"#m071dae16ff\" x=\"361.249148\" y=\"63.825449\" style=\"fill: #87ceeb\"/>\n     <use xlink:href=\"#m071dae16ff\" x=\"357.149974\" y=\"60.42761\" style=\"fill: #87ceeb\"/>\n    </g>\n   </g>\n   <g id=\"patch_3\">\n    <path d=\"M 25.321875 306.18 \nL 25.321875 7.2 \n\" style=\"fill: none\"/>\n   </g>\n   <g id=\"patch_4\">\n    <path d=\"M 471.721875 306.18 \nL 471.721875 7.2 \n\" style=\"fill: none\"/>\n   </g>\n   <g id=\"patch_5\">\n    <path d=\"M 25.321875 306.18 \nL 471.721875 306.18 \n\" style=\"fill: none\"/>\n   </g>\n   <g id=\"patch_6\">\n    <path d=\"M 25.321875 7.2 \nL 471.721875 7.2 \n\" style=\"fill: none\"/>\n   </g>\n  </g>\n </g>\n <defs>\n  <clipPath id=\"p4df4c7fb70\">\n   <rect x=\"25.321875\" y=\"7.2\" width=\"446.4\" height=\"298.98\"/>\n  </clipPath>\n </defs>\n</svg>\n",
      "text/plain": [
       "<Figure size 576x396 with 1 Axes>"
      ]
     },
     "metadata": {},
     "output_type": "display_data"
    }
   ],
   "source": [
    "print_path(best, city_coordinates)"
   ]
  },
  {
   "cell_type": "code",
   "execution_count": 35,
   "metadata": {},
   "outputs": [
    {
     "data": {
      "image/svg+xml": "<?xml version=\"1.0\" encoding=\"utf-8\" standalone=\"no\"?>\n<!DOCTYPE svg PUBLIC \"-//W3C//DTD SVG 1.1//EN\"\n  \"http://www.w3.org/Graphics/SVG/1.1/DTD/svg11.dtd\">\n<svg xmlns:xlink=\"http://www.w3.org/1999/xlink\" width=\"478.921875pt\" height=\"329.525312pt\" viewBox=\"0 0 478.921875 329.525312\" xmlns=\"http://www.w3.org/2000/svg\" version=\"1.1\">\n <metadata>\n  <rdf:RDF xmlns:dc=\"http://purl.org/dc/elements/1.1/\" xmlns:cc=\"http://creativecommons.org/ns#\" xmlns:rdf=\"http://www.w3.org/1999/02/22-rdf-syntax-ns#\">\n   <cc:Work>\n    <dc:type rdf:resource=\"http://purl.org/dc/dcmitype/StillImage\"/>\n    <dc:date>2022-03-30T10:19:55.583420</dc:date>\n    <dc:format>image/svg+xml</dc:format>\n    <dc:creator>\n     <cc:Agent>\n      <dc:title>Matplotlib v3.5.1, https://matplotlib.org/</dc:title>\n     </cc:Agent>\n    </dc:creator>\n   </cc:Work>\n  </rdf:RDF>\n </metadata>\n <defs>\n  <style type=\"text/css\">*{stroke-linejoin: round; stroke-linecap: butt}</style>\n </defs>\n <g id=\"figure_1\">\n  <g id=\"patch_1\">\n   <path d=\"M 0 329.525312 \nL 478.921875 329.525312 \nL 478.921875 0 \nL 0 0 \nz\n\" style=\"fill: #ffffff\"/>\n  </g>\n  <g id=\"axes_1\">\n   <g id=\"patch_2\">\n    <path d=\"M 25.321875 306.18 \nL 471.721875 306.18 \nL 471.721875 7.2 \nL 25.321875 7.2 \nz\n\" style=\"fill: #eaeaf2\"/>\n   </g>\n   <g id=\"matplotlib.axis_1\">\n    <g id=\"xtick_1\">\n     <g id=\"line2d_1\">\n      <path d=\"M 86.60452 306.18 \nL 86.60452 7.2 \n\" clip-path=\"url(#pde266aaba7)\" style=\"fill: none; stroke: #ffffff; stroke-linecap: round\"/>\n     </g>\n     <g id=\"line2d_2\"/>\n     <g id=\"text_1\">\n      <!-- −40 -->\n      <g style=\"fill: #262626\" transform=\"translate(78.12327 320.337812)scale(0.1 -0.1)\">\n       <defs>\n        <path id=\"ArialMT-2212\" d=\"M 3381 1997 \nL 356 1997 \nL 356 2522 \nL 3381 2522 \nL 3381 1997 \nz\n\" transform=\"scale(0.015625)\"/>\n        <path id=\"ArialMT-34\" d=\"M 2069 0 \nL 2069 1097 \nL 81 1097 \nL 81 1613 \nL 2172 4581 \nL 2631 4581 \nL 2631 1613 \nL 3250 1613 \nL 3250 1097 \nL 2631 1097 \nL 2631 0 \nL 2069 0 \nz\nM 2069 1613 \nL 2069 3678 \nL 634 1613 \nL 2069 1613 \nz\n\" transform=\"scale(0.015625)\"/>\n        <path id=\"ArialMT-30\" d=\"M 266 2259 \nQ 266 3072 433 3567 \nQ 600 4063 929 4331 \nQ 1259 4600 1759 4600 \nQ 2128 4600 2406 4451 \nQ 2684 4303 2865 4023 \nQ 3047 3744 3150 3342 \nQ 3253 2941 3253 2259 \nQ 3253 1453 3087 958 \nQ 2922 463 2592 192 \nQ 2263 -78 1759 -78 \nQ 1097 -78 719 397 \nQ 266 969 266 2259 \nz\nM 844 2259 \nQ 844 1131 1108 757 \nQ 1372 384 1759 384 \nQ 2147 384 2411 759 \nQ 2675 1134 2675 2259 \nQ 2675 3391 2411 3762 \nQ 2147 4134 1753 4134 \nQ 1366 4134 1134 3806 \nQ 844 3388 844 2259 \nz\n\" transform=\"scale(0.015625)\"/>\n       </defs>\n       <use xlink:href=\"#ArialMT-2212\"/>\n       <use xlink:href=\"#ArialMT-34\" x=\"58.398438\"/>\n       <use xlink:href=\"#ArialMT-30\" x=\"114.013672\"/>\n      </g>\n     </g>\n    </g>\n    <g id=\"xtick_2\">\n     <g id=\"line2d_3\">\n      <path d=\"M 168.587991 306.18 \nL 168.587991 7.2 \n\" clip-path=\"url(#pde266aaba7)\" style=\"fill: none; stroke: #ffffff; stroke-linecap: round\"/>\n     </g>\n     <g id=\"line2d_4\"/>\n     <g id=\"text_2\">\n      <!-- −20 -->\n      <g style=\"fill: #262626\" transform=\"translate(160.106741 320.337812)scale(0.1 -0.1)\">\n       <defs>\n        <path id=\"ArialMT-32\" d=\"M 3222 541 \nL 3222 0 \nL 194 0 \nQ 188 203 259 391 \nQ 375 700 629 1000 \nQ 884 1300 1366 1694 \nQ 2113 2306 2375 2664 \nQ 2638 3022 2638 3341 \nQ 2638 3675 2398 3904 \nQ 2159 4134 1775 4134 \nQ 1369 4134 1125 3890 \nQ 881 3647 878 3216 \nL 300 3275 \nQ 359 3922 746 4261 \nQ 1134 4600 1788 4600 \nQ 2447 4600 2831 4234 \nQ 3216 3869 3216 3328 \nQ 3216 3053 3103 2787 \nQ 2991 2522 2730 2228 \nQ 2469 1934 1863 1422 \nQ 1356 997 1212 845 \nQ 1069 694 975 541 \nL 3222 541 \nz\n\" transform=\"scale(0.015625)\"/>\n       </defs>\n       <use xlink:href=\"#ArialMT-2212\"/>\n       <use xlink:href=\"#ArialMT-32\" x=\"58.398438\"/>\n       <use xlink:href=\"#ArialMT-30\" x=\"114.013672\"/>\n      </g>\n     </g>\n    </g>\n    <g id=\"xtick_3\">\n     <g id=\"line2d_5\">\n      <path d=\"M 250.571462 306.18 \nL 250.571462 7.2 \n\" clip-path=\"url(#pde266aaba7)\" style=\"fill: none; stroke: #ffffff; stroke-linecap: round\"/>\n     </g>\n     <g id=\"line2d_6\"/>\n     <g id=\"text_3\">\n      <!-- 0 -->\n      <g style=\"fill: #262626\" transform=\"translate(247.790993 320.337812)scale(0.1 -0.1)\">\n       <use xlink:href=\"#ArialMT-30\"/>\n      </g>\n     </g>\n    </g>\n    <g id=\"xtick_4\">\n     <g id=\"line2d_7\">\n      <path d=\"M 332.554933 306.18 \nL 332.554933 7.2 \n\" clip-path=\"url(#pde266aaba7)\" style=\"fill: none; stroke: #ffffff; stroke-linecap: round\"/>\n     </g>\n     <g id=\"line2d_8\"/>\n     <g id=\"text_4\">\n      <!-- 20 -->\n      <g style=\"fill: #262626\" transform=\"translate(326.993995 320.337812)scale(0.1 -0.1)\">\n       <use xlink:href=\"#ArialMT-32\"/>\n       <use xlink:href=\"#ArialMT-30\" x=\"55.615234\"/>\n      </g>\n     </g>\n    </g>\n    <g id=\"xtick_5\">\n     <g id=\"line2d_9\">\n      <path d=\"M 414.538404 306.18 \nL 414.538404 7.2 \n\" clip-path=\"url(#pde266aaba7)\" style=\"fill: none; stroke: #ffffff; stroke-linecap: round\"/>\n     </g>\n     <g id=\"line2d_10\"/>\n     <g id=\"text_5\">\n      <!-- 40 -->\n      <g style=\"fill: #262626\" transform=\"translate(408.977466 320.337812)scale(0.1 -0.1)\">\n       <use xlink:href=\"#ArialMT-34\"/>\n       <use xlink:href=\"#ArialMT-30\" x=\"55.615234\"/>\n      </g>\n     </g>\n    </g>\n   </g>\n   <g id=\"matplotlib.axis_2\">\n    <g id=\"ytick_1\">\n     <g id=\"line2d_11\">\n      <path d=\"M 25.321875 292.59 \nL 471.721875 292.59 \n\" clip-path=\"url(#pde266aaba7)\" style=\"fill: none; stroke: #ffffff; stroke-linecap: round\"/>\n     </g>\n     <g id=\"line2d_12\"/>\n     <g id=\"text_6\">\n      <!-- 0 -->\n      <g style=\"fill: #262626\" transform=\"translate(12.760938 296.168906)scale(0.1 -0.1)\">\n       <use xlink:href=\"#ArialMT-30\"/>\n      </g>\n     </g>\n    </g>\n    <g id=\"ytick_2\">\n     <g id=\"line2d_13\">\n      <path d=\"M 25.321875 238.23 \nL 471.721875 238.23 \n\" clip-path=\"url(#pde266aaba7)\" style=\"fill: none; stroke: #ffffff; stroke-linecap: round\"/>\n     </g>\n     <g id=\"line2d_14\"/>\n     <g id=\"text_7\">\n      <!-- 10 -->\n      <g style=\"fill: #262626\" transform=\"translate(7.2 241.808906)scale(0.1 -0.1)\">\n       <defs>\n        <path id=\"ArialMT-31\" d=\"M 2384 0 \nL 1822 0 \nL 1822 3584 \nQ 1619 3391 1289 3197 \nQ 959 3003 697 2906 \nL 697 3450 \nQ 1169 3672 1522 3987 \nQ 1875 4303 2022 4600 \nL 2384 4600 \nL 2384 0 \nz\n\" transform=\"scale(0.015625)\"/>\n       </defs>\n       <use xlink:href=\"#ArialMT-31\"/>\n       <use xlink:href=\"#ArialMT-30\" x=\"55.615234\"/>\n      </g>\n     </g>\n    </g>\n    <g id=\"ytick_3\">\n     <g id=\"line2d_15\">\n      <path d=\"M 25.321875 183.87 \nL 471.721875 183.87 \n\" clip-path=\"url(#pde266aaba7)\" style=\"fill: none; stroke: #ffffff; stroke-linecap: round\"/>\n     </g>\n     <g id=\"line2d_16\"/>\n     <g id=\"text_8\">\n      <!-- 20 -->\n      <g style=\"fill: #262626\" transform=\"translate(7.2 187.448906)scale(0.1 -0.1)\">\n       <use xlink:href=\"#ArialMT-32\"/>\n       <use xlink:href=\"#ArialMT-30\" x=\"55.615234\"/>\n      </g>\n     </g>\n    </g>\n    <g id=\"ytick_4\">\n     <g id=\"line2d_17\">\n      <path d=\"M 25.321875 129.51 \nL 471.721875 129.51 \n\" clip-path=\"url(#pde266aaba7)\" style=\"fill: none; stroke: #ffffff; stroke-linecap: round\"/>\n     </g>\n     <g id=\"line2d_18\"/>\n     <g id=\"text_9\">\n      <!-- 30 -->\n      <g style=\"fill: #262626\" transform=\"translate(7.2 133.088906)scale(0.1 -0.1)\">\n       <defs>\n        <path id=\"ArialMT-33\" d=\"M 269 1209 \nL 831 1284 \nQ 928 806 1161 595 \nQ 1394 384 1728 384 \nQ 2125 384 2398 659 \nQ 2672 934 2672 1341 \nQ 2672 1728 2419 1979 \nQ 2166 2231 1775 2231 \nQ 1616 2231 1378 2169 \nL 1441 2663 \nQ 1497 2656 1531 2656 \nQ 1891 2656 2178 2843 \nQ 2466 3031 2466 3422 \nQ 2466 3731 2256 3934 \nQ 2047 4138 1716 4138 \nQ 1388 4138 1169 3931 \nQ 950 3725 888 3313 \nL 325 3413 \nQ 428 3978 793 4289 \nQ 1159 4600 1703 4600 \nQ 2078 4600 2393 4439 \nQ 2709 4278 2876 4000 \nQ 3044 3722 3044 3409 \nQ 3044 3113 2884 2869 \nQ 2725 2625 2413 2481 \nQ 2819 2388 3044 2092 \nQ 3269 1797 3269 1353 \nQ 3269 753 2831 336 \nQ 2394 -81 1725 -81 \nQ 1122 -81 723 278 \nQ 325 638 269 1209 \nz\n\" transform=\"scale(0.015625)\"/>\n       </defs>\n       <use xlink:href=\"#ArialMT-33\"/>\n       <use xlink:href=\"#ArialMT-30\" x=\"55.615234\"/>\n      </g>\n     </g>\n    </g>\n    <g id=\"ytick_5\">\n     <g id=\"line2d_19\">\n      <path d=\"M 25.321875 75.15 \nL 471.721875 75.15 \n\" clip-path=\"url(#pde266aaba7)\" style=\"fill: none; stroke: #ffffff; stroke-linecap: round\"/>\n     </g>\n     <g id=\"line2d_20\"/>\n     <g id=\"text_10\">\n      <!-- 40 -->\n      <g style=\"fill: #262626\" transform=\"translate(7.2 78.728906)scale(0.1 -0.1)\">\n       <use xlink:href=\"#ArialMT-34\"/>\n       <use xlink:href=\"#ArialMT-30\" x=\"55.615234\"/>\n      </g>\n     </g>\n    </g>\n    <g id=\"ytick_6\">\n     <g id=\"line2d_21\">\n      <path d=\"M 25.321875 20.79 \nL 471.721875 20.79 \n\" clip-path=\"url(#pde266aaba7)\" style=\"fill: none; stroke: #ffffff; stroke-linecap: round\"/>\n     </g>\n     <g id=\"line2d_22\"/>\n     <g id=\"text_11\">\n      <!-- 50 -->\n      <g style=\"fill: #262626\" transform=\"translate(7.2 24.368906)scale(0.1 -0.1)\">\n       <defs>\n        <path id=\"ArialMT-35\" d=\"M 266 1200 \nL 856 1250 \nQ 922 819 1161 601 \nQ 1400 384 1738 384 \nQ 2144 384 2425 690 \nQ 2706 997 2706 1503 \nQ 2706 1984 2436 2262 \nQ 2166 2541 1728 2541 \nQ 1456 2541 1237 2417 \nQ 1019 2294 894 2097 \nL 366 2166 \nL 809 4519 \nL 3088 4519 \nL 3088 3981 \nL 1259 3981 \nL 1013 2750 \nQ 1425 3038 1878 3038 \nQ 2478 3038 2890 2622 \nQ 3303 2206 3303 1553 \nQ 3303 931 2941 478 \nQ 2500 -78 1738 -78 \nQ 1113 -78 717 272 \nQ 322 622 266 1200 \nz\n\" transform=\"scale(0.015625)\"/>\n       </defs>\n       <use xlink:href=\"#ArialMT-35\"/>\n       <use xlink:href=\"#ArialMT-30\" x=\"55.615234\"/>\n      </g>\n     </g>\n    </g>\n   </g>\n   <g id=\"line2d_23\">\n    <path d=\"M 45.612784 292.59 \nL 49.711958 238.502483 \nL 53.811131 216.486 \nL 57.910305 199.858787 \nL 62.009478 186.06659 \nL 66.108652 174.115127 \nL 70.207825 163.492153 \nL 74.306999 153.892082 \nL 78.406173 145.115017 \nL 82.505346 137.021595 \nL 86.60452 129.51 \nL 90.703693 122.503128 \nL 94.802867 115.940909 \nL 98.90204 109.775453 \nL 103.001214 103.96785 \nL 107.100387 98.485975 \nL 111.199561 93.302948 \nL 115.298735 88.39601 \nL 119.397908 83.7457 \nL 123.497082 79.335228 \nL 127.596255 75.15 \nL 131.695429 71.177242 \nL 135.794602 67.405709 \nL 139.893776 63.825449 \nL 143.992949 60.42761 \nL 148.092123 57.204295 \nL 152.191296 54.148425 \nL 156.29047 51.253639 \nL 160.389644 48.514205 \nL 164.488817 45.924948 \nL 168.587991 43.481185 \nL 172.687164 41.178673 \nL 176.786338 39.013564 \nL 180.885511 36.982367 \nL 184.984685 35.081912 \nL 189.083858 33.309325 \nL 193.183032 31.662 \nL 197.282206 30.137578 \nL 201.381379 28.733929 \nL 205.480553 27.449135 \nL 209.579726 26.281475 \nL 213.6789 25.229415 \nL 217.778073 24.291596 \nL 221.877247 23.466821 \nL 225.97642 22.754056 \nL 230.075594 22.152415 \nL 234.174768 21.661156 \nL 238.273941 21.279681 \nL 242.373115 21.007527 \nL 246.472288 20.844365 \nL 250.571462 20.79 \nL 254.670635 20.844365 \nL 258.769809 21.007527 \nL 262.868982 21.279681 \nL 266.968156 21.661156 \nL 271.06733 22.152415 \nL 275.166503 22.754056 \nL 279.265677 23.466821 \nL 283.36485 24.291596 \nL 287.464024 25.229415 \nL 291.563197 26.281475 \nL 295.662371 27.449135 \nL 299.761544 28.733929 \nL 303.860718 30.137578 \nL 307.959892 31.662 \nL 312.059065 33.309325 \nL 316.158239 35.081912 \nL 320.257412 36.982367 \nL 324.356586 39.013564 \nL 328.455759 41.178673 \nL 332.554933 43.481185 \nL 336.654106 45.924948 \nL 340.75328 48.514205 \nL 344.852454 51.253639 \nL 348.951627 54.148425 \nL 353.050801 57.204295 \nL 357.149974 60.42761 \nL 361.249148 63.825449 \nL 365.348321 67.405709 \nL 369.447495 71.177242 \nL 373.546668 75.15 \nL 377.645842 79.335228 \nL 381.745015 83.7457 \nL 385.844189 88.39601 \nL 389.943363 93.302948 \nL 394.042536 98.485975 \nL 398.14171 103.96785 \nL 402.240883 109.775453 \nL 406.340057 115.940909 \nL 410.43923 122.503128 \nL 414.538404 129.51 \nL 418.637577 137.021595 \nL 422.736751 145.115017 \nL 426.835925 153.892082 \nL 430.935098 163.492153 \nL 435.034272 174.115127 \nL 439.133445 186.06659 \nL 443.232619 199.858787 \nL 447.331792 216.486 \nL 451.430966 238.502483 \n\" clip-path=\"url(#pde266aaba7)\" style=\"fill: none; stroke: #87ceeb; stroke-width: 1.75; stroke-linecap: round\"/>\n    <defs>\n     <path id=\"m7c959e1fec\" d=\"M 0 3.5 \nC 0.928211 3.5 1.81853 3.131218 2.474874 2.474874 \nC 3.131218 1.81853 3.5 0.928211 3.5 0 \nC 3.5 -0.928211 3.131218 -1.81853 2.474874 -2.474874 \nC 1.81853 -3.131218 0.928211 -3.5 0 -3.5 \nC -0.928211 -3.5 -1.81853 -3.131218 -2.474874 -2.474874 \nC -3.131218 -1.81853 -3.5 -0.928211 -3.5 0 \nC -3.5 0.928211 -3.131218 1.81853 -2.474874 2.474874 \nC -1.81853 3.131218 -0.928211 3.5 0 3.5 \nz\n\"/>\n    </defs>\n    <g clip-path=\"url(#pde266aaba7)\">\n     <use xlink:href=\"#m7c959e1fec\" x=\"45.612784\" y=\"292.59\" style=\"fill: #87ceeb\"/>\n     <use xlink:href=\"#m7c959e1fec\" x=\"49.711958\" y=\"238.502483\" style=\"fill: #87ceeb\"/>\n     <use xlink:href=\"#m7c959e1fec\" x=\"53.811131\" y=\"216.486\" style=\"fill: #87ceeb\"/>\n     <use xlink:href=\"#m7c959e1fec\" x=\"57.910305\" y=\"199.858787\" style=\"fill: #87ceeb\"/>\n     <use xlink:href=\"#m7c959e1fec\" x=\"62.009478\" y=\"186.06659\" style=\"fill: #87ceeb\"/>\n     <use xlink:href=\"#m7c959e1fec\" x=\"66.108652\" y=\"174.115127\" style=\"fill: #87ceeb\"/>\n     <use xlink:href=\"#m7c959e1fec\" x=\"70.207825\" y=\"163.492153\" style=\"fill: #87ceeb\"/>\n     <use xlink:href=\"#m7c959e1fec\" x=\"74.306999\" y=\"153.892082\" style=\"fill: #87ceeb\"/>\n     <use xlink:href=\"#m7c959e1fec\" x=\"78.406173\" y=\"145.115017\" style=\"fill: #87ceeb\"/>\n     <use xlink:href=\"#m7c959e1fec\" x=\"82.505346\" y=\"137.021595\" style=\"fill: #87ceeb\"/>\n     <use xlink:href=\"#m7c959e1fec\" x=\"86.60452\" y=\"129.51\" style=\"fill: #87ceeb\"/>\n     <use xlink:href=\"#m7c959e1fec\" x=\"90.703693\" y=\"122.503128\" style=\"fill: #87ceeb\"/>\n     <use xlink:href=\"#m7c959e1fec\" x=\"94.802867\" y=\"115.940909\" style=\"fill: #87ceeb\"/>\n     <use xlink:href=\"#m7c959e1fec\" x=\"98.90204\" y=\"109.775453\" style=\"fill: #87ceeb\"/>\n     <use xlink:href=\"#m7c959e1fec\" x=\"103.001214\" y=\"103.96785\" style=\"fill: #87ceeb\"/>\n     <use xlink:href=\"#m7c959e1fec\" x=\"107.100387\" y=\"98.485975\" style=\"fill: #87ceeb\"/>\n     <use xlink:href=\"#m7c959e1fec\" x=\"111.199561\" y=\"93.302948\" style=\"fill: #87ceeb\"/>\n     <use xlink:href=\"#m7c959e1fec\" x=\"115.298735\" y=\"88.39601\" style=\"fill: #87ceeb\"/>\n     <use xlink:href=\"#m7c959e1fec\" x=\"119.397908\" y=\"83.7457\" style=\"fill: #87ceeb\"/>\n     <use xlink:href=\"#m7c959e1fec\" x=\"123.497082\" y=\"79.335228\" style=\"fill: #87ceeb\"/>\n     <use xlink:href=\"#m7c959e1fec\" x=\"127.596255\" y=\"75.15\" style=\"fill: #87ceeb\"/>\n     <use xlink:href=\"#m7c959e1fec\" x=\"131.695429\" y=\"71.177242\" style=\"fill: #87ceeb\"/>\n     <use xlink:href=\"#m7c959e1fec\" x=\"135.794602\" y=\"67.405709\" style=\"fill: #87ceeb\"/>\n     <use xlink:href=\"#m7c959e1fec\" x=\"139.893776\" y=\"63.825449\" style=\"fill: #87ceeb\"/>\n     <use xlink:href=\"#m7c959e1fec\" x=\"143.992949\" y=\"60.42761\" style=\"fill: #87ceeb\"/>\n     <use xlink:href=\"#m7c959e1fec\" x=\"148.092123\" y=\"57.204295\" style=\"fill: #87ceeb\"/>\n     <use xlink:href=\"#m7c959e1fec\" x=\"152.191296\" y=\"54.148425\" style=\"fill: #87ceeb\"/>\n     <use xlink:href=\"#m7c959e1fec\" x=\"156.29047\" y=\"51.253639\" style=\"fill: #87ceeb\"/>\n     <use xlink:href=\"#m7c959e1fec\" x=\"160.389644\" y=\"48.514205\" style=\"fill: #87ceeb\"/>\n     <use xlink:href=\"#m7c959e1fec\" x=\"164.488817\" y=\"45.924948\" style=\"fill: #87ceeb\"/>\n     <use xlink:href=\"#m7c959e1fec\" x=\"168.587991\" y=\"43.481185\" style=\"fill: #87ceeb\"/>\n     <use xlink:href=\"#m7c959e1fec\" x=\"172.687164\" y=\"41.178673\" style=\"fill: #87ceeb\"/>\n     <use xlink:href=\"#m7c959e1fec\" x=\"176.786338\" y=\"39.013564\" style=\"fill: #87ceeb\"/>\n     <use xlink:href=\"#m7c959e1fec\" x=\"180.885511\" y=\"36.982367\" style=\"fill: #87ceeb\"/>\n     <use xlink:href=\"#m7c959e1fec\" x=\"184.984685\" y=\"35.081912\" style=\"fill: #87ceeb\"/>\n     <use xlink:href=\"#m7c959e1fec\" x=\"189.083858\" y=\"33.309325\" style=\"fill: #87ceeb\"/>\n     <use xlink:href=\"#m7c959e1fec\" x=\"193.183032\" y=\"31.662\" style=\"fill: #87ceeb\"/>\n     <use xlink:href=\"#m7c959e1fec\" x=\"197.282206\" y=\"30.137578\" style=\"fill: #87ceeb\"/>\n     <use xlink:href=\"#m7c959e1fec\" x=\"201.381379\" y=\"28.733929\" style=\"fill: #87ceeb\"/>\n     <use xlink:href=\"#m7c959e1fec\" x=\"205.480553\" y=\"27.449135\" style=\"fill: #87ceeb\"/>\n     <use xlink:href=\"#m7c959e1fec\" x=\"209.579726\" y=\"26.281475\" style=\"fill: #87ceeb\"/>\n     <use xlink:href=\"#m7c959e1fec\" x=\"213.6789\" y=\"25.229415\" style=\"fill: #87ceeb\"/>\n     <use xlink:href=\"#m7c959e1fec\" x=\"217.778073\" y=\"24.291596\" style=\"fill: #87ceeb\"/>\n     <use xlink:href=\"#m7c959e1fec\" x=\"221.877247\" y=\"23.466821\" style=\"fill: #87ceeb\"/>\n     <use xlink:href=\"#m7c959e1fec\" x=\"225.97642\" y=\"22.754056\" style=\"fill: #87ceeb\"/>\n     <use xlink:href=\"#m7c959e1fec\" x=\"230.075594\" y=\"22.152415\" style=\"fill: #87ceeb\"/>\n     <use xlink:href=\"#m7c959e1fec\" x=\"234.174768\" y=\"21.661156\" style=\"fill: #87ceeb\"/>\n     <use xlink:href=\"#m7c959e1fec\" x=\"238.273941\" y=\"21.279681\" style=\"fill: #87ceeb\"/>\n     <use xlink:href=\"#m7c959e1fec\" x=\"242.373115\" y=\"21.007527\" style=\"fill: #87ceeb\"/>\n     <use xlink:href=\"#m7c959e1fec\" x=\"246.472288\" y=\"20.844365\" style=\"fill: #87ceeb\"/>\n     <use xlink:href=\"#m7c959e1fec\" x=\"250.571462\" y=\"20.79\" style=\"fill: #87ceeb\"/>\n     <use xlink:href=\"#m7c959e1fec\" x=\"254.670635\" y=\"20.844365\" style=\"fill: #87ceeb\"/>\n     <use xlink:href=\"#m7c959e1fec\" x=\"258.769809\" y=\"21.007527\" style=\"fill: #87ceeb\"/>\n     <use xlink:href=\"#m7c959e1fec\" x=\"262.868982\" y=\"21.279681\" style=\"fill: #87ceeb\"/>\n     <use xlink:href=\"#m7c959e1fec\" x=\"266.968156\" y=\"21.661156\" style=\"fill: #87ceeb\"/>\n     <use xlink:href=\"#m7c959e1fec\" x=\"271.06733\" y=\"22.152415\" style=\"fill: #87ceeb\"/>\n     <use xlink:href=\"#m7c959e1fec\" x=\"275.166503\" y=\"22.754056\" style=\"fill: #87ceeb\"/>\n     <use xlink:href=\"#m7c959e1fec\" x=\"279.265677\" y=\"23.466821\" style=\"fill: #87ceeb\"/>\n     <use xlink:href=\"#m7c959e1fec\" x=\"283.36485\" y=\"24.291596\" style=\"fill: #87ceeb\"/>\n     <use xlink:href=\"#m7c959e1fec\" x=\"287.464024\" y=\"25.229415\" style=\"fill: #87ceeb\"/>\n     <use xlink:href=\"#m7c959e1fec\" x=\"291.563197\" y=\"26.281475\" style=\"fill: #87ceeb\"/>\n     <use xlink:href=\"#m7c959e1fec\" x=\"295.662371\" y=\"27.449135\" style=\"fill: #87ceeb\"/>\n     <use xlink:href=\"#m7c959e1fec\" x=\"299.761544\" y=\"28.733929\" style=\"fill: #87ceeb\"/>\n     <use xlink:href=\"#m7c959e1fec\" x=\"303.860718\" y=\"30.137578\" style=\"fill: #87ceeb\"/>\n     <use xlink:href=\"#m7c959e1fec\" x=\"307.959892\" y=\"31.662\" style=\"fill: #87ceeb\"/>\n     <use xlink:href=\"#m7c959e1fec\" x=\"312.059065\" y=\"33.309325\" style=\"fill: #87ceeb\"/>\n     <use xlink:href=\"#m7c959e1fec\" x=\"316.158239\" y=\"35.081912\" style=\"fill: #87ceeb\"/>\n     <use xlink:href=\"#m7c959e1fec\" x=\"320.257412\" y=\"36.982367\" style=\"fill: #87ceeb\"/>\n     <use xlink:href=\"#m7c959e1fec\" x=\"324.356586\" y=\"39.013564\" style=\"fill: #87ceeb\"/>\n     <use xlink:href=\"#m7c959e1fec\" x=\"328.455759\" y=\"41.178673\" style=\"fill: #87ceeb\"/>\n     <use xlink:href=\"#m7c959e1fec\" x=\"332.554933\" y=\"43.481185\" style=\"fill: #87ceeb\"/>\n     <use xlink:href=\"#m7c959e1fec\" x=\"336.654106\" y=\"45.924948\" style=\"fill: #87ceeb\"/>\n     <use xlink:href=\"#m7c959e1fec\" x=\"340.75328\" y=\"48.514205\" style=\"fill: #87ceeb\"/>\n     <use xlink:href=\"#m7c959e1fec\" x=\"344.852454\" y=\"51.253639\" style=\"fill: #87ceeb\"/>\n     <use xlink:href=\"#m7c959e1fec\" x=\"348.951627\" y=\"54.148425\" style=\"fill: #87ceeb\"/>\n     <use xlink:href=\"#m7c959e1fec\" x=\"353.050801\" y=\"57.204295\" style=\"fill: #87ceeb\"/>\n     <use xlink:href=\"#m7c959e1fec\" x=\"357.149974\" y=\"60.42761\" style=\"fill: #87ceeb\"/>\n     <use xlink:href=\"#m7c959e1fec\" x=\"361.249148\" y=\"63.825449\" style=\"fill: #87ceeb\"/>\n     <use xlink:href=\"#m7c959e1fec\" x=\"365.348321\" y=\"67.405709\" style=\"fill: #87ceeb\"/>\n     <use xlink:href=\"#m7c959e1fec\" x=\"369.447495\" y=\"71.177242\" style=\"fill: #87ceeb\"/>\n     <use xlink:href=\"#m7c959e1fec\" x=\"373.546668\" y=\"75.15\" style=\"fill: #87ceeb\"/>\n     <use xlink:href=\"#m7c959e1fec\" x=\"377.645842\" y=\"79.335228\" style=\"fill: #87ceeb\"/>\n     <use xlink:href=\"#m7c959e1fec\" x=\"381.745015\" y=\"83.7457\" style=\"fill: #87ceeb\"/>\n     <use xlink:href=\"#m7c959e1fec\" x=\"385.844189\" y=\"88.39601\" style=\"fill: #87ceeb\"/>\n     <use xlink:href=\"#m7c959e1fec\" x=\"389.943363\" y=\"93.302948\" style=\"fill: #87ceeb\"/>\n     <use xlink:href=\"#m7c959e1fec\" x=\"394.042536\" y=\"98.485975\" style=\"fill: #87ceeb\"/>\n     <use xlink:href=\"#m7c959e1fec\" x=\"398.14171\" y=\"103.96785\" style=\"fill: #87ceeb\"/>\n     <use xlink:href=\"#m7c959e1fec\" x=\"402.240883\" y=\"109.775453\" style=\"fill: #87ceeb\"/>\n     <use xlink:href=\"#m7c959e1fec\" x=\"406.340057\" y=\"115.940909\" style=\"fill: #87ceeb\"/>\n     <use xlink:href=\"#m7c959e1fec\" x=\"410.43923\" y=\"122.503128\" style=\"fill: #87ceeb\"/>\n     <use xlink:href=\"#m7c959e1fec\" x=\"414.538404\" y=\"129.51\" style=\"fill: #87ceeb\"/>\n     <use xlink:href=\"#m7c959e1fec\" x=\"418.637577\" y=\"137.021595\" style=\"fill: #87ceeb\"/>\n     <use xlink:href=\"#m7c959e1fec\" x=\"422.736751\" y=\"145.115017\" style=\"fill: #87ceeb\"/>\n     <use xlink:href=\"#m7c959e1fec\" x=\"426.835925\" y=\"153.892082\" style=\"fill: #87ceeb\"/>\n     <use xlink:href=\"#m7c959e1fec\" x=\"430.935098\" y=\"163.492153\" style=\"fill: #87ceeb\"/>\n     <use xlink:href=\"#m7c959e1fec\" x=\"435.034272\" y=\"174.115127\" style=\"fill: #87ceeb\"/>\n     <use xlink:href=\"#m7c959e1fec\" x=\"439.133445\" y=\"186.06659\" style=\"fill: #87ceeb\"/>\n     <use xlink:href=\"#m7c959e1fec\" x=\"443.232619\" y=\"199.858787\" style=\"fill: #87ceeb\"/>\n     <use xlink:href=\"#m7c959e1fec\" x=\"447.331792\" y=\"216.486\" style=\"fill: #87ceeb\"/>\n     <use xlink:href=\"#m7c959e1fec\" x=\"451.430966\" y=\"238.502483\" style=\"fill: #87ceeb\"/>\n    </g>\n   </g>\n   <g id=\"patch_3\">\n    <path d=\"M 25.321875 306.18 \nL 25.321875 7.2 \n\" style=\"fill: none\"/>\n   </g>\n   <g id=\"patch_4\">\n    <path d=\"M 471.721875 306.18 \nL 471.721875 7.2 \n\" style=\"fill: none\"/>\n   </g>\n   <g id=\"patch_5\">\n    <path d=\"M 25.321875 306.18 \nL 471.721875 306.18 \n\" style=\"fill: none\"/>\n   </g>\n   <g id=\"patch_6\">\n    <path d=\"M 25.321875 7.2 \nL 471.721875 7.2 \n\" style=\"fill: none\"/>\n   </g>\n  </g>\n </g>\n <defs>\n  <clipPath id=\"pde266aaba7\">\n   <rect x=\"25.321875\" y=\"7.2\" width=\"446.4\" height=\"298.98\"/>\n  </clipPath>\n </defs>\n</svg>\n",
      "text/plain": [
       "<Figure size 576x396 with 1 Axes>"
      ]
     },
     "metadata": {},
     "output_type": "display_data"
    }
   ],
   "source": [
    "print_path(sorted(best), city_coordinates)"
   ]
  }
 ],
 "metadata": {
  "interpreter": {
   "hash": "9060e32559f7c3024183ee229a1c2fd2832e4b1448b8f739c4cef7a0edc0a112"
  },
  "kernelspec": {
   "display_name": "Python 3.9.10 ('venv': venv)",
   "language": "python",
   "name": "python3"
  },
  "language_info": {
   "codemirror_mode": {
    "name": "ipython",
    "version": 3
   },
   "file_extension": ".py",
   "mimetype": "text/x-python",
   "name": "python",
   "nbconvert_exporter": "python",
   "pygments_lexer": "ipython3",
   "version": "3.9.10"
  },
  "orig_nbformat": 4
 },
 "nbformat": 4,
 "nbformat_minor": 2
}
