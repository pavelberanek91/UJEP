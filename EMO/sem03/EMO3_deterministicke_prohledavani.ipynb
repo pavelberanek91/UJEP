{
 "cells": [
  {
   "cell_type": "markdown",
   "metadata": {},
   "source": [
    "# Evoluční modelování"
   ]
  },
  {
   "cell_type": "markdown",
   "metadata": {},
   "source": [
    "## Cvičení 3 - deterministické prohledávání"
   ]
  },
  {
   "cell_type": "markdown",
   "metadata": {},
   "source": [
    "### Zakázané prohledávání"
   ]
  },
  {
   "cell_type": "code",
   "execution_count": 6,
   "metadata": {},
   "outputs": [
    {
     "name": "stdout",
     "output_type": "stream",
     "text": [
      "init alpha: 0011\n",
      "t: 0, alpha: 1011, x: [3], f(x): -3, f_min: -163, T: [0]\n",
      "t: 1, alpha: 1001, x: [12], f(x): -138, f_min: -190, T: [0, 2]\n",
      "t: 2, alpha: 1000, x: [15], f(x): -219, f_min: -219, T: [2, 3]\n",
      "t: 3, alpha: 1100, x: [14], f(x): -190, f_min: -219, T: [3, 1]\n",
      "t: 4, alpha: 1110, x: [9], f(x): -75, f_min: -219, T: [1, 2]\n",
      "t: 5, alpha: 1111, x: [10], f(x): -94, f_min: -219, T: [2, 3]\n",
      "t: 6, alpha: 1011, x: [11], f(x): -115, f_min: -219, T: [3, 1]\n",
      "t: 7, alpha: 1001, x: [12], f(x): -138, f_min: -219, T: [1, 2]\n",
      "t: 8, alpha: 1000, x: [15], f(x): -219, f_min: -219, T: [2, 3]\n",
      "t: 9, alpha: 1100, x: [14], f(x): -190, f_min: -219, T: [3, 1]\n",
      "t: 10, alpha: 1110, x: [9], f(x): -75, f_min: -219, T: [1, 2]\n",
      "t: 11, alpha: 1111, x: [10], f(x): -94, f_min: -219, T: [2, 3]\n",
      "t: 12, alpha: 1011, x: [11], f(x): -115, f_min: -219, T: [3, 1]\n",
      "t: 13, alpha: 1001, x: [12], f(x): -138, f_min: -219, T: [1, 2]\n",
      "t: 14, alpha: 1000, x: [15], f(x): -219, f_min: -219, T: [2, 3]\n",
      "t: 15, alpha: 1100, x: [14], f(x): -190, f_min: -219, T: [3, 1]\n",
      "t: 16, alpha: 1110, x: [9], f(x): -75, f_min: -219, T: [1, 2]\n",
      "t: 17, alpha: 1111, x: [10], f(x): -94, f_min: -219, T: [2, 3]\n",
      "t: 18, alpha: 1011, x: [11], f(x): -115, f_min: -219, T: [3, 1]\n",
      "t: 19, alpha: 1001, x: [12], f(x): -138, f_min: -219, T: [1, 2]\n",
      "t: 20, alpha: 1000, x: [15], f(x): -219, f_min: -219, T: [2, 3]\n",
      "t: 21, alpha: 1100, x: [14], f(x): -190, f_min: -219, T: [3, 1]\n",
      "t: 22, alpha: 1110, x: [9], f(x): -75, f_min: -219, T: [1, 2]\n",
      "t: 23, alpha: 1111, x: [10], f(x): -94, f_min: -219, T: [2, 3]\n",
      "t: 24, alpha: 1011, x: [11], f(x): -115, f_min: -219, T: [3, 1]\n",
      "t: 25, alpha: 1001, x: [12], f(x): -138, f_min: -219, T: [1, 2]\n",
      "t: 26, alpha: 1000, x: [15], f(x): -219, f_min: -219, T: [2, 3]\n",
      "t: 27, alpha: 1100, x: [14], f(x): -190, f_min: -219, T: [3, 1]\n",
      "t: 28, alpha: 1110, x: [9], f(x): -75, f_min: -219, T: [1, 2]\n",
      "t: 29, alpha: 1111, x: [10], f(x): -94, f_min: -219, T: [2, 3]\n",
      "('1000', -219)\n"
     ]
    }
   ],
   "source": [
    "import random\n",
    "import math\n",
    "\n",
    "def tabu_search(f, tmax, k, n, s):\n",
    "    f_min = math.inf\n",
    "    alpha_min = None\n",
    "    alpha = random_alpha(size=k*n)\n",
    "    print(\"init alpha:\", alpha)\n",
    "    T = []\n",
    "    for time in range(tmax):\n",
    "\n",
    "        f_loc_min = math.inf\n",
    "        alpha_loc_min = None\n",
    "        t_denied = None\n",
    "        for t in range(len(alpha)):\n",
    "            alpha_transformed = alpha[:t] + str(1 + int(alpha[t])*-1) + alpha[t+1:]\n",
    "            x = gamma(alpha_transformed, k, n)\n",
    "            f_x = f(x)\n",
    "            if t not in T and f_x < f_loc_min:\n",
    "                f_loc_min =  f_x\n",
    "                alpha_loc_min = alpha_transformed\n",
    "                t_denied = t\n",
    "        \n",
    "        alpha = alpha_loc_min\n",
    "        if f_loc_min < f_min:\n",
    "            f_min = f_loc_min\n",
    "            alpha_min = alpha_loc_min\n",
    "        \n",
    "        if len(T) == s:\n",
    "            T.pop(0)\n",
    "        T.append(t_denied)\n",
    "\n",
    "        print(f\"t: {time}, alpha: {alpha}, x: {x}, f(x): {f_x}, f_min: {f_min}, T: {T}\")\n",
    "    \n",
    "    return (alpha_min, f_min)\n",
    "\n",
    "def random_alpha(size):\n",
    "    return \"\".join([str(random.randint(0, 1)) for i in range(size)])\n",
    "\n",
    "def gamma(alfa, k, n):\n",
    "    return [gray2dec(alfa[i*k:(i+1)*k]) for i in range(n)]\n",
    "\n",
    "def gray2dec(alfa):\n",
    "    dual = [alfa[0]]\n",
    "    for nextbinary in alfa[1:]:\n",
    "        dual.append(str(int(dual[-1]) ^ int(nextbinary)))\n",
    "    return int(\"\".join(dual), 2)\n",
    "\n",
    "def main():\n",
    "    print(tabu_search(f = lambda x: -x[0]**2 + 6, tmax = 30, k = 4, n = 1, s=2))\n",
    "\n",
    "if __name__ == \"__main__\":\n",
    "    main()"
   ]
  }
 ],
 "metadata": {
  "interpreter": {
   "hash": "702279bc22497bf3a2376d6fb56843f8926aac071a2ee422ef0253b23ddca7dd"
  },
  "kernelspec": {
   "display_name": "Python 3.9.10 64-bit ('venv': venv)",
   "language": "python",
   "name": "python3"
  },
  "language_info": {
   "codemirror_mode": {
    "name": "ipython",
    "version": 3
   },
   "file_extension": ".py",
   "mimetype": "text/x-python",
   "name": "python",
   "nbconvert_exporter": "python",
   "pygments_lexer": "ipython3",
   "version": "3.8.9"
  },
  "orig_nbformat": 4
 },
 "nbformat": 4,
 "nbformat_minor": 2
}
