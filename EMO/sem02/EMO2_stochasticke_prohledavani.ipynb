{
 "cells": [
  {
   "cell_type": "markdown",
   "metadata": {},
   "source": [
    "# Evoluční modelování"
   ]
  },
  {
   "cell_type": "markdown",
   "metadata": {},
   "source": [
    "## Cvičení 2 - Stochastické prohledávání"
   ]
  },
  {
   "cell_type": "markdown",
   "metadata": {},
   "source": [
    "### Náhodné prohledávání"
   ]
  },
  {
   "cell_type": "code",
   "execution_count": 1,
   "metadata": {},
   "outputs": [
    {
     "name": "stdout",
     "output_type": "stream",
     "text": [
      "t: 0, alpha: 0100, x: [4], f(x): -10, f_min: -10\n",
      "t: 1, alpha: 1010, x: [10], f(x): -94, f_min: -94\n",
      "t: 2, alpha: 0110, x: [6], f(x): -30, f_min: -94\n",
      "t: 3, alpha: 0110, x: [6], f(x): -30, f_min: -94\n",
      "t: 4, alpha: 0101, x: [5], f(x): -19, f_min: -94\n",
      "t: 5, alpha: 0101, x: [5], f(x): -19, f_min: -94\n",
      "t: 6, alpha: 1100, x: [12], f(x): -138, f_min: -138\n",
      "t: 7, alpha: 1011, x: [11], f(x): -115, f_min: -138\n",
      "t: 8, alpha: 0110, x: [6], f(x): -30, f_min: -138\n",
      "t: 9, alpha: 0001, x: [1], f(x): 5, f_min: -138\n",
      "t: 10, alpha: 0000, x: [0], f(x): 6, f_min: -138\n",
      "t: 11, alpha: 1100, x: [12], f(x): -138, f_min: -138\n",
      "t: 12, alpha: 1010, x: [10], f(x): -94, f_min: -138\n",
      "t: 13, alpha: 0010, x: [2], f(x): 2, f_min: -138\n",
      "t: 14, alpha: 1110, x: [14], f(x): -190, f_min: -190\n",
      "t: 15, alpha: 1110, x: [14], f(x): -190, f_min: -190\n",
      "t: 16, alpha: 1101, x: [13], f(x): -163, f_min: -190\n",
      "t: 17, alpha: 0010, x: [2], f(x): 2, f_min: -190\n",
      "t: 18, alpha: 0000, x: [0], f(x): 6, f_min: -190\n",
      "t: 19, alpha: 1011, x: [11], f(x): -115, f_min: -190\n",
      "t: 20, alpha: 0000, x: [0], f(x): 6, f_min: -190\n",
      "t: 21, alpha: 0011, x: [3], f(x): -3, f_min: -190\n",
      "t: 22, alpha: 1000, x: [8], f(x): -58, f_min: -190\n",
      "t: 23, alpha: 0110, x: [6], f(x): -30, f_min: -190\n",
      "t: 24, alpha: 1011, x: [11], f(x): -115, f_min: -190\n",
      "t: 25, alpha: 0111, x: [7], f(x): -43, f_min: -190\n",
      "t: 26, alpha: 0011, x: [3], f(x): -3, f_min: -190\n",
      "t: 27, alpha: 0100, x: [4], f(x): -10, f_min: -190\n",
      "t: 28, alpha: 0010, x: [2], f(x): 2, f_min: -190\n",
      "t: 29, alpha: 1010, x: [10], f(x): -94, f_min: -190\n"
     ]
    }
   ],
   "source": [
    "import random\n",
    "import math\n",
    "\n",
    "def random_search(f, tmax, k, n):\n",
    "    f_min = math.inf\n",
    "    alpha_min = None\n",
    "    for time in range(tmax):\n",
    "        alpha = random_alpha(size=k*n)\n",
    "        x = gamma(alpha, k, n)\n",
    "        f_x = f(gamma(alpha, k, n))\n",
    "        if f_x < f_min:\n",
    "            f_min =  f_x\n",
    "            alpha_min = alpha\n",
    "        print(f\"t: {time}, alpha: {alpha}, x: {x}, f(x): {f_x}, f_min: {f_min}\")\n",
    "    return (alpha_min, f_min)\n",
    "\n",
    "def random_alpha(size):\n",
    "    return \"\".join([str(random.randint(0, 1)) for i in range(size)])\n",
    "\n",
    "def gamma(alfa, k, n):\n",
    "    x = [int(alfa[i:i+k], 2) for i in range(0, k*n, k)]\n",
    "    return x\n",
    "\n",
    "def main():\n",
    "    random_search(f = lambda x: -x[0]**2 + 6, tmax = 30, k = 4, n = 1)\n",
    "\n",
    "if __name__ == \"__main__\":\n",
    "    main()"
   ]
  },
  {
   "cell_type": "markdown",
   "metadata": {},
   "source": [
    "### Horolezecky algoritmus"
   ]
  },
  {
   "cell_type": "code",
   "execution_count": 2,
   "metadata": {},
   "outputs": [
    {
     "name": "stdout",
     "output_type": "stream",
     "text": [
      "t: 0, alpha: 1101, x: [9], f(x): -75, f_min: -75\n",
      "t: 1, alpha: 1000, x: [15], f(x): -219, f_min: -219\n",
      "t: 2, alpha: 1000, x: [15], f(x): -219, f_min: -219\n",
      "t: 3, alpha: 1000, x: [15], f(x): -219, f_min: -219\n",
      "t: 4, alpha: 1000, x: [15], f(x): -219, f_min: -219\n",
      "t: 5, alpha: 1000, x: [15], f(x): -219, f_min: -219\n",
      "t: 6, alpha: 1000, x: [15], f(x): -219, f_min: -219\n",
      "t: 7, alpha: 1000, x: [15], f(x): -219, f_min: -219\n",
      "t: 8, alpha: 1000, x: [15], f(x): -219, f_min: -219\n",
      "t: 9, alpha: 1000, x: [15], f(x): -219, f_min: -219\n",
      "t: 10, alpha: 1000, x: [15], f(x): -219, f_min: -219\n",
      "t: 11, alpha: 1000, x: [15], f(x): -219, f_min: -219\n",
      "t: 12, alpha: 1000, x: [15], f(x): -219, f_min: -219\n",
      "t: 13, alpha: 1000, x: [15], f(x): -219, f_min: -219\n",
      "t: 14, alpha: 1000, x: [15], f(x): -219, f_min: -219\n",
      "t: 15, alpha: 1000, x: [15], f(x): -219, f_min: -219\n",
      "t: 16, alpha: 1000, x: [15], f(x): -219, f_min: -219\n",
      "t: 17, alpha: 1000, x: [15], f(x): -219, f_min: -219\n",
      "t: 18, alpha: 1000, x: [15], f(x): -219, f_min: -219\n",
      "t: 19, alpha: 1000, x: [15], f(x): -219, f_min: -219\n",
      "t: 20, alpha: 1000, x: [15], f(x): -219, f_min: -219\n",
      "t: 21, alpha: 1000, x: [15], f(x): -219, f_min: -219\n",
      "t: 22, alpha: 1000, x: [15], f(x): -219, f_min: -219\n",
      "t: 23, alpha: 1000, x: [15], f(x): -219, f_min: -219\n",
      "t: 24, alpha: 1000, x: [15], f(x): -219, f_min: -219\n",
      "t: 25, alpha: 1000, x: [15], f(x): -219, f_min: -219\n",
      "t: 26, alpha: 1000, x: [15], f(x): -219, f_min: -219\n",
      "t: 27, alpha: 1000, x: [15], f(x): -219, f_min: -219\n",
      "t: 28, alpha: 1000, x: [15], f(x): -219, f_min: -219\n",
      "t: 29, alpha: 1000, x: [15], f(x): -219, f_min: -219\n",
      "('1000', -219)\n"
     ]
    }
   ],
   "source": [
    "import random\n",
    "import math\n",
    "\n",
    "def hill_climb(f, tmax, k, n, c0, pmut):\n",
    "    f_min = math.inf\n",
    "    alpha_min = None\n",
    "    alpha = random_alpha(size=k*n)\n",
    "    for time in range(tmax):\n",
    "        U = [mutation(alpha, pmut) for i in range(c0)]\n",
    "        alpha = min(U, key=lambda x: f(gamma(x, k, n)))\n",
    "        x = gamma(alpha, k, n)\n",
    "        f_x = f(x)\n",
    "        if f_x < f_min:\n",
    "            f_min =  f_x\n",
    "            alpha_min = alpha\n",
    "        print(f\"t: {time}, alpha: {alpha}, x: {x}, f(x): {f_x}, f_min: {f_min}\")\n",
    "    return (alpha_min, f_min)\n",
    "\n",
    "def mutation(alfa, pmut):\n",
    "    child = \"\" \n",
    "    for i in range(len(alfa)):\n",
    "        child += str(1 + int(alfa[i]) * -1) if random.random() < pmut else alfa[i]\n",
    "    return child\n",
    "\n",
    "def random_alpha(size):\n",
    "    return \"\".join([str(random.randint(0, 1)) for i in range(size)])\n",
    "\n",
    "def gamma(alfa, k, n):\n",
    "    return [gray2dec(alfa[i*k:(i+1)*k]) for i in range(n)]\n",
    "\n",
    "def gray2dec(alfa):\n",
    "    dual = [alfa[0]]\n",
    "    for nextbinary in alfa[1:]:\n",
    "        dual.append(str(int(dual[-1]) ^ int(nextbinary)))\n",
    "    return int(\"\".join(dual), 2)\n",
    "\n",
    "def main():\n",
    "    print(hill_climb(f = lambda x: -x[0]**2 + 6, tmax = 30, k = 4, n = 1, c0=10, pmut=0.1))\n",
    "\n",
    "if __name__ == \"__main__\":\n",
    "    main()"
   ]
  }
 ],
 "metadata": {
  "interpreter": {
   "hash": "31f2aee4e71d21fbe5cf8b01ff0e069b9275f58929596ceb00d14d90e3e16cd6"
  },
  "kernelspec": {
   "display_name": "Python 3.8.9 64-bit",
   "language": "python",
   "name": "python3"
  },
  "language_info": {
   "codemirror_mode": {
    "name": "ipython",
    "version": 3
   },
   "file_extension": ".py",
   "mimetype": "text/x-python",
   "name": "python",
   "nbconvert_exporter": "python",
   "pygments_lexer": "ipython3",
   "version": "3.8.9"
  },
  "orig_nbformat": 4
 },
 "nbformat": 4,
 "nbformat_minor": 2
}
