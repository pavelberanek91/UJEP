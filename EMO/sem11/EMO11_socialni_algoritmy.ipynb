{
 "cells": [
  {
   "attachments": {},
   "cell_type": "markdown",
   "metadata": {},
   "source": [
    "# Evoluční Modelování\n",
    "\n",
    "## Seminář 11 - Sociální algoritmy\n",
    "\n",
    "### Optimalizace Částicovým Hejnem (Particle Swarm Optimization, PSO)"
   ]
  },
  {
   "cell_type": "code",
   "execution_count": null,
   "metadata": {},
   "outputs": [
    {
     "ename": "",
     "evalue": "",
     "output_type": "error",
     "traceback": [
      "\u001b[1;31mSpouštění buněk s venv vyžaduje balíček ipykernel.\n",
      "\u001b[1;31mRun the following command to install 'ipykernel' into the Python environment. \n",
      "\u001b[1;31mCommand: '/Users/pberanek91/ws/Vyuka/UJEP/EMO/venv/bin/python -m pip install ipykernel -U --force-reinstall'"
     ]
    }
   ],
   "source": [
    "class Particle:\n",
    "    '''\n",
    "    Class that represents particle from PSO technique.\n",
    "    '''\n",
    "\n",
    "    def __init__(self, r: tuple, v: tuple):\n",
    "        self._r = r\n",
    "        self._v = v\n",
    "\n",
    "    @property\n",
    "    def r(self) -> tuple:\n",
    "        return self._r\n",
    "    \n",
    "    @r.setter\n",
    "    def r(self, value) -> None:\n",
    "        self._r = value\n",
    "\n",
    "    @property\n",
    "    def v(self) -> tuple:\n",
    "        return self._v\n",
    "    \n",
    "    @v.setter\n",
    "    def v(self, value) -> None:\n",
    "        self._v = value"
   ]
  }
 ],
 "metadata": {
  "kernelspec": {
   "display_name": "venv",
   "language": "python",
   "name": "python3"
  },
  "language_info": {
   "name": "python",
   "version": "3.11.3"
  },
  "orig_nbformat": 4
 },
 "nbformat": 4,
 "nbformat_minor": 2
}
