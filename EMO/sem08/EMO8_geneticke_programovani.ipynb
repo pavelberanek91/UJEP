{
 "cells": [
  {
   "cell_type": "markdown",
   "metadata": {},
   "source": [
    "knihovna pro gp\n",
    "https://deap.readthedocs.io/en/master/tutorials/advanced/gp.html"
   ]
  },
  {
   "cell_type": "code",
   "execution_count": 4,
   "metadata": {},
   "outputs": [
    {
     "name": "stdout",
     "output_type": "stream",
     "text": [
      "Requirement already satisfied: deap in ./venv/lib/python3.9/site-packages (1.0.1)\n",
      "\u001b[33mWARNING: You are using pip version 21.3.1; however, version 22.0.4 is available.\n",
      "You should consider upgrading via the '/Users/pberanek91/ws/UJEP/KI_PRF_UJEP/evolucni-modelovani/venv/bin/python -m pip install --upgrade pip' command.\u001b[0m\n"
     ]
    }
   ],
   "source": [
    "!python -m pip install deap"
   ]
  },
  {
   "cell_type": "code",
   "execution_count": 6,
   "metadata": {},
   "outputs": [
    {
     "ename": "SyntaxError",
     "evalue": "Missing parentheses in call to 'print'. Did you mean print(logbook.stream)? (algorithms.py, line 143)",
     "output_type": "error",
     "traceback": [
      "Traceback \u001b[0;36m(most recent call last)\u001b[0m:\n",
      "  File \u001b[1;32m~/ws/UJEP/KI_PRF_UJEP/evolucni-modelovani/venv/lib/python3.9/site-packages/IPython/core/interactiveshell.py:3369\u001b[0m in \u001b[1;35mrun_code\u001b[0m\n    exec(code_obj, self.user_global_ns, self.user_ns)\n",
      "\u001b[0;36m  Input \u001b[0;32mIn [6]\u001b[0;36m in \u001b[0;35m<cell line: 7>\u001b[0;36m\u001b[0m\n\u001b[0;31m    from deap import algorithms\u001b[0m\n",
      "\u001b[0;36m  File \u001b[0;32m~/ws/UJEP/KI_PRF_UJEP/evolucni-modelovani/venv/lib/python3.9/site-packages/deap/algorithms.py:143\u001b[0;36m\u001b[0m\n\u001b[0;31m    print logbook.stream\u001b[0m\n\u001b[0m          ^\u001b[0m\n\u001b[0;31mSyntaxError\u001b[0m\u001b[0;31m:\u001b[0m Missing parentheses in call to 'print'. Did you mean print(logbook.stream)?\n"
     ]
    }
   ],
   "source": []
  },
  {
   "cell_type": "code",
   "execution_count": 2,
   "metadata": {},
   "outputs": [
    {
     "ename": "NameError",
     "evalue": "name 'PrimitiveSet' is not defined",
     "output_type": "error",
     "traceback": [
      "\u001b[0;31m---------------------------------------------------------------------------\u001b[0m",
      "\u001b[0;31mNameError\u001b[0m                                 Traceback (most recent call last)",
      "\u001b[1;32m/Users/pberanek91/ws/UJEP/KI_PRF_UJEP/evolucni-modelovani/EMO8_geneticke_programovani.ipynb Cell 4'\u001b[0m in \u001b[0;36m<cell line: 1>\u001b[0;34m()\u001b[0m\n\u001b[0;32m----> <a href='vscode-notebook-cell:/Users/pberanek91/ws/UJEP/KI_PRF_UJEP/evolucni-modelovani/EMO8_geneticke_programovani.ipynb#ch0000001?line=0'>1</a>\u001b[0m pset \u001b[39m=\u001b[39m PrimitiveSet(\u001b[39m\"\u001b[39m\u001b[39mmain\u001b[39m\u001b[39m\"\u001b[39m, \u001b[39m2\u001b[39m)\n\u001b[1;32m      <a href='vscode-notebook-cell:/Users/pberanek91/ws/UJEP/KI_PRF_UJEP/evolucni-modelovani/EMO8_geneticke_programovani.ipynb#ch0000001?line=1'>2</a>\u001b[0m pset\u001b[39m.\u001b[39maddPrimitive(\u001b[39mmax\u001b[39m, \u001b[39m2\u001b[39m)\n\u001b[1;32m      <a href='vscode-notebook-cell:/Users/pberanek91/ws/UJEP/KI_PRF_UJEP/evolucni-modelovani/EMO8_geneticke_programovani.ipynb#ch0000001?line=2'>3</a>\u001b[0m pset\u001b[39m.\u001b[39maddPrimitive(operator\u001b[39m.\u001b[39madd, \u001b[39m2\u001b[39m)\n",
      "\u001b[0;31mNameError\u001b[0m: name 'PrimitiveSet' is not defined"
     ]
    }
   ],
   "source": [
    "\n",
    "import operator\n",
    "import math\n",
    "import random\n",
    "\n",
    "import numpy\n",
    "\n",
    "from deap import algorithms\n",
    "from deap import base\n",
    "from deap import creator\n",
    "from deap import tools\n",
    "from deap import gp\n",
    "\n",
    "# Define new functions\n",
    "def protectedDiv(left, right):\n",
    "    with numpy.errstate(divide='ignore',invalid='ignore'):\n",
    "        x = numpy.divide(left, right)\n",
    "        if isinstance(x, numpy.ndarray):\n",
    "            x[numpy.isinf(x)] = 1\n",
    "            x[numpy.isnan(x)] = 1\n",
    "        elif numpy.isinf(x) or numpy.isnan(x):\n",
    "            x = 1\n",
    "    return x\n",
    "\n",
    "pset = gp.PrimitiveSet(\"MAIN\", 1)\n",
    "pset.addPrimitive(numpy.add, 2, name=\"vadd\")\n",
    "pset.addPrimitive(numpy.subtract, 2, name=\"vsub\")\n",
    "pset.addPrimitive(numpy.multiply, 2, name=\"vmul\")\n",
    "pset.addPrimitive(protectedDiv, 2)\n",
    "pset.addPrimitive(numpy.negative, 1, name=\"vneg\")\n",
    "pset.addPrimitive(numpy.cos, 1, name=\"vcos\")\n",
    "pset.addPrimitive(numpy.sin, 1, name=\"vsin\")\n",
    "pset.addEphemeralConstant(\"rand101\", lambda: random.randint(-1,1))\n",
    "pset.renameArguments(ARG0='x')\n",
    "\n",
    "creator.create(\"FitnessMin\", base.Fitness, weights=(-1.0,))\n",
    "creator.create(\"Individual\", gp.PrimitiveTree, fitness=creator.FitnessMin)\n",
    "\n",
    "toolbox = base.Toolbox()\n",
    "toolbox.register(\"expr\", gp.genHalfAndHalf, pset=pset, min_=1, max_=2)\n",
    "toolbox.register(\"individual\", tools.initIterate, creator.Individual, toolbox.expr)\n",
    "toolbox.register(\"population\", tools.initRepeat, list, toolbox.individual)\n",
    "toolbox.register(\"compile\", gp.compile, pset=pset)\n",
    "\n",
    "samples = numpy.linspace(-1, 1, 10000)\n",
    "values = samples**4 + samples**3 + samples**2 + samples\n",
    "\n",
    "def evalSymbReg(individual):\n",
    "    # Transform the tree expression in a callable function\n",
    "    func = toolbox.compile(expr=individual)\n",
    "    # Evaluate the sum of squared difference between the expression\n",
    "    # and the real function values : x**4 + x**3 + x**2 + x \n",
    "    diff = numpy.sum((func(samples) - values)**2)\n",
    "    return diff,\n",
    "\n",
    "toolbox.register(\"evaluate\", evalSymbReg)\n",
    "toolbox.register(\"select\", tools.selTournament, tournsize=3)\n",
    "toolbox.register(\"mate\", gp.cxOnePoint)\n",
    "toolbox.register(\"expr_mut\", gp.genFull, min_=0, max_=2)\n",
    "toolbox.register('mutate', gp.mutUniform, expr=toolbox.expr_mut, pset=pset)\n",
    "\n",
    "def main():\n",
    "    random.seed(318)\n",
    "\n",
    "    pop = toolbox.population(n=300)\n",
    "    hof = tools.HallOfFame(1)\n",
    "    stats = tools.Statistics(lambda ind: ind.fitness.values)\n",
    "    stats.register(\"avg\", numpy.mean)\n",
    "    stats.register(\"std\", numpy.std)\n",
    "    stats.register(\"min\", numpy.min)\n",
    "    stats.register(\"max\", numpy.max)\n",
    "\n",
    "    algorithms.eaSimple(pop, toolbox, 0.5, 0.1, 40, stats, halloffame=hof)\n",
    "\n",
    "    return pop, stats, hof\n",
    "\n",
    "if __name__ == \"__main__\":\n",
    "    main()"
   ]
  }
 ],
 "metadata": {
  "interpreter": {
   "hash": "9060e32559f7c3024183ee229a1c2fd2832e4b1448b8f739c4cef7a0edc0a112"
  },
  "kernelspec": {
   "display_name": "Python 3.9.10 ('venv': venv)",
   "language": "python",
   "name": "python3"
  },
  "language_info": {
   "codemirror_mode": {
    "name": "ipython",
    "version": 3
   },
   "file_extension": ".py",
   "mimetype": "text/x-python",
   "name": "python",
   "nbconvert_exporter": "python",
   "pygments_lexer": "ipython3",
   "version": "3.9.10"
  },
  "orig_nbformat": 4
 },
 "nbformat": 4,
 "nbformat_minor": 2
}
