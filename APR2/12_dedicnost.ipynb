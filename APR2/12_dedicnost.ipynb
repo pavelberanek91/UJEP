{
 "cells": [
  {
   "cell_type": "markdown",
   "metadata": {},
   "source": [
    "# Algoritmizace a programování 2"
   ]
  },
  {
   "cell_type": "markdown",
   "metadata": {},
   "source": [
    "## Cv.12. Dědičnost\n",
    "\n",
    "* Výhody a nevýhody\n",
    "* Praktické využití\n",
    "* lorem\n",
    "* lorem\n",
    "\n",
    "Fiser (12-13) Emphasis should be on:\n",
    "* single inheritance\n",
    "* ad hoc inheritance (i.e. not building hierarchies)\n",
    "* real inheritance (not formal use only to achieve polymorphism, i.e. not purely abstract classes, duck typing is more natural for Python)\n",
    "* comparing with alternative approaches (folding and delegation)\n",
    "* practical use with standard classes: e.g. list(alternative to delegation)\n",
    "* use of inheritance for GUI (inherited widgets)"
   ]
  },
  {
   "cell_type": "markdown",
   "metadata": {},
   "source": [
    "### 12.1 Dědičnost - Teorie"
   ]
  },
  {
   "cell_type": "code",
   "execution_count": null,
   "metadata": {},
   "outputs": [],
   "source": []
  },
  {
   "cell_type": "markdown",
   "metadata": {},
   "source": [
    "### 12.2 Mechanismus dědění"
   ]
  },
  {
   "cell_type": "code",
   "execution_count": 32,
   "metadata": {},
   "outputs": [],
   "source": [
    "class Osoba:\n",
    "\n",
    "    databaze = []\n",
    "\n",
    "    def __init__(self, jmeno):\n",
    "        self._jmeno = jmeno\n",
    "        self._prihlasen = False\n",
    "        Osoba.databaze.append((jmeno, input(\"Zadejte heslo: \")))\n",
    "\n",
    "    def prihlas_se(self):\n",
    "        if (self._jmeno, input(\"Zadejte heslo: \")) in Osoba.databaze:\n",
    "            self._prihlasen = True\n",
    "            print(\"Jste uspesne prihlasen do systemu.\")\n",
    "        elif self._jmeno in [x[0] for x in Osoba.databaze]:\n",
    "            print(\"Nespravne heslo!\")\n",
    "        else:\n",
    "            print(\"Vas ucet byl smazan!\")\n",
    "            \n",
    "\n",
    "    def odhlas_se(self):\n",
    "        if self._prihlasen:\n",
    "            self._prihlasen = False\n",
    "            print(\"Jste uspesne odhlasen ze systemu.\")\n",
    "        else:\n",
    "            print(\"Nebyl jste vubec prihlasen\")\n"
   ]
  },
  {
   "cell_type": "code",
   "execution_count": 10,
   "metadata": {},
   "outputs": [
    {
     "name": "stdout",
     "output_type": "stream",
     "text": [
      "Nespravne heslo!\n",
      "Nebyl jste vubec prihlasen\n"
     ]
    }
   ],
   "source": [
    "jana = Osoba(\"jana\")\n",
    "jana.prihlas_se()\n",
    "jana.odhlas_se()"
   ]
  },
  {
   "cell_type": "code",
   "execution_count": 33,
   "metadata": {},
   "outputs": [],
   "source": [
    "class Vedouci(Osoba):\n",
    "\n",
    "    def __init__(self, jmeno, prava):\n",
    "        super().__init__(jmeno)\n",
    "        self._prava = prava\n",
    "\n",
    "    def smaz_uzivatele(self, uzivatel):\n",
    "        if not self._prihlasen:\n",
    "            print(\"Nejste prihlasen!\")\n",
    "            return\n",
    "        if \"D\" in self._prava:\n",
    "            if uzivatel in [x[0] for x in Osoba.databaze]:\n",
    "                for i, osoba in enumerate(Osoba.databaze):\n",
    "                    if osoba[0] == uzivatel:\n",
    "                        del Osoba.databaze[i]\n",
    "                        print(f\"Uzivatel {uzivatel} byl smazan\")\n",
    "                        return\n",
    "            else:\n",
    "                print(f\"Uzivatel {uzivatel} neexistuje\")\n",
    "        else:\n",
    "            print(f\"Nemas opravneni k mazani\")"
   ]
  },
  {
   "cell_type": "code",
   "execution_count": 16,
   "metadata": {},
   "outputs": [
    {
     "name": "stdout",
     "output_type": "stream",
     "text": [
      "Nejste prihlasen!\n",
      "Jste uspesne prihlasen do systemu.\n",
      "Nemas opravneni k mazani\n"
     ]
    }
   ],
   "source": [
    "#C - create\n",
    "#R - retrieve\n",
    "#U - update\n",
    "#D - delete\n",
    "pepa = Vedouci(\"pepa\", [\"C\", \"R\"])\n",
    "pepa.smaz_uzivatele(\"jana\")\n",
    "pepa.prihlas_se()\n",
    "pepa.smaz_uzivatele(\"jana\")\n"
   ]
  },
  {
   "cell_type": "code",
   "execution_count": null,
   "metadata": {},
   "outputs": [],
   "source": [
    "jana = Osoba(\"jana\")\n",
    "jana.prihlas_se()\n",
    "jana.odhlas_se()\n",
    "print(Osoba.databaze)\n",
    "\n",
    "martin = Vedouci(\"martin\", [\"C\", \"R\", \"U\", \"D\"])\n",
    "martin.prihlas_se()\n",
    "martin.smaz_uzivatele(\"jana\")\n",
    "print(Osoba.databaze)\n",
    "\n",
    "jana.prihlas_se()"
   ]
  },
  {
   "cell_type": "code",
   "execution_count": 36,
   "metadata": {},
   "outputs": [
    {
     "name": "stdout",
     "output_type": "stream",
     "text": [
      "<__main__.Osoba object at 0x1085782b0> <class '__main__.Osoba'> True\n",
      "<__main__.Osoba object at 0x1085782b0> <class '__main__.Osoba'> False\n",
      "<__main__.Vedouci object at 0x10397c640> <class '__main__.Vedouci'> True\n",
      "<__main__.Vedouci object at 0x10397c640> <class '__main__.Vedouci'> True\n",
      "<class '__main__.Osoba'> <class '__main__.Vedouci'> True\n"
     ]
    }
   ],
   "source": [
    "jana = Osoba(\"jana\")\n",
    "martin = Vedouci(\"martin\", [\"C\", \"R\", \"U\", \"D\"])\n",
    "print(jana, type(jana), isinstance(jana, Osoba))\n",
    "print(jana, type(jana), isinstance(jana, Vedouci))\n",
    "print(martin, type(martin), isinstance(martin, Osoba))\n",
    "print(martin, type(martin), isinstance(martin, Vedouci))\n",
    "print(Osoba, Vedouci, issubclass(Vedouci, Osoba))"
   ]
  },
  {
   "cell_type": "markdown",
   "metadata": {},
   "source": [
    "### 12.3 Abstraktní třídy"
   ]
  },
  {
   "cell_type": "code",
   "execution_count": null,
   "metadata": {},
   "outputs": [],
   "source": []
  },
  {
   "cell_type": "markdown",
   "metadata": {},
   "source": [
    "### 12.4 Lorem"
   ]
  },
  {
   "cell_type": "code",
   "execution_count": null,
   "metadata": {},
   "outputs": [],
   "source": [
    "class Postava:\n",
    "\n",
    "    def __init__(self, hp, att, arm, job):\n",
    "      self._hp = hp\n",
    "      self._att = att\n",
    "      self._arm = arm\n",
    "      self._job = job\n",
    "\n",
    "    @property\n",
    "    def hp(self):\n",
    "        return self._hp\n",
    "    @hp.setter\n",
    "    def hp(self, value):\n",
    "        self._hp = value\n",
    "\n",
    "    @property\n",
    "    def att(self):\n",
    "        return self._att\n",
    "    @att.setter\n",
    "    def att(self, value):\n",
    "        self._att = value\n",
    "\n",
    "    @property\n",
    "    def arm(self):\n",
    "        return self._arm\n",
    "    @arm.setter\n",
    "    def arm(self, value):\n",
    "        self._arm = value\n",
    "\n",
    "    def _zautoc(self, other):\n",
    "      other.hp -= max(self._att - other.arm, 0)\n",
    "\n",
    "    def bandaze(self):\n",
    "        if self._job == \"valecnik\":\n",
    "            self._hp += 1\n",
    "\n",
    "    def fireball(self, other):\n",
    "        if self._job == \"carodej\":\n",
    "            other.hp //= 2\n",
    "\n",
    "    def __gt__(self, other):\n",
    "        self._zautoc(other)\n",
    "\n",
    "fiser = Postava(hp=10, att=1, arm=2, job=\"carodej\")\n",
    "skvor = Postava(hp=20, att=5, arm=5, job=\"valecnik\")\n",
    "\n",
    "print(skvor.hp)\n",
    "fiser.fireball(skvor)\n",
    "print(skvor.hp)\n",
    "print(fiser.hp)\n",
    "fiser.bandaze()\n",
    "print(fiser.hp)"
   ]
  },
  {
   "cell_type": "code",
   "execution_count": null,
   "metadata": {},
   "outputs": [],
   "source": [
    "from abc import ABC, abstractmethod\n",
    "\n",
    "class Postava(ABC):\n",
    "\n",
    "    def __init__(self, hp, att, arm, unava):\n",
    "      self._hp = hp\n",
    "      self._att = att\n",
    "      self._arm = arm\n",
    "      self._unava = unava\n",
    "\n",
    "    @property\n",
    "    def hp(self):\n",
    "        return self._hp\n",
    "    @hp.setter\n",
    "    def hp(self, value):\n",
    "        self._hp = value\n",
    "\n",
    "    @property\n",
    "    def att(self):\n",
    "        return self._att\n",
    "    @att.setter\n",
    "    def att(self, value):\n",
    "        self._att = value\n",
    "\n",
    "    @property\n",
    "    def arm(self):\n",
    "        return self._arm\n",
    "    @arm.setter\n",
    "    def arm(self, value):\n",
    "        self._arm = value\n",
    "\n",
    "    def _zautoc(self, other):\n",
    "      other.hp -= max(self._att - other.arm, 0)\n",
    "\n",
    "    def __gt__(self, other):\n",
    "        self._zautoc(other)\n",
    "\n",
    "    @abstractmethod\n",
    "    def najez_se(self):\n",
    "        ..."
   ]
  },
  {
   "cell_type": "code",
   "execution_count": null,
   "metadata": {},
   "outputs": [],
   "source": [
    "class Valecnik(Postava):\n",
    "\n",
    "    def bandaze(self):\n",
    "        self._hp += 1\n",
    "\n",
    "    def najez_se(self):\n",
    "        print(\"Jdu si ulovit srnku do mocalu zhouby\")\n",
    "\n",
    "skvor = Valecnik(hp=10, att=5, arm=2)"
   ]
  },
  {
   "cell_type": "code",
   "execution_count": null,
   "metadata": {},
   "outputs": [],
   "source": [
    "class Carodej(Postava):\n",
    "\n",
    "    def __init__(self, hp, att, arm, mp):\n",
    "      super().__init__(hp, att, arm)\n",
    "      self._mp = mp\n",
    "\n",
    "    @property\n",
    "    def mp(self):\n",
    "        return self._mp\n",
    "    @mp.setter\n",
    "    def mp(self, value):\n",
    "        self._mp = value\n",
    "\n",
    "    def fireball(self, other):\n",
    "        if self._mp > 2:\n",
    "            self._mp -= 2\n",
    "            other.hp //= 2\n",
    "\n",
    "    def najez_se(self):\n",
    "        print(\"cary mary fuck at je tu zlaty prase\")\n",
    "\n",
    "fiser = Carodej(hp=10, att=1, arm=3, mp=10)\n",
    "fiser.fireball(fiser)"
   ]
  },
  {
   "cell_type": "code",
   "execution_count": null,
   "metadata": {},
   "outputs": [],
   "source": [
    "#jill_valentine = Postava(hp=10, att=1, arm=1)\n",
    "nemesis = Valecnik(hp=10, att=1, arm=1)\n",
    "william_birkin = Carodej(hp=10, att=1, arm=1, mp=10)"
   ]
  },
  {
   "cell_type": "code",
   "execution_count": null,
   "metadata": {},
   "outputs": [],
   "source": [
    "class Valecnik(Postava):\n",
    "\n",
    "    #tridni datove cleny (tridni promenne)\n",
    "    pozdrav = \"Ahoj\"\n",
    "    pocet_bandazi = 100\n",
    "\n",
    "    #instancni datovy clen\n",
    "    def bandaze(self):\n",
    "        if Valecnik.pocet_bandazi > 0:\n",
    "            Valecnik.pocet_bandazi -= 1\n",
    "            self._hp += 1\n",
    "\n",
    "    def najez_se(self):\n",
    "        print(\"Jdu si ulovit srnku do mocalu zhouby\")\n",
    "\n",
    "    #tridni metody\n",
    "    @classmethod\n",
    "    def valecnicky_pozdrav(cls):\n",
    "        print(cls.pozdrav)\n",
    "\n",
    "    #staticka metoda\n",
    "    @staticmethod\n",
    "    def spi():\n",
    "        print(\"chrap chrap\")\n",
    "\n",
    "Valecnik.valecnicky_pozdrav()\n",
    "ogar = Valecnik(12,1,2)\n",
    "Valecnik.pozdrav = \"ahojky\"\n",
    "ogar.valecnicky_pozdrav()\n",
    "Valecnik.spi()\n",
    "ogar.spi()"
   ]
  },
  {
   "cell_type": "code",
   "execution_count": null,
   "metadata": {},
   "outputs": [],
   "source": [
    "class RudyMag(Valecnik, Carodej):\n",
    "    pass\n",
    "\n",
    "beranek = RudyMag(hp=10, att=5, arm=5, mp=1)\n",
    "beranek.bandaze()\n",
    "beranek.fireball(beranek)\n",
    "beranek.najez_se()"
   ]
  },
  {
   "cell_type": "code",
   "execution_count": null,
   "metadata": {},
   "outputs": [],
   "source": [
    "class IUlozitelne(ABC):\n",
    "\n",
    "    @abstractmethod\n",
    "    def uloz_do_db(self):\n",
    "        ...\n",
    "    \n",
    "    @abstractmethod\n",
    "    def uloz_do_csv(self):\n",
    "        ...\n",
    "\n",
    "    @abstractmethod\n",
    "    def uloz_do_txt(self):\n",
    "        ..."
   ]
  }
 ],
 "metadata": {
  "interpreter": {
   "hash": "6a177c70d2005651137d75e2077c960cf0b80436a052a9498399aa566d98682b"
  },
  "kernelspec": {
   "display_name": "Python 3.9.7 64-bit ('.venv': venv)",
   "language": "python",
   "name": "python3"
  },
  "language_info": {
   "codemirror_mode": {
    "name": "ipython",
    "version": 3
   },
   "file_extension": ".py",
   "mimetype": "text/x-python",
   "name": "python",
   "nbconvert_exporter": "python",
   "pygments_lexer": "ipython3",
   "version": "3.9.7"
  },
  "orig_nbformat": 4
 },
 "nbformat": 4,
 "nbformat_minor": 2
}
