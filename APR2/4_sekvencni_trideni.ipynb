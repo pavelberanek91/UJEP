{
 "cells": [
  {
   "cell_type": "markdown",
   "metadata": {},
   "source": [
    "# Algoritmizace a programování 2"
   ]
  },
  {
   "cell_type": "markdown",
   "metadata": {},
   "source": [
    "## Cv.4. Třídící algoritmy nad sekvenčními kolekcemi\n",
    "\n",
    "* Varianty bublinkové třídění - Bubble sort, Comb Sort, Exchange sort, Shaker sort\n",
    "* Jednoduché třídění - Insertion sort, Selection sort\n",
    "* Efektivní třídění - Merge sort, Heap sort, Quick sort, Shell sort\n",
    "* D třídění - Counting sort, Bucket sort, Radix sort\n",
    "\n",
    "Důležité vlastnosti algoritmů:\n",
    "1. Asymptotická složitost O() [Odkaz k samostudiu](https://cs.wikipedia.org/wiki/Asymptotická_složitost)\n",
    "2. Stabilita - pokud je algoritmus stabilní, tak při nálezou dvou stejných hodnot zachová po řazení jejich vzájemné pořadí\n",
    "\n",
    "Odkaz k samostudiu: [Vlastnosti třídících algoritmů](https://en.wikipedia.org/wiki/Sorting_algorithm#Popular_sorting_algorithms)\n",
    "\n",
    "Fiser (4-5):\n",
    "* elementary algorithms: insert, select sort (discussion of time complexity)\n",
    "* fast universal algorithms: heap sort, quick sort or merge sort (sorting properties, basic implementation - emphasis on clarity, not efficiency)\n",
    "* bucket sort (how to achieve O(n) complexity)\n"
   ]
  },
  {
   "cell_type": "markdown",
   "metadata": {},
   "source": [
    "### 4.1 Varianty bublinkového třídění\n",
    "\n",
    "Neefektivní třídící algoritmy, které slouží pouze pro pochopení principu třídění během výuky programování."
   ]
  },
  {
   "cell_type": "markdown",
   "metadata": {},
   "source": [
    "#### 4.1.1 Bubble sort\n",
    "Stabilní O(n**2) výměnný algoritmus.\n",
    "\n",
    "Materiál k samostudiu: [Bubble Sort](https://www.algoritmy.net/article/3/Bubble-sort)"
   ]
  },
  {
   "cell_type": "code",
   "execution_count": 8,
   "metadata": {},
   "outputs": [
    {
     "name": "stdout",
     "output_type": "stream",
     "text": [
      "[0, 1, 1, 1, 2, 2, 2, 3, 3, 3, 4, 5]\n"
     ]
    }
   ],
   "source": [
    "def bubblesort(kolekce):\n",
    "    for i in range(len(kolekce)):\n",
    "        for j in range(len(kolekce)-1-i):\n",
    "            if kolekce[j] > kolekce[j+1]:\n",
    "                kolekce[j], kolekce[j+1] = kolekce[j+1], kolekce[j]\n",
    "\n",
    "kolekce = [1,2,3,1,4,2,3,5,1,0,3,2]\n",
    "bubblesort(kolekce)\n",
    "print(kolekce)"
   ]
  },
  {
   "cell_type": "markdown",
   "metadata": {},
   "source": [
    "#### 4.1.2 Exchange sort\n",
    "Stabilní O(n**2) výměnný algoritmus.\n"
   ]
  },
  {
   "cell_type": "code",
   "execution_count": 19,
   "metadata": {},
   "outputs": [
    {
     "name": "stdout",
     "output_type": "stream",
     "text": [
      "[0, 1, 1, 1, 2, 2, 2, 3, 3, 3, 4, 5]\n"
     ]
    }
   ],
   "source": [
    "def exchangesort(kolekce):\n",
    "    for i in range(0,len(kolekce)-1):\n",
    "        for j in range(i, len(kolekce)):\n",
    "            if kolekce[j] < kolekce[i]:\n",
    "                kolekce[j], kolekce[i] = kolekce[i], kolekce[j]\n",
    "\n",
    "kolekce = [1,2,3,1,4,2,3,5,1,0,3,2]\n",
    "exchangesort(kolekce)\n",
    "print(kolekce)"
   ]
  },
  {
   "cell_type": "markdown",
   "metadata": {},
   "source": [
    "#### 4.1.3 Comb sort\n",
    "\n",
    "Nestabilní O(n**2) algoritmus.\n",
    "\n",
    "Materiál k samostudiu: [Comb Sort](https://www.algoritmy.net/article/51210/Comb-sort)\n",
    "\n",
    "Materiál k samostudiu: [Comb Sort EN](https://www.geeksforgeeks.org/comb-sort/)"
   ]
  },
  {
   "cell_type": "code",
   "execution_count": 21,
   "metadata": {},
   "outputs": [
    {
     "name": "stdout",
     "output_type": "stream",
     "text": [
      "[0, 1, 1, 1, 2, 2, 2, 3, 3, 3, 4, 5]\n"
     ]
    }
   ],
   "source": [
    "def combsort(kolekce):\n",
    "    mezera = len(kolekce)\n",
    "    while mezera > 1:\n",
    "        mezera = int(mezera*3/4)\n",
    "        for i in range(len(kolekce)- mezera):\n",
    "            if kolekce[i] > kolekce[i+mezera]:\n",
    "                kolekce[i], kolekce[i+mezera] = kolekce[i+mezera], kolekce[i]\n",
    "\n",
    "kolekce = [1,2,3,1,4,2,3,5,1,0,3,2]\n",
    "combsort(kolekce)\n",
    "print(kolekce)"
   ]
  },
  {
   "cell_type": "markdown",
   "metadata": {},
   "source": [
    "### 4.2 Jednoduché třídění\n",
    "Tyto algoritmy jsou efektivní pouze pro malé množství prvků v kolekci. Insertion sort bývá rychlejší než selection sort (méně porovnávání), avšak selection sort využívá méně zápisů do paměti a může být tedy v případě pomalých pamětí lepší než insertion sort."
   ]
  },
  {
   "cell_type": "markdown",
   "metadata": {},
   "source": [
    "#### 4.2.1 Selection sort\n",
    "Nestabilní O(n**2) výběrový algoritmus.\n",
    "\n",
    "Materiál k samostudiu: [Selection Sort](https://www.algoritmy.net/article/4/Selection-sort)\n",
    "\n",
    "Materiál k samostudiu: [Selection Sort EN](https://www.geeksforgeeks.org/selection-sort/)"
   ]
  },
  {
   "cell_type": "code",
   "execution_count": 15,
   "metadata": {},
   "outputs": [
    {
     "name": "stdout",
     "output_type": "stream",
     "text": [
      "[0, 1, 1, 1, 2, 2, 2, 3, 3, 3, 4, 5]\n"
     ]
    }
   ],
   "source": [
    "def selectionsort(kolekce):\n",
    "    for i in range(len(kolekce)-1):\n",
    "        min_index = i\n",
    "        for j in range(i, len(kolekce)):\n",
    "            if kolekce[j] < kolekce[min_index]:\n",
    "                min_index = j\n",
    "        kolekce[i], kolekce[min_index] = kolekce[min_index], kolekce[i]\n",
    "\n",
    "kolekce = [1,2,3,1,4,2,3,5,1,0,3,2]\n",
    "selectionsort(kolekce)\n",
    "print(kolekce)"
   ]
  },
  {
   "cell_type": "markdown",
   "metadata": {},
   "source": [
    "#### 4.2.2 Insertion sort\n",
    "Stabilní O(n**2) vkládací algoritmus.\n",
    "\n",
    "Materiál k samostudiu: [Insertion Sort](https://www.algoritmy.net/article/8/Insertion-sort)\n",
    "\n",
    "Materiál k samostudiu: [Insertion Sort EN](https://www.geeksforgeeks.org/insertion-sort/)"
   ]
  },
  {
   "cell_type": "code",
   "execution_count": 18,
   "metadata": {},
   "outputs": [
    {
     "name": "stdout",
     "output_type": "stream",
     "text": [
      "[0, 1, 2, 3, 4, 5]\n"
     ]
    }
   ],
   "source": [
    "def insertionsort(kolekce):\n",
    "    for i in range(1, len(kolekce)):\n",
    "        tmp = kolekce[i]\n",
    "        j = i-1\n",
    "        while j >= 0 and kolekce[j] > tmp:\n",
    "            kolekce[j+1] = kolekce[j]\n",
    "            j -= 1\n",
    "        kolekce[j+1] = tmp\n",
    "\n",
    "kolekce = [1,3,2,4,5,0]\n",
    "insertionsort(kolekce)\n",
    "print(kolekce)"
   ]
  },
  {
   "cell_type": "markdown",
   "metadata": {},
   "source": [
    "### 4.3 Efektivní třídění"
   ]
  },
  {
   "cell_type": "markdown",
   "metadata": {},
   "source": [
    "#### 4.3.1 Quick sort\n",
    "\n",
    "Nestabilní O(nlogn) dělící algoritmus.\n",
    "\n",
    "Materiál k samostudiu: [Quick Sort](https://www.algoritmy.net/article/10/Quicksort)\n",
    "\n",
    "Materiál k samostudiu: [Quick Sort EN](https://www.geeksforgeeks.org/quick-sort/)\n",
    "\n",
    "Materiál k samostudiu: [Optimalizace Quick Sortu EN](https://www.geeksforgeeks.org/iterative-quick-sort/)"
   ]
  },
  {
   "cell_type": "code",
   "execution_count": 10,
   "metadata": {},
   "outputs": [
    {
     "name": "stdout",
     "output_type": "stream",
     "text": [
      "[0, 1, 1, 1, 2, 2, 2, 3, 3, 3, 4, 5]\n"
     ]
    }
   ],
   "source": [
    "def quicksort(kolekce):\n",
    "    if len(kolekce) <= 1:\n",
    "        return kolekce\n",
    "    pivot = kolekce[0]\n",
    "    seznam_mensi = [x for x in kolekce[1:] if x <= pivot]\n",
    "    seznam_vetsi = [x for x in kolekce[1:] if x > pivot]\n",
    "    return quicksort(seznam_mensi) + [pivot] + quicksort(seznam_vetsi)\n",
    "\n",
    "kolekce = [1,2,3,1,4,2,3,5,1,0,3,2]\n",
    "kolekce = quicksort(kolekce)\n",
    "print(kolekce)"
   ]
  },
  {
   "cell_type": "markdown",
   "metadata": {},
   "source": [
    "#### 4.3.2 Merge sort\n",
    "\n",
    "Stabilní O(nlogn) slučovací algoritmus.\n",
    "\n",
    "Materiál k samostudiu: [Merge Sort](https://www.algoritmy.net/article/13/Merge-sort)\n",
    "\n",
    "Materiál k samostudiu: [Merge Sort EN](https://www.geeksforgeeks.org/merge-sort/)"
   ]
  },
  {
   "cell_type": "code",
   "execution_count": 14,
   "metadata": {},
   "outputs": [
    {
     "name": "stdout",
     "output_type": "stream",
     "text": [
      "[0, 1, 1, 1, 2, 2, 2, 3, 3, 3, 4, 5]\n"
     ]
    }
   ],
   "source": [
    "def mergesort(kolekce):\n",
    "\n",
    "    if len(kolekce) <= 1:\n",
    "        return\n",
    "\n",
    "    prostredek = int(len(kolekce)//2)\n",
    "    leva_cast = kolekce[:prostredek]\n",
    "    prava_cast = kolekce[prostredek:]\n",
    "\n",
    "    mergesort(leva_cast)\n",
    "    mergesort(prava_cast)  \n",
    "    \n",
    "    k = 0 #iterator spojeneho seznamu\n",
    "    i = j = 0 # iteratory leve casti a prave casti seznamu\n",
    "\n",
    "    #prochazíme prvky v obou kolekcich a radime na spravne misto podle velikosti\n",
    "    while i < len(leva_cast) and j < len(prava_cast):\n",
    "        if leva_cast[i] < prava_cast[j]:\n",
    "            kolekce[k] = leva_cast[i]\n",
    "            i += 1\n",
    "        else:\n",
    "            kolekce[k] = prava_cast[j]\n",
    "            j += 1\n",
    "        k += 1\n",
    "\n",
    "    #pokud jedna z kolekci ukoncila podminku u predchoziho cyklu, je nutne dopridat zbytek prvku\n",
    "    while i < len(leva_cast):\n",
    "        kolekce[k] = leva_cast[i]\n",
    "        i += 1\n",
    "        k += 1\n",
    "\n",
    "    while j < len(prava_cast):\n",
    "        kolekce[k] = prava_cast[j]\n",
    "        j += 1\n",
    "        k += 1\n",
    "\n",
    "kolekce = [1,2,3,1,4,2,3,5,1,0,3,2]\n",
    "mergesort(kolekce)\n",
    "print(kolekce)"
   ]
  },
  {
   "cell_type": "markdown",
   "metadata": {},
   "source": [
    "#### 4.3.3 Heap sort\n",
    "\n",
    "Nestabilní O(nlogn) výběrový algoritmus.\n",
    "\n",
    "Materiál k samostudiu: [Heap Sort](https://www.algoritmy.net/article/17/Heapsort)\n",
    "\n",
    "Materiál k samostudiu: [Heap Sort EN](https://www.geeksforgeeks.org/heap-sort/)\n",
    "\n",
    "Materiál k samostudiu: [Heap Sort EN 2](https://www.programiz.com/dsa/heap-sort)"
   ]
  },
  {
   "cell_type": "code",
   "execution_count": 104,
   "metadata": {},
   "outputs": [
    {
     "name": "stdout",
     "output_type": "stream",
     "text": [
      "[0, 1, 2, 3, 4]\n"
     ]
    }
   ],
   "source": [
    "def zhaldi(kolekce, n, rodic):\n",
    "    nejvetsi = rodic\n",
    "    vlevo = 2*rodic + 1\n",
    "    vpravo = 2*rodic + 2\n",
    "\n",
    "    if vlevo < n and kolekce[vlevo] > kolekce[nejvetsi]:\n",
    "        nejvetsi = vlevo\n",
    "    if vpravo < n and kolekce[vpravo] > kolekce[nejvetsi]:\n",
    "        nejvetsi = vpravo\n",
    "\n",
    "    if rodic != nejvetsi:\n",
    "        kolekce[rodic], kolekce[nejvetsi] = kolekce[nejvetsi], kolekce[rodic]\n",
    "        zhaldi(kolekce, n, nejvetsi)\n",
    "\n",
    "def heapsort(kolekce):\n",
    "    n = len(kolekce)\n",
    "    #vytvoreni serazene haldy\n",
    "    for i in range(n//2-1, -1, -1):\n",
    "        zhaldi(kolekce, n, i)\n",
    "    #extrakce serazenych prvku z haldy\n",
    "    for i in range(n-1, 0, -1):\n",
    "        kolekce[i], kolekce[0] = kolekce[0], kolekce[i]\n",
    "        zhaldi(kolekce, i, 0)\n",
    "\n",
    "kolekce = [1,2,4,3,0]\n",
    "heapsort(kolekce)\n",
    "print(kolekce)"
   ]
  },
  {
   "cell_type": "markdown",
   "metadata": {},
   "source": [
    "### 4.4 D-třídění\n",
    "Algoritmy, které jsou dělitelné na řadící podproblémy, které mohou být distribuovatelné mezi více procesů."
   ]
  },
  {
   "cell_type": "markdown",
   "metadata": {},
   "source": [
    "#### 4.4.1 Counting sort\n",
    "\n",
    "Stabilní O(n+k) algoritmus.\n",
    "\n",
    "Materiál k samostudiu: [Counting Sort](https://www.algoritmy.net/article/106/Counting-sort)\n",
    "\n",
    "Materiál k samostudiu: [Counting Sort EN](https://www.geeksforgeeks.org/counting-sort/)\n",
    "\n",
    "Materiál k samostudiu: [Counting Sort EN 2](https://www.programiz.com/dsa/counting-sort)"
   ]
  },
  {
   "cell_type": "code",
   "execution_count": 63,
   "metadata": {},
   "outputs": [
    {
     "name": "stdout",
     "output_type": "stream",
     "text": [
      "[0, 0, 0, 1, 1, 2, 4, 4, 5]\n"
     ]
    }
   ],
   "source": [
    "def countingsort(kolekce):\n",
    "    cetnosti = [0 for i in range(max(kolekce)+1)]\n",
    "    for i in range(len(kolekce)):\n",
    "        cetnosti[kolekce[i]] += 1\n",
    "    \n",
    "    kumulativni_soucty = [cetnosti[0]]\n",
    "    for i in range(1, len(cetnosti)):\n",
    "        kumulativni_soucty.append(kumulativni_soucty[i-1] + cetnosti[i])\n",
    "    \n",
    "    #prvek zaradime do noveho pole podle jeho kumulativni cetnosti, -1 je tam z duvodu indexace od 0\n",
    "    serazene_pole = [0 for i in range(len(kolekce))]\n",
    "    for i in range(len(kolekce)-1, -1, -1):\n",
    "        serazene_pole[kumulativni_soucty[kolekce[i]] - 1] = kolekce[i]\n",
    "        kumulativni_soucty[kolekce[i]] -= 1 #prvek jsme jiz zaradili, snizime cetnost o 1\n",
    "\n",
    "    return serazene_pole\n",
    "\n",
    "\n",
    "kolekce = [4,0,0,1,0,2,4,5,1]\n",
    "kolekce = countingsort(kolekce)\n",
    "print(kolekce)"
   ]
  },
  {
   "cell_type": "markdown",
   "metadata": {},
   "source": [
    "#### 4.4.2 Bucket sort\n",
    "\n",
    "Stabilní O(n+k+(n/k)**2) algoritmus.\n",
    "\n",
    "Materiál k samostudiu: [Bucket Sort](https://www.algoritmy.net/article/152/Bucket-sort)\n",
    "\n",
    "Materiál k samostudiu: [Bucket Sort EN](https://www.geeksforgeeks.org/bucket-sort-2/)"
   ]
  },
  {
   "cell_type": "code",
   "execution_count": 74,
   "metadata": {},
   "outputs": [
    {
     "name": "stdout",
     "output_type": "stream",
     "text": [
      "[0, 0, 0, 1, 1, 2, 4, 4, 5]\n"
     ]
    }
   ],
   "source": [
    "def bucketsort(kolekce):\n",
    "\n",
    "    serazena_kolekce = []\n",
    "\n",
    "    kbeliky = [[] for i in range(len(kolekce))]\n",
    "    velikost_kbeliku = max(kolekce)/len(kolekce)\n",
    "    for prvek in kolekce:\n",
    "        kbeliky[int(prvek//velikost_kbeliku)].append(prvek)\n",
    "\n",
    "    #razeni kbeliku rychlym algoritmem, napriklad quicksort (zde pouzit defaultni sort)\n",
    "    for kbelik in kbeliky:\n",
    "        kbelik.sort()\n",
    "\n",
    "    #vyzvedavani serazenych prvku z kbeliku    \n",
    "    for kbelik in kbeliky:\n",
    "        if kbelik == []:\n",
    "            continue\n",
    "        for prvek in kbelik:\n",
    "            serazena_kolekce.append(prvek)\n",
    "\n",
    "    return serazena_kolekce\n",
    "\n",
    "kolekce = [4,0,0,1,0,2,4,5,1]\n",
    "kolekce = bucketsort(kolekce)\n",
    "print(kolekce)"
   ]
  },
  {
   "cell_type": "markdown",
   "metadata": {},
   "source": [
    "### Domácí cvičení"
   ]
  },
  {
   "cell_type": "markdown",
   "metadata": {},
   "source": [
    "#### DCv.1 - Shaker sort\n",
    "\n",
    "Materiál k samostudiu: [Shaker Sort](https://www.algoritmy.net/article/93/Shaker-sort)"
   ]
  },
  {
   "cell_type": "markdown",
   "metadata": {},
   "source": [
    "#### DCv.2 - Bogo sort\n",
    "\n",
    "Materiál k samostudiu: [Bogo Sort](https://www.algoritmy.net/article/44152/Bogosort)"
   ]
  },
  {
   "cell_type": "markdown",
   "metadata": {},
   "source": [
    "#### DCv.3 - Shell sort\n",
    "\n",
    "Materiál k samostudiu: [Shell Sort](https://www.algoritmy.net/article/154/Shell-sort)\n",
    "\n",
    "Materiál k samostudiu: [Shell Sort EN](https://www.geeksforgeeks.org/shellsort/)"
   ]
  },
  {
   "cell_type": "markdown",
   "metadata": {},
   "source": [
    "#### DCv.4 - Radix sort\n",
    "\n",
    "Materiál k samostudiu: [Radix Sort](https://www.algoritmy.net/article/109/Radix-sort)\n",
    "\n",
    "Materiál k samostudiu: [Radix Sort EN](https://www.geeksforgeeks.org/radix-sort/)"
   ]
  },
  {
   "cell_type": "markdown",
   "metadata": {},
   "source": [
    "#### DCv.5 - Integrace třídících algoritmů\n",
    "Obdobně jako v předchozím cvičení si integrujte stávající algoritmy do vašich abstraktních datových struktur ve formě metody."
   ]
  }
 ],
 "metadata": {
  "interpreter": {
   "hash": "6a177c70d2005651137d75e2077c960cf0b80436a052a9498399aa566d98682b"
  },
  "kernelspec": {
   "display_name": "Python 3.9.7 64-bit ('.venv': venv)",
   "language": "python",
   "name": "python3"
  },
  "language_info": {
   "codemirror_mode": {
    "name": "ipython",
    "version": 3
   },
   "file_extension": ".py",
   "mimetype": "text/x-python",
   "name": "python",
   "nbconvert_exporter": "python",
   "pygments_lexer": "ipython3",
   "version": "3.9.7"
  },
  "orig_nbformat": 4
 },
 "nbformat": 4,
 "nbformat_minor": 2
}
