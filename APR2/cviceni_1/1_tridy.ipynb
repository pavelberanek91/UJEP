{
 "cells": [
  {
   "cell_type": "markdown",
   "metadata": {},
   "source": [
    "# Algoritmizace a programování 2"
   ]
  },
  {
   "cell_type": "markdown",
   "metadata": {},
   "source": [
    "## Cv.1. Implementace vlastních tříd\n",
    "\n",
    "Fiser\n",
    "\n",
    "definition of custom classes in Python:\n",
    "* constructors (__init__)\n",
    "* common methods: with return value without changing self (typical for immutable objects), example string, without return value (change self): objects that change states, example list, methods that both modify self and return a value (not very useful, possible use - chaining modifying calls that return a modified self)\n",
    "\n",
    "* all three approaches on a simple class, e.g. sheet of paper (tuple of sizes) with operations as halving, rotation, etc.\n",
    "\n",
    "* attributes and properties (getter and setter methods, property decorators) - importance of encapsulation\n",
    "* special (magic/dunder) methods: initially just __str__, more as they come in handy\n",
    "\n",
    "Ongoing topics\n",
    "* basic collections and working with them (including collections package)\n",
    "* standard packages: re (basics), datetime, enum, math, random (generating in non-uniform distribution), statistics, * * itertools, pathllib, csv, zlib, etc.\n",
    "* documentation: + basic typing, doctest, wtc.\n",
    "* external packages: pillow, requests, numpy (basics)\n",
    "* GUI: Tkinter or Kivy (please send me your preferences)\n",
    "\n",
    "theory and implementation in lectures\n",
    "* stack and queue using list/dequeue\n",
    "* simple linked list\n",
    "* binary search\n",
    "* insert/select sort, bucket sort (I don't like bubble sort)\n",
    "* heap sort\n",
    "* binary tree - basic operations\n",
    "\n",
    "only theory in lectures (implementation in exercises, cognitive apprenticeship)\n",
    "* circular queue, queue using a linked list\n",
    "* heap\n",
    "* bidirectional linked list\n",
    "* merge or quick sort\n",
    "* binary tree - (delete, more complex operations)\n"
   ]
  },
  {
   "cell_type": "markdown",
   "metadata": {},
   "source": [
    "### 1.1 Motivace"
   ]
  },
  {
   "cell_type": "markdown",
   "metadata": {},
   "source": [
    "#### 1.1.1 Programování\n",
    "Co je to vlastně programování? Programování je činnost, při které převádíme myšlenky do spustitelného kódu. Tyto myšlenky se rozkládají do dvou typů: data (atributy) a příkazy (operace, chování). Sadě příkazů, která provádí něco užitečného se říká algoritmus (načti data ze souboru, seřaď kolekci dat). Způsob formování a zápisu myšlenek se může programátor od programátora lišit. Existují určité typické způsoby přemýšlení nad programování, kterým se říká paradigmata programování. "
   ]
  },
  {
   "cell_type": "markdown",
   "metadata": {},
   "source": [
    "#### 1.1.2 Paradigmata programování\n",
    "Základní dvě paradigmata jsou imperativní (program je sada příkazů/imperativů nad daty) a deklarativní (program je specifikace výsledku, který od programu chceme). Deklarativní programování se naučíte v kurzu databází (např.: SELECT * FROM studenti WHERE známka > 2, tj. vyber všechny data o studentech z tabulky studenti, ale jen u studentů, jejichž známka je horší jak 2). U deklarativního programování vůbec neříkáme, z jakých příkazů se má program skládat, aby tyto data našel. Imperativní paradigmat je paradigmat, který jste používali v KI/APR1."
   ]
  },
  {
   "cell_type": "markdown",
   "metadata": {},
   "source": [
    "#### 1.1.3 Imperativní programování\n",
    "Imperativní paradigmat se dále rozkládá na dílčí podtypy. Jmenné konvence jsou trošku chaotické a nejednoznačné. Pokud myšlenky rozkládáme do algoritmů, které jsou izolované v podprogramech (funkce a procedury) a voláme je z hlavního bloku (typicky main), pak se paradigmat nazývá procedurální nebo také strukturovaný. Při tomto přístupu k programování se program navrhuje dvěma způsoby: top-down a bottom-up. Při top-down přístupu začínáme od bloku main a přemýšlíme, jaké dílčí části budeme potřebovat. Následně přemýšlíme, jaké dílčí části potřebujeme pro tvorbu těchto dílčích částí. Při bottom-up tvoříme nejdříve nejkonkrétnější algoritmy a následně z nich tvoříme obecnější algoritmy z dílčích. Pokud se program skládá pouze z funkcí, které volají jiné funkce a pracují s jejich návratovými hodnotami (tím se úplně vyhneme změně stavů objektů - viz dále v tomto sešitě), pak se nazývá paradigmat funkcionální"
   ]
  },
  {
   "cell_type": "markdown",
   "metadata": {},
   "source": [
    "#### 1.1.4 Objektově-orientované programování\n",
    "Jednim z dominantních imperativních paradigmatů v dnešní době je objektově-orientované programování (OOP). Tento paradigmat vyžaduje značné úsilí k ovládnutí. Jednak má složitou a značně abstraktní terminologii a jednak vyžaduje několik let používání, než ho ovládnete natolik, abyste v něm správným způsobem navrhovali a implementovalo udržitelné a spolehlivé aplikace. Jednim z důvodu vzniku byla motivace zvýšit kvalitu softwaru modelováním entity reálného světa (entita = abstrakce skutečnosti). Příkazům se zde říká operace entit a datům atributy entity. Modelováním entit našeho světa by mělo teoreticky zjednodušit návrh softwaru, jelikož modelujeme věci kolem sebe na které si můžeme ukázat (zaměstnanec, čipová karta, databáze). Každý jazyk zavádí terminologii trošku jinak. Například jazyky Java a C# pro atributy využívají název pole (field), jazyk C++ využívá název členské proměnné, jazyk javascript využívá název vlastnost (property), atd. Pro algoritmy z příkazů se využívá převážně pojem metoda. V Jazyce Python se atributům říká datové členy (instanční a třídní) a operacím se říká metody."
   ]
  },
  {
   "cell_type": "code",
   "execution_count": 1,
   "metadata": {},
   "outputs": [
    {
     "name": "stdout",
     "output_type": "stream",
     "text": [
      "haf haf\n",
      "haf haf\n"
     ]
    }
   ],
   "source": [
    "#operace entity\n",
    "def stekej(pes):\n",
    "    return \"haf haf\"\n",
    "\n",
    "#atributy entity\n",
    "azor = {\n",
    "    \"jmeno\": \"Azor\",\n",
    "    \"majitele\": [\"Jana\", \"Petr\"]\n",
    "}\n",
    "\n",
    "#entita s urcitymi atributy provadi operaci\n",
    "print(stekej(pes=azor))\n",
    "\n",
    "#ale bohuzel take funguje\n",
    "honza = \"Honza Novak\"\n",
    "print(stekej(pes=honza))\n",
    "\n",
    "#operace neni svazana s entitou drzici atributy"
   ]
  },
  {
   "cell_type": "markdown",
   "metadata": {},
   "source": [
    "### 1.2 Třída\n",
    "\n",
    "V předchozím kódu jste viděli, že operace nejsou svázané (coupling) s entitou, která byla realizována slovníkem s daty. V OOP máme pro toto svázání prostředek s názvem třída (class). Třída je určitá šablona společných atributů (datových členů) a operací (metod), které budou mít všechny entity (objekty) tohoto typu. Pro vytvoření (instantizování = zhmotnění) objektu dané třídy (instantizace instance třídy) se volá speciální metoda zvaná konstruktor (v Pythonu se jí také říká inicializér). V těle konstruktoru se nachází přiřazení všech datových členů do objektu, který je typicky realizován slovem self (může být jiné slovo, ale úzus je používat self). Hodnoty datových členů se vloží do konstruktoru jako argumenty. Instantizace se provede zavoláním jména třídy s argumenty (většina jazyků využívá klíčové slovo new, python však ne).\n",
    "\n",
    "Odkaz k samostudiu: [OOP terminologie](https://www.tutorialspoint.com/oop-terminology-in-python)"
   ]
  },
  {
   "cell_type": "code",
   "execution_count": 3,
   "metadata": {},
   "outputs": [
    {
     "name": "stdout",
     "output_type": "stream",
     "text": [
      "haf haf\n",
      "['Jana', 'Petr']\n"
     ]
    }
   ],
   "source": [
    "#definice tridy\n",
    "class Pes:\n",
    "\n",
    "    #konstruktor - metoda vytvarejici novou instanci (zhmotneni) tridy = objekt\n",
    "    def __init__(self, jmeno, majitele):\n",
    "        self.jmeno = jmeno\n",
    "        self.majitele = majitele\n",
    "\n",
    "    #metoda\n",
    "    def stekej(self):\n",
    "        return \"haf haf\"\n",
    "\n",
    "azor = Pes(\"Azor\", [\"Jana\", \"Petr\"]) #instantizace tridy\n",
    "print(azor.stekej()) #volani operace = metody\n",
    "print(azor.majitele) #volani atributu = datovy clen\n"
   ]
  },
  {
   "cell_type": "markdown",
   "metadata": {},
   "source": [
    "### 1.3 Metody\n",
    "\n",
    "Python má ve své syntaxi metody tří druhů - instanční, třídní a statické. Instanční metody jsou operace objektu a umožňují manipulovat s datovými členy objektu (klasické metody). Instance mají přístup i ke svým třídním datovým členům, jejichž hodnoty jsou pro všechny instance v daném okamžiku stejné (instance sdílí stav třídy). Proto potřebujeme i metody, které jsou schopny pracovat s datovými členy třídy, tedy společnými datovými členy pro všechny instance této třídy. Na závěr se hodí ještě jedna konstrukce a to statické metody. Tyto metody nepracují s žádnými datovými členy a jen provádí nějakou operaci. Takto jsou realizované různé knihovny. Není třeba vytvářet instance těchto tříd. Většina jazyků obsahuje pouze statické a instanční metody, kde statická metoda splývá s třídní metodou."
   ]
  },
  {
   "cell_type": "code",
   "execution_count": 9,
   "metadata": {},
   "outputs": [
    {
     "name": "stdout",
     "output_type": "stream",
     "text": [
      "haf haf\n",
      "vrrr haf vrrr\n",
      "haficky hafi\n",
      "['granule', 'maso', 'gauc']\n",
      "['granule', 'maso', 'gauc', 'knedlo, vepro, zelo']\n",
      "['granule', 'maso', 'gauc', 'knedlo, vepro, zelo']\n"
     ]
    }
   ],
   "source": [
    "class Pes:\n",
    "\n",
    "    krmivo = ['granule', 'maso', 'gauc']    #datovy clen, ktery je promennou tridy\n",
    "\n",
    "    def __init__(self, jmeno, majitele, zvuk_stekani):\n",
    "        self.jmeno = jmeno                  #datovy clen, ktery predstavuje promennou instance\n",
    "        self.majitele = majitele\n",
    "        self.zvuk_stekani = zvuk_stekani\n",
    "\n",
    "    def stekej(self):                       #metoda instance, self je odkaz na instanci\n",
    "        return self.zvuk_stekani            #pokud metoda vraci promenne instance rika se ji getter (accessor)    \n",
    "\n",
    "    def zmen_zvuk(self, novy_zvuk):         #metody instance mohou menit datove cleny instance\n",
    "        self.zvuk_stekani = novy_zvuk       #poud metoda meni datove cleny instance rika se ji setter (mutator)\n",
    "\n",
    "    @classmethod                            #dekorator - pridava vyznam strukture pod nim\n",
    "    def pridej_krmivo(cls, krmivo):         #metoda tridy, cls je odkaz na tridu\n",
    "        cls.krmivo.append(krmivo)           #muze menit datove cleny tridy\n",
    "\n",
    "    @staticmethod\n",
    "    def jak_dela_pes():                     #staticka metoda\n",
    "        return \"haf haf\"                    #nemuze menit zadne datove cleny"
   ]
  },
  {
   "cell_type": "code",
   "execution_count": 10,
   "metadata": {},
   "outputs": [
    {
     "name": "stdout",
     "output_type": "stream",
     "text": [
      "haf haf\n"
     ]
    }
   ],
   "source": [
    "#neni treba instance, abychom zavolali tuto metodu\n",
    "print(Pes.jak_dela_pes())"
   ]
  },
  {
   "cell_type": "code",
   "execution_count": 11,
   "metadata": {},
   "outputs": [
    {
     "name": "stdout",
     "output_type": "stream",
     "text": [
      "vrrr haf vrrr\n",
      "haficky hafi\n"
     ]
    }
   ],
   "source": [
    "azor = Pes(\"Azor\", [\"Jana\", \"Petr\"], \"vrrr haf vrrr\") \n",
    "\n",
    "print(azor.stekej())            #volani metody instance, ktera je accessorem\n",
    "azor.zmen_zvuk(\"haficky hafi\")  #volani metody instance, ktera je mutatorem\n",
    "print(azor.stekej())            #instanci byla zmenena promenna instance"
   ]
  },
  {
   "cell_type": "code",
   "execution_count": 12,
   "metadata": {},
   "outputs": [
    {
     "name": "stdout",
     "output_type": "stream",
     "text": [
      "['granule', 'maso', 'gauc', 'knedlo, vepro, zelo']\n",
      "['granule', 'maso', 'gauc', 'knedlo, vepro, zelo', 'knedlo, vepro, zelo']\n"
     ]
    }
   ],
   "source": [
    "print(azor.krmivo)                          #volani promenne tridy, vsechny instance tyto data sdili\n",
    "Pes.pridej_krmivo(\"knedlo, vepro, zelo\")    #zmena promenne tridy pomoci metody tridy\n",
    "print(azor.krmivo)                          #vsechny instance vidi tridni data zmenena"
   ]
  },
  {
   "cell_type": "code",
   "execution_count": 13,
   "metadata": {},
   "outputs": [
    {
     "name": "stdout",
     "output_type": "stream",
     "text": [
      "['granule', 'maso', 'gauc', 'knedlo, vepro, zelo', 'knedlo, vepro, zelo']\n"
     ]
    }
   ],
   "source": [
    "rita = Pes(\"Rita\", [\"Jan\", \"Milena\"], \"Rghhh wrrr\") #overime tim, ze vytvorime dalsi instanci\n",
    "print(rita.krmivo)                                  "
   ]
  },
  {
   "cell_type": "markdown",
   "metadata": {},
   "source": [
    "### 1.4 Zapouzdření"
   ]
  },
  {
   "cell_type": "markdown",
   "metadata": {},
   "source": [
    "#### 1.4.1 Skrývání informací a zapozdření\n",
    "\n",
    "Jeden z důležitých konceptů v OOP je princip zapouzdření. Objekty (instance tříd) mají své instanční datové členy (proměnné definované v konstruktoru). V daném čase vykonávání kódu mají vždy určitou hodnotu a souhrn těchto hodnot nazýváme stav. Stav můžete brát obdobně jako ve fyzice na střední škole v termice a molekulové fyzice. Každý systém (kus světa, který nás zajímá) má určitý stav, který je zcela popsán nějakou rovnicí a k ní příslušnými stavovými proměnnými (soustava poloh a hybností u korpuskulí - Schrodingerova rovnice, tlak/teplota/objem/počet částic u plynu = stavová rovnice ideálního plynu, vlnová délka/amplituda/fázový posuv u vln = Vlnová rovnice). Každý systém prochází změnou stavů. V programování to může být webový parser dat, který nejprve otevře URL adresu, přečte HTML text, rozparsuje ho do stromu pomocí DOM, vyhledá listy (text ve značkách) a něco s nimi provede. Pokud v průběhu tohoto procesu naruším stav (např.: změním načtený HTML text v nějaké proměnné), tak dojde k selhání programu. Z toho důvodu se snažíme omezit, co je možné provádět se stavem objektů a co není. Řízení viditelnosti a možných operací nad datovými členy se v OOP nazývá zapouzdření.\n",
    "\n",
    "Odkaz k samostudiu: [Zapouzdření](https://en.wikipedia.org/wiki/Encapsulation_(computer_programming))"
   ]
  },
  {
   "cell_type": "markdown",
   "metadata": {},
   "source": [
    "#### 1.4.2 Modifikátory přístupu\n",
    "\n",
    "Zapouzdření se provádí pomocí modifikátorů přístupu a speciálních metod dvou kategorií - přístupové (gettery/accessory) a nastavující (settery/mutatory). Modifikátory přístupu slouží k tomu, abychom vyvolali výjimku, pokud se pokusí někdo z veřejného prostoru přistoupit k datovým členům. Modifikátory dělíme na 3 kategorie - veřejné (public), chráněné (protected) a soukromé (private). Pokud je nějaký datový člen veřejný, pak lze k němu přistupovat odkudkoliv z programu. Pokud je datový člen chráněný, pak již k němu nelze veřejně přistupovat. Datový člen je tak dostupný pouze u potomků této třídy (viz. cvičení dědičnost) nebo u objektu samotného (objekt sám zná svá data). Privátní člen je pak pouze přístupný z objektu samého. Python bohužel tyto modifikátory moc neřeší. V pythonu jsou všechny datové členy veřejné. Pokud je označíme dvěmi podtržítky, pak jsou z nich datové členy privátní (kompilátor vyvolá výjimku při jejich zavolání). Pokud je označíme chraněné (jedno podtržítko), pak bohužel kompilátor výjimku nevyhazuje, avšak mějme na paměti, že to programátor takto zamýšlel. \n",
    "\n",
    "Odkaz k samostudiu: [Modifikátory přístupu](https://www.tutorialsteacher.com/python/public-private-protected-modifiers)"
   ]
  },
  {
   "cell_type": "markdown",
   "metadata": {},
   "source": [
    "#### 1.4.3 Vlastnosti\n",
    "\n",
    "Chráněnost se musí řešit dodatečně přes na začátku zmíněné speciální metody - accessory a mutatory, které se v Pythonu realizují dekorátory @property a @var.setter. Pokud je datový atribut označen accessorem, pak je možné ho číst. Pokud i mutatorem, tak je možné ho i měnit. Datové členy pouze pro zápis jsou v Pythonu trošku složitější oproti jiným jazykům - musí se vytvořit accessor s ručním vyvoláním výjimky a následně mutator s implementací. Datové členy s accessorry a mutatory nazýváme vlastnosti (property).\n",
    "\n",
    "Odkaz k samostudiu: [Vlastnosti v Pythonu](https://www.programiz.com/python-programming/property)"
   ]
  },
  {
   "cell_type": "code",
   "execution_count": 53,
   "metadata": {},
   "outputs": [],
   "source": [
    "import random\n",
    "\n",
    "class Pes:\n",
    "\n",
    "    krmivo = ['granule', 'maso', 'gauc']            #verejny datovy clen tridy\n",
    "\n",
    "    def __init__(self, jmeno, majitele, zvuk_stekani):\n",
    "        self._jmeno = jmeno                         #chraneny datovy clen instance\n",
    "        self.majitele = majitele                    #verejny datovy clen instance\n",
    "        self.__zvuk_stekani = zvuk_stekani          #privatni datovy clen instance\n",
    "        self._vek = 0\n",
    "        self._prikaz = None\n",
    "\n",
    "    def stekej(self):                               #veřejná metoda instance\n",
    "        return self.__zvuk_stekani                    \n",
    "\n",
    "    def __zmen_zvuk(self, novy_zvuk):               #privatní metoda instance\n",
    "        self.__zvuk_stekani = novy_zvuk               \n",
    "\n",
    "    #jmeno bude read-write - jmeno muzeme menit a pes nam ho obcas i prozradi nebo stekne :)\n",
    "    @property                                       #definice verejne vlastnosti (accessor)\n",
    "    def jmeno(self):                                \n",
    "        return self._jmeno if random.random() > 0.5 else \"Haf???\"\n",
    "\n",
    "    @jmeno.setter                                   #definice verejne vlastnosti (mutator)\n",
    "    def jmeno(self, value):\n",
    "        if value != \"Jonatan\":                      #pes se vsak nechce jmenovat Jonatan :))\n",
    "            self._jmeno = value\n",
    "\n",
    "    #vek bude read-only - vek nemuzeme jako verejnost nastavit, pes musi starnout\n",
    "    @property\n",
    "    def vek(self):\n",
    "        self._vek += 1\n",
    "        if self._vek >= 5:\n",
    "            self.__zmen_zvuk(\"GRAAAAWWWWW HAAAAAF VRRRRR\")\n",
    "        return self._vek\n",
    "\n",
    "    #prikaz bude write-only (pes nam nemuze rict, co jsme mu prikazali)\n",
    "    @property\n",
    "    def prikaz(self):\n",
    "        raise AttributeError('unreadable attribute')\n",
    "\n",
    "    @prikaz.setter\n",
    "    def prikaz(self, value):\n",
    "        self._prikaz = value\n",
    "\n",
    "    @classmethod                            \n",
    "    def pridej_krmivo(cls, krmivo):                 #verejna metoda tridy\n",
    "        cls.krmivo.append(krmivo)           \n",
    "\n",
    "    @staticmethod\n",
    "    def jak_dela_pes():                             #verejna staticka metoda\n",
    "        return \"haf haf\"                    "
   ]
  },
  {
   "cell_type": "code",
   "execution_count": 54,
   "metadata": {},
   "outputs": [
    {
     "name": "stdout",
     "output_type": "stream",
     "text": [
      "haf haf mnau?\n"
     ]
    }
   ],
   "source": [
    "azor = Pes(jmeno=\"Azor\", majitele=None, zvuk_stekani=\"haf haf mnau?\")\n",
    "print(azor.stekej())            #volani verejne metody instance"
   ]
  },
  {
   "cell_type": "code",
   "execution_count": null,
   "metadata": {},
   "outputs": [],
   "source": [
    "print(azor.__zmen_zvuk(\"haf\"))  #volani privatni metody instance"
   ]
  },
  {
   "cell_type": "code",
   "execution_count": null,
   "metadata": {},
   "outputs": [],
   "source": [
    "azor.jmeno = \"Jonatan\"  #nastaveni nove hodnoty mutatorem\n",
    "print(azor.jmeno)       #volani hodnoty accessorem\n",
    "azor.jmeno = \"Rex\"\n",
    "print(azor.jmeno)"
   ]
  },
  {
   "cell_type": "code",
   "execution_count": null,
   "metadata": {},
   "outputs": [],
   "source": [
    "print(azor._vek)                #volani chranene promenne instance (bohuzel Python umozni)"
   ]
  },
  {
   "cell_type": "code",
   "execution_count": null,
   "metadata": {},
   "outputs": [],
   "source": [
    "azor.vek = 20                   #nastaveni read-only vlastnosti"
   ]
  },
  {
   "cell_type": "code",
   "execution_count": null,
   "metadata": {},
   "outputs": [],
   "source": [
    "print(azor.vek)                 #volani read-only vlastnosti, ktera internet nastavuje privatni promennou\n",
    "print(azor.stekej())            #volani verejne metody instance"
   ]
  },
  {
   "cell_type": "code",
   "execution_count": 64,
   "metadata": {},
   "outputs": [],
   "source": [
    "azor.prikaz = \"k noze\"          #nastaveni write-only vlastnosti"
   ]
  },
  {
   "cell_type": "code",
   "execution_count": null,
   "metadata": {},
   "outputs": [],
   "source": [
    "print(azor.prikaz)              #cteni write-only vlastnosti"
   ]
  },
  {
   "cell_type": "markdown",
   "metadata": {},
   "source": [
    "### 1.5 Magické metody\n",
    "\n",
    "Zajímavostí na jazyce Python je to, že i aritmetické a logické operace jsou metody jako takové. Pokud to jsou metody, tak je možné jejich chování přepsat (tzv. přetěžování metod). Těmto metodám, které v jiných jazycích představují součást syntaxe jazyke se říká v Pythonu magické nebo také dunder metody. Úplně korektně se tak říká metodám, které obsahují prefix a suffix složený ze dvou uvozovek, což jsou právě tyto operace.\n",
    "\n",
    "Odkaz k samostudiu: [Dunder metody](https://www.section.io/engineering-education/dunder-methods-python/)\n",
    "\n",
    "Odkaz k samostudiu: [Seznam dunder metod](https://docs.python.org/3/reference/datamodel.html#special-method-names)"
   ]
  },
  {
   "cell_type": "code",
   "execution_count": 101,
   "metadata": {},
   "outputs": [],
   "source": [
    "import random\n",
    "\n",
    "class Pes:\n",
    "\n",
    "    krmivo = ['granule', 'maso', 'gauc']\n",
    "\n",
    "    def __init__(self, jmeno, majitele, zvuk_stekani):\n",
    "        self._jmeno = jmeno\n",
    "        self.majitele = majitele\n",
    "        self.__zvuk_stekani = zvuk_stekani\n",
    "        self._vek = 0\n",
    "        self._prikaz = None\n",
    "\n",
    "    def stekej(self):\n",
    "        return self.__zvuk_stekani                    \n",
    "\n",
    "    def __zmen_zvuk(self, novy_zvuk):\n",
    "        self.__zvuk_stekani = novy_zvuk               \n",
    "\n",
    "    @property\n",
    "    def jmeno(self):                                \n",
    "        return self._jmeno\n",
    "\n",
    "    @jmeno.setter\n",
    "    def jmeno(self, value):\n",
    "        self._jmeno = value\n",
    "\n",
    "    @property\n",
    "    def vek(self):\n",
    "        return self._vek\n",
    "\n",
    "    @property\n",
    "    def prikaz(self):\n",
    "        raise AttributeError('unreadable attribute')\n",
    "\n",
    "    @prikaz.setter\n",
    "    def prikaz(self, value):\n",
    "        self._prikaz = value\n",
    "\n",
    "    @classmethod                            \n",
    "    def pridej_krmivo(cls, krmivo):\n",
    "        cls.krmivo.append(krmivo)           \n",
    "\n",
    "    @staticmethod\n",
    "    def jak_dela_pes():\n",
    "        return \"haf haf\"\n",
    "\n",
    "    #sečtením dvou psů vznikne štěně (nová instance třídy Pes)\n",
    "    def __add__(self, other):\n",
    "        return Pes(self.jmeno + other.jmeno, self.majitele, \"haf\")\n",
    "\n",
    "    #přetopováním psa na řetězec se vypíší informace o psovi\n",
    "    def __str__(self):\n",
    "        return \"Jmeno: \" + self.jmeno + \"\\nVek: \" + str(self.vek)\n",
    "\n",
    "    #porovnáním psa s jiným se získá výsledek toho, zda pes vlevo u relačního operátoru je starší jak pes vpravo\n",
    "    def __gt__(self, other):\n",
    "        return self.vek > other.vek"
   ]
  },
  {
   "cell_type": "code",
   "execution_count": 102,
   "metadata": {},
   "outputs": [],
   "source": [
    "azor = Pes(\"Azor\", [\"Jana\", \"Michal\"], \"haf\")\n",
    "rita = Pes(\"Rita\", [\"Honza\"], \"hafiky\")"
   ]
  },
  {
   "cell_type": "code",
   "execution_count": 103,
   "metadata": {},
   "outputs": [
    {
     "name": "stdout",
     "output_type": "stream",
     "text": [
      "AzorRita\n"
     ]
    }
   ],
   "source": [
    "stene = azor + rita\n",
    "print(stene.jmeno)"
   ]
  },
  {
   "cell_type": "code",
   "execution_count": 104,
   "metadata": {},
   "outputs": [
    {
     "name": "stdout",
     "output_type": "stream",
     "text": [
      "Jmeno: Azor\n",
      "Vek: 0\n"
     ]
    }
   ],
   "source": [
    "print(str(azor))"
   ]
  },
  {
   "cell_type": "code",
   "execution_count": 105,
   "metadata": {},
   "outputs": [
    {
     "name": "stdout",
     "output_type": "stream",
     "text": [
      "Azor je starsi jak Rita:  False\n"
     ]
    }
   ],
   "source": [
    "print(\"Azor je starsi jak Rita: \", azor > rita)"
   ]
  },
  {
   "cell_type": "markdown",
   "metadata": {},
   "source": [
    "### Domácí cvičení"
   ]
  },
  {
   "cell_type": "markdown",
   "metadata": {},
   "source": [
    "#### DCv.1 - Student\n",
    "\n",
    "Vytvořte třídu student, která obsahuje následující datové členy:\n",
    "1. id studenta\n",
    "2. celé jméno studenta\n",
    "3. známky\n",
    "\n",
    "Ke všem datovým členům vytvořte gettery a settery.\n",
    "\n",
    "Vytvořte kolekci studenti, do které přidáte 5 nově vytvořených studentů. Následně pomocí cyklu vypište informace o všech studentech a všem studentům se známkou horší jak 4 změnte známku na 3."
   ]
  },
  {
   "cell_type": "markdown",
   "metadata": {},
   "source": [
    "#### DCv.2 - Knihovna pro parsování kurzů kryptoměn\n",
    "\n",
    "Nainstalujte si pomocí modulu pip knihovnu beautifulsoup, která slouží pro stahování dat z webových stránek (parsování). Vytvořte třídu, která bude sloužit jako knihovna pro zjednodušené stahování kurzu kryptoměn. Adresy pro jednotlivé kurzy řešte jako třídní datové členy a metody pro výpis aktuálního kurzu řeště jako třídní metody. Pokud naleznete jiný způsob stahování aktuálních dat než z webové stránky, pak můžete použít jiný způsob a jiné knihovny."
   ]
  },
  {
   "cell_type": "markdown",
   "metadata": {},
   "source": [
    "#### DCv.3 - Dekorátory\n",
    "\n",
    "Pro realizaci getterů a setterů jste využívali dekorátory. Zjistěte si, co vlastně tyto dekorátory technicky představují a zkuste si napsat vlastní dekorátor."
   ]
  },
  {
   "cell_type": "markdown",
   "metadata": {},
   "source": [
    "#### DCv.4 - UML diagramy tříd\n",
    "\n",
    "Programátor většinou software nenavrhuje. Ten navrhne softwarový architekt na základě analýzy od IT analytika. Jedním ze základních nástrojů a analytiků pro modelování budoucího softwaru je sada diagramů z jazyka UML (Unified Modelling Language), které obsahují i diagram pro návrh tříd (class diagram). Podívejte se, jak diagramy tříd vypadají a zkuste si navrhnout psa z naší lekce pomocí UML class diagramu."
   ]
  },
  {
   "cell_type": "markdown",
   "metadata": {},
   "source": [
    "#### DCv.5 - Sčítání fotek\n",
    "\n",
    "Naprogramujte jednoduchý program (můžete vzít z APR1), který načte dvě fotografie do třídy Fotka a provede jejich:\n",
    "\n",
    "* součet\n",
    "* rozdil\n",
    "* přetypování na string\n",
    "* přetypování na integer\n",
    "* porovnání relací větší/menší\n",
    "\n",
    "Tyto metody realizujte jako dunder (magické) metody.\n"
   ]
  }
 ],
 "metadata": {
  "interpreter": {
   "hash": "6a177c70d2005651137d75e2077c960cf0b80436a052a9498399aa566d98682b"
  },
  "kernelspec": {
   "display_name": "Python 3.9.7 64-bit ('.venv': venv)",
   "language": "python",
   "name": "python3"
  },
  "language_info": {
   "codemirror_mode": {
    "name": "ipython",
    "version": 3
   },
   "file_extension": ".py",
   "mimetype": "text/x-python",
   "name": "python",
   "nbconvert_exporter": "python",
   "pygments_lexer": "ipython3",
   "version": "3.9.7"
  },
  "orig_nbformat": 4
 },
 "nbformat": 4,
 "nbformat_minor": 2
}
