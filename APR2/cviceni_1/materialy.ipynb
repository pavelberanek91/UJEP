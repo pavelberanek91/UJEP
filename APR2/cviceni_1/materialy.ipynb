{
 "cells": [
  {
   "attachments": {},
   "cell_type": "markdown",
   "metadata": {},
   "source": [
    "# Algoritmizace a programování 2\n",
    "\n",
    "## Cvičení 1 - Objektově-orientované programování\n",
    "\n",
    "V kurzu APR1 jste se učili základní příkazy jazyka Python a používali jste paradigmat procedurálního programování s funkcionálními prvky (generátorová notace, map, zip, filter, lambda, reduce). V navazujícím kurzu APR2 se naučíte pracovat v novém paradigmatu objektově-orientovaného programování (OOP) a naprogramujete si s využitím tohoto paradigmatu vybrané abstraktní datové struktury (ADS). Abstraktní datové struktury jsou datové struktury, které jsou ve svém základu velice jednoduché struktury (typicky seznam nebo seznam seznamů), ale klient může pomocí metod (funkce tříd) rozhraní (metody, které jsou veřejné) volat takové chování, které odpovídá jiné datové struktuře (fronta, zásobník, strom, graf). Klienta nemusí zajímat nic o vnitřní implementaci těchto algoritmů, ale jen to, jak se struktura používá.\n",
    "\n",
    "\n",
    "\n"
   ]
  },
  {
   "attachments": {},
   "cell_type": "markdown",
   "metadata": {},
   "source": [
    "### 1.1 Třída\n",
    "\n",
    "Základním pojmem OOP je třída. Třída je určitá šablona atributů (datových položek) a chování (metod), které musí mít její instance (zhmotnění třídy), pokud má být instancí dané třídy. Pojďme si ukázat motivační příklad."
   ]
  },
  {
   "attachments": {},
   "cell_type": "markdown",
   "metadata": {},
   "source": [
    "#### Př.1.1.1 Modelování psa\n",
    "\n",
    "Programování je technika, pomocí které implementujete požadavky klientů. Klienti chtějí typicky webové stránky pro svůj marketing, informační systémy pro správu dat a informovaná rozhodování, modely strojového učení pro automatizace kognitivních dovednosti lidí. Vidíme, že klienti mají požadavky na software vycházející z našeho lidského života. Tudíž často ve vašich programech budete modelovat (model je zjednodušení reality) nějaké entity (něco, co existuje - filosofové, odpusťte mi). Pojďme si pro jednoduchost namodedlovat například psa (můžeme třeba programovat informační systém pro útulek)."
   ]
  },
  {
   "attachments": {},
   "cell_type": "markdown",
   "metadata": {},
   "source": [
    "Pes je entita. Můžeme ho modelovat například seznamem:\n"
   ]
  },
  {
   "cell_type": "code",
   "execution_count": null,
   "metadata": {},
   "outputs": [],
   "source": [
    "pes1 = [\"Azor\", \"Německý ovčak\", 5,]\n",
    "print(f\"Pes jménem {pes1[0]} je {pes1[1]} a je mu {pes1[2]} let\")"
   ]
  },
  {
   "attachments": {},
   "cell_type": "markdown",
   "metadata": {},
   "source": [
    "U tohoto způsobu modelování psa jako slovníku vidíme problém, že si musíme pamatovat, v jaké pořadí jsou jaké informace uložené. Lepší by bylo modelovat psa pomocí seznam dvojic, kde první položka je význam informace (klíč) a druhá položka ve dvojice je hodnota informace, což je vlastne datová struktura slovník.\n"
   ]
  },
  {
   "cell_type": "code",
   "execution_count": null,
   "metadata": {},
   "outputs": [],
   "source": [
    "pes1 = {\n",
    "    \"jméno\": \"Azor\",\n",
    "    \"rasa\": \"Německý ovčák\",\n",
    "    \"věk\": 5,\n",
    "}\n",
    "print(f\"Pes jménem {pes1['jméno']} je {pes1['rasa']} a je mu {pes1['věk']} let\")"
   ]
  },
  {
   "attachments": {},
   "cell_type": "markdown",
   "metadata": {},
   "source": [
    "S tímto bychom již mohli být spokojeni. Pes má však i nějaké chování. Pojďme chování modelovat pomocí funkce:\n"
   ]
  },
  {
   "cell_type": "code",
   "execution_count": null,
   "metadata": {},
   "outputs": [],
   "source": [
    "def stekej(pes):\n",
    "    print(f'Pes {pes[\"jméno\"]} štěká haf haf')\n",
    "\n",
    "pes1 = {\n",
    "    \"jméno\": \"Azor\",\n",
    "    \"rasa\": \"Německý ovčák\",\n",
    "    \"věk\": 5,\n",
    "}\n",
    "\n",
    "stekej(pes1)"
   ]
  },
  {
   "attachments": {},
   "cell_type": "markdown",
   "metadata": {},
   "source": [
    "Teď již umí pes i štěkat. Je zde však jeden velký problém. Chování psa není svázáno s daty pro psa. Navíc každý pes může být jiný. Následující kód vyvolá výjimku, jelikož není žádným mechanismem vynuceno, že pes musí mít atribut jméno aby mohl využít chování dané funkcí stekej."
   ]
  },
  {
   "cell_type": "code",
   "execution_count": null,
   "metadata": {},
   "outputs": [],
   "source": [
    "def stekej(pes):\n",
    "    print(f'Pes {pes[\"jméno\"]} štěká haf haf')\n",
    "\n",
    "pes1 = {\n",
    "    \"jméno\": \"Azor\",\n",
    "    \"rasa\": \"Německý ovčák\",\n",
    "    \"věk\": 5,\n",
    "}\n",
    "pes2 = {\n",
    "    \"rasa\": \"Labrador\",\n",
    "    \"věk\": 3,\n",
    "}\n",
    "\n",
    "stekej(pes1)\n",
    "stekej(pes2)"
   ]
  },
  {
   "attachments": {},
   "cell_type": "markdown",
   "metadata": {},
   "source": [
    "Následující kód se spustí bez výjimky, avšak způsobuje logické problémy. Člověk představuje úplně jiný datový typ, entitu z kategorie člověk. Avšak pokud má vše"
   ]
  },
  {
   "attachments": {},
   "cell_type": "markdown",
   "metadata": {},
   "source": [
    "### 1.2 Datové členy\n"
   ]
  },
  {
   "cell_type": "code",
   "execution_count": null,
   "metadata": {},
   "outputs": [],
   "source": []
  },
  {
   "attachments": {},
   "cell_type": "markdown",
   "metadata": {},
   "source": [
    "### 1.3 Metody"
   ]
  },
  {
   "cell_type": "code",
   "execution_count": null,
   "metadata": {},
   "outputs": [],
   "source": []
  },
  {
   "attachments": {},
   "cell_type": "markdown",
   "metadata": {},
   "source": [
    "### 1.4 Zapouzdření\n"
   ]
  },
  {
   "cell_type": "code",
   "execution_count": null,
   "metadata": {},
   "outputs": [],
   "source": []
  }
 ],
 "metadata": {
  "language_info": {
   "name": "python"
  },
  "orig_nbformat": 4
 },
 "nbformat": 4,
 "nbformat_minor": 2
}
