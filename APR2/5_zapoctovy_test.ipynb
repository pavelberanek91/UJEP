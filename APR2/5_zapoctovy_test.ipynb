{
 "cells": [
  {
   "cell_type": "markdown",
   "metadata": {},
   "source": [
    "# Algoritmizace a programování 2"
   ]
  },
  {
   "cell_type": "markdown",
   "metadata": {},
   "source": [
    "## Cv.5. Zápočtový test - ukázka\n",
    "\n",
    "Témata v 1. zápočtovém testu:\n",
    "\n",
    "* OOP návrh entity (třída, datové členy, metody)\n",
    "* Sekvenční struktury (zásobník, fronta, setříděný seznam)\n",
    "* Vyhledávací algoritmy nad sekvenčními strukturami\n",
    "* Řadící algoritmy nad sekvenčními strukturami"
   ]
  },
  {
   "cell_type": "markdown",
   "metadata": {},
   "source": [
    "### 5.1 Model videoherní postavičky\n",
    "\n",
    "Navrhněte třídu, která představuje hlavní postavu z plošinové hry ovládanou hráčem. Třída musí obsahovat minimálně:\n",
    "\n",
    "* konstruktor\n",
    "* 2 metody instance\n",
    "* 1 metodu třídy\n",
    "* 3 datové členy instance (jeden privátní, jeden chráněný a jeden veřejný)\n",
    "* 1 datový člen třídy\n",
    "* vlastnosti k chráněnému datovému členu\n",
    "* 2 magické metody"
   ]
  },
  {
   "cell_type": "code",
   "execution_count": 1,
   "metadata": {},
   "outputs": [],
   "source": [
    "class Hero:\n",
    "\n",
    "    total_score = 0                 #datovy clen tridy\n",
    "\n",
    "    def __init__(self):             #konstruktor\n",
    "        self.__lives = 3            #datovy clen instance (privátní)\n",
    "        self.actual_score = 0       #datovy clen instance (veřejný)\n",
    "        self._position = 0          #datovy clen instance (chráněný)\n",
    "\n",
    "    @property                       #vlastnosti\n",
    "    def position(self):\n",
    "        return self._position\n",
    "\n",
    "    @position.setter\n",
    "    def position(self, value):\n",
    "        self._position += value\n",
    "\n",
    "    def move(self):                 #metoda instance\n",
    "        self._position += 1\n",
    "\n",
    "    def colission(self, object):    #metoda instance\n",
    "        if object == \"coin\":\n",
    "            self.actual_score += 10\n",
    "        elif object == \"enemy\":\n",
    "            self.__lives -= 1\n",
    "            Hero.total_score += self.actual_score\n",
    "            self.actual_score = 0\n",
    "\n",
    "    def get_total_score(cls):       #metoda tridy\n",
    "        return cls.total_score\n",
    "\n",
    "    def __eq__(self, object):       #magicka metoda\n",
    "        return self._position == object.position\n",
    "\n",
    "    def __str__(self):              #magicka metoda\n",
    "        return f\"Total score: {self.total_score}, Actual score: {self.actual_score}, Remaining lives: {self.__lives}\""
   ]
  },
  {
   "cell_type": "markdown",
   "metadata": {},
   "source": [
    "### 5.2 Množina\n",
    "\n",
    "Napište třídu, která realizuje abstraktní datovou strukturu množina. Uvnitř třídy smíte využít seznam jako základní datovou strukturu. Naprogramujte následující operace:\n",
    "\n",
    "1. Vložení prvku do množiny\n",
    "2. Sjednocení dvou množin\n",
    "3. Průnik dvou množin\n",
    "\n",
    "Množina je specifický tím, že nemůže obsahovat duplicity."
   ]
  },
  {
   "cell_type": "code",
   "execution_count": null,
   "metadata": {},
   "outputs": [],
   "source": [
    "class Mnozina:\n",
    "\n",
    "    def __init__(self):\n",
    "        self._prvky = []\n",
    "\n",
    "    def vloz(self, prvek):\n",
    "        if prvek not in self._prvky:\n",
    "            self._prvky.append(prvek)\n",
    "\n",
    "    def sjednodceni(self, mnozina):\n",
    "        nova_mnozina = self._prvky.copy()\n",
    "        nova_mnozina.extend(x for x in mnozina._prvky if x not in nova_mnozina)\n",
    "        return nova_mnozina\n",
    "\n",
    "    def prunik(self, mnozina):\n",
    "        return [x for x in self._prvky if x in mnozina._prvky]\n",
    "\n",
    "a = Mnozina()\n",
    "b = Mnozina()\n",
    "\n",
    "a.vloz(1)\n",
    "a.vloz(2)\n",
    "b.vloz(2)\n",
    "b.vloz(3)\n",
    "\n",
    "print(a.sjednodceni(b))\n",
    "print(a.prunik(b))"
   ]
  },
  {
   "cell_type": "markdown",
   "metadata": {},
   "source": [
    "### 5.3 Seřazená množina\n",
    "\n",
    "Vytvořte sekvenční abstraktní datový typ SeřazenáMnožina, do které se při přidání nového prvku prvek zařadí na správné místo a to sestupně podle své hodnoty. Třídění proveďte algoritmem QuickSort. Množina je struktura, ve které se nemohou prvky opakovat."
   ]
  },
  {
   "cell_type": "code",
   "execution_count": 5,
   "metadata": {},
   "outputs": [
    {
     "name": "stdout",
     "output_type": "stream",
     "text": [
      "[2]\n",
      "[2, 1]\n",
      "[3, 2, 1]\n"
     ]
    }
   ],
   "source": [
    "class SerazenaMnozina:\n",
    "\n",
    "    def __init__(self):\n",
    "        self._prvky = []\n",
    "\n",
    "    @property\n",
    "    def prvky(self):\n",
    "        return self._prvky\n",
    "\n",
    "    def pridej_prvek(self, prvek):\n",
    "        self._prvky.append(prvek)\n",
    "        self._prvky = SerazenaMnozina.quicksort(self._prvky)\n",
    "\n",
    "    def quicksort(seznam):\n",
    "        if len(seznam) <= 1:\n",
    "            return seznam\n",
    "        pivot = seznam[0]\n",
    "        seznam_mensi = [x for x in seznam[1:] if x <= pivot]\n",
    "        seznam_vetsi = [x for x in seznam[1:] if x > pivot]\n",
    "        return SerazenaMnozina.quicksort(seznam_vetsi) + [pivot] + SerazenaMnozina.quicksort(seznam_mensi)\n",
    "\n",
    "a = SerazenaMnozina()\n",
    "\n",
    "a.pridej_prvek(2)\n",
    "print(a.prvky)\n",
    "\n",
    "a.pridej_prvek(1)\n",
    "print(a.prvky)\n",
    "\n",
    "a.pridej_prvek(3)\n",
    "print(a.prvky)\n"
   ]
  },
  {
   "cell_type": "markdown",
   "metadata": {},
   "source": [
    "Alternativní zadání může znít například: Kdy byste použili insertion sort a kdy merge sort? Zdůvodněte na základě složitosti."
   ]
  },
  {
   "cell_type": "markdown",
   "metadata": {},
   "source": [
    "### 5.4 Zásobník s nejvyšším prvkem vždy na vrcholu\n",
    "\n",
    "Vytvořte třídu realizující datovou strukturu zásobník, která bude mít největší prvek vždy na vrcholu po přidání nového prvku. Přidám-li prvek tak se na vrchol dostane největší číslo v zásobníku. Zbytek zůstane v korektním pořadí. Po odebrání prvku se tedy odebere vždy globální extrém a následují již ostatní hodnoty v daném zásobníkovém pořadí. Pro vyhledání extrému nepoužívejte předpřipravenou funkci max v pythonu. Realizujte následující operace:\n",
    "\n",
    "* přidání prvku do zásobníku\n",
    "* odebrání prvku z vrcholu zásobníku"
   ]
  },
  {
   "cell_type": "code",
   "execution_count": null,
   "metadata": {},
   "outputs": [],
   "source": [
    "class Zasobnik:\n",
    "\n",
    "    def __init__(self):\n",
    "        self._prvky = []\n",
    "\n",
    "    def pridej_prvek(self, prvek):\n",
    "        self._prvky.append(prvek)\n",
    "        extrem = self._prvky.pop(Zasobnik.najdi_extrem(self._prvky))\n",
    "        self._prvky.append(extrem)\n",
    "\n",
    "    def odeber_prvek(self):\n",
    "        return self._prvky.pop()\n",
    "\n",
    "    def najdi_extrem(seznam):\n",
    "        index_extremu = 0\n",
    "        extrem = seznam[index_extremu]\n",
    "        for i, prvek in enumerate(seznam):\n",
    "            if prvek > extrem:\n",
    "                extrem = prvek\n",
    "                index_extremu = i\n",
    "        return index_extremu\n",
    "\n",
    "z = Zasobnik()\n",
    "z.pridej_prvek(1)           # [1]\n",
    "z.pridej_prvek(3)           # [3,1]\n",
    "z.pridej_prvek(2)           # [3,2,1]\n",
    "print(z.odeber_prvek())     # 3 [2,1]\n",
    "print(z.odeber_prvek())     # 2 [1]\n",
    "z.pridej_prvek(5)           # [5,1]\n",
    "z.pridej_prvek(0)           # [5,0,1]\n",
    "print(z.odeber_prvek())     # 5 [0,1]\n",
    "print(z.odeber_prvek())     # 0 [1]"
   ]
  },
  {
   "cell_type": "markdown",
   "metadata": {},
   "source": [
    "Alternativní zadání může znít například: Vysvětlete jak optimálně vyhledáte 5 nejmenších prvků v nějaké kolekci."
   ]
  },
  {
   "cell_type": "markdown",
   "metadata": {},
   "source": [
    "### Domácí cvičení\n",
    "\n",
    "Zde najdete popis toho, co si zopakovat doma za látku a na co se zaměřit."
   ]
  },
  {
   "cell_type": "markdown",
   "metadata": {},
   "source": [
    "#### DCv.1 - OOP návrh\n",
    "\n",
    "Cílem je zjistit, zda jste schopni navrhnout zadanou třídu. Jedná se o kreativní činnost. Je nutné trénovat v hlavě modelování tříd. Pokud pojedete městskou hromadnou dopravou, tak se podívejte kolem sebe a zkuste přemýšlet, jak byste namodelovali (jaké datové členy a metody) například sedačku, autobus, vlak, přísedící v dopravním prostředku, informační tabuli. Pro zapsání myšlenek vám stačí tužka a papír, tak se na to vrhněte. Tato dovednost se dá získat pouze tréninkem. Nelze se příliš o ní nikde dočíst. \n",
    "\n",
    "Až se naučíte modelovat věci kolem sebe, tak se zaměřte na účelné využití dostupných prostředků (modifikátory přístupu, typy metod). Třída je šablona, instance jsou sourozenci. Každý sourozenec by měl mít některé informace vlastní oproti sourozencům (každý se nachází na jiné gps souřadnice, každý má jiné známky). Některé informace jsou pro ně společné (jméno rodiče, národnost, adresa k webové stránce) a dokonce si mohou takto předávat zprávy. Metoda instanční a třídní je pak snadno odlišitelná podle toho k jakým informacím má přistupovat. Stejně tak pokud děláte pouze balíček užitečných funkcí, tak nebudete otravovat uživatele instantizováním a vytvoříte algoritmus do statické metody."
   ]
  },
  {
   "cell_type": "markdown",
   "metadata": {},
   "source": [
    "#### DCv.2 - Sekveční struktury\n",
    "\n",
    "Cílem je zjistit, zda umíte navrhnout datovou strukturu se sekvenčním chováním (typické metody). Vzhledem k tomu, že realizaci všech struktur máte za samostatné/domácí cvičení, tak se jedná spíše o ověření splnění úkolů na cvičení. Doma si poctivě doprogramujte zbývající operace zásobníku, fronty, setříděného seznamu, ntice, množiny a zopakujte si je před testem. Zkuste si je bez nápovědy naprogramovat a nemělo by vás nic překvapit. V této otázce vás může čekat kromě samotné implementace vybrané metody i teoretická otázka typu: vypište stavy zásobníku a fronty po vložení N číslic jako demonstrace rozdílu mezi frontou a zásobníkem."
   ]
  },
  {
   "cell_type": "markdown",
   "metadata": {},
   "source": [
    "#### DCv.3 - Algoritmy nad sekvenčními strukturami\n",
    "\n",
    "Cílem je zjistit, zda umíte napsat vyhledávací a řadící algoritmus nad sekvenční datovou strukturou. Vzhledem k tomu, že realizace všech vyžadovaných algoritmů je součástí samostatných/domácích cvičení, tak se jedná spíše o ověření splnění úkolů na cvičení. Doma si poctivě doprogramujte všechny zadané algoritmy a zopakujte si je před testem. Zkuste si je bez nápovědy naprogramovat a nemělo by vás nic překvapit. U této otázky vás může čekat napsání pseudoalgoritmu, řazení podle algoritmu, vyhledání podle algoritmu nebo teoretická otázka na asymptotickou složitost algoritmu. Proto se seznamte dostatečně i s teorií."
   ]
  }
 ],
 "metadata": {
  "interpreter": {
   "hash": "6a177c70d2005651137d75e2077c960cf0b80436a052a9498399aa566d98682b"
  },
  "kernelspec": {
   "display_name": "Python 3.9.7 64-bit ('.venv': venv)",
   "language": "python",
   "name": "python3"
  },
  "language_info": {
   "codemirror_mode": {
    "name": "ipython",
    "version": 3
   },
   "file_extension": ".py",
   "mimetype": "text/x-python",
   "name": "python",
   "nbconvert_exporter": "python",
   "pygments_lexer": "ipython3",
   "version": "3.9.7"
  },
  "orig_nbformat": 4
 },
 "nbformat": 4,
 "nbformat_minor": 2
}
