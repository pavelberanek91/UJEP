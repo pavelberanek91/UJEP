{
 "cells": [
  {
   "cell_type": "markdown",
   "metadata": {},
   "source": [
    "# Algoritmizace a programování 2"
   ]
  },
  {
   "cell_type": "markdown",
   "metadata": {},
   "source": [
    "## Cv.2. Implementace sekvenčních datových struktur\n",
    "\n",
    "stag\n",
    "* Abstraktní datové typy\n",
    "* Fronta (Queue)\n",
    "* Zásobník (Stack)\n",
    "\n",
    "fiser\n",
    "* representation + defining operations\n",
    "* queue (enque, deque), stack (push, pop), special method __len__ and __bool__"
   ]
  },
  {
   "cell_type": "markdown",
   "metadata": {},
   "source": [
    "### 2.1 Abstraktní datové typy"
   ]
  },
  {
   "cell_type": "markdown",
   "metadata": {},
   "source": [
    "#### 2.1.1 Abstraktní datový typ\n",
    "\n",
    "Datová struktura je termín, kterým označujeme způsob organizace dat v paměti. Abstraktní datový typ je matematický model pro datový typ, který je popsán chováním (jaké atributy a jaké operace). Jedná se tedy o něco jako třídu pro datové typy, které jsou instance této třídy. Zajímavostí je to, že množina operací ADTypu se liší podle paradigmatu programovacího jazyka. Například v imperativním paradigmatu bude ADT obsahovat operace jako: vytvoř, zkopíruj, odstraň, atd. Tyto příkazy nebude mít ADT ve funkcionálním paradigmatu, ale některé bude mít společné: vypiš, porovnej, atd.\n",
    " \n",
    "* ADT: https://www.geeksforgeeks.org/abstract-data-types/\n",
    "* ADT: https://medium.com/@tssovi/abstract-data-type-adt-in-python-33e6ce1f961e\n"
   ]
  },
  {
   "cell_type": "markdown",
   "metadata": {},
   "source": [
    "#### 2.1.2 Příklady ADT\n",
    "\n",
    "Mnoho z ADT je již v Pythonu implementováno v DT. Například seznam se používá místo pole nativně v Pythonu. Některé ADT jsou implementovány ve standardní knihovně jazyka Python jako například collections nebo queue.\n",
    "\n",
    "* seznam (list)\n",
    "* seřazený seznam (ordered list)\n",
    "* ntice (tuple)\n",
    "* množina (set)\n",
    "* mapa/asociativní pole (dictionary)\n",
    "* fronta (queue)\n",
    "* prioritní fronta (priority queue)\n",
    "* fronta s dvěmi konci (double-ended queue)\n",
    "* zásobník (stack)\n",
    "* spojový seznam (linked list)\n",
    "* dvojitý spojový seznam (double-linked list)\n",
    "* graf (graph)\n",
    "* strom (tree)"
   ]
  },
  {
   "cell_type": "markdown",
   "metadata": {},
   "source": [
    "### 2.3 Fronta (Queue)"
   ]
  },
  {
   "cell_type": "markdown",
   "metadata": {},
   "source": [
    "#### 2.3.1 Implementace fronty\n",
    "\n",
    "Abstraktní datová struktura typu FIFO (first-in, first-out). První prvek této kolekce nazveme \"zadek\" (rear) a poslední \"předek\" (front). Obsahuje následující operace:\n",
    "\n",
    "* Queue() -> queue: konstruktor prázdné fronty\n",
    "* enqueue(item) -> None: přidá nový prvek do \"zadku\" fronty\n",
    "* dequeue() -> item: odebere prvek z \"předku\" fronty, fronta bude modifikována\n",
    "* front() -> item: vrátí prvek z předku fronty, ale neodebere prvek (fronta není modifikována)\n",
    "* rear() -> item: vrátí prvek ze zadku fronty, ale neodebere prvek (fronta není modifikována)\n",
    "* isEmpty() -> bool: vrací informaci zda je fronta prázdná\n",
    "* size() -> int: vrací počet prvků ve frontě"
   ]
  },
  {
   "cell_type": "code",
   "execution_count": 14,
   "metadata": {},
   "outputs": [
    {
     "name": "stdout",
     "output_type": "stream",
     "text": [
      "1\n",
      "2\n",
      "1\n",
      "3\n"
     ]
    }
   ],
   "source": [
    "class Queue:\n",
    "\n",
    "    def __init__(self, memory, items = []):\n",
    "        self._memory = memory\n",
    "        if len(items) > memory:\n",
    "            raise Exception(\"Items count bigger then alocated memory!\")\n",
    "        self._items = items\n",
    "\n",
    "    def enqueu(self, item):\n",
    "        if self._memory_available() > 0:\n",
    "            self._items.append(item)\n",
    "        else:\n",
    "            print(f\"Queue is full. Item ${item}$ wasn't enqueued!\")\n",
    "\n",
    "    def dequeu(self):\n",
    "        if not self._is_empty():\n",
    "            return self._items.pop(0)\n",
    "        else:\n",
    "            print(\"Queue is empty. No item was dequeued!\")\n",
    "\n",
    "    def front(self):\n",
    "        if not self._is_empty():\n",
    "            return self._items[0]\n",
    "        else:\n",
    "            print(\"Queue is empty. No item in front!\")\n",
    "\n",
    "    def back(self):\n",
    "        if not self._is_empty():\n",
    "            return self._items[-1]\n",
    "        else:\n",
    "            print(\"Queue is empty. No item in back!\")\n",
    "\n",
    "    def _memory_available(self):\n",
    "        return self._memory - self._size()\n",
    "\n",
    "    def _is_empty(self):\n",
    "        return self._size == 0\n",
    "\n",
    "    def _size(self):\n",
    "        return len(self._items)\n",
    "\n",
    "    def __str__(self):\n",
    "        return str(self._items)\n",
    "\n",
    "def main():\n",
    "    fronticka = Queue(5, [0,5])\n",
    "    fronticka.enqueu(\"Alena\")\n",
    "    fronticka.enqueu(True)\n",
    "    fronticka.enqueu(0)\n",
    "    fronticka.enqueu(\"Pavel\")\n",
    "    fronticka.enqueu(5.6)\n",
    "    fronticka.dequeu()\n",
    "    fronticka.dequeu()\n",
    "    print(fronticka)\n",
    "    print(fronticka.front())\n",
    "    print(fronticka.back())\n",
    "\n",
    "if __name__ == \"__main__\":\n",
    "    main()"
   ]
  },
  {
   "cell_type": "markdown",
   "metadata": {},
   "source": [
    "#### 2.3.2 Fronta z knihovny Queue"
   ]
  },
  {
   "cell_type": "code",
   "execution_count": 18,
   "metadata": {},
   "outputs": [
    {
     "name": "stdout",
     "output_type": "stream",
     "text": [
      "True\n",
      "True\n",
      "1\n",
      "False\n"
     ]
    }
   ],
   "source": [
    "from queue import Queue\n",
    "\n",
    "q = Queue(maxsize=3)\n",
    "print(q.empty())\n",
    "q.put(1)\n",
    "q.put(3)\n",
    "q.put(2)\n",
    "print(q.full())\n",
    "print(q.get())\n",
    "print(q.full())\n"
   ]
  },
  {
   "cell_type": "markdown",
   "metadata": {},
   "source": [
    "#### 2.3.3 Aplikace fronty - vyrovnávací paměť\n",
    "\n",
    "Klient může inputem vkládat pismena do fronty, která se postupně připojují (konkatenace) do akumulátoru v jeden velký řetězec. Fronta má maximální velikost 3 prvky a prvek se z fronty uvolní (připojí do akumulátoru) každé 3 sekundy. Pokud je fronta plná, pak vyhodí program hlášku uživateli, že musí počkat na uvolnění fronty a prvek se do fronty nepřidá."
   ]
  },
  {
   "cell_type": "code",
   "execution_count": null,
   "metadata": {},
   "outputs": [],
   "source": [
    "import time\n",
    "from queue import Queue\n",
    "\n",
    "velikost_fronty = 3\n",
    "q = Queue(maxsize=velikost_fronty)\n",
    "akumulator = 0    \n",
    "t = time.time()\n",
    "while True:\n",
    "    cislo = float(input(\"Zadej cislo: \"))\n",
    "    n = int((time.time() - t)//velikost_fronty)\n",
    "    if n > 0:\n",
    "        for i in range(min(q.qsize(), n)):\n",
    "            akumulator += q.get()\n",
    "        t = time.time()\n",
    "    if not q.full():\n",
    "        q.put(cislo)\n",
    "    else:\n",
    "        print(\"fronta je plna\")\n",
    "    print(f\"soucet: {akumulator}\")    \n"
   ]
  },
  {
   "cell_type": "markdown",
   "metadata": {},
   "source": [
    "### 2.4 Zásobník (Stack)"
   ]
  },
  {
   "cell_type": "markdown",
   "metadata": {},
   "source": [
    "#### 2.4.1 Implementace zásobníku\n",
    "\n",
    "Abstraktní datová struktura typu LIFO (last-in, first-out). První prvek kolekce nazveme \"spodek\" (bottom) a poslední \"vrchol\" (top). Obsahuje následující operace:\n",
    "\n",
    "* Stack() -> stack: konstruktor prázdného zásobníku\n",
    "* push(item) -> None: přidá nový prvek na vrchol zásobníku\n",
    "* pop() -> item: odebere prvek z vrcholu zásobníku\n",
    "* peek() -> item: vrátí prvek z vrcholu zásobníku, ale neodstraní ho\n",
    "* isEmpty() -> bool: vrací informaci, zda je zásobník prázdný\n",
    "* size() -> int: vrací počet prvků v zásobníku"
   ]
  },
  {
   "cell_type": "code",
   "execution_count": 13,
   "metadata": {},
   "outputs": [
    {
     "name": "stdout",
     "output_type": "stream",
     "text": [
      "2\n",
      "2\n",
      "1\n"
     ]
    }
   ],
   "source": [
    "class Stack:\n",
    "\n",
    "    def __init__(self, memory, items = []):\n",
    "        self._memory = memory\n",
    "        if len(items) > memory:\n",
    "            raise Exception(\"Items count bigger then alocated memory!\")\n",
    "        self._items = items[::-1]\n",
    "\n",
    "    def push(self, item):\n",
    "        if self._memory_available() > 0:\n",
    "            self._items.append(item)\n",
    "        else:\n",
    "            print(f\"Stack is full. Item ${item}$ wasn't pushed!\")\n",
    "\n",
    "    def pop(self):\n",
    "        if not self._is_empty():\n",
    "            return self._items.pop(-1)\n",
    "        else:\n",
    "            print(\"Stack is empty. No item was poped!\")\n",
    "\n",
    "    def peek(self):\n",
    "        if not self._is_empty():\n",
    "            return self._items[-1]\n",
    "        else:\n",
    "            print(\"Stack is empty. No item on top!\")\n",
    "\n",
    "    def _memory_available(self):\n",
    "        return self._memory - self._size()\n",
    "\n",
    "    def _is_empty(self):\n",
    "        return self._size == 0\n",
    "\n",
    "    def _size(self):\n",
    "        return len(self._items)\n",
    "\n",
    "    def __str__(self):\n",
    "        return str(self._items)\n",
    "\n",
    "def main():\n",
    "    zasobnicek = Stack(5, [0,5])\n",
    "    zasobnicek.push(\"Alena\")\n",
    "    zasobnicek.push(True)\n",
    "    zasobnicek.push(0)\n",
    "    zasobnicek.push(\"Pavel\")\n",
    "    zasobnicek.push(5.6)\n",
    "    zasobnicek.pop()\n",
    "    zasobnicek.pop()\n",
    "    print(zasobnicek)\n",
    "    print(zasobnicek.peek())\n",
    "\n",
    "if __name__ == \"__main__\":\n",
    "    main()"
   ]
  },
  {
   "cell_type": "markdown",
   "metadata": {},
   "source": [
    "#### 2.4.2 Zásobník z knihovny Queue"
   ]
  },
  {
   "cell_type": "code",
   "execution_count": 20,
   "metadata": {},
   "outputs": [
    {
     "name": "stdout",
     "output_type": "stream",
     "text": [
      "True\n",
      "3\n",
      "False\n"
     ]
    }
   ],
   "source": [
    "from queue import LifoQueue\n",
    "\n",
    "s = LifoQueue(maxsize=3)\n",
    "s.put(1)\n",
    "s.put(2)\n",
    "s.put(3)\n",
    "print(s.full())\n",
    "print(s.get())\n",
    "print(s.full())"
   ]
  },
  {
   "cell_type": "markdown",
   "metadata": {},
   "source": [
    "#### 2.4.3 Aplikace zásobníku - Vyrovnané závorky\n",
    "Jedna z užitečných aplikací zásobníků vyplývá z teoretické informatiky, konkrétně z tématu zásobníkové automaty. To jsou automaty (matematické modely výpočetních strojů = počítačů), které mají primitivní paměť řešenou jako zásobník. Těmito automaty lze řešit úlohy typu převod do různých číselných soustav, vyhodnocování výrazů v infixové, prefixové a postfixové notaci a problémy vyrovnaného počtu. Typickém příkladem problémů vyrovnaného počtu je vyrovnaný počet otevíracích a uzavíracích závorek - důležité v parserech funkcionálních jazyků."
   ]
  },
  {
   "cell_type": "code",
   "execution_count": null,
   "metadata": {},
   "outputs": [],
   "source": [
    "from queue import LifoQueue\n",
    "\n",
    "def vyrovnane(zavorky, pary_zavorek):\n",
    "    s = LifoQueue()\n",
    "    for zavorka in zavorky:\n",
    "        if zavorka in pary_zavorek.values():\n",
    "            s.put(zavorka)\n",
    "        else:\n",
    "            potrebna_leva_zavorka = pary_zavorek[zavorka]\n",
    "            nalezena_leva_zavorka = s.get()\n",
    "            if potrebna_leva_zavorka != nalezena_leva_zavorka:\n",
    "                return False\n",
    "    return True\n",
    "    \n",
    "pary = {\")\": \"(\", \"]\":\"[\", \"}\":\"{\"}\n",
    "print(vyrovnane(\"([{}])\", pary))\n",
    "print(vyrovnane(\"([({})[{}]])\", pary))\n",
    "print(vyrovnane(\"([)\", pary))\n",
    "print(vyrovnane(\"(])\", pary))\n",
    "print(vyrovnane(\"((])\", pary))"
   ]
  },
  {
   "cell_type": "markdown",
   "metadata": {},
   "source": [
    "### Domácí cvičení"
   ]
  },
  {
   "cell_type": "markdown",
   "metadata": {},
   "source": [
    "#### DCv.1 - Dvojitá fronta\n",
    "\n",
    "Naprogramujte si dvojitou frontu (Deque).\n",
    "\n",
    "Zdroj k samostudiu: [Deque](https://bradfieldcs.com/algos/deques/introduction/)\n",
    "\n",
    "Zdroj k samostudiu: [Operace](https://bradfieldcs.com/algos/deques/implementation/)"
   ]
  },
  {
   "cell_type": "markdown",
   "metadata": {},
   "source": [
    "#### DCv.2 - Palindromy\n",
    "\n",
    "Naprogramujte si pomocí dvojité fronty (Deque) parser palindromů. Palindrom je řetězec, který se čte z obou stran stejně. Příkladem jsou řetězce: \"kunanesenanuk\" nebo \"jelenovipivonelej\".\n",
    "\n",
    "Zdroj k samostudiu: [Palindromy](https://bradfieldcs.com/algos/deques/palindrome-checker/)"
   ]
  },
  {
   "cell_type": "markdown",
   "metadata": {},
   "source": [
    "#### DCv.3 - Prioritní fronta\n",
    "\n",
    "Naprogramujte si prioritní frontu (Priority queue).\n",
    "\n",
    "Zdroj k samostudiu: [Prioritní fronta](https://www.geeksforgeeks.org/priority-queue-in-python/)"
   ]
  },
  {
   "cell_type": "markdown",
   "metadata": {},
   "source": [
    "#### DCv.4 - Infixová, prefixová a postfixová notace\n",
    "\n",
    "Naprogramujte si pomocí zásobníku parser matematických výrazů v infixové, prefixové a postfixové notaci. \n",
    "\n",
    "Zdroj k samostudiu: [Notace](https://bradfieldcs.com/algos/stacks/infix-prefix-and-postfix-expressions/)"
   ]
  },
  {
   "cell_type": "markdown",
   "metadata": {},
   "source": [
    "#### DCv.5 - Seřazený seznam\n",
    "\n",
    "Naprogramujte si seřazený seznam (ordered list).\n",
    "\n",
    "Zdroj k samostudiu: [Seřazený seznam](https://bradfieldcs.com/algos/lists/implementing-an-ordered-list/)\n",
    "\n",
    "Zdroj k samostudiu: [Operace](https://runestone.academy/ns/books/published//pythonds/BasicDS/TheOrderedListAbstractDataType.html)"
   ]
  }
 ],
 "metadata": {
  "interpreter": {
   "hash": "6a177c70d2005651137d75e2077c960cf0b80436a052a9498399aa566d98682b"
  },
  "kernelspec": {
   "display_name": "Python 3.9.7 64-bit ('.venv': venv)",
   "language": "python",
   "name": "python3"
  },
  "language_info": {
   "codemirror_mode": {
    "name": "ipython",
    "version": 3
   },
   "file_extension": ".py",
   "mimetype": "text/x-python",
   "name": "python",
   "nbconvert_exporter": "python",
   "pygments_lexer": "ipython3",
   "version": "3.9.7"
  },
  "orig_nbformat": 4
 },
 "nbformat": 4,
 "nbformat_minor": 2
}
