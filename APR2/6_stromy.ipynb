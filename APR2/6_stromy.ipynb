{
 "cells": [
  {
   "cell_type": "markdown",
   "metadata": {},
   "source": [
    "# Algoritmizace a programování 2"
   ]
  },
  {
   "cell_type": "markdown",
   "metadata": {},
   "source": [
    "## Cv.6. Spojová struktura strom\n",
    "\n",
    "Fiser (6-8)\n",
    "\n",
    "* unidirectional and bidirectional linked list (implementation, basic operations, advantages and disadvantages over array/list)\n",
    "* binary trees - just an introduction - basic operations (deletion is quite complicated for beginners, can be omitted), display e.g. using s-expressions, problem with unbalanced trees (practical demonstration, solution only in Nmgr).\n",
    "* compound operations: search for extremes (min, max), union and intersection of two trees"
   ]
  },
  {
   "cell_type": "markdown",
   "metadata": {},
   "source": [
    "### 6.1 Obecný strom"
   ]
  },
  {
   "cell_type": "markdown",
   "metadata": {},
   "source": [
    "naivní implementace"
   ]
  },
  {
   "cell_type": "code",
   "execution_count": 1,
   "metadata": {},
   "outputs": [
    {
     "name": "stdout",
     "output_type": "stream",
     "text": [
      "adresar: adresar1\n",
      "soubory:soubor11,soubor12\n",
      "\n",
      "adresar: adresar2\n",
      "soubory:soubor21,soubor22\n",
      "\n",
      "adresar: adresar3\n",
      "soubory:soubor31,soubor32\n",
      "\n"
     ]
    }
   ],
   "source": [
    "batch = {\n",
    "    'adresar1': ['soubor11', 'soubor12'],\n",
    "    'adresar2': ['soubor21', 'soubor22'],\n",
    "    'adresar3': ['soubor31', 'soubor32']\n",
    "}\n",
    "\n",
    "for adresar, soubory in batch.items():\n",
    "    print(f'adresar: {adresar}\\nsoubory:{\",\".join([soubor for soubor in soubory])}\\n')"
   ]
  },
  {
   "cell_type": "markdown",
   "metadata": {},
   "source": [
    "přidání úrovně"
   ]
  },
  {
   "cell_type": "code",
   "execution_count": null,
   "metadata": {},
   "outputs": [],
   "source": [
    "batch = {\n",
    "    'adresar1': [\n",
    "        'soubor11', \n",
    "        'soubor12'\n",
    "    ],\n",
    "    'adresar2': [\n",
    "        'soubor21', \n",
    "        {\n",
    "            'adresar22': [\n",
    "                'soubor221',\n",
    "                'soubor222'\n",
    "            ]\n",
    "        }\n",
    "    ],\n",
    "    'adresar3': \n",
    "    [\n",
    "        'soubor31', \n",
    "        'soubor32'\n",
    "    ]\n",
    "}\n",
    "\n",
    "for adresar, soubory in batch.items():\n",
    "    print(f'\\n{adresar}')\n",
    "    for soubor in soubory:\n",
    "        if type(soubor) is dict:\n",
    "            nazev_souboru = list(soubor.keys())[0] \n",
    "            print(f'\\t{nazev_souboru}')\n",
    "            for podsoubor in soubor[nazev_souboru]:\n",
    "                print(f'\\t\\t{podsoubor}')\n",
    "        else:\n",
    "            print(f'\\t{soubor}')"
   ]
  },
  {
   "cell_type": "markdown",
   "metadata": {},
   "source": [
    "objektová implementace"
   ]
  },
  {
   "cell_type": "code",
   "execution_count": 2,
   "metadata": {},
   "outputs": [
    {
     "name": "stdout",
     "output_type": "stream",
     "text": [
      "Rodice: ./\n",
      "\tadresar1\n",
      "\tadresar2\n",
      "\tadresar3\n",
      "Adresar: adresar1\n",
      "\tsoubor11\n",
      "\tsoubor12\n",
      "Adresar: adresar2\n",
      "\tsoubor21\n",
      "\tadresar22\n"
     ]
    }
   ],
   "source": [
    "class Uzel():\n",
    "\n",
    "    def __init__(self, data):\n",
    "        self.data = data\n",
    "        self.deti = []\n",
    "\n",
    "    def pridej_uzel(self, uzel):\n",
    "        self.deti.append(uzel)\n",
    "\n",
    "\n",
    "batch =  Uzel('./') # instance stromove truktury s korenovym uzlem\n",
    "\n",
    "# pridani potomku korenu do stromu:\n",
    "batch.pridej_uzel(Uzel('adresar1'))\n",
    "batch.pridej_uzel(Uzel('adresar2'))\n",
    "batch.pridej_uzel(Uzel('adresar3'))\n",
    "\n",
    "# pridej uzly k ditem korenu\n",
    "batch.deti[0].pridej_uzel(Uzel('soubor11'))\n",
    "batch.deti[0].pridej_uzel(Uzel('soubor12'))\n",
    "\n",
    "batch.deti[1].pridej_uzel(Uzel('soubor21'))\n",
    "batch.deti[1].pridej_uzel(Uzel('adresar22'))\n",
    "batch.deti[1].deti[0].pridej_uzel(Uzel('soubor221'))\n",
    "batch.deti[1].deti[0].pridej_uzel(Uzel('soubor222'))\n",
    "\n",
    "batch.deti[2].pridej_uzel(Uzel('soubor31'))\n",
    "batch.deti[2].pridej_uzel(Uzel('soubor32'))\n",
    "\n",
    "# vypis deti prvniho uzlu\n",
    "print(f'Rodice: {batch.data}')\n",
    "for dite in batch.deti: \n",
    "    print(f'\\t{dite.data}')\n",
    "\n",
    "# vypis deti prvniho potomka korenu\n",
    "print(f'Adresar: {batch.deti[0].data}')\n",
    "for dite in batch.deti[0].deti: \n",
    "    print(f'\\t{dite.data}')\n",
    "\n",
    "# vypis deti druheho potomka korenu\n",
    "print(f'Adresar: {batch.deti[1].data}')\n",
    "for dite in batch.deti[1].deti: \n",
    "    print(f'\\t{dite.data}')"
   ]
  },
  {
   "cell_type": "markdown",
   "metadata": {},
   "source": [
    "Knihovna Anytree"
   ]
  },
  {
   "cell_type": "code",
   "execution_count": null,
   "metadata": {},
   "outputs": [],
   "source": [
    "!python3 -m pip install anytree"
   ]
  },
  {
   "cell_type": "code",
   "execution_count": null,
   "metadata": {},
   "outputs": [],
   "source": [
    "from anytree import Node, RenderTree\n",
    "from anytree.exporter import DotExporter\n",
    "\n",
    "batch = Node(\"./\")\n",
    "\n",
    "adresar1 = Node(\"adresar1\", parent=batch)\n",
    "soubor11 = Node(\"soubor11\", parent=adresar1)\n",
    "soubor12 = Node(\"soubor12\", parent=adresar1)\n",
    "\n",
    "adresar2 = Node(\"adresar2\", parent=batch)\n",
    "soubor21 = Node(\"soubor21\", parent=adresar2)\n",
    "adresar22 = Node(\"adresar22\", parent=adresar2)\n",
    "soubor221 = Node(\"soubor221\", parent=adresar22)\n",
    "soubor222 = Node(\"soubor222\", parent=adresar22)\n",
    "\n",
    "adresar3 = Node(\"adresar3\", parent=batch)\n",
    "soubor31 = Node(\"soubor31\", parent=adresar3)\n",
    "soubor32 = Node(\"soubor32\", parent=adresar3)\n",
    "\n",
    "for prefix, vypln, uzel in RenderTree(batch):\n",
    "    print(f\"{prefix}{uzel.name}\")\n",
    "\n",
    "DotExporter(batch).to_picture(\"batch.png\")"
   ]
  },
  {
   "cell_type": "markdown",
   "metadata": {},
   "source": [
    "### 6.2 Binární strom"
   ]
  },
  {
   "cell_type": "code",
   "execution_count": null,
   "metadata": {},
   "outputs": [],
   "source": [
    "class BinarniStrom:\n",
    "\n",
    "    def __init__(self, data):\n",
    "        self.levy_potomek = None\n",
    "        self.pravy_potomek = None\n",
    "        self.data = data #koren\n",
    "\n",
    "    def zarad_data(self, data):\n",
    "        if self.data:\n",
    "            if data < self.data:\n",
    "                if self.levy_potomek is None:\n",
    "                    self.levy_potomek = BinarniStrom(data)\n",
    "                else:\n",
    "                    self.levy_potomek.zarad_data(data)\n",
    "            elif data > self.data:\n",
    "                if self.pravy_potomek is None:\n",
    "                    self.pravy_potomek = BinarniStrom(data)\n",
    "                else:\n",
    "                    self.pravy_potomek.zarad_data(data)\n",
    "        else:\n",
    "            self.data = data\n",
    "\n",
    "    def vytiskni_data(self):\n",
    "        if self.levy_potomek:\n",
    "            self.levy_potomek.vytiskni_data()\n",
    "\n",
    "        print(self.data)\n",
    "\n",
    "        if self.pravy_potomek:\n",
    "            self.pravy_potomek.vytiskni_data()\n",
    "\n",
    "bstrom = BinarniStrom(2)\n",
    "bstrom.zarad_data(5)\n",
    "bstrom.zarad_data(4)\n",
    "bstrom.zarad_data(6)\n",
    "bstrom.zarad_data(1)\n",
    "bstrom.zarad_data(3)\n",
    "bstrom.zarad_data(7)\n",
    "\n",
    "bstrom.vytiskni_data()\n"
   ]
  }
 ],
 "metadata": {
  "interpreter": {
   "hash": "0aefc4017101dabd33c7215aef9f9ca774478353ffa3d0c113ffea7d82966a50"
  },
  "kernelspec": {
   "display_name": "Python 3.9.10 ('venv': venv)",
   "language": "python",
   "name": "python3"
  },
  "language_info": {
   "codemirror_mode": {
    "name": "ipython",
    "version": 3
   },
   "file_extension": ".py",
   "mimetype": "text/x-python",
   "name": "python",
   "nbconvert_exporter": "python",
   "pygments_lexer": "ipython3",
   "version": "3.9.10"
  },
  "orig_nbformat": 4
 },
 "nbformat": 4,
 "nbformat_minor": 2
}
