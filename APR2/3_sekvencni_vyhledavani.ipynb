{
 "cells": [
  {
   "cell_type": "markdown",
   "metadata": {},
   "source": [
    "# Algoritmizace a programování 2"
   ]
  },
  {
   "cell_type": "markdown",
   "metadata": {},
   "source": [
    "## Cv.3. Vyhledávací algoritmy nad sekvenčními kolekcemi\n",
    "\n",
    "Fiser\n",
    "* binary search (bisect)\n",
    "* heap (array representation by list)\n",
    "\n",
    "Stag\n",
    "* Vyhledání prvku\n",
    "* Vyhledávání extrémů\n",
    "* Vyhledávání chybějících\n",
    "* Vyhledávání opakujících se\n",
    "* Vyhledávání v řetězci"
   ]
  },
  {
   "cell_type": "markdown",
   "metadata": {},
   "source": [
    "### 3.1 Vyhledání prvku"
   ]
  },
  {
   "cell_type": "code",
   "execution_count": 122,
   "metadata": {},
   "outputs": [],
   "source": [
    "seznam = [1,4,3,2,9,1,8,7,4,3,5]"
   ]
  },
  {
   "cell_type": "markdown",
   "metadata": {},
   "source": [
    "#### 3.1.1 Lineární vyhledávání\n",
    "Algoritmus se složitostí O(n), který pracuje na neseřazeným seznamem. Algoritmus postupně projede všechny prvky lineárně po sobě a vrátí index prvního nálezu hledaného prvku."
   ]
  },
  {
   "cell_type": "code",
   "execution_count": 3,
   "metadata": {},
   "outputs": [
    {
     "name": "stdout",
     "output_type": "stream",
     "text": [
      "4\n"
     ]
    }
   ],
   "source": [
    "def linearni_vyhledavani(seznam, prvek):\n",
    "    for i in range(len(seznam)):\n",
    "        if seznam[i] == prvek:\n",
    "            return i\n",
    "\n",
    "print(linearni_vyhledavani(seznam, 9))"
   ]
  },
  {
   "cell_type": "markdown",
   "metadata": {},
   "source": [
    "#### 3.1.2 Binární vyhledávání\n",
    "Algoritmus se složitostí O(log n), který pracuje nad seřazeným seznamem. Algoritmus využívá informace o seřazenosti a pomocí algoritmu půlení intervalu zahazuje subinterval, ve kterým se prvek nebude nacházet. Nalezneme prostředek seznamu, pokud je prvek větší jak prostředek, pak stačí prohledávat od prostředku do konce. Pokud je prvek menší jak prostředek, tak stačí prohledávat od začátku do prostředku v další iteraci. Pokud je prostředek roven hledanému prvku, tak vrátíme."
   ]
  },
  {
   "cell_type": "code",
   "execution_count": 56,
   "metadata": {},
   "outputs": [
    {
     "name": "stdout",
     "output_type": "stream",
     "text": [
      "[1, 1, 2, 3, 3, 4, 4, 5, 7, 8, 9]\n",
      "1\n"
     ]
    }
   ],
   "source": [
    "def binarni_vyhledavani(serazeny_seznam, prvek):\n",
    "    i = len(serazeny_seznam)//2\n",
    "    while serazeny_seznam[i] != prvek:\n",
    "        if prvek > serazeny_seznam[i]:\n",
    "            serazeny_seznam = serazeny_seznam[i+1:]\n",
    "        else:\n",
    "            serazeny_seznam = serazeny_seznam[:i]\n",
    "        i = len(serazeny_seznam)//2\n",
    "    return i\n",
    "\n",
    "print(sorted(seznam))\n",
    "print(binarni_vyhledavani(sorted(seznam), 9))"
   ]
  },
  {
   "cell_type": "markdown",
   "metadata": {},
   "source": [
    "#### 3.1.3 Skokové vyhledávání\n",
    "Algoritmus se složitostí O(sqrt(n)), který pracuje nad seřazeným seznamem."
   ]
  },
  {
   "cell_type": "code",
   "execution_count": 141,
   "metadata": {},
   "outputs": [
    {
     "name": "stdout",
     "output_type": "stream",
     "text": [
      "[1, 1, 2, 3, 3, 4, 4, 5, 7, 8, 9]\n",
      "8\n"
     ]
    }
   ],
   "source": [
    "import math \n",
    "\n",
    "def skokove_vyhledavani(seznam, prvek):\n",
    "    step = int(math.sqrt(len(seznam))) #optimální velikost kroku\n",
    "\n",
    "    #nalezeni bloku, kde se nachazí hledaný prvek\n",
    "    k = step\n",
    "    while k < len(seznam):\n",
    "        if prvek <= seznam[k]:\n",
    "            break\n",
    "        k += step\n",
    "\n",
    "    #nalezení hledaného prvku lineárním vyhledáváním v bloku\n",
    "    for i in range(k-step, min(len(seznam),k+1)):\n",
    "        if seznam[i] == prvek:\n",
    "            return i\n",
    "    else:\n",
    "        return None\n",
    "\n",
    "print((sorted(seznam)))\n",
    "print(skokove_vyhledavani(sorted(seznam), 7))"
   ]
  },
  {
   "cell_type": "markdown",
   "metadata": {},
   "source": [
    "#### 3.1.4 Exponenciální vyhledávání\n",
    "\n",
    "Algoritmus s asymptotickou složitostí O(log n) pracující nad seřazenou kolekcí. Jedná se o upravenou verzi předchozího kódu, kde krok se exponenciálně navyšuje."
   ]
  },
  {
   "cell_type": "code",
   "execution_count": 53,
   "metadata": {},
   "outputs": [
    {
     "name": "stdout",
     "output_type": "stream",
     "text": [
      "[1, 1, 2, 3, 3, 4, 4, 5, 7, 8, 9]\n",
      "10\n"
     ]
    }
   ],
   "source": [
    "def exponencialni_vyhledavani(seznam, prvek):\n",
    "    k = 1\n",
    "\n",
    "    #nalezeni bloku, kde se nachazí hledaný prvek\n",
    "    while k < len(seznam):\n",
    "        if prvek <= seznam[k]:\n",
    "            break\n",
    "        k *= 2\n",
    "        \n",
    "    #nalezení hledaného prvku lineárním vyhledáváním v bloku\n",
    "    for i in range(k//2, min(k+1, len(seznam))):\n",
    "        if seznam[i] == prvek:\n",
    "            return i\n",
    "    else:\n",
    "        return None\n",
    "\n",
    "print((sorted(seznam)))\n",
    "print(exponencialni_vyhledavani(sorted(seznam), 9))"
   ]
  },
  {
   "cell_type": "markdown",
   "metadata": {},
   "source": [
    "### 3.2 Vyhledání extrémů"
   ]
  },
  {
   "cell_type": "markdown",
   "metadata": {},
   "source": [
    "#### 3.2.1 Vyhledání globálního extrému"
   ]
  },
  {
   "cell_type": "code",
   "execution_count": 100,
   "metadata": {},
   "outputs": [
    {
     "name": "stdout",
     "output_type": "stream",
     "text": [
      "4\n"
     ]
    }
   ],
   "source": [
    "def globalni_maximum(seznam):\n",
    "    index_maxima = 0\n",
    "    maximum = seznam[index_maxima]\n",
    "    for i in range(1, len(seznam)):\n",
    "        if seznam[i] > maximum:\n",
    "            index_maxima = i\n",
    "            maximum = seznam[index_maxima]\n",
    "    return index_maxima\n",
    "\n",
    "seznam = [1,4,3,2,9,1,8,7,4,3,5]\n",
    "print(globalni_maximum(seznam))"
   ]
  },
  {
   "cell_type": "markdown",
   "metadata": {},
   "source": [
    "#### 3.2.2 Nalezení k-extrémů\n",
    "Nejjednodušší dvě možnosti pro nalezení k-extrémů je buď seřadit rychlým algoritmem kolekci a pomocí slicingu vybrat prvních k nebo posledních k prvků nebo ukládat nalezené extrémy do dočasného seznamu, který neustále aktualizujeme a nahrazujeme nepotřebný extrém nově nalezeným."
   ]
  },
  {
   "cell_type": "code",
   "execution_count": 117,
   "metadata": {},
   "outputs": [],
   "source": [
    "seznam = [1,4,3,2,9,1,8,7,4,3,5]"
   ]
  },
  {
   "cell_type": "code",
   "execution_count": 121,
   "metadata": {},
   "outputs": [
    {
     "name": "stdout",
     "output_type": "stream",
     "text": [
      "[9, 7, 8]\n"
     ]
    }
   ],
   "source": [
    "def najdi_extremy(seznam, k):\n",
    "    extremy = seznam[:k]\n",
    "    min_extrem = min(extremy)\n",
    "    index_min_extrem = extremy.index(min_extrem)\n",
    "    for i in range(k, len(seznam)):\n",
    "        if seznam[i] > min_extrem:\n",
    "            extremy[index_min_extrem] = seznam[i]\n",
    "            min_extrem = min(extremy)\n",
    "            index_min_extrem = extremy.index(min_extrem)\n",
    "    return extremy    \n",
    "\n",
    "print(najdi_extremy(seznam, k=3))"
   ]
  },
  {
   "cell_type": "code",
   "execution_count": 116,
   "metadata": {},
   "outputs": [
    {
     "name": "stdout",
     "output_type": "stream",
     "text": [
      "[7, 8, 9]\n",
      "[1, 1, 2]\n"
     ]
    }
   ],
   "source": [
    "k = 3\n",
    "print(sorted(seznam)[-k:])\n",
    "print(sorted(seznam)[:k])"
   ]
  },
  {
   "cell_type": "markdown",
   "metadata": {},
   "source": [
    "### 3.3 Vyhledávání chybějících\n",
    "Mějme seznam celých čísel o velikosti n-1. V seznamu jsou čísla od 1 do n a nenachází se v seznamu duplicity. Jedno z čísel chybí. Napište kód, který číslo nalezne. V realitě se může jednat o nalezení omylem smazaného záznamu podle id."
   ]
  },
  {
   "cell_type": "markdown",
   "metadata": {},
   "source": [
    "#### 3.3.1 Sumační formulí"
   ]
  },
  {
   "cell_type": "code",
   "execution_count": 61,
   "metadata": {},
   "outputs": [
    {
     "name": "stdout",
     "output_type": "stream",
     "text": [
      "4.0\n"
     ]
    }
   ],
   "source": [
    "def nalezni_chybejici_sumaci(seznam):\n",
    "    n = len(seznam)+1\n",
    "    suma = n*(n+1)/2\n",
    "    akumulator = 0\n",
    "    for i in range(n-1):\n",
    "        akumulator += seznam[i]\n",
    "    return suma - akumulator\n",
    "\n",
    "seznam = [1, 3, 5, 2] #chybí 3, n = 4\n",
    "print(nalezni_chybejici_sumaci(seznam))"
   ]
  },
  {
   "cell_type": "code",
   "execution_count": 62,
   "metadata": {},
   "outputs": [
    {
     "name": "stdout",
     "output_type": "stream",
     "text": [
      "4.0\n"
     ]
    }
   ],
   "source": [
    "seznam = [1, 3, 5, 2] #chybí 3, n = 4\n",
    "n = len(seznam) + 1\n",
    "\n",
    "print(n*(n+1)/2 - sum(seznam))"
   ]
  },
  {
   "cell_type": "markdown",
   "metadata": {},
   "source": [
    "#### 3.3.2 Operací XOR\n",
    "Sumační formule je problematická v tom, že pro velká čísla může dojít paměť. Daleko lepší je řešit to pomocí logické operace XOR (exkluzivní součet). Logická operace XOR má zajímavou vlastnost:\n",
    "* a(1) ^ a(2) ^ ... ^ a(n) = a\n",
    "* a(1) ^ a(2) ^ ... ^ a(n-1) = b\n",
    "* a ^ b = a(n)"
   ]
  },
  {
   "cell_type": "code",
   "execution_count": null,
   "metadata": {},
   "outputs": [],
   "source": [
    "print(0 ^ 0) #00 xor 00 = 00 \n",
    "print(0 ^ 1) #00 xor 01 = 01\n",
    "print(1 ^ 2) #01 xor 10 = 11\n",
    "print(1 ^ 3) #01 xor 11 = 10"
   ]
  },
  {
   "cell_type": "code",
   "execution_count": null,
   "metadata": {},
   "outputs": [],
   "source": [
    "a = 0 ^ 2 ^ 3       # 00 xor 10 = 10, 10 xor 11 = 01\n",
    "b = 0 ^ 1 ^ 2 ^ 3   # 00 xor 01 = 01, 01 xor 10 = 11, 11 xor 11 = 00\n",
    "print(a ^ b)        # 01 xor 00 = 01"
   ]
  },
  {
   "cell_type": "code",
   "execution_count": 97,
   "metadata": {},
   "outputs": [
    {
     "name": "stdout",
     "output_type": "stream",
     "text": [
      "3\n"
     ]
    }
   ],
   "source": [
    "def nalezni_chybejici_XOR(seznam):\n",
    "    a = 0\n",
    "    b = 0\n",
    "    n = len(seznam)+1\n",
    "    for i in range(1,n+1):\n",
    "        b = b ^ i\n",
    "    for i in range(len(seznam)):\n",
    "        a = a ^ seznam[i]\n",
    "    return a ^ b\n",
    "\n",
    "seznam = [1, 4, 5, 2] #chybí 3, n = 4\n",
    "print(nalezni_chybejici_XOR(seznam))"
   ]
  },
  {
   "cell_type": "markdown",
   "metadata": {},
   "source": [
    "### 3.4 Vyhledání opakujících se\n",
    "\n",
    "Cílem je nalézt takový algoritmus, který nalezne v poli o délce N všechny prvky, které se více jak N/K-krát opakují."
   ]
  },
  {
   "cell_type": "code",
   "execution_count": 158,
   "metadata": {},
   "outputs": [
    {
     "name": "stdout",
     "output_type": "stream",
     "text": [
      "2\n"
     ]
    }
   ],
   "source": [
    "seznam = [1,2,1,3,4,2,1,3,5,6,4,2]\n",
    "n = len(seznam) #12\n",
    "k = 6\n",
    "print(int(n/k))"
   ]
  },
  {
   "cell_type": "markdown",
   "metadata": {},
   "source": [
    "#### 3.4.1 Jednoduchá metoda\n",
    "Asymptotická složitost je O(n**2). Vezmem každý prvek seznamu a podívame se, kolikrát se v seznamu vyskytuje. Pokud napočítáme více výskytů jak n/k, pak je prvek opakujícím se. Kontroluji n prvků a pro každý z nich kontroluji n prvků."
   ]
  },
  {
   "cell_type": "code",
   "execution_count": 154,
   "metadata": {},
   "outputs": [
    {
     "name": "stdout",
     "output_type": "stream",
     "text": [
      "[1, 2]\n"
     ]
    }
   ],
   "source": [
    "def opakujici(seznam, nopakovani):\n",
    "    opakujici_se_prvky = []\n",
    "    for hledany_prvek in seznam:\n",
    "        pocet = 0\n",
    "        if hledany_prvek in opakujici_se_prvky:\n",
    "            continue\n",
    "        for prvek in seznam:\n",
    "            if prvek == hledany_prvek:\n",
    "                pocet += 1\n",
    "            if pocet > nopakovani:\n",
    "                opakujici_se_prvky.append(hledany_prvek)\n",
    "                break #urychleni algoritmu\n",
    "    return opakujici_se_prvky\n",
    "\n",
    "print(opakujici(seznam, int(n/k)))"
   ]
  },
  {
   "cell_type": "markdown",
   "metadata": {},
   "source": [
    "#### 3.4.2 S využitím řazení\n",
    "Asymptotická složitost je O(nlogn). Seznam nejprve seřadim algoritmem s dobrou složitostí jako O(nlogn). Následně lineárně projedu seznam a mám stejné hodnoty u sebe. Mohu tedy napočítat, kolik jsem našel stejných prvků za sebou. Jedná se o lineární průchod n prvků, takže komplexite O(n). Celkem to dá složitost O(nlogn)."
   ]
  },
  {
   "cell_type": "code",
   "execution_count": 156,
   "metadata": {},
   "outputs": [
    {
     "name": "stdout",
     "output_type": "stream",
     "text": [
      "[1, 2]\n"
     ]
    }
   ],
   "source": [
    "def opakujici_razeni(seznam, nopakovani):\n",
    "    opakujici_se_prvky = []\n",
    "    serazeny_seznam = sorted(seznam)            #O(nlogn)\n",
    "    pocet = 1\n",
    "    fixed = serazeny_seznam[0]\n",
    "    for i in range(1, len(serazeny_seznam)):    #O(n)\n",
    "        if fixed == serazeny_seznam[i]:\n",
    "            pocet += 1\n",
    "        else:\n",
    "            if pocet > nopakovani:\n",
    "                opakujici_se_prvky.append(fixed)\n",
    "            fixed = serazeny_seznam[i]\n",
    "            pocet = 1\n",
    "    return opakujici_se_prvky #O(nlogn) + O(n) = O(nlogn)\n",
    "\n",
    "print(opakujici_razeni(seznam, int(n/k)))"
   ]
  },
  {
   "cell_type": "markdown",
   "metadata": {},
   "source": [
    "#### 3.4.3 S využitím dočasného pole\n"
   ]
  },
  {
   "cell_type": "code",
   "execution_count": null,
   "metadata": {},
   "outputs": [],
   "source": [
    "def opakujici_docasne(seznam, nopakovani):\n",
    "    opakujici_se_prvky = []\n",
    "    vyskyty = {}\n",
    "    for prvek in seznam:\n",
    "        vyskyty[prvek] = 1 if prvek not in vyskyty else vyskyty[prvek] + 1\n",
    "    for prvek, pocet_vyskytu in vyskyty.items():\n",
    "        if pocet_vyskytu > nopakovani:\n",
    "            opakujici_se_prvky.append(prvek)\n",
    "    return opakujici_se_prvky\n",
    "\n",
    "print(opakujici_docasne(seznam, int(len(seznam)/k)))"
   ]
  },
  {
   "cell_type": "markdown",
   "metadata": {},
   "source": [
    "### 3.5 Vyhledávání v řetězci"
   ]
  },
  {
   "cell_type": "markdown",
   "metadata": {},
   "source": [
    "#### 3.5.1 Nalezení podřetězce v řetězci"
   ]
  },
  {
   "cell_type": "code",
   "execution_count": 167,
   "metadata": {},
   "outputs": [
    {
     "name": "stdout",
     "output_type": "stream",
     "text": [
      "1\n"
     ]
    }
   ],
   "source": [
    "def nalezni_podretezec(retezec, podretezec):\n",
    "    for i in range(0, len(retezec) - len(podretezec)):\n",
    "        nalezeno = True\n",
    "        for j in range(len(podretezec)):\n",
    "            if retezec[i+j] != podretezec[j]:\n",
    "                nalezeno = False\n",
    "                break\n",
    "        if nalezeno:\n",
    "            return i\n",
    "\n",
    "print(nalezni_podretezec(\"aabcaa\", \"abc\"))"
   ]
  },
  {
   "cell_type": "markdown",
   "metadata": {},
   "source": [
    "#### 3.5.2 Nalezení počtu odlišných znaků\n",
    "\n",
    "Hammingova vzdálenost je důležitá metrika, kterou se zjišťuje počet znaků, o které se liší dva řetězce. Tato metrika má následné uplatnění v optimalizaci úloh (například moje kurzy Evolučního modelování)."
   ]
  },
  {
   "cell_type": "code",
   "execution_count": 172,
   "metadata": {},
   "outputs": [
    {
     "name": "stdout",
     "output_type": "stream",
     "text": [
      "3\n"
     ]
    }
   ],
   "source": [
    "def hamming(retezec_a, retezec_b):\n",
    "    if len(retezec_a) != len(retezec_b):\n",
    "        raise ValueError(\"Retezce nejsou stejne dlouhe!\")\n",
    "    vzdalenost = 0\n",
    "    for i in range(len(retezec_a)):\n",
    "        if retezec_a[i] != retezec_b[i]:\n",
    "            vzdalenost += 1\n",
    "    return vzdalenost\n",
    "\n",
    "print(hamming(\"aaba\", \"bacb\"))"
   ]
  },
  {
   "cell_type": "code",
   "execution_count": 173,
   "metadata": {},
   "outputs": [
    {
     "name": "stdout",
     "output_type": "stream",
     "text": [
      "3\n"
     ]
    }
   ],
   "source": [
    "def hamming(retezec_a, retezec_b):\n",
    "    return sum(a != b for a,b in zip(retezec_a, retezec_b))\n",
    "\n",
    "print(hamming(\"aaba\", \"bacb\"))"
   ]
  },
  {
   "cell_type": "markdown",
   "metadata": {},
   "source": [
    "### Domácí cvičení"
   ]
  },
  {
   "cell_type": "markdown",
   "metadata": {},
   "source": [
    "#### DCv.1 - Interpolační vyhledávání\n",
    "Naprogramujte si vyhledávací algoritmus vylepšující binárního vyhledávání pro kolekce s rovnoměrně rozloženými hodnotami.\n",
    "\n",
    "Odkaz: [Interpolační prohledávání EN](https://www.geeksforgeeks.org/interpolation-search/)\n",
    "\n",
    "Odkaz: [Interpolační prohledávání CZ](https://www.algoritmy.net/article/160/Interpolacni-vyhledavani)"
   ]
  },
  {
   "cell_type": "markdown",
   "metadata": {},
   "source": [
    "#### DCv.2 - Prořezávej a hledej\n",
    "\n",
    "Naprogramujte si vyhledávací algoritmus se složitostí O(c*n), který pracuje na základě metody rozděl a panuj s názvem Prune search.\n",
    "\n",
    "Odkaz: [Prořezávej a hledej CZ](https://www.algoritmy.net/article/158/Prorezavej-a-hledej)"
   ]
  },
  {
   "cell_type": "markdown",
   "metadata": {},
   "source": [
    "#### DCv.3 - Vyhledání opakujících se prvků optimálně\n",
    "\n",
    "Úpravou algoritmu 3.4.3 jste schopni redukovat asymptotickou složitost na O(k*n). Zkuste si předělat algoritmus podle následujícího postupu (poslední algoritmus na stránce). Aspoň pochopíte smysl koeficientu k:\n",
    "\n",
    "Odkaz k samostudiu: [Opakující se prvky](https://www.geeksforgeeks.org/given-an-array-of-of-size-n-finds-all-the-elements-that-appear-more-than-nk-times/?ref=leftbar-rightbar)"
   ]
  },
  {
   "cell_type": "markdown",
   "metadata": {},
   "source": [
    "#### DCv.4 - Levenshteinova vzdálenost\n",
    "\n",
    "Hammingova vzdálenost v mnoha aplikacích dostačuje. Pro některé aplikace potřebujeme komplexnější metriku. Příkladem takové je Levenshteinova vzdálenosti, která měří vzdálenost mezi dvěma řetězci jako počet nutných editací pro ekvivalenci řetězců. Editacemi se myslí vložení, smazání, substitce písmen. Naprogramujte funkci, která měří vzdálenost řetězcu Levenshteinovou metrikou.\n",
    "\n",
    "Odkaz k samostudiu: [Levenshtein](https://en.wikipedia.org/wiki/Levenshtein_distance)"
   ]
  },
  {
   "cell_type": "markdown",
   "metadata": {},
   "source": [
    "#### DCv.5 - Integrace do sekvenčních struktur\n",
    "\n",
    "Ve cvičení 2 jste se naučili psát vlastní některé abstraktní datové typy, konkrétně sekvenční struktury (zásobník, fronta, setříděný seznam). Proveďte integraci těchto algoritmů do tříd pro tyto struktury ve formě metody. Zda to bude instanční, třídní nebo statická metoda nechám na vašem zamyšlení."
   ]
  }
 ],
 "metadata": {
  "interpreter": {
   "hash": "6a177c70d2005651137d75e2077c960cf0b80436a052a9498399aa566d98682b"
  },
  "kernelspec": {
   "display_name": "Python 3.9.7 64-bit ('.venv': venv)",
   "language": "python",
   "name": "python3"
  },
  "language_info": {
   "codemirror_mode": {
    "name": "ipython",
    "version": 3
   },
   "file_extension": ".py",
   "mimetype": "text/x-python",
   "name": "python",
   "nbconvert_exporter": "python",
   "pygments_lexer": "ipython3",
   "version": "3.9.7"
  },
  "orig_nbformat": 4
 },
 "nbformat": 4,
 "nbformat_minor": 2
}
