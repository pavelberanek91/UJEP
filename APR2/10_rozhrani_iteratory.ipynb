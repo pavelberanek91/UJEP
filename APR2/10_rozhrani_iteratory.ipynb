{
 "cells": [
  {
   "cell_type": "markdown",
   "metadata": {},
   "source": [
    "# Algoritmizace a programování 2"
   ]
  },
  {
   "cell_type": "markdown",
   "metadata": {},
   "source": [
    "## Cv.10. Rozhraní a iterátory\n",
    "\n",
    "* Rozhraní (protokol)\n",
    "* Iterátory a jejich implementace\n",
    "* Rozhraní základních kolekcí\n",
    "\n",
    "Fiser:\n",
    "\n",
    "* different classes with the same behavior in a certain context, so you can write polymorphic code\n",
    "* difference between iterable objects and iterators (exceptionally these interfaces can be implemented by a single object) use in Python\n",
    "* interfaces of collections (lists)\n",
    "* Interfaces should be understood purely abstractly. It is not important to know the mechanism of abstract base classes. A duck typing approach is better approach for Python!"
   ]
  },
  {
   "cell_type": "markdown",
   "metadata": {},
   "source": [
    "### 10.1 Typové systémy - teorie"
   ]
  },
  {
   "cell_type": "markdown",
   "metadata": {},
   "source": [
    "#### 2.1.1 Typový systém\n",
    "V programování je důležitý tzv. typový systém. Jedná se o způsob, jak rozčlenit prvky do určitých kategorií takovým způsobem, aby se zamezilo vzniku chyb (bugů) při programování. Např.: abychom do proměnné, ve které předpokládáme celá čísla neuložili omylem řetězec nebo abychom nevolali metodu u instance tridy, kterou instance nema.\n",
    "\n",
    "```\n",
    "class Savec: snez_jidlo()\n",
    "class Pes extends Savec: stekej()\n",
    "class Kocka extends Savec: mnoukej()\n",
    "class Clovek extends Savec: mluv()\n",
    "class Atomovka: vybouchni()\n",
    "\n",
    "List<Savec> savci = List(new Pes(), new Kocka(), new Clovek())\n",
    "for s in savci:\n",
    "    s.snez_jidlo()\n",
    "\n",
    "List<Savec> savci = List(new Clovek(), new Atomovka())\n",
    "for s in savci:\n",
    "    s.snez_jidlo() \n",
    "#skonci chybou, jelikož Atomovka neni kompatibilni se savci - neumi operaci snez_jidlo() jako vsichni savci\n",
    "```\n",
    "\n",
    "Odkaz k samostudiu: [Typový systém](https://en.wikipedia.org/wiki/Type_system)\n"
   ]
  },
  {
   "cell_type": "markdown",
   "metadata": {},
   "source": [
    "\n",
    "#### 2.1.2 Strukturní a nominativní typování\n",
    "\n",
    "Typové systémy se liší svým způsobem rozdělování prvků do kategorií (způsobem typování). Např.: strukturální typové systém je kompatibilta (zda je typ podtypem jiného typu) a ekvivalence typů řešena strukturou prvků (z čeho se skládají) a ne např.: jejich jménem nebo místem deklarace (nominativní typování). \n",
    "\n",
    "Ukázka strukturního typování:\n",
    "```\n",
    "class Pes: udelej_zvuk()\n",
    "class Kocka: udelej_zvuk()\n",
    "\n",
    "List savci = List(new Pes(), new Kocka())\n",
    "for s in savci:\n",
    "    s.udelej_zvuk()\n",
    "#kompatibilni strukturou - oba umi stejne operace i kdyz nejsou potomci stejneho rodice\n",
    "```\n",
    "Ukázka nominativního typování\n",
    "```\n",
    "class Savec: udelej_zvuk()\n",
    "class Pes extends Savec\n",
    "class Kocka extends Savec\n",
    "\n",
    "List<Savec> savci = List(new Pes(), new Kocka())\n",
    "for s in savci:\n",
    "    s.udelej_zvuk()\n",
    "#kompatibilni nominativne - oba umi stejne veci pri pouzivani jako savec jelikoz jsou subtypy savce\n",
    "```\n",
    "\n",
    "Odkaz k samostudiu: [Strukturní typový systém](https://en.wikipedia.org/wiki/Structural_type_system)\n",
    "\n",
    "Odkaz k samostudiu: [Nominativní typování](https://en.wikipedia.org/wiki/Nominal_type_system)"
   ]
  },
  {
   "cell_type": "markdown",
   "metadata": {},
   "source": [
    "#### 2.1.3 Liskovské princip zastoupení\n",
    "\n",
    "Z předcházejícího příkladu vychází jedna zajímavá vlastnost typů a jejich subtypů (v OOP tříd a potomků). Pokud prvek nějakého typu A (objekt třídy) obsahuje vše (metody a vlastnosti) z typu B, pak je A podtyp B. Pak lze prvky typu A použít namísto prvků typu B (Liskovské princip zastoupení).\n",
    "\n",
    "```\n",
    "class Savec: ozvi_se()\n",
    "class Pes extends Savec\n",
    "class Kocka extends Savec\n",
    "Savec azor = new Pes()\n",
    "Savec micka = new Kocka()\n",
    "\n",
    "azor.ozvi_se()\n",
    "micka.ozvi_se()\n",
    "```\n",
    "\n",
    "Odkaz k samostudiu: [Liskovské princip zastoupení](https://en.wikipedia.org/wiki/Liskov_substitution_principle?oldid=778235767)\n"
   ]
  },
  {
   "cell_type": "markdown",
   "metadata": {},
   "source": [
    "#### 2.1.4 Obrácení závislosti\n",
    "\n",
    "Schopnost zastoupit typ jeho subtypem (ten představuje jeho rozšíření) nám umožňuje obracet závislosti v návrhu softwaru (dependency inversion). Jedná se o dobrý způsob návrhu softwaru, při kterém v kódě nepracujeme s konkrétní implementací (subtypem), ale jeho abstrakcí (typem). To nám umožňuje snadno nahrazovat subtyp A za jiný subtyp B, pokud jsou oba subtypy A a B subtypem typu C, se kterým pracujeme. V různých pracovních rámců pro programování to využívá technika zvaná vložení závislosti (dependency injection), která umožňuje snadno nahradit repozitář (zdroj dat - např.: databáze MariaDB, Oracle, CSV soubor) za jiný, aniž bychom museli změnit řádek kódu, jelikož v kódě pracujeme s abstrakcní a ne implementací.\n",
    "\n",
    "```\n",
    "interface IRepozitar: nacti_data()\n",
    "class MariaDBReader implements IRepozitar\n",
    "class CSVReader implements IRepozitar\n",
    "class XMLReader implements IRepozitar\n",
    "\n",
    "IRepozitar zdroj_dat = new MariaDBReader()\n",
    "zdroj_dat.nacti_data()\n",
    "\n",
    "zdroj_data = new CSVReader()\n",
    "zdroj_dat.nacti_data() #kod se nemusel vubec zmenit pri zmene databaze za CSV soubor\n",
    "\n",
    "```\n",
    "\n",
    "Odkaz k samostudiu: [Obracení závislosti](https://en.wikipedia.org/wiki/Dependency_inversion_principle)"
   ]
  },
  {
   "cell_type": "markdown",
   "metadata": {},
   "source": [
    "#### 2.1.5 Kachní typování\n",
    "\n",
    "Python využívá nativně strukturní typové systém ve svém kachním typování - pokud něco chodí jako kachna, mluví jako kachna, tak pak to musí být kachna. To má důležité implikace v návrhu softwaru. Pokud pes umí vše co atomová bomba, pak můžeme atomovou bombu nahradit psem. Tento způsob typování není typický a jiné jazyky upřednostňují např.: nominativní typování - typ objektu je dán deklarací, bomba je bombou, protože byla vytvořena jako bomba. V nominativním typovém systému nemůže být pes bombou, jelikož se tak chová.\n",
    "\n",
    "Odkaz k samostudiu: [Kachní typování](https://en.wikipedia.org/wiki/Duck_typing)\n"
   ]
  },
  {
   "cell_type": "markdown",
   "metadata": {},
   "source": [
    "#### 2.1.6 Statické a dynamické typování\n",
    "\n",
    "Rozdíl mezi kachním typováním a strukturním typováním je pouze v tom, že strukturní typování je statické (kontrola kompatibility a ekvivalence před během programu) a kachní typování je dynamické (kontrola za běhu - runtime).\n",
    "\n",
    "Odkaz k samostudiu: [Statické](https://en.wikipedia.org/wiki/Type_system#Static_type_checking)\n",
    "\n",
    "Odkaz k samostudiu: [Dynamické typování](https://en.wikipedia.org/wiki/Type_system#Dynamic_type_checking_and_runtime_type_information)\n",
    "\n",
    "Takže v jazyce Python se zjišťuje až za běhu, zda můžeme použít nějaký objekt k činnosti (například zda může pes explodovat) a to tím, že má všechny potřebé operace (metody) a atributy (datové členy) v době, kdy je potřebujeme (voláme u instance třídy Pes pomocí tečky a názvu členu).\n"
   ]
  },
  {
   "cell_type": "markdown",
   "metadata": {},
   "source": [
    "### 10.2 Protokol\n",
    "\n",
    "Jeden ze způsobů jak ručně implementovat v pythonu statické typování je využití protokolů. Protokol je neformální verze rozhraní, které v Pythonu chybí. Rozhraní je třída, která obsahuje pouze veřejné metody a bez implementace (mají pouze hlavičku s názvem a parametry a neobsahují tělo). V jazykách s podporou rozhraní funguje statické typování tak, že pokud třída implementuje rozhraní, tak se zavazuje, že bude mít ve svém těle všechny metody z rozhraní s konkrétní implementací (metody obsahují kód).\n",
    "\n",
    "```\n",
    "interface IZapisovac:\n",
    "    zapisDoXML(nazev_souboru)\n",
    "    zapisDoDB(cesta_k_databazi)\n",
    "\n",
    "class Student implements IZapisovac:\n",
    "    constructor(this.data = None)\n",
    "    nactiData(soubor): this.data = soubor.readAll()\n",
    "    zapisDoXML(nazev_souboru): xmlwriter(nazev_souboru, this.data)\n",
    "    \n",
    "#chyba pri spusteni programu - student zapomněl implementovat zapisDoDB\n",
    "```\n",
    "\n",
    "Datové typy (v OOP třídy), které mají určité veřejné rozhraní (způsob používání). Na jejich vnitřní implementaci (privátní metody) nezáleží, pokud korektné implementují všechny veřejné metody z rozhraní, o které se zavázali jejich implementací.\n",
    "\n",
    "V pythonu se řeší rozhraní skrze tzv. Protocol.\n",
    "\n",
    "* Protokol: https://andrewbrookins.com/technology/building-implicit-interfaces-in-python-with-protocol-classes/"
   ]
  },
  {
   "cell_type": "code",
   "execution_count": null,
   "metadata": {},
   "outputs": [],
   "source": [
    "!pip install translate"
   ]
  },
  {
   "cell_type": "code",
   "execution_count": 5,
   "metadata": {},
   "outputs": [],
   "source": [
    "class Soubor:\n",
    "\n",
    "    def __init__(self, cesta):\n",
    "        self._cesta = cesta\n",
    "\n",
    "    def precti_text(self) -> str:\n",
    "        text = \"\"\n",
    "        with open(self._cesta, \"r\") as soubor:\n",
    "            text = soubor.read()\n",
    "        return text"
   ]
  },
  {
   "cell_type": "code",
   "execution_count": 42,
   "metadata": {},
   "outputs": [],
   "source": [
    "from translate import Translator\n",
    "\n",
    "class Prekladac:\n",
    "\n",
    "    def __init__(self, jazyk):\n",
    "        self._jazyk = jazyk\n",
    "    \n",
    "    def preloz_text(self, zdroj: Soubor, cil:str) -> None:\n",
    "        translator = Translator(to_lang=self._jazyk)\n",
    "        with open(cil, \"w\") as soubor:\n",
    "            text = zdroj.precti_text()\n",
    "            prelozeny_text = translator.translate(text)\n",
    "            soubor.write(prelozeny_text)"
   ]
  },
  {
   "cell_type": "code",
   "execution_count": 44,
   "metadata": {},
   "outputs": [],
   "source": [
    "!touch test_input1.txt\n",
    "!echo \"Cat jumped from a window\" > test_input1.txt \n",
    "s = Soubor(\"test_input1.txt\")\n",
    "t = Prekladac(\"cs\")\n",
    "t.preloz_text(s, \"test_output1.txt\")"
   ]
  },
  {
   "cell_type": "code",
   "execution_count": null,
   "metadata": {},
   "outputs": [],
   "source": [
    "!python3 -m pip install beautifulsoup4\n",
    "# https://realpython.com/beautiful-soup-web-scraper-python/"
   ]
  },
  {
   "cell_type": "code",
   "execution_count": 45,
   "metadata": {},
   "outputs": [],
   "source": [
    "import requests\n",
    "from bs4 import BeautifulSoup\n",
    "\n",
    "class Webovka:\n",
    "\n",
    "    def __init__(self, url):\n",
    "        self._url = url\n",
    "\n",
    "    def precti_text(self):\n",
    "        stranka = requests.get(self._url)\n",
    "        soup = BeautifulSoup(stranka.content, \"html.parser\")"
   ]
  },
  {
   "cell_type": "code",
   "execution_count": null,
   "metadata": {},
   "outputs": [],
   "source": [
    "from typing import Protocol\n",
    "\n"
   ]
  },
  {
   "cell_type": "markdown",
   "metadata": {},
   "source": [
    "### 10.3 Rozhraní (interface)"
   ]
  },
  {
   "cell_type": "code",
   "execution_count": null,
   "metadata": {},
   "outputs": [],
   "source": []
  },
  {
   "cell_type": "markdown",
   "metadata": {},
   "source": [
    "### 10.4 Rozhraní základních kolekcí"
   ]
  },
  {
   "cell_type": "code",
   "execution_count": null,
   "metadata": {},
   "outputs": [],
   "source": []
  },
  {
   "cell_type": "markdown",
   "metadata": {},
   "source": [
    "### Domácí cvičení"
   ]
  },
  {
   "cell_type": "markdown",
   "metadata": {},
   "source": [
    "#### DCv.1 - Lorem"
   ]
  },
  {
   "cell_type": "markdown",
   "metadata": {},
   "source": [
    "#### DCv.2 - Lorem"
   ]
  },
  {
   "cell_type": "markdown",
   "metadata": {},
   "source": [
    "#### DCv.3 - Lorem"
   ]
  },
  {
   "cell_type": "markdown",
   "metadata": {},
   "source": [
    "#### DCv.4 - Lorem"
   ]
  },
  {
   "cell_type": "markdown",
   "metadata": {},
   "source": [
    "#### DCv.5 - Lorem"
   ]
  }
 ],
 "metadata": {
  "interpreter": {
   "hash": "6a177c70d2005651137d75e2077c960cf0b80436a052a9498399aa566d98682b"
  },
  "kernelspec": {
   "display_name": "Python 3.9.7 64-bit ('.venv': venv)",
   "language": "python",
   "name": "python3"
  },
  "language_info": {
   "codemirror_mode": {
    "name": "ipython",
    "version": 3
   },
   "file_extension": ".py",
   "mimetype": "text/x-python",
   "name": "python",
   "nbconvert_exporter": "python",
   "pygments_lexer": "ipython3",
   "version": "3.9.7"
  },
  "orig_nbformat": 4
 },
 "nbformat": 4,
 "nbformat_minor": 2
}
