{
 "cells": [
  {
   "cell_type": "markdown",
   "metadata": {},
   "source": [
    "# Algoritmizace a programování 2"
   ]
  },
  {
   "cell_type": "markdown",
   "metadata": {},
   "source": [
    "## Cv.7. Spojová struktura graf\n",
    "\n",
    "* Prohledávání grafu\n",
    "* Vyhledávání cesty v grafu\n",
    "* Objektová implementace\n",
    "* Specializované moduly"
   ]
  },
  {
   "cell_type": "markdown",
   "metadata": {},
   "source": [
    "### 7.1 Prohledávání (traverzace) grafu"
   ]
  },
  {
   "cell_type": "markdown",
   "metadata": {},
   "source": [
    "#### Prohledávání do šířky"
   ]
  },
  {
   "cell_type": "code",
   "execution_count": null,
   "metadata": {},
   "outputs": [],
   "source": [
    "#algoritmus prohledávání do šířky (breadth first search)\n",
    "def bfs(graf, pocatecni_uzel):\n",
    "    navstiveno=[pocatecni_uzel]\n",
    "    fronta=[pocatecni_uzel]    \n",
    "    while fronta:\n",
    "        rodic=fronta.pop(0)\n",
    "        for uzel in graf[rodic]:\n",
    "            if uzel not in navstiveno:\n",
    "                fronta.append(uzel)\n",
    "                navstiveno.append(uzel)\n",
    "    return navstiveno\n",
    "\n",
    "\n",
    "#pro demonstraci správného procházení jsou grafy reprezentovány jako slovník řetězců\n",
    "def main():\n",
    "\n",
    "    graf={\n",
    "        \"A\":[\"B\",\"C\"],\n",
    "        \"B\":[\"D\",\"E\"],\n",
    "        \"C\":[\"F\"],\n",
    "        \"D\":[],\n",
    "        \"E\":[\"F\"],\n",
    "        \"F\":[]\n",
    "    }\n",
    "    print(bfs(graf,'A'))\n",
    "\n",
    "    graf={\n",
    "        'A':['C','E'],\n",
    "        'B':[],\n",
    "        'C':['B','G'],\n",
    "        'D':[],\n",
    "        'E':['H'],\n",
    "        'H':['D'],\n",
    "        'G':[]\n",
    "    }\n",
    "    print(bfs(graf,'A'))\n",
    "\n",
    "if __name__ == \"__main__\":\n",
    "    main()"
   ]
  },
  {
   "cell_type": "markdown",
   "metadata": {},
   "source": [
    "#### Prohledávání do hloubky"
   ]
  },
  {
   "cell_type": "code",
   "execution_count": null,
   "metadata": {},
   "outputs": [],
   "source": [
    "#algoritmus prohledávání do hloubky (depth first search)\n",
    "def dfs(graf, pocatecni_uzel):\n",
    "    navstiveno=[]\n",
    "    zasobnik=[pocatecni_uzel]\n",
    "    while zasobnik:\n",
    "        rodic=zasobnik.pop()\n",
    "        navstiveno.append(rodic)\n",
    "        for uzel in graf[rodic][::-1]:\n",
    "            if uzel not in navstiveno:\n",
    "                zasobnik.append(uzel)\n",
    "    return navstiveno\n",
    "\n",
    "\n",
    "#pro demonstraci správného procházení jsou grafy reprezentovány jako slovník řetězců\n",
    "def main():\n",
    "\n",
    "    graf={\n",
    "        \"A\":[\"B\",\"C\"],\n",
    "        \"B\":[\"D\",\"E\"],\n",
    "        \"C\":[\"F\"],\n",
    "        \"D\":[],\n",
    "        \"E\":[\"F\"],\n",
    "        \"F\":[]\n",
    "    }\n",
    "    print(dfs(graf,'A'))\n",
    "\n",
    "    graf={\n",
    "        'A':['C','E'],\n",
    "        'B':[],\n",
    "        'C':['B','G'],\n",
    "        'D':[],\n",
    "        'E':['H'],\n",
    "        'H':['D'],\n",
    "        'G':[]\n",
    "    }\n",
    "    print(dfs(graf,'A'))\n",
    "\n",
    "if __name__ == \"__main__\":\n",
    "    main()"
   ]
  },
  {
   "cell_type": "markdown",
   "metadata": {},
   "source": [
    "### 7.2 Objektová implementace"
   ]
  },
  {
   "cell_type": "markdown",
   "metadata": {},
   "source": [
    "**Zakladni model**"
   ]
  },
  {
   "cell_type": "code",
   "execution_count": 68,
   "metadata": {},
   "outputs": [],
   "source": [
    "class Graf:\n",
    "    \n",
    "    def __init__(self, pocet_uzlu, orientovany=True):\n",
    "        self._pocet_uzlu = pocet_uzlu\n",
    "        self._orientovany = orientovany\n",
    "        self._hrany = []\n",
    "\t\n",
    "    def pridej_hranu(self, pocatecni_uzel, koncovy_uzel, vaha=1):        \n",
    "        self._hrany.append([pocatecni_uzel, koncovy_uzel, vaha])\n",
    "        \n",
    "        if not self._orientovany:\n",
    "            self._hrany.append([pocatecni_uzel, koncovy_uzel, vaha])\n",
    "\n",
    "    def vytiskni_seznam_hran(self):\n",
    "        pocet_hran = len(self._hrany)\n",
    "        for i in range(pocet_hran):\n",
    "            print(f'hrana {i}: {self._hrany[i]}')"
   ]
  },
  {
   "cell_type": "code",
   "execution_count": null,
   "metadata": {},
   "outputs": [],
   "source": [
    "graf = Graf(5)\n",
    "\n",
    "graf.pridej_hranu(0, 0, 25)\n",
    "graf.pridej_hranu(0, 1, 5)\n",
    "graf.pridej_hranu(0, 2, 3)\n",
    "graf.pridej_hranu(1, 3, 1)\n",
    "graf.pridej_hranu(1, 4, 15)\n",
    "graf.pridej_hranu(4, 2, 7)\n",
    "graf.pridej_hranu(4, 3, 11)\n",
    "\n",
    "graf.vytiskni_seznam_hran()"
   ]
  },
  {
   "cell_type": "markdown",
   "metadata": {},
   "source": [
    "**matice sousednosti**"
   ]
  },
  {
   "cell_type": "code",
   "execution_count": 71,
   "metadata": {},
   "outputs": [],
   "source": [
    "class Graf:\n",
    "    \n",
    "    def __init__(self, pocet_uzlu, orientovany=True):\n",
    "        self._pocet_uzlu = pocet_uzlu\n",
    "        self._orientovany = orientovany\n",
    "        self._hrany = []\n",
    "        self._matice_sousednosti = [[0 for sloupec in range(pocet_uzlu)] for radek in range(pocet_uzlu)]\n",
    "\t\n",
    "    def pridej_hranu(self, pocatecni_uzel, koncovy_uzel, vaha=1):        \n",
    "        self._hrany.append([pocatecni_uzel, koncovy_uzel, vaha])\n",
    "        self._matice_sousednosti[pocatecni_uzel][koncovy_uzel] = vaha\n",
    "        \n",
    "        if not self._orientovany:\n",
    "            self._hrany.append([koncovy_uzel, pocatecni_uzel, vaha])\n",
    "            self._matice_sousednosti[koncovy_uzel][pocatecni_uzel] = vaha\n",
    "\n",
    "    def vytiskni_seznam_hran(self):\n",
    "        pocet_hran = len(self._hrany)\n",
    "        for i in range(pocet_hran):\n",
    "            print(f'hrana {i}: {self._hrany[i]}')\n",
    "\n",
    "    def vytiskni_matici_sousednosti(self):\n",
    "        for i in range(self._pocet_uzlu):\n",
    "            print(self._matice_sousednosti[i])"
   ]
  },
  {
   "cell_type": "code",
   "execution_count": 73,
   "metadata": {},
   "outputs": [
    {
     "name": "stdout",
     "output_type": "stream",
     "text": [
      "hrana 0: [0, 0, 25]\n",
      "hrana 1: [0, 1, 5]\n",
      "hrana 2: [0, 2, 3]\n",
      "hrana 3: [1, 3, 1]\n",
      "hrana 4: [1, 4, 15]\n",
      "hrana 5: [4, 2, 7]\n",
      "hrana 6: [4, 3, 11]\n",
      "\n",
      "[25, 5, 3, 0, 0]\n",
      "[0, 0, 0, 1, 15]\n",
      "[0, 0, 0, 0, 0]\n",
      "[0, 0, 0, 0, 0]\n",
      "[0, 0, 7, 11, 0]\n"
     ]
    }
   ],
   "source": [
    "graf = Graf(5)\n",
    "\n",
    "graf.pridej_hranu(0, 0, 25)\n",
    "graf.pridej_hranu(0, 1, 5)\n",
    "graf.pridej_hranu(0, 2, 3)\n",
    "graf.pridej_hranu(1, 3, 1)\n",
    "graf.pridej_hranu(1, 4, 15)\n",
    "graf.pridej_hranu(4, 2, 7)\n",
    "graf.pridej_hranu(4, 3, 11)\n",
    "\n",
    "graf.vytiskni_seznam_hran()\n",
    "print()\n",
    "graf.vytiskni_matici_sousednosti()"
   ]
  },
  {
   "cell_type": "markdown",
   "metadata": {},
   "source": [
    "**bfs a dfs algoritmy**"
   ]
  },
  {
   "cell_type": "code",
   "execution_count": 30,
   "metadata": {},
   "outputs": [],
   "source": [
    "class Graf:\n",
    "    \n",
    "    def __init__(self, pocet_uzlu, orientovany=True):\n",
    "        self._pocet_uzlu = pocet_uzlu\n",
    "        self._orientovany = orientovany\n",
    "        self._hrany = []\n",
    "        self._matice_sousednosti = [[0 for sloupec in range(pocet_uzlu)] for radek in range(pocet_uzlu)]\n",
    "\t\n",
    "    def pridej_hranu(self, pocatecni_uzel, koncovy_uzel, vaha=1):        \n",
    "        self._hrany.append([pocatecni_uzel, koncovy_uzel, vaha])\n",
    "        self._matice_sousednosti[pocatecni_uzel][koncovy_uzel] = vaha\n",
    "        \n",
    "        if not self._orientovany:\n",
    "            self._hrany.append([koncovy_uzel, pocatecni_uzel, vaha])\n",
    "            self._matice_sousednosti[koncovy_uzel][pocatecni_uzel] = vaha\n",
    "\n",
    "    def vytiskni_seznam_hran(self):\n",
    "        pocet_hran = len(self._hrany)\n",
    "        for i in range(pocet_hran):\n",
    "            print(f'hrana {i}: {self._hrany[i]}')\n",
    "\n",
    "    def vytiskni_matici_sousednosti(self):\n",
    "        for i in range(self._pocet_uzlu):\n",
    "            print(self._matice_sousednosti[i])\n",
    "\n",
    "    def bfs(self, pocatecni_uzel):\n",
    "        graf = {rodic[0]:[hrana[1] for hrana in self._hrany if hrana[0] == rodic[0]] for rodic in self._hrany}\n",
    "        navstiveno=[pocatecni_uzel]\n",
    "        fronta=[pocatecni_uzel]    \n",
    "        while fronta:\n",
    "            rodic=fronta.pop(0)\n",
    "            if rodic not in graf:\n",
    "                continue\n",
    "            for uzel in graf[rodic]:\n",
    "                if uzel not in navstiveno:\n",
    "                    fronta.append(uzel)\n",
    "                    navstiveno.append(uzel)\n",
    "        return navstiveno\n",
    "\n",
    "    def dfs(self, pocatecni_uzel):\n",
    "        graf = {rodic[0]:[hrana[1] for hrana in self._hrany if hrana[0] == rodic[0]] for rodic in self._hrany}\n",
    "        navstiveno=[]\n",
    "        zasobnik=[pocatecni_uzel]\n",
    "        while zasobnik:\n",
    "            rodic=zasobnik.pop()\n",
    "            navstiveno.append(rodic)\n",
    "            if rodic not in graf:\n",
    "                continue\n",
    "            for uzel in graf[rodic][::-1]:\n",
    "                if uzel not in navstiveno:\n",
    "                    zasobnik.append(uzel)\n",
    "        return navstiveno\n",
    "    "
   ]
  },
  {
   "cell_type": "code",
   "execution_count": 31,
   "metadata": {},
   "outputs": [
    {
     "name": "stdout",
     "output_type": "stream",
     "text": [
      "hrana 0: [0, 0, 25]\n",
      "hrana 1: [0, 1, 5]\n",
      "hrana 2: [0, 2, 3]\n",
      "hrana 3: [1, 3, 1]\n",
      "hrana 4: [1, 4, 15]\n",
      "hrana 5: [4, 2, 7]\n",
      "hrana 6: [4, 3, 11]\n",
      "\n",
      "[25, 5, 3, 0, 0]\n",
      "[0, 0, 0, 1, 15]\n",
      "[0, 0, 0, 0, 0]\n",
      "[0, 0, 0, 0, 0]\n",
      "[0, 0, 7, 11, 0]\n",
      "\n",
      "[0, 1, 2, 3, 4]\n",
      "\n",
      "{0: [0, 1, 2], 1: [3, 4], 4: [2, 3]}\n",
      "s [2, 1]\n",
      "n [0]\n",
      "s [2, 4, 3]\n",
      "n [0, 1]\n",
      "s [2, 2]\n",
      "n [0, 1, 3, 4]\n",
      "[0, 1, 3, 4, 2, 2]\n"
     ]
    }
   ],
   "source": [
    "graf = Graf(5)\n",
    "\n",
    "graf.pridej_hranu(0, 0, 25)\n",
    "graf.pridej_hranu(0, 1, 5)\n",
    "graf.pridej_hranu(0, 2, 3)\n",
    "graf.pridej_hranu(1, 3, 1)\n",
    "graf.pridej_hranu(1, 4, 15)\n",
    "graf.pridej_hranu(4, 2, 7)\n",
    "graf.pridej_hranu(4, 3, 11)\n",
    "\n",
    "graf.vytiskni_seznam_hran()\n",
    "print()\n",
    "graf.vytiskni_matici_sousednosti()\n",
    "print()\n",
    "print(graf.bfs(pocatecni_uzel=0))\n",
    "print()\n",
    "print(graf.dfs(pocatecni_uzel=0))"
   ]
  },
  {
   "cell_type": "markdown",
   "metadata": {},
   "source": [
    "### 7.3 Tvorba grafu pomocí knihovny igraph"
   ]
  },
  {
   "cell_type": "code",
   "execution_count": null,
   "metadata": {},
   "outputs": [],
   "source": [
    "!python3 -m pip install igraph"
   ]
  },
  {
   "cell_type": "code",
   "execution_count": 17,
   "metadata": {},
   "outputs": [
    {
     "name": "stdout",
     "output_type": "stream",
     "text": [
      "0.9.9\n"
     ]
    }
   ],
   "source": [
    "import igraph\n",
    "print(igraph.__version__)"
   ]
  },
  {
   "cell_type": "code",
   "execution_count": 18,
   "metadata": {},
   "outputs": [
    {
     "name": "stdout",
     "output_type": "stream",
     "text": [
      "IGRAPH U--- 0 0 --\n"
     ]
    }
   ],
   "source": [
    "graf = igraph.Graph()\n",
    "print(graf)"
   ]
  },
  {
   "cell_type": "code",
   "execution_count": 19,
   "metadata": {},
   "outputs": [
    {
     "name": "stdout",
     "output_type": "stream",
     "text": [
      "IGRAPH U--- 3 0 --\n"
     ]
    }
   ],
   "source": [
    "graf.add_vertices(3)    #prida tri vrcholy do grafu\n",
    "print(graf)"
   ]
  },
  {
   "cell_type": "code",
   "execution_count": null,
   "metadata": {},
   "outputs": [],
   "source": [
    "graf.add_edges([(0,1), (1,2)])\n",
    "print(graf)"
   ]
  },
  {
   "cell_type": "code",
   "execution_count": 16,
   "metadata": {},
   "outputs": [
    {
     "name": "stdout",
     "output_type": "stream",
     "text": [
      "IGRAPH U--- 6 7 --\n",
      "+ edges:\n",
      "0--1 1--2 0--2 2--3 3--4 4--5 3--5\n"
     ]
    }
   ],
   "source": [
    "graf.add_edges([(2,0)])\n",
    "graf.add_vertices(3)\n",
    "graf.add_edges([(2, 3), (3, 4), (4, 5), (5, 3)])\n",
    "\n",
    "print(graf)"
   ]
  },
  {
   "cell_type": "markdown",
   "metadata": {},
   "source": [
    "**detekce isomorfismu**"
   ]
  },
  {
   "cell_type": "code",
   "execution_count": null,
   "metadata": {},
   "outputs": [],
   "source": [
    "#tvorba nahodneho grafu (pocet uzlu, )\n",
    "g1 = igraph.Graph.GRG(100, 0.2)\n",
    "g.get_edgelist() == g2.get_edgelist()\n",
    "False\n",
    "g.isomorphic(g2)\n",
    "False"
   ]
  }
 ],
 "metadata": {
  "interpreter": {
   "hash": "0aefc4017101dabd33c7215aef9f9ca774478353ffa3d0c113ffea7d82966a50"
  },
  "kernelspec": {
   "display_name": "Python 3.9.10 ('venv': venv)",
   "language": "python",
   "name": "python3"
  },
  "language_info": {
   "codemirror_mode": {
    "name": "ipython",
    "version": 3
   },
   "file_extension": ".py",
   "mimetype": "text/x-python",
   "name": "python",
   "nbconvert_exporter": "python",
   "pygments_lexer": "ipython3",
   "version": "3.9.10"
  },
  "orig_nbformat": 4
 },
 "nbformat": 4,
 "nbformat_minor": 2
}
